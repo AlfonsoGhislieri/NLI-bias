{
 "cells": [
  {
   "cell_type": "code",
   "execution_count": 11,
   "source": [
    "import pandas as pd\n",
    "\n",
    "df_muslim = pd.read_csv(\"data/toxicbias_train.csv\")\n",
    "df_muslim = df_muslim[df_muslim['rationale'] == 'prejudice against muslims']"
   ],
   "outputs": [],
   "metadata": {}
  },
  {
   "cell_type": "code",
   "execution_count": 42,
   "source": [
    "from transformers import AutoTokenizer, AutoModelForSequenceClassification\n",
    "from src.Helpers import *\n",
    "import torch\n",
    "\n",
    "DEVICE = torch.device(\n",
    "    \"cuda\") if torch.cuda.is_available() else torch.device(\"cpu\")\n",
    "\n",
    "import pandas as pd\n",
    "import torch\n",
    "import time\n",
    "\n",
    "\n",
    "def standardise_results(results):\n",
    "    label_mapping = {'contradiction': results['contradiction'],\n",
    "                     'neutral': results['neutral'],\n",
    "                     'entailment': results['entailment']}\n",
    "    return label_mapping\n",
    "\n",
    "\n",
    "def convert_probabilities(probabilities, label_mapping):\n",
    "    probabilities_list = probabilities.tolist()[0]  # Convert the tensor to a list and extract the first (and only) batch\n",
    "    return {name: round(float(pred) * 100, 1) for pred, name in zip(probabilities_list, label_mapping)}\n",
    "\n",
    "\n",
    "\n",
    "def get_random_samples(csv_filename, num_samples):\n",
    "    df = pd.read_csv(csv_filename)\n",
    "    random_samples = df.sample(n=num_samples)\n",
    "    return random_samples\n",
    "\n",
    "\n",
    "def benchmark_test(premise, hypothesis, model, num_runs):\n",
    "    # Setup device\n",
    "    if torch.cuda.is_available():\n",
    "        device = torch.device(\"cuda\")\n",
    "    else:\n",
    "        device = torch.device(\"cpu\")\n",
    "\n",
    "    results = []\n",
    "    for _ in range(num_runs):\n",
    "        start_time = time.time()\n",
    "        _, _ = model(premise, hypothesis)\n",
    "        execution_time = time.time() - start_time\n",
    "        results.append(execution_time)\n",
    "\n",
    "    avg_execution_time = sum(results) / len(results)\n",
    "    return device, avg_execution_time\n"
   ],
   "outputs": [],
   "metadata": {}
  },
  {
   "cell_type": "code",
   "execution_count": 43,
   "source": [
    "premises = df_muslim.sample(10)['comment_text'].values\n",
    "premises = [str(p) for p in premises]\n",
    "\n",
    "hypotheses = [\n",
    "  'The use of violence is encouraged or desired against a religion.',\n",
    "  'A religion should be discriminated against.',\n",
    "  'Members of a religion should be excluded and marginalized.',\n",
    "  'Members of a religion should remain in their respective countries.',\n",
    "  'Members of a religion are compared to animals.',\n",
    "  'A religion or members of a religion are compared to devils or demons.',\n",
    "  'The integration of a religion should be avoided in a country or society.',\n",
    "  'A religion or members of a religion are stupid.',\n",
    "  'A religion is inferior when compared to another religion.',\n",
    "  'Religious practices of a particular faith should be restricted or banned in public spaces.',\n",
    "  'Religious attire or symbols should be prohibited.',\n",
    "  'A religion promotes violence or intolerance.',\n",
    "  'Members of a religion are a threat.',\n",
    "  'Members of a religion are not trustworthy or loyal.'\n",
    " ]\n"
   ],
   "outputs": [],
   "metadata": {}
  },
  {
   "cell_type": "code",
   "execution_count": 51,
   "source": [
    "def bart_nli_batched(premises, hypotheses, batch_size=32):\n",
    "    model_name = 'facebook/bart-large-mnli'\n",
    "    model = AutoModelForSequenceClassification.from_pretrained(model_name)\n",
    "    tokenizer = AutoTokenizer.from_pretrained(model_name)\n",
    "\n",
    "    # Convert scalar inputs to lists\n",
    "    if not isinstance(premises, (list, tuple)):\n",
    "        premises = [premises]\n",
    "    if not isinstance(hypotheses, (list, tuple)):\n",
    "        hypotheses = [hypotheses]\n",
    "\n",
    "    num_premises = len(premises)\n",
    "    num_hypotheses = len(hypotheses)\n",
    "    results = []\n",
    "\n",
    "    for i in range(num_premises):\n",
    "        for j in range(num_hypotheses):\n",
    "            # Tokenize the input pair\n",
    "            inputs = tokenizer(premises[i], hypotheses[j], return_tensors='pt', padding=True, truncation=True)\n",
    "\n",
    "            # Run the input through the model\n",
    "            logits = model(**inputs.to(DEVICE)).logits\n",
    "\n",
    "            # Get probabilities and labels for the input\n",
    "            probabilities = torch.softmax(logits, dim=1)\n",
    "            label_mapping = ['contradiction', 'neutral', 'entailment']\n",
    "            label = label_mapping[probabilities.argmax(dim=1)]\n",
    "\n",
    "            probabilities = convert_probabilities(probabilities, label_mapping)\n",
    "\n",
    "            results.append(label,standardise_results(probabilities))\n",
    "\n",
    "    return results\n",
    "\n",
    "    \n"
   ],
   "outputs": [],
   "metadata": {}
  },
  {
   "cell_type": "code",
   "execution_count": 50,
   "source": [
    "\n",
    "results = bart_nli_batched(premises, hypotheses)\n",
    "print(results)"
   ],
   "outputs": [
    {
     "output_type": "stream",
     "name": "stdout",
     "text": [
      "[['entailment', {'contradiction': 16.5, 'neutral': 23.1, 'entailment': 60.3}], ['contradiction', {'contradiction': 51.4, 'neutral': 23.9, 'entailment': 24.7}], ['entailment', {'contradiction': 4.4, 'neutral': 30.2, 'entailment': 65.3}], ['contradiction', {'contradiction': 92.4, 'neutral': 6.3, 'entailment': 1.3}], ['entailment', {'contradiction': 1.0, 'neutral': 9.1, 'entailment': 89.9}], ['entailment', {'contradiction': 20.9, 'neutral': 28.0, 'entailment': 51.1}], ['neutral', {'contradiction': 7.6, 'neutral': 56.7, 'entailment': 35.7}], ['neutral', {'contradiction': 40.8, 'neutral': 47.6, 'entailment': 11.5}], ['entailment', {'contradiction': 27.4, 'neutral': 29.8, 'entailment': 42.8}], ['entailment', {'contradiction': 0.2, 'neutral': 6.2, 'entailment': 93.6}], ['neutral', {'contradiction': 0.3, 'neutral': 91.1, 'entailment': 8.6}], ['entailment', {'contradiction': 0.5, 'neutral': 21.9, 'entailment': 77.6}], ['entailment', {'contradiction': 0.5, 'neutral': 18.9, 'entailment': 80.6}], ['entailment', {'contradiction': 6.6, 'neutral': 34.9, 'entailment': 58.5}], ['contradiction', {'contradiction': 81.9, 'neutral': 14.9, 'entailment': 3.2}], ['contradiction', {'contradiction': 95.8, 'neutral': 4.0, 'entailment': 0.2}], ['contradiction', {'contradiction': 97.7, 'neutral': 2.2, 'entailment': 0.1}], ['contradiction', {'contradiction': 89.8, 'neutral': 10.0, 'entailment': 0.2}], ['contradiction', {'contradiction': 67.7, 'neutral': 31.0, 'entailment': 1.3}], ['contradiction', {'contradiction': 83.2, 'neutral': 15.0, 'entailment': 1.8}], ['contradiction', {'contradiction': 77.2, 'neutral': 22.5, 'entailment': 0.3}], ['contradiction', {'contradiction': 88.3, 'neutral': 11.3, 'entailment': 0.5}], ['contradiction', {'contradiction': 74.7, 'neutral': 20.1, 'entailment': 5.2}], ['neutral', {'contradiction': 17.8, 'neutral': 81.7, 'entailment': 0.4}], ['contradiction', {'contradiction': 53.0, 'neutral': 46.8, 'entailment': 0.3}], ['neutral', {'contradiction': 5.0, 'neutral': 91.0, 'entailment': 4.0}], ['neutral', {'contradiction': 8.2, 'neutral': 64.3, 'entailment': 27.5}], ['neutral', {'contradiction': 48.0, 'neutral': 50.8, 'entailment': 1.3}], ['entailment', {'contradiction': 4.6, 'neutral': 13.7, 'entailment': 81.7}], ['contradiction', {'contradiction': 89.4, 'neutral': 10.3, 'entailment': 0.2}], ['contradiction', {'contradiction': 76.3, 'neutral': 23.5, 'entailment': 0.2}], ['neutral', {'contradiction': 49.2, 'neutral': 50.1, 'entailment': 0.7}], ['contradiction', {'contradiction': 55.6, 'neutral': 35.4, 'entailment': 9.0}], ['contradiction', {'contradiction': 66.7, 'neutral': 24.7, 'entailment': 8.6}], ['neutral', {'contradiction': 31.7, 'neutral': 67.9, 'entailment': 0.4}], ['neutral', {'contradiction': 36.0, 'neutral': 42.0, 'entailment': 21.9}], ['contradiction', {'contradiction': 48.5, 'neutral': 42.2, 'entailment': 9.3}], ['neutral', {'contradiction': 12.5, 'neutral': 87.2, 'entailment': 0.3}], ['neutral', {'contradiction': 35.9, 'neutral': 63.6, 'entailment': 0.5}], ['entailment', {'contradiction': 0.7, 'neutral': 17.5, 'entailment': 81.8}], ['entailment', {'contradiction': 0.6, 'neutral': 16.1, 'entailment': 83.4}], ['contradiction', {'contradiction': 69.8, 'neutral': 29.1, 'entailment': 1.1}], ['entailment', {'contradiction': 0.5, 'neutral': 12.2, 'entailment': 87.3}], ['contradiction', {'contradiction': 91.5, 'neutral': 8.5, 'entailment': 0.1}], ['contradiction', {'contradiction': 77.1, 'neutral': 22.8, 'entailment': 0.1}], ['contradiction', {'contradiction': 79.3, 'neutral': 20.6, 'entailment': 0.1}], ['neutral', {'contradiction': 10.4, 'neutral': 75.6, 'entailment': 14.0}], ['neutral', {'contradiction': 22.7, 'neutral': 60.7, 'entailment': 16.6}], ['neutral', {'contradiction': 12.3, 'neutral': 87.6, 'entailment': 0.1}], ['contradiction', {'contradiction': 57.4, 'neutral': 42.2, 'entailment': 0.5}], ['contradiction', {'contradiction': 60.5, 'neutral': 34.2, 'entailment': 5.3}], ['neutral', {'contradiction': 7.4, 'neutral': 92.3, 'entailment': 0.3}], ['neutral', {'contradiction': 17.4, 'neutral': 82.3, 'entailment': 0.3}], ['entailment', {'contradiction': 0.2, 'neutral': 15.7, 'entailment': 84.1}], ['neutral', {'contradiction': 1.0, 'neutral': 58.2, 'entailment': 40.8}], ['neutral', {'contradiction': 39.2, 'neutral': 59.1, 'entailment': 1.7}], ['entailment', {'contradiction': 2.1, 'neutral': 11.3, 'entailment': 86.6}], ['contradiction', {'contradiction': 89.7, 'neutral': 10.0, 'entailment': 0.2}], ['contradiction', {'contradiction': 83.5, 'neutral': 16.2, 'entailment': 0.2}], ['neutral', {'contradiction': 32.9, 'neutral': 66.5, 'entailment': 0.5}], ['entailment', {'contradiction': 39.9, 'neutral': 19.7, 'entailment': 40.3}], ['contradiction', {'contradiction': 83.8, 'neutral': 11.6, 'entailment': 4.6}], ['neutral', {'contradiction': 37.7, 'neutral': 62.2, 'entailment': 0.1}], ['contradiction', {'contradiction': 83.3, 'neutral': 15.8, 'entailment': 0.9}], ['contradiction', {'contradiction': 52.1, 'neutral': 37.3, 'entailment': 10.7}], ['neutral', {'contradiction': 21.7, 'neutral': 78.1, 'entailment': 0.2}], ['contradiction', {'contradiction': 63.7, 'neutral': 36.1, 'entailment': 0.2}], ['neutral', {'contradiction': 3.1, 'neutral': 54.1, 'entailment': 42.8}], ['entailment', {'contradiction': 1.0, 'neutral': 25.7, 'entailment': 73.3}], ['contradiction', {'contradiction': 54.9, 'neutral': 43.8, 'entailment': 1.3}], ['neutral', {'contradiction': 0.3, 'neutral': 94.7, 'entailment': 5.0}], ['contradiction', {'contradiction': 65.1, 'neutral': 26.7, 'entailment': 8.2}], ['neutral', {'contradiction': 22.4, 'neutral': 61.9, 'entailment': 15.7}], ['neutral', {'contradiction': 26.9, 'neutral': 70.1, 'entailment': 3.1}], ['neutral', {'contradiction': 4.1, 'neutral': 92.3, 'entailment': 3.6}], ['neutral', {'contradiction': 1.0, 'neutral': 95.2, 'entailment': 3.9}], ['neutral', {'contradiction': 3.5, 'neutral': 92.0, 'entailment': 4.5}], ['contradiction', {'contradiction': 76.3, 'neutral': 23.4, 'entailment': 0.3}], ['neutral', {'contradiction': 9.8, 'neutral': 50.5, 'entailment': 39.7}], ['neutral', {'contradiction': 5.8, 'neutral': 58.9, 'entailment': 35.2}], ['neutral', {'contradiction': 0.7, 'neutral': 78.0, 'entailment': 21.3}], ['neutral', {'contradiction': 6.5, 'neutral': 49.5, 'entailment': 44.0}], ['neutral', {'contradiction': 2.8, 'neutral': 92.9, 'entailment': 4.4}], ['neutral', {'contradiction': 28.4, 'neutral': 68.9, 'entailment': 2.7}], ['neutral', {'contradiction': 32.8, 'neutral': 52.0, 'entailment': 15.3}], ['contradiction', {'contradiction': 82.6, 'neutral': 17.0, 'entailment': 0.5}], ['contradiction', {'contradiction': 86.4, 'neutral': 13.4, 'entailment': 0.2}], ['neutral', {'contradiction': 16.3, 'neutral': 82.3, 'entailment': 1.4}], ['contradiction', {'contradiction': 78.2, 'neutral': 18.8, 'entailment': 3.0}], ['contradiction', {'contradiction': 82.5, 'neutral': 15.0, 'entailment': 2.5}], ['neutral', {'contradiction': 24.3, 'neutral': 75.3, 'entailment': 0.4}], ['contradiction', {'contradiction': 78.8, 'neutral': 20.5, 'entailment': 0.7}], ['contradiction', {'contradiction': 65.1, 'neutral': 29.3, 'entailment': 5.6}], ['neutral', {'contradiction': 15.5, 'neutral': 83.4, 'entailment': 1.1}], ['neutral', {'contradiction': 18.3, 'neutral': 81.1, 'entailment': 0.6}], ['neutral', {'contradiction': 16.1, 'neutral': 80.9, 'entailment': 3.0}], ['neutral', {'contradiction': 10.2, 'neutral': 67.3, 'entailment': 22.6}], ['contradiction', {'contradiction': 75.8, 'neutral': 23.5, 'entailment': 0.7}], ['contradiction', {'contradiction': 40.3, 'neutral': 31.4, 'entailment': 28.3}], ['contradiction', {'contradiction': 97.4, 'neutral': 2.3, 'entailment': 0.3}], ['contradiction', {'contradiction': 94.4, 'neutral': 5.3, 'entailment': 0.3}], ['neutral', {'contradiction': 32.1, 'neutral': 44.6, 'entailment': 23.3}], ['contradiction', {'contradiction': 82.4, 'neutral': 15.0, 'entailment': 2.7}], ['contradiction', {'contradiction': 72.9, 'neutral': 23.2, 'entailment': 3.9}], ['neutral', {'contradiction': 23.5, 'neutral': 75.7, 'entailment': 0.8}], ['contradiction', {'contradiction': 70.1, 'neutral': 29.4, 'entailment': 0.5}], ['contradiction', {'contradiction': 60.9, 'neutral': 32.8, 'entailment': 6.3}], ['contradiction', {'contradiction': 52.8, 'neutral': 42.0, 'entailment': 5.2}], ['neutral', {'contradiction': 12.2, 'neutral': 85.9, 'entailment': 1.9}], ['neutral', {'contradiction': 11.2, 'neutral': 45.4, 'entailment': 43.4}], ['entailment', {'contradiction': 2.4, 'neutral': 35.5, 'entailment': 62.1}], ['contradiction', {'contradiction': 73.7, 'neutral': 26.0, 'entailment': 0.4}], ['entailment', {'contradiction': 4.3, 'neutral': 5.8, 'entailment': 89.9}], ['contradiction', {'contradiction': 83.4, 'neutral': 13.9, 'entailment': 2.8}], ['contradiction', {'contradiction': 70.1, 'neutral': 25.1, 'entailment': 4.8}], ['contradiction', {'contradiction': 52.5, 'neutral': 42.3, 'entailment': 5.1}], ['contradiction', {'contradiction': 37.7, 'neutral': 35.5, 'entailment': 26.8}], ['contradiction', {'contradiction': 46.6, 'neutral': 30.0, 'entailment': 23.3}], ['neutral', {'contradiction': 11.8, 'neutral': 81.2, 'entailment': 7.0}], ['neutral', {'contradiction': 36.8, 'neutral': 60.5, 'entailment': 2.7}], ['contradiction', {'contradiction': 51.8, 'neutral': 29.9, 'entailment': 18.3}], ['neutral', {'contradiction': 14.2, 'neutral': 80.0, 'entailment': 5.9}], ['neutral', {'contradiction': 10.2, 'neutral': 88.9, 'entailment': 0.9}], ['entailment', {'contradiction': 1.2, 'neutral': 12.4, 'entailment': 86.4}], ['entailment', {'contradiction': 0.9, 'neutral': 16.1, 'entailment': 83.0}], ['contradiction', {'contradiction': 71.8, 'neutral': 26.7, 'entailment': 1.5}], ['entailment', {'contradiction': 21.8, 'neutral': 30.8, 'entailment': 47.4}], ['contradiction', {'contradiction': 74.2, 'neutral': 24.1, 'entailment': 1.7}], ['neutral', {'contradiction': 37.5, 'neutral': 60.5, 'entailment': 2.0}], ['neutral', {'contradiction': 48.7, 'neutral': 50.1, 'entailment': 1.2}], ['neutral', {'contradiction': 13.4, 'neutral': 84.0, 'entailment': 2.6}], ['neutral', {'contradiction': 10.7, 'neutral': 79.1, 'entailment': 10.1}], ['contradiction', {'contradiction': 59.9, 'neutral': 39.8, 'entailment': 0.3}], ['contradiction', {'contradiction': 73.9, 'neutral': 25.0, 'entailment': 1.1}], ['neutral', {'contradiction': 32.2, 'neutral': 60.9, 'entailment': 6.9}], ['neutral', {'contradiction': 27.3, 'neutral': 71.4, 'entailment': 1.3}], ['neutral', {'contradiction': 27.3, 'neutral': 72.5, 'entailment': 0.2}], ['entailment', {'contradiction': 20.8, 'neutral': 31.2, 'entailment': 48.0}], ['entailment', {'contradiction': 1.9, 'neutral': 31.3, 'entailment': 66.8}], ['neutral', {'contradiction': 40.4, 'neutral': 56.6, 'entailment': 3.0}]]\n"
     ]
    }
   ],
   "metadata": {}
  },
  {
   "cell_type": "code",
   "execution_count": null,
   "source": [],
   "outputs": [],
   "metadata": {}
  },
  {
   "cell_type": "code",
   "execution_count": null,
   "source": [],
   "outputs": [],
   "metadata": {}
  }
 ],
 "metadata": {
  "orig_nbformat": 4,
  "language_info": {
   "name": "python",
   "version": "3.9.12",
   "mimetype": "text/x-python",
   "codemirror_mode": {
    "name": "ipython",
    "version": 3
   },
   "pygments_lexer": "ipython3",
   "nbconvert_exporter": "python",
   "file_extension": ".py"
  },
  "kernelspec": {
   "name": "python3",
   "display_name": "Python 3.9.12 64-bit"
  },
  "interpreter": {
   "hash": "aee8b7b246df8f9039afb4144a1f6fd8d2ca17a180786b69acc140d282b71a49"
  }
 },
 "nbformat": 4,
 "nbformat_minor": 2
}