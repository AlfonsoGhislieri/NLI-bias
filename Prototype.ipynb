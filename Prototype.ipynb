{
 "cells": [
  {
   "cell_type": "code",
   "execution_count": 1,
   "source": [
    "import pandas as pd\n",
    "import numpy as np\n",
    "\n",
    "pd.set_option('display.max_columns', None)  # Display all columns\n",
    "pd.set_option('display.max_rows', None)  # Display all rows\n",
    "pd.set_option('display.max_colwidth', 500)  # Display full text in columns\n"
   ],
   "outputs": [],
   "metadata": {}
  },
  {
   "cell_type": "markdown",
   "source": [
    "### Compare models (Roberta base, deberta, bart)"
   ],
   "metadata": {}
  },
  {
   "cell_type": "markdown",
   "source": [
    "## Compare accuracy"
   ],
   "metadata": {}
  },
  {
   "cell_type": "code",
   "execution_count": 51,
   "source": [
    "df_roberta_base = pd.read_csv('results/roberta_base1000.csv')\n",
    "df_deberta = pd.read_csv('results/deberta1000.csv')\n",
    "df_bart_large = pd.read_csv('results/bart1000.csv')\n",
    "\n",
    "df_roberta_base_new = pd.read_csv('results/NEW_roberta_base1000.csv')\n",
    "df_deberta_new = pd.read_csv('results/NEW_deberta1000.csv')\n",
    "df_bart_large_new = pd.read_csv('results/NEW_bart1000.csv')"
   ],
   "outputs": [],
   "metadata": {}
  },
  {
   "cell_type": "code",
   "execution_count": 29,
   "source": [],
   "outputs": [
    {
     "output_type": "execute_result",
     "data": {
      "text/plain": [
       "(2561, 899, 784, 83)"
      ]
     },
     "metadata": {},
     "execution_count": 29
    }
   ],
   "metadata": {}
  },
  {
   "cell_type": "code",
   "execution_count": 119,
   "source": [
    "def model_accuracy(df):\n",
    "\n",
    "    bias_correct_predictions = 0\n",
    "    bias_incorrect_predictions = 0\n",
    "    neutral_correct_predictions = 0\n",
    "    neutral_incorrect_predictions = 0\n",
    "\n",
    "    for _, row in df.iterrows():\n",
    "        if row['bias'] == 'bias':\n",
    "            if row['predicted_label'] == 'entailment':\n",
    "                bias_correct_predictions += 1\n",
    "            elif row['predicted_label'] in ['neutral', 'contradiction']:\n",
    "                bias_incorrect_predictions += 1\n",
    "\n",
    "        elif row['bias'] == 'neutral':\n",
    "            if row['predicted_label'] in ['neutral', 'contradiction']:\n",
    "                neutral_correct_predictions += 1\n",
    "            elif row['predicted_label'] == 'entailment':\n",
    "                neutral_incorrect_predictions += 1\n",
    "\n",
    "    return (\n",
    "        bias_correct_predictions,\n",
    "        bias_incorrect_predictions,\n",
    "        neutral_correct_predictions,\n",
    "        neutral_incorrect_predictions\n",
    "    )"
   ],
   "outputs": [],
   "metadata": {}
  },
  {
   "cell_type": "code",
   "execution_count": 120,
   "source": [
    "dfs = {\n",
    "    'roberta-base': df_roberta_base,\n",
    "    'deberta': df_deberta,\n",
    "    'bart-large': df_bart_large,\n",
    "    'roberta-base_new': df_roberta_base_new,\n",
    "    'deberta_new': df_deberta_new,\n",
    "    'bart-large_new': df_bart_large_new,\n",
    "    'bart-large_final' : df_fin\n",
    "}\n",
    "\n",
    "accuracy_results = {}\n",
    "\n",
    "for model, data in dfs.items():\n",
    "    bias_correct, bias_incorrect, neutral_correct, neutral_incorrect = model_accuracy(data)\n",
    "    accuracy = (bias_correct + neutral_correct) / (bias_correct + neutral_correct + bias_incorrect + neutral_incorrect)\n",
    "    \n",
    "    accuracy_results[model] = {\n",
    "        'bias_correct': bias_correct,\n",
    "        'bias_incorrect': bias_incorrect,\n",
    "        'neutral_correct': neutral_correct,\n",
    "        'neutral_incorrect': neutral_incorrect,\n",
    "        'accuracy': accuracy * 100\n",
    "    }\n",
    "\n",
    "# Print or use the stored results as needed\n",
    "for model, results in accuracy_results.items():\n",
    "    print(f\"Results for {model}:\")\n",
    "    print(f\"Number of correct bias predictions: {results['bias_correct']}\")\n",
    "    print(f\"Number of correct neutral predictions: {results['neutral_correct']}\\n\")\n",
    "    print(f\"Number of incorrect bias predictions: {results['bias_incorrect']}\")\n",
    "    print(f\"Number of incorrect neutral predictions: {results['neutral_incorrect']}\\n\")\n",
    "    print(f\"Model accuracy: {results['accuracy']}%\")"
   ],
   "outputs": [
    {
     "output_type": "stream",
     "name": "stdout",
     "text": [
      "Results for bart-large_final:\n",
      "Number of correct bias predictions: 2561\n",
      "Number of correct neutral predictions: 784\n",
      "\n",
      "Number of incorrect bias predictions: 899\n",
      "Number of incorrect neutral predictions: 83\n",
      "\n",
      "Model accuracy: 77.30529235035822%\n"
     ]
    }
   ],
   "metadata": {}
  },
  {
   "cell_type": "code",
   "execution_count": 118,
   "source": [
    "accuracy_results['bart-large_final']"
   ],
   "outputs": [
    {
     "output_type": "execute_result",
     "data": {
      "text/plain": [
       "{'bias_correct': 673,\n",
       " 'bias_incorrect': 2787,\n",
       " 'neutral_correct': 98,\n",
       " 'neutral_incorrect': 769,\n",
       " 'accuracy': 17.81834989600185}"
      ]
     },
     "metadata": {},
     "execution_count": 118
    }
   ],
   "metadata": {}
  },
  {
   "cell_type": "code",
   "execution_count": 36,
   "source": [
    "bias_subset = df_fin[df_fin['bias'] == 'bias']\n",
    "bias_value_counts = bias_subset['predicted_label'].value_counts()\n",
    "\n",
    "neutral_subset = df_fin[df_fin['bias'] == 'neutral']\n",
    "neutral_value_counts = neutral_subset['predicted_label'].value_counts()"
   ],
   "outputs": [],
   "metadata": {}
  },
  {
   "cell_type": "code",
   "execution_count": 37,
   "source": [
    "print(bias_value_counts)\n",
    "print(neutral_value_counts)"
   ],
   "outputs": [
    {
     "output_type": "stream",
     "name": "stdout",
     "text": [
      "entailment       2561\n",
      "neutral           673\n",
      "contradiction     226\n",
      "Name: predicted_label, dtype: int64\n",
      "neutral          769\n",
      "entailment        83\n",
      "contradiction     15\n",
      "Name: predicted_label, dtype: int64\n"
     ]
    }
   ],
   "metadata": {}
  },
  {
   "cell_type": "code",
   "execution_count": 38,
   "source": [
    "import matplotlib.pyplot as plt\n",
    "import numpy as np\n",
    "\n",
    "# Data\n",
    "categories = ['Bias', 'Neutral']\n",
    "entailment = [bias_value_counts['entailment'], neutral_value_counts['entailment']]\n",
    "neutral = [bias_value_counts['neutral'], neutral_value_counts['neutral']]\n",
    "contradiction = [bias_value_counts['contradiction'], neutral_value_counts['contradiction']]\n",
    "\n",
    "# Plotting\n",
    "bar_width = 0.5\n",
    "bar_positions = np.arange(len(categories))\n",
    "\n",
    "# Create the stacked bars\n",
    "plt.bar(bar_positions, entailment, width=bar_width, label='entailment')\n",
    "plt.bar(bar_positions, neutral, bottom=entailment, width=bar_width, label='neutral')\n",
    "plt.bar(bar_positions, contradiction, bottom=np.add(entailment, neutral), width=bar_width, label='contradiction')\n",
    "\n",
    "plt.xlabel('Categories')\n",
    "plt.ylabel('Counts')\n",
    "plt.title('facebook/bart-large-mnli')\n",
    "plt.legend()\n",
    "\n",
    "# Add text annotations inside the bars\n",
    "for i in range(len(categories)):\n",
    "    plt.text(bar_positions[i], entailment[i] / 2, str(entailment[i]), ha='center', color='black')\n",
    "    plt.text(bar_positions[i], entailment[i] + neutral[i] / 2, str(neutral[i]), ha='center', color='black')\n",
    "    plt.text(bar_positions[i], entailment[i] + neutral[i] + contradiction[i] / 4, str(contradiction[i]), ha='center', color='black')\n",
    "\n",
    "plt.xticks(bar_positions, categories)\n",
    "plt.show()\n"
   ],
   "outputs": [
    {
     "output_type": "display_data",
     "data": {
      "image/png": "[encoded data removed]",
      "text/plain": [
       "<Figure size 640x480 with 1 Axes>"
      ]
     },
     "metadata": {}
    }
   ],
   "metadata": {}
  },
  {
   "cell_type": "code",
   "execution_count": 69,
   "source": [
    "df_deberta_new = pd.read_csv('results/NEW_deberta1000.csv')\n",
    "\n",
    "bias_subset = df_deberta_new[df_deberta_new['bias'] == 'bias']\n",
    "bias_value_counts = bias_subset['predicted_label'].value_counts()\n",
    "\n",
    "neutral_subset = df_deberta_new[df_deberta_new['bias'] == 'neutral']\n",
    "neutral_value_counts = neutral_subset['predicted_label'].value_counts()\n",
    "\n",
    "import matplotlib.pyplot as plt\n",
    "import numpy as np\n",
    "\n",
    "# Data\n",
    "categories = ['Bias', 'Neutral']\n",
    "entailment = [bias_value_counts['entailment'], neutral_value_counts['entailment']]\n",
    "neutral = [bias_value_counts['neutral'], neutral_value_counts['neutral']]\n",
    "contradiction = [bias_value_counts['contradiction'], neutral_value_counts['contradiction']]\n",
    "\n",
    "# Plotting\n",
    "bar_width = 0.5\n",
    "bar_positions = np.arange(len(categories))\n",
    "\n",
    "# Create the stacked bars\n",
    "plt.bar(bar_positions, entailment, width=bar_width, label='entailment')\n",
    "plt.bar(bar_positions, neutral, bottom=entailment, width=bar_width, label='neutral')\n",
    "plt.bar(bar_positions, contradiction, bottom=np.add(entailment, neutral), width=bar_width, label='contradiction')\n",
    "\n",
    "plt.xlabel('Categories')\n",
    "plt.ylabel('Counts')\n",
    "plt.title('Deberta')\n",
    "plt.legend()\n",
    "\n",
    "# Add text annotations inside the bars\n",
    "for i in range(len(categories)):\n",
    "    plt.text(bar_positions[i], entailment[i] / 2, str(entailment[i]), ha='center', color='black')\n",
    "    plt.text(bar_positions[i], entailment[i] + neutral[i] / 2, str(neutral[i]), ha='center', color='black')\n",
    "    plt.text(bar_positions[i], entailment[i] + neutral[i] + contradiction[i] / 4, str(contradiction[i]), ha='center', color='black')\n",
    "\n",
    "plt.xticks(bar_positions, categories)\n",
    "plt.show()\n"
   ],
   "outputs": [
    {
     "output_type": "display_data",
     "data": {
      "image/png": "[encoded data removed]",
      "text/plain": [
       "<Figure size 640x480 with 1 Axes>"
      ]
     },
     "metadata": {}
    }
   ],
   "metadata": {}
  },
  {
   "cell_type": "markdown",
   "source": [
    "## Visualizations"
   ],
   "metadata": {}
  },
  {
   "cell_type": "code",
   "execution_count": 226,
   "source": [
    "import matplotlib.pyplot as plt\n",
    "\n",
    "labels = ['Bias', 'Neutral']\n",
    "correct_predictions = [bias_correct_predictions, neutral_correct_predictions]\n",
    "incorrect_predictions = [bias_incorrect_predictions, neutral_incorrect_predictions]\n",
    "\n",
    "x = range(len(labels))\n",
    "\n",
    "fig, ax = plt.subplots()\n",
    "bar_width = 0.35\n",
    "\n",
    "rects1 = ax.bar(x, correct_predictions, bar_width, label='Correct Predictions')\n",
    "rects2 = ax.bar([i + bar_width for i in x], incorrect_predictions, bar_width, label='Incorrect Predictions')\n",
    "\n",
    "ax.set_ylabel('Number of Predictions')\n",
    "ax.set_title('Correct vs Incorrect Predictions')\n",
    "ax.set_xticks([i + bar_width/2 for i in x])\n",
    "ax.set_xticklabels(labels)\n",
    "ax.legend()\n",
    "\n",
    "# Grouping correct predictions\n",
    "total_correct_predictions = sum(correct_predictions)\n",
    "ax.bar(len(labels), total_correct_predictions, bar_width, label='Correct Predictions (Grouped)', color='green')\n",
    "\n",
    "plt.legend()\n",
    "plt.show()\n"
   ],
   "outputs": [
    {
     "output_type": "display_data",
     "data": {
      "image/png": "[encoded data removed]",
      "text/plain": [
       "<Figure size 640x480 with 1 Axes>"
      ]
     },
     "metadata": {}
    }
   ],
   "metadata": {}
  },
  {
   "cell_type": "code",
   "execution_count": 162,
   "source": [
    "import matplotlib.pyplot as plt\n",
    "\n",
    "# Create a pie chart\n",
    "labels = ['Correct Bias', 'Correct Neutral', 'Incorrect Bias', 'Incorrect Neutral']\n",
    "sizes = [bias_correct_predictions, neutral_correct_predictions, bias_incorrect_predictions, neutral_incorrect_predictions]\n",
    "colors = ['green', 'blue', 'red', 'orange']\n",
    "explode = (0.1, 0, 0.1, 0)  # Explode the slices\n",
    "\n",
    "fig, ax = plt.subplots()\n",
    "pie = ax.pie(sizes, explode=explode, labels=labels, colors=colors, autopct='%1.1f%%', startangle=90)\n",
    "\n",
    "# Set opacity for colors\n",
    "for patch in pie[0]:\n",
    "    patch.set_alpha(0.7)\n",
    "\n",
    "# Add title\n",
    "ax.set_title('Prediction Accuracy')\n",
    "\n",
    "# Equal aspect ratio ensures that pie is drawn as a circle\n",
    "ax.axis('equal')\n",
    "\n",
    "# Display the chart\n",
    "plt.show()"
   ],
   "outputs": [
    {
     "output_type": "display_data",
     "data": {
      "image/png": "[encoded data removed]",
      "text/plain": [
       "<Figure size 640x480 with 1 Axes>"
      ]
     },
     "metadata": {}
    }
   ],
   "metadata": {}
  },
  {
   "cell_type": "markdown",
   "source": [
    "## Testing neutral "
   ],
   "metadata": {}
  },
  {
   "cell_type": "code",
   "execution_count": 316,
   "source": [
    "for message, predictions in results.items():\n",
    "    print(f\"Results for '{message}':\")\n",
    "    for i, prediction in enumerate(predictions):\n",
    "        label, scores = prediction\n",
    "        print(f\"Hypothesis {i+1}: {label}\")\n",
    "        print(f\"Scores: {scores}\")\n",
    "        print()"
   ],
   "outputs": [
    {
     "output_type": "stream",
     "name": "stdout",
     "text": [
      "Results for 'The capital of France is Paris.':\n",
      "Hypothesis 1: neutral\n",
      "Scores: [-0.05118773877620697, 0.4554246962070465, 0.583615243434906]\n",
      "\n",
      "Hypothesis 2: neutral\n",
      "Scores: [-0.23963893949985504, 0.03641188144683838, 0.044209808111190796]\n",
      "\n",
      "Hypothesis 3: contradiction\n",
      "Scores: [1.851564645767212, 1.41283118724823, -2.9412224292755127]\n",
      "\n",
      "Hypothesis 4: contradiction\n",
      "Scores: [2.528538942337036, 0.43362775444984436, -2.8043265342712402]\n",
      "\n",
      "Results for 'Water boils at 100 degrees Celsius.':\n",
      "Hypothesis 1: contradiction\n",
      "Scores: [0.5664500594139099, 0.3469386398792267, -0.014243487268686295]\n",
      "\n",
      "Hypothesis 2: entailment\n",
      "Scores: [0.06760282069444656, 0.1568906158208847, -0.3774451017379761]\n",
      "\n",
      "Hypothesis 3: contradiction\n",
      "Scores: [2.16416597366333, 0.9189963936805725, -2.5509583950042725]\n",
      "\n",
      "Hypothesis 4: contradiction\n",
      "Scores: [2.062148332595825, 0.29212456941604614, -2.369100332260132]\n",
      "\n",
      "Results for 'The Earth revolves around the Sun.':\n",
      "Hypothesis 1: contradiction\n",
      "Scores: [0.5732293725013733, 0.3298518657684326, 0.02252138964831829]\n",
      "\n",
      "Hypothesis 2: contradiction\n",
      "Scores: [0.3450983166694641, 0.15725967288017273, -0.539223313331604]\n",
      "\n",
      "Hypothesis 3: entailment\n",
      "Scores: [1.489492654800415, 1.509871244430542, -2.531933546066284]\n",
      "\n",
      "Hypothesis 4: contradiction\n",
      "Scores: [1.8026695251464844, 0.999985933303833, -2.526400566101074]\n",
      "\n",
      "Results for 'Photosynthesis is the process by which plants convert sunlight into energy.':\n",
      "Hypothesis 1: contradiction\n",
      "Scores: [0.9970082640647888, -0.0812649130821228, -0.306440144777298]\n",
      "\n",
      "Hypothesis 2: contradiction\n",
      "Scores: [0.5958132147789001, 0.07709043473005295, -0.9912659525871277]\n",
      "\n",
      "Hypothesis 3: contradiction\n",
      "Scores: [2.0642809867858887, 1.2882087230682373, -2.820425510406494]\n",
      "\n",
      "Hypothesis 4: contradiction\n",
      "Scores: [2.253343343734741, 0.49273526668548584, -2.555290460586548]\n",
      "\n",
      "Results for 'The chemical formula for water is H2O.':\n",
      "Hypothesis 1: contradiction\n",
      "Scores: [0.8021838068962097, -0.05098825320601463, -0.075750932097435]\n",
      "\n",
      "Hypothesis 2: contradiction\n",
      "Scores: [0.22263175249099731, 0.1378421187400818, -0.6645308136940002]\n",
      "\n",
      "Hypothesis 3: contradiction\n",
      "Scores: [2.069672107696533, 1.1722310781478882, -2.7840218544006348]\n",
      "\n",
      "Hypothesis 4: contradiction\n",
      "Scores: [2.237877368927002, 0.4063528776168823, -2.461482286453247]\n",
      "\n"
     ]
    }
   ],
   "metadata": {}
  },
  {
   "cell_type": "code",
   "execution_count": 85,
   "source": [
    "# get unique set of rationales\n",
    "df_fin['rationale'].unique()"
   ],
   "outputs": [
    {
     "output_type": "execute_result",
     "data": {
      "text/plain": [
       "array(['prejudice against white men', 'prejudice against muslims',\n",
       "       'prejudice against blacks', 'prejudice against islam',\n",
       "       'prejudice against whites', nan, 'prejudice against christians',\n",
       "       'prejudice towards blacks', 'prejudice towards gays',\n",
       "       'prejudice against blacks and musims and towards whites',\n",
       "       'prejudice against russians', 'prejudice against transgenders',\n",
       "       'prejudice against lefts',\n",
       "       'prejudice against left wing and muslims',\n",
       "       'prejudice against gays', 'prejudice against christians and gays',\n",
       "       'prejudice against asians and muslims',\n",
       "       'prejudice against blacks and towards whites',\n",
       "       'prejudice against whites and indians',\n",
       "       'prejudice against liberals', 'prejudice against',\n",
       "       'prejudice against muslims and towards chinese',\n",
       "       'prejudice against republicans', 'prejudice towards christians',\n",
       "       'prejudice against lesbians', 'prejudice against feminists',\n",
       "       'prejudice against whitess',\n",
       "       'prejudice against republican christians',\n",
       "       'prejudice against blacks and anti americans',\n",
       "       'prejudice against conservatives', 'prejudice against women',\n",
       "       'christians are hypocrites', 'prejudice against canada',\n",
       "       'prejudice against liberals and lefts',\n",
       "       'prejudice against muslims and towards gays',\n",
       "       'prejudice against americans', 'prejudice against men',\n",
       "       'prejudice against blacks and browns',\n",
       "       'prejudice against whites,christians', 'prejudice towards whites',\n",
       "       'prejudice against blacks,jews,feminists,gays',\n",
       "       'prejudice against christians,muslims',\n",
       "       'prejudice against blackss than whites',\n",
       "       'prejudice against homosexuals', 'prejudice against non whites',\n",
       "       'prejudice against muslims and christians',\n",
       "       'prejudice against women,christians and homosexuals',\n",
       "       'prejudice against whites, men', 'prejudice against latinos',\n",
       "       'prejudice against blacks female', 'prejudice against christuians',\n",
       "       'prejudice against whites and blacks',\n",
       "       'prejudice against evangelicals', 'prejudice against races',\n",
       "       'prejudice against blacks and whites',\n",
       "       'prejudice against gays and whites', 'prejudice against chinese',\n",
       "       'prejudice against muslims and jews',\n",
       "       'prejudice against jews,blacks,whites',\n",
       "       'prejudice against american woman',\n",
       "       'prejudice against transgenders and gays',\n",
       "       'prejudice against muslims and towards christians',\n",
       "       'prejudice against jews', 'prejudice against caucassians',\n",
       "       'prejudice against jews and women',\n",
       "       'prejudice against blacks and natives',\n",
       "       'prejudice towards gays and canadians',\n",
       "       'prejudice against non-muslims',\n",
       "       'prejudice towards blacks and whites',\n",
       "       'prejudice against races and lgbtq',\n",
       "       'prejudice against lgbtq community', 'prejudice against lgbtq',\n",
       "       'prejudice against negros', 'prejudice against muslimss',\n",
       "       'prejudice against south africans',\n",
       "       'prejudice against men and whites',\n",
       "       'prejudice against gays and republicans',\n",
       "       'prejudiced against blacks',\n",
       "       'prejudice towards whites and against blacks',\n",
       "       'prejudice against whites and christians',\n",
       "       'prejudice against white males',\n",
       "       'prejudice against canadians ann whites',\n",
       "       'prejudice against christians and muslims',\n",
       "       'prejudice against asians and indians', 'prejudice against arabs',\n",
       "       'prejudice towards muslims', 'prejudice against asians',\n",
       "       'prejudice against whites and towards blacks',\n",
       "       'prejudice against black men and whites',\n",
       "       'prejudice towards chinese', 'prejudice against mexicans',\n",
       "       'referring belief related to christian',\n",
       "       'prejudice against caucasian women',\n",
       "       'prejudice against muslims,christians',\n",
       "       'prejudice against muslims,homosexuals,women,atheists',\n",
       "       'prejudice against whites and religions',\n",
       "       'prejudice against catholics,christians',\n",
       "       'prejudice against catholics', 'prejudice against nazis',\n",
       "       'prejudice towards whites,christians and women',\n",
       "       'prejudice against queers', 'prejudice against whites and jews',\n",
       "       'prejudice against muslims and whites', 'muslims are criminals',\n",
       "       'prejudice against muslim women',\n",
       "       'prejudice against republicans and christians',\n",
       "       'prejudice against jews and palestinians',\n",
       "       'prejudice against muslims and towards hindus',\n",
       "       'prejudice against blacks,whites,women',\n",
       "       'prejudice against whites and black anarchists are scums',\n",
       "       'prejudice against gays,prejudice against muslims',\n",
       "       'prejudice against women, gays',\n",
       "       'prejudice against protestants and catholics',\n",
       "       'prejudice against muslims and lgbtq',\n",
       "       'prejudice towards blacks and jews', 'prejudice agianst whites',\n",
       "       'prejudice against democrats',\n",
       "       'prejudice against blacks, women and pansexuals',\n",
       "       'prejudice against race,religion and gender',\n",
       "       'prejudice against blacks,gays and women',\n",
       "       'christians are terrorists', 'prejudice against transsexuls',\n",
       "       'prejudice towards black women',\n",
       "       'prejudice towards blacks ,liberals,and transgenders',\n",
       "       'prejudice against christians and women',\n",
       "       'prejudice against muslims,indians',\n",
       "       'prejudice against whites,christians and russians',\n",
       "       'prejudice towards gays and transgenders',\n",
       "       'prejudice against christians white males',\n",
       "       'prejudice against muslism', 'prejudice against religions',\n",
       "       'prejudice against blacks and christians',\n",
       "       'prejudice towards liberal, gay, black woman',\n",
       "       'prejudice against whites and genders',\n",
       "       'prejudice towards jews and gays',\n",
       "       'prejudice against conservatives,men and lgbtq',\n",
       "       'prejudice against muslims men',\n",
       "       'prejudice against mexicans and canadians',\n",
       "       'prejudice towards christians and muslims',\n",
       "       'prejudice against whites and men', 'prejudice against black men',\n",
       "       'prejudice against muslims and latino',\n",
       "       'prejudice towards canadians and whites',\n",
       "       'prejudice towards atheists', 'prejudice against blacks and men',\n",
       "       'prejudice against colored people',\n",
       "       'prejudice against blacks and white men',\n",
       "       'prejudice against leftists and muslims',\n",
       "       'prejudice against muslims,israelis',\n",
       "       'prejudice against cubans and mexicans',\n",
       "       'prejudice against white women',\n",
       "       'prejudice against blacks and gays',\n",
       "       'prejudice against white christians',\n",
       "       'russians and chinese are hackers',\n",
       "       'prejudice against muslims and women',\n",
       "       'prejudice against gays and transgenders',\n",
       "       'prejudice against canadians',\n",
       "       'prejudice against liberals,christians and muslims',\n",
       "       'prejudice against british and muslims',\n",
       "       'prejudice against mexicans and swedes',\n",
       "       'prejudice against jews,christians and hindus',\n",
       "       'prejudice against muslims and white liberals',\n",
       "       'prejudice against sikhs and muslims',\n",
       "       'prejudice against women and white christians',\n",
       "       'prejudice against republicans and blacks',\n",
       "       'prejudiced against christians', 'prejudice against men and women',\n",
       "       'prejudice against russians and towards homosexuals',\n",
       "       'prejudice against lefts and muslims',\n",
       "       'prejudice against jews and muslims',\n",
       "       'prejudice against women and lgbtq',\n",
       "       'prejudice against muslims and liberals',\n",
       "       'prejudice against progressives',\n",
       "       'prejudice towards race, lgbtq and women',\n",
       "       'prejudice against christians and towards gays',\n",
       "       'prejudice against liberals,blacks and whites',\n",
       "       'prejudice against mormons and buddhists', 'prejudice against gay',\n",
       "       'prejudice towards a race and religion',\n",
       "       'prejudice against race and genders',\n",
       "       'prejudice against race and religions',\n",
       "       'prejudice against white hispanics',\n",
       "       'prejudice against nigerians,french',\n",
       "       'prejudice against whites and muslims',\n",
       "       'prejudice against transgenders and homosexuals',\n",
       "       'prejudice against lgbtqq', 'prejudice against gays and catholics',\n",
       "       'prejudice towards christians and against muslims',\n",
       "       'prejudice against whites and republicans',\n",
       "       'nazis and whites are scums',\n",
       "       'prejudice against whites,men and christians',\n",
       "       'prejudice against whites and liberals',\n",
       "       'prejudice against right wing christians',\n",
       "       'prejudice against canadians and muslims',\n",
       "       'prejudice against uzbekistan',\n",
       "       'prejudice against muslims and transgender',\n",
       "       'prejudice against whites and nazis',\n",
       "       'prejudice against liberals and whites',\n",
       "       'prejudice towards transgenders',\n",
       "       'prejudice against muslims and gays',\n",
       "       'prejudice against african american',\n",
       "       'prejudice against muslims and towards women',\n",
       "       'prejudice against indians', 'prejudice against buddhism',\n",
       "       'prejudice towards africans', 'prejudice against conservativess',\n",
       "       'prejudice against christians and homosexuals',\n",
       "       'prejudice against arabs,muslims',\n",
       "       'prejudice against white republicans and towards black men',\n",
       "       'prejudice against british',\n",
       "       'prejudice towards blacks,brown and muslims',\n",
       "       'prejudice against blacks and women',\n",
       "       'prejudice against conservatives and jews',\n",
       "       'prejudice against jews,muslims', 'whites are molestor',\n",
       "       'prejudice against muslims and homosexuals',\n",
       "       'prejudice against mormons', 'prejudice towards islam',\n",
       "       'prejudice towards a religion', 'prejudiced against muslims',\n",
       "       'prejudice against liberals and muslims',\n",
       "       'prejudice against lesbians and islam',\n",
       "       'prejudice against feminists,women and towards men',\n",
       "       'prejudice against lefts and gays', 'prejudice towards california',\n",
       "       'prejudice against blacks,homosexuals,muslims',\n",
       "       'prejudice against muslisms',\n",
       "       'prejudice against latinos and whites',\n",
       "       'prejudice against china and russia',\n",
       "       'prejudice against gays attire', 'prejudice against caucasians',\n",
       "       'prejudice against muslims and towards whites',\n",
       "       'prejudice against gays and women',\n",
       "       'prejudice towards sikhs,hindus,jews,amish,quakers',\n",
       "       'prejudice against muslims and towards ukraine',\n",
       "       'prejudice against blacks to whites',\n",
       "       'prejudice against whites are scum',\n",
       "       'prejudice against american blacks',\n",
       "       'prejudice against gays and canada',\n",
       "       'prejudice against whites,americans',\n",
       "       'prejudice against christians and towards whites',\n",
       "       'prejudice against white men and democrats',\n",
       "       'prejudice against whites and males',\n",
       "       'prejudice against blacks and towards christians',\n",
       "       'prejudice against africans',\n",
       "       'prejudice against religions and race',\n",
       "       'prejudice against whites and towards muslims',\n",
       "       'prejudice against christians and towards muslims',\n",
       "       'prejudice against muslims and towards jews',\n",
       "       'prejudice against white man',\n",
       "       'prejudice towards democrats and blacks',\n",
       "       'prejudice against republicans and whites',\n",
       "       'prejudice against white male',\n",
       "       'prejudice against whites and women',\n",
       "       'prejudice against lgbtq and blacks', 'prejudice against black',\n",
       "       'prejudice against blacks and muslims',\n",
       "       'prejudice against non-whites and muslims',\n",
       "       'prejudice against hispanics', 'prejudice against socialists',\n",
       "       'prejudice against germans', 'prejudice against women and muslims',\n",
       "       'prejudice against muslims and prejudice agianst whites',\n",
       "       'prejudice towards gays and blacks',\n",
       "       'prejudice towards white muslims',\n",
       "       'prejudice towards canadians,muslims and buddhists',\n",
       "       'prejudice against homosexuals,transgenders',\n",
       "       'prejudice against women and races',\n",
       "       'prejudice against blacks,gays', 'prejudice towards catholics',\n",
       "       'prejudice against lefts,lgbtq and muslims',\n",
       "       'prejudice against whites and atheists',\n",
       "       'prejudice against gays,hispanics and blacks',\n",
       "       'prejudice against females', 'prejudice against atheists',\n",
       "       'prejudice against whites and lefts',\n",
       "       'prejudice against muslims,women,lgbt and towards republican christians',\n",
       "       'prejudice against alaskans',\n",
       "       'prejudice against blacks,women,gays',\n",
       "       'prejudice against asians,whites,blacks and hispanics',\n",
       "       'prejudice against women,transgenders',\n",
       "       'prejudice against black women', 'prejudice towards japanese',\n",
       "       'prejudice towards colored people',\n",
       "       'prejudice against rights and women', 'prejudice against french',\n",
       "       'prejudice against blacks,homosexuals and muslims',\n",
       "       'prejudice against blacks and hispanics',\n",
       "       'prejudice against gays and blacks',\n",
       "       'prejudice against liberals,democrats,muslims',\n",
       "       'prejudice against blacks and mexicans',\n",
       "       'prejudice towards blacks,whites and south africans',\n",
       "       'prejudice against jews and lgbtq', 'prejudice against LGBT',\n",
       "       'prejudice against irish', 'prejudice towards race and religion',\n",
       "       'prejudice against genders', 'prejudice towards lgbtq',\n",
       "       'prejudice against palestinians', 'prejudice against rebels',\n",
       "       'prejudice towards women', 'prejudiced against transgenders',\n",
       "       'prejudice against muslims, whites and christians',\n",
       "       'prejudice against asians,women and transgenders',\n",
       "       'prejudice against christians,muslims and liberals',\n",
       "       'prejudice against christians and towards homosexuals',\n",
       "       'prejudice against whites and black predators',\n",
       "       'prejudiced against homosexuals',\n",
       "       'prejudice against race,religion,gender and communists',\n",
       "       'prejudice towards hispanics', 'prejudice against jews and whites',\n",
       "       'prejudice against blacks and jews',\n",
       "       'prejudice against blacks and asians',\n",
       "       'prejudice against religion',\n",
       "       'prejudice against evangelicals and catholics',\n",
       "       'prejudice against whitess nazis', 'muslims are pedophile',\n",
       "       'prejudice agianst chinese',\n",
       "       'prejudice against blacks,whites and browns',\n",
       "       'prejudice towards muslims and against christians',\n",
       "       'prejudice against arabs and towards blacks',\n",
       "       'prejudice against chinese and muslims',\n",
       "       'prejudice against lgbtq and catholics',\n",
       "       'prejudice against republicans and non whites',\n",
       "       'prejudice towards white people', 'prejudice towards homosexuals',\n",
       "       'prejudice against whites and towards women',\n",
       "       'prejudice against whites and towards natives',\n",
       "       'prejudice against wwhites', 'blacks are monkeys',\n",
       "       'prejudice against democrats,liberals',\n",
       "       'prejudice against palestines and arabs',\n",
       "       'prejudice against jews and homosexuals',\n",
       "       'prejudice against arabs and mexicans',\n",
       "       'whites are poorly educated',\n",
       "       'prejudice against evangelicals and muslims',\n",
       "       'prejudice against japanese',\n",
       "       'prejudice against whites and hispanics',\n",
       "       'prejudice against white democrats',\n",
       "       'prejudice against americans,baptists,muslims',\n",
       "       'prejudice towards muslims and women', 'prejudice against turks',\n",
       "       'prejudice against white male christians',\n",
       "       'prejudice against north koreans',\n",
       "       'prejudice against blacks and latino',\n",
       "       'prejudice against blacks and republicans',\n",
       "       'prejudice against palestines',\n",
       "       'prejudice on the basis of religion and race',\n",
       "       'prejudice against muslims,mexicans',\n",
       "       'prejudice against muslims and catholics',\n",
       "       'prejudice towards blacks and somalis',\n",
       "       'prejudice against LBGT and jews',\n",
       "       'prejudice against and towards races',\n",
       "       'prejudice against catholics and whites',\n",
       "       'prejudice towards whites christians and transgenders',\n",
       "       'prejudice against a religion',\n",
       "       'prejudice against whites, homosexuals',\n",
       "       'prejudice against men and objectification of women',\n",
       "       'prejudice against heterosexuals',\n",
       "       'prejudice against white women and towards white men',\n",
       "       'prejudice against men and towards women',\n",
       "       'prejudice against blacks and political parties',\n",
       "       'prejudice against blacks,lesbians',\n",
       "       'prejudice towards blacks,whites and muslims',\n",
       "       'prejudice against canada and whites', 'pejudice towards blacks',\n",
       "       'prejudice towards a race',\n",
       "       'prejudiced against whites and christians',\n",
       "       'prejudice against KKK', 'prejudice against gays and christians',\n",
       "       'prejudice against whitess,prejudice against muslims',\n",
       "       'prejudice against hindus', 'prejudice against lgbtq and gender',\n",
       "       'prejudice against whites men',\n",
       "       'prejudice towards republicans and whites',\n",
       "       'prejudice against gays and liberals', 'prejudiuce towards whites',\n",
       "       'prejudice against blackss as compared to whites',\n",
       "       'prejudice against muslims and blacks',\n",
       "       'prejudice against christians and evangelicals',\n",
       "       'prejudice against canadians and whites',\n",
       "       'prejudice against mexicans and muslims',\n",
       "       'prejudice against homosexuals and christians',\n",
       "       'prejudcie against blacks and transgendes',\n",
       "       'prejudice against race, religion and gender',\n",
       "       'prejudice against catholics and women',\n",
       "       'prejudice against races and genders',\n",
       "       'prejudice against liberals and progressives',\n",
       "       'prejudice against republicans and for democrats',\n",
       "       'prejudice towards whites,americans and men',\n",
       "       'prejudice towards white men', 'prejudice towards lesbians',\n",
       "       'prejudice against syrians', 'gays are not men',\n",
       "       'americans and canadians both are ignorant',\n",
       "       'prejudice towards indians,somalians',\n",
       "       'prejudice against race,gender,lgbtq and political',\n",
       "       'prejudice against muslims, gays',\n",
       "       'prejudice against blacks and females', 'prejudice against mexico',\n",
       "       'prejudice against muslims and left',\n",
       "       'prejudice against ggays and christians',\n",
       "       'prejudice against jews and towards british',\n",
       "       'prejudice against white republican men',\n",
       "       'prejudice towards muslims and whites',\n",
       "       'prejudice towards white males',\n",
       "       'prejudice towards jews,blacks and against whites',\n",
       "       'prejudice against lefts,blacks and whites',\n",
       "       'prejudice against women and blacks',\n",
       "       'prejudice against buddhists',\n",
       "       'prejudice against liberals,jews and muslims',\n",
       "       'prejudice against gays and towards christians',\n",
       "       'prejudice against mexican and muslims', 'prejudice towars blacks',\n",
       "       'prejudice towards gays and women',\n",
       "       'prejudice against gays,americans and lgbtq',\n",
       "       'prejudice towards africans and jews',\n",
       "       'prejudice against north korea',\n",
       "       'prejudice against christians and buddhists',\n",
       "       'prejudice againt whites', 'prejudice against browns and muslims',\n",
       "       'prejudice against muslims,feminists allow muslim terrorists',\n",
       "       'prejudice towards canadians',\n",
       "       'prejudice against canada and white men',\n",
       "       'prejudice against muslims,democrats and homosexuals',\n",
       "       'prejudice against liberal women', 'prejudice against atheist',\n",
       "       'prejudice against mexicans and white men',\n",
       "       'prejudice against blacks,women and lgbtq',\n",
       "       'prejudice against women and gays',\n",
       "       'prejudice towards democrats and gays',\n",
       "       'prejudice based on skin color',\n",
       "       'prejudice against mexicans and towards americans',\n",
       "       'prejudice against political belief and race',\n",
       "       'prejudice against alaska republicans',\n",
       "       'prejudice against whites,blacks', 'prejudice against lesbbians',\n",
       "       'prejudice against blacks, whites and muslims',\n",
       "       'prejudice towards white male',\n",
       "       'prejudice against christians, judaism and muslims',\n",
       "       'prejudice against koreans',\n",
       "       'prejudice against muslims gays and christians',\n",
       "       'social perception associated with the race',\n",
       "       'prejudice against white americans',\n",
       "       'prejudice against islam and towards women',\n",
       "       'prejudice against browns and blacks',\n",
       "       'prejudice against french and islam',\n",
       "       'prejudice against lefts and women',\n",
       "       'prejudice against white guys',\n",
       "       'prejudice towards gays and against christians',\n",
       "       'prejudice aagainst homosexuals',\n",
       "       'prejudice against democrats and women',\n",
       "       'prejudice against canada and towards australia',\n",
       "       'prejudice against races and men',\n",
       "       'prejudice against gays and conservatives christians',\n",
       "       'prejudice against women and towards men',\n",
       "       'prejudice against religion and races',\n",
       "       'prejudice against muslims and religions',\n",
       "       'prejudice against blacks,feminists and lgbtq',\n",
       "       'prejudice against blacks and racists',\n",
       "       'prejudice against catholics,jews,hindus and towards islam',\n",
       "       'prejudice towards americans and blacks',\n",
       "       'prejudice against gay women',\n",
       "       'prejudice against christians,whites',\n",
       "       'prejudice against non-whites',\n",
       "       'prejudice against whites and chinese',\n",
       "       'prejudice against japanese and muslims',\n",
       "       'prejudice against lgbtq and feminists',\n",
       "       'prejudice against muslims,christians,zoroastrians',\n",
       "       'prejudice against muslims,christians and buddhists',\n",
       "       'prejudice againt whites and towards natives',\n",
       "       'prejudice against men and gays',\n",
       "       'prejudice against whites and canadians',\n",
       "       'prejudice against lgbtq and whites',\n",
       "       'prejudice against conservativess and bigots',\n",
       "       'prejudice against republicans,men and homosexuals',\n",
       "       'prejudice against liberals,blacks and men',\n",
       "       'prejudice against races and religions',\n",
       "       'prejudice against gays and feminists',\n",
       "       'prejudice agiainst whites and muslims',\n",
       "       'prejudice against women,muslim and lgbtq',\n",
       "       'prejudice against women and latino', 'blacks are thieves',\n",
       "       'prejudice against whites and male',\n",
       "       'prejudice against lefts and blacks',\n",
       "       'prejudice against blacks,whites',\n",
       "       'prejudice against races and political beliefs',\n",
       "       'prejudice against mexicans, muslims and blacks',\n",
       "       'prejudice against china and muslims',\n",
       "       'prejudice against blacks and lgbtq',\n",
       "       'prejudice against rights, blacks and browns',\n",
       "       'prejudice towards whites and evangelicals',\n",
       "       'prejudice against whitess and sexists',\n",
       "       'prejudice against lgbtq,women and christians',\n",
       "       'prejudice towards white men and against women and people of color',\n",
       "       'prejudice asainst asians', 'prejudice against girls and whites',\n",
       "       'prejudice against a race',\n",
       "       'prejudice against democrats and blacks',\n",
       "       'prejudice against race,gender and lgbtq',\n",
       "       'prejudice against jewish',\n",
       "       'prejudice against whites and towards colored people, women',\n",
       "       'prejudice against white liberals',\n",
       "       'prejudice against queers and faggots',\n",
       "       'prejudice against whites, asians',\n",
       "       'prejudice against blacks and guptas',\n",
       "       'prejudice against whitess and men are pigs',\n",
       "       'prejudice against a race and religion',\n",
       "       'prejudice towards gays and muslims', 'prejudiced against arabs',\n",
       "       'prejudice against liberals and towards republicans,conservatives,caucassians male',\n",
       "       'prejudice against milwaikee',\n",
       "       'prejudice against gays and muslims',\n",
       "       'prejudice towards muslims and against jews',\n",
       "       'prejudice against whites,Ku Klux Klan',\n",
       "       'prejudice against women than men', 'prejudice againt muslims',\n",
       "       'prejudice against muslims,christians,judaism',\n",
       "       'prejudice against jews and asians',\n",
       "       'prejudice against homosexuals,israel,jews,christians,women',\n",
       "       'prehudice against women',\n",
       "       'prejudice against homosexuals and queers',\n",
       "       'prejudice against mexicans and americans', 'liberals are racists',\n",
       "       'prejudice against hispanics and african africans',\n",
       "       'prejudice against whites,blacks and mexicans',\n",
       "       'prejudice against feminists and whites',\n",
       "       'prejudice against alaskans men', 'prejudice against blacks, men',\n",
       "       'prejudice against jews and blacks',\n",
       "       'prejudice against non-christians and american indians',\n",
       "       'prejudice against asians and africans'], dtype=object)"
      ]
     },
     "metadata": {},
     "execution_count": 85
    }
   ],
   "metadata": {}
  },
  {
   "cell_type": "markdown",
   "source": [
    "## Tinkering with hypothesis and premise"
   ],
   "metadata": {}
  },
  {
   "cell_type": "code",
   "execution_count": 234,
   "source": [
    "df_bart_large_new[df_bart_large_new['predicted_label'] == 'co']\n",
    "df_bart_large_new.sample(10)"
   ],
   "outputs": [
    {
     "output_type": "execute_result",
     "data": {
      "text/html": [
       "<div>\n",
       "<style scoped>\n",
       "    .dataframe tbody tr th:only-of-type {\n",
       "        vertical-align: middle;\n",
       "    }\n",
       "\n",
       "    .dataframe tbody tr th {\n",
       "        vertical-align: top;\n",
       "    }\n",
       "\n",
       "    .dataframe thead th {\n",
       "        text-align: right;\n",
       "    }\n",
       "</style>\n",
       "<table border=\"1\" class=\"dataframe\">\n",
       "  <thead>\n",
       "    <tr style=\"text-align: right;\">\n",
       "      <th></th>\n",
       "      <th>Unnamed: 0</th>\n",
       "      <th>Unnamed: 0.1</th>\n",
       "      <th>comment_text</th>\n",
       "      <th>identity_attack_x</th>\n",
       "      <th>bias</th>\n",
       "      <th>target</th>\n",
       "      <th>category</th>\n",
       "      <th>rationale</th>\n",
       "      <th>predicted_label</th>\n",
       "      <th>predicted_scores</th>\n",
       "    </tr>\n",
       "  </thead>\n",
       "  <tbody>\n",
       "    <tr>\n",
       "      <th>716</th>\n",
       "      <td>716</td>\n",
       "      <td>2576</td>\n",
       "      <td>what if hes not old? Can he sew based on his being white? or male?</td>\n",
       "      <td>0.500000</td>\n",
       "      <td>neutral</td>\n",
       "      <td>NaN</td>\n",
       "      <td>none</td>\n",
       "      <td>NaN</td>\n",
       "      <td>neutral</td>\n",
       "      <td>[-2.839334726333618, 1.3392512798309326, 1.936112880706787]</td>\n",
       "    </tr>\n",
       "    <tr>\n",
       "      <th>900</th>\n",
       "      <td>900</td>\n",
       "      <td>517</td>\n",
       "      <td>Looks like a bunch of fat old white folks out for a march.  And what is with the dude in the black helmet respirator and superhero shield?  Pathetic.</td>\n",
       "      <td>0.590909</td>\n",
       "      <td>neutral</td>\n",
       "      <td>NaN</td>\n",
       "      <td>none</td>\n",
       "      <td>NaN</td>\n",
       "      <td>neutral</td>\n",
       "      <td>[-2.975454092025757, 1.3704737424850464, 2.072193145751953]</td>\n",
       "    </tr>\n",
       "    <tr>\n",
       "      <th>25</th>\n",
       "      <td>25</td>\n",
       "      <td>2276</td>\n",
       "      <td>The Dems are just the lesser of 2 evils. The GOP elected a bigot and racist president. What has the GOP done for black folks since the 1960s? When ever I forget that Im black some white person always reminds me that Im black.</td>\n",
       "      <td>0.653333</td>\n",
       "      <td>bias</td>\n",
       "      <td>whites</td>\n",
       "      <td>race</td>\n",
       "      <td>prejudice against whites</td>\n",
       "      <td>entailment</td>\n",
       "      <td>[-0.20237302780151367, 1.4207251071929932, -1.248955249786377]</td>\n",
       "    </tr>\n",
       "    <tr>\n",
       "      <th>893</th>\n",
       "      <td>893</td>\n",
       "      <td>3043</td>\n",
       "      <td>They are so full of it they were never going to visit anyways now they think they are going to make Trump feel bad go back to your coke snorting and closeted gay sex boys</td>\n",
       "      <td>0.587500</td>\n",
       "      <td>bias</td>\n",
       "      <td>gays</td>\n",
       "      <td>lgbtq</td>\n",
       "      <td>prejudice against gays</td>\n",
       "      <td>neutral</td>\n",
       "      <td>[-2.1402523517608643, 1.3139210939407349, 1.494579792022705]</td>\n",
       "    </tr>\n",
       "    <tr>\n",
       "      <th>141</th>\n",
       "      <td>141</td>\n",
       "      <td>4322</td>\n",
       "      <td>I dont think Asians are more resourceful than Africans is the correct diagnosis.  Asia had a very different set of conditions in place before any colonialism which meant it was better placed to  rebound afterwards.</td>\n",
       "      <td>0.500000</td>\n",
       "      <td>bias</td>\n",
       "      <td>asians,africans</td>\n",
       "      <td>race</td>\n",
       "      <td>prejudice against asians and africans</td>\n",
       "      <td>entailment</td>\n",
       "      <td>[0.5365539789199829, 1.7771034240722656, -1.2384419441223145]</td>\n",
       "    </tr>\n",
       "    <tr>\n",
       "      <th>849</th>\n",
       "      <td>849</td>\n",
       "      <td>3124</td>\n",
       "      <td>Christopher history reminds us that you cant talk about equity or equality without talking about decades of free labor which built the financial infrastructure. White Adventists who are complicit in the structural and institutional racism and who benefit from it like most White Americans need to step up and challenge the evils that persist in the country and in the Adventist Church. Thanks for your perspective.</td>\n",
       "      <td>1.000000</td>\n",
       "      <td>bias</td>\n",
       "      <td>whites</td>\n",
       "      <td>race</td>\n",
       "      <td>prejudice against whites</td>\n",
       "      <td>entailment</td>\n",
       "      <td>[-1.0225396156311035, 1.934458613395691, 0.0945172905921936]</td>\n",
       "    </tr>\n",
       "    <tr>\n",
       "      <th>695</th>\n",
       "      <td>695</td>\n",
       "      <td>748</td>\n",
       "      <td>Its a given that out of 150000 muslim immigrants a certain number will be terrorists.</td>\n",
       "      <td>0.833333</td>\n",
       "      <td>bias</td>\n",
       "      <td>muslims</td>\n",
       "      <td>religion</td>\n",
       "      <td>prejudice against muslims</td>\n",
       "      <td>entailment</td>\n",
       "      <td>[-0.6682076454162598, 1.8851962089538574, -0.6720868349075317]</td>\n",
       "    </tr>\n",
       "    <tr>\n",
       "      <th>916</th>\n",
       "      <td>916</td>\n",
       "      <td>811</td>\n",
       "      <td>When Black people fly the confederate flag is it still qualified as supporting racism  your thoughts Gary ?</td>\n",
       "      <td>0.600000</td>\n",
       "      <td>bias</td>\n",
       "      <td>blacks</td>\n",
       "      <td>race</td>\n",
       "      <td>prejudice against blacks</td>\n",
       "      <td>neutral</td>\n",
       "      <td>[-3.1095900535583496, 1.1269792318344116, 2.222885847091675]</td>\n",
       "    </tr>\n",
       "    <tr>\n",
       "      <th>183</th>\n",
       "      <td>183</td>\n",
       "      <td>3367</td>\n",
       "      <td>The greedy chinese are depleting everything on earth and enjoying every minute of it.</td>\n",
       "      <td>0.500000</td>\n",
       "      <td>bias</td>\n",
       "      <td>chinese</td>\n",
       "      <td>race</td>\n",
       "      <td>prejudice against chinese</td>\n",
       "      <td>entailment</td>\n",
       "      <td>[-2.2349348068237305, 2.5432820320129395, 0.5111067295074463]</td>\n",
       "    </tr>\n",
       "    <tr>\n",
       "      <th>474</th>\n",
       "      <td>474</td>\n",
       "      <td>3116</td>\n",
       "      <td>Bunch of kneeling illiterates squatting on a lie while black on black killings continue at record levels in cities</td>\n",
       "      <td>0.500000</td>\n",
       "      <td>bias</td>\n",
       "      <td>blacks</td>\n",
       "      <td>race</td>\n",
       "      <td>prejudice against blacks</td>\n",
       "      <td>entailment</td>\n",
       "      <td>[-2.193145751953125, 1.6619800329208374, 1.0733790397644043]</td>\n",
       "    </tr>\n",
       "  </tbody>\n",
       "</table>\n",
       "</div>"
      ],
      "text/plain": [
       "     Unnamed: 0  Unnamed: 0.1  \\\n",
       "716         716          2576   \n",
       "900         900           517   \n",
       "25           25          2276   \n",
       "893         893          3043   \n",
       "141         141          4322   \n",
       "849         849          3124   \n",
       "695         695           748   \n",
       "916         916           811   \n",
       "183         183          3367   \n",
       "474         474          3116   \n",
       "\n",
       "                                                                                                                                                                                                                                                                                                                                                                                                                       comment_text  \\\n",
       "716                                                                                                                                                                                                                                                                                                                                                              what if hes not old? Can he sew based on his being white? or male?   \n",
       "900                                                                                                                                                                                                                                                                           Looks like a bunch of fat old white folks out for a march.  And what is with the dude in the black helmet respirator and superhero shield?  Pathetic.   \n",
       "25                                                                                                                                                                                                The Dems are just the lesser of 2 evils. The GOP elected a bigot and racist president. What has the GOP done for black folks since the 1960s? When ever I forget that Im black some white person always reminds me that Im black.   \n",
       "893                                                                                                                                                                                                                                                      They are so full of it they were never going to visit anyways now they think they are going to make Trump feel bad go back to your coke snorting and closeted gay sex boys   \n",
       "141                                                                                                                                                                                                          I dont think Asians are more resourceful than Africans is the correct diagnosis.  Asia had a very different set of conditions in place before any colonialism which meant it was better placed to  rebound afterwards.   \n",
       "849  Christopher history reminds us that you cant talk about equity or equality without talking about decades of free labor which built the financial infrastructure. White Adventists who are complicit in the structural and institutional racism and who benefit from it like most White Americans need to step up and challenge the evils that persist in the country and in the Adventist Church. Thanks for your perspective.   \n",
       "695                                                                                                                                                                                                                                                                                                                                           Its a given that out of 150000 muslim immigrants a certain number will be terrorists.   \n",
       "916                                                                                                                                                                                                                                                                                                                     When Black people fly the confederate flag is it still qualified as supporting racism  your thoughts Gary ?   \n",
       "183                                                                                                                                                                                                                                                                                                                                           The greedy chinese are depleting everything on earth and enjoying every minute of it.   \n",
       "474                                                                                                                                                                                                                                                                                                              Bunch of kneeling illiterates squatting on a lie while black on black killings continue at record levels in cities   \n",
       "\n",
       "     identity_attack_x     bias           target  category  \\\n",
       "716           0.500000  neutral              NaN      none   \n",
       "900           0.590909  neutral              NaN      none   \n",
       "25            0.653333     bias           whites      race   \n",
       "893           0.587500     bias             gays     lgbtq   \n",
       "141           0.500000     bias  asians,africans      race   \n",
       "849           1.000000     bias           whites      race   \n",
       "695           0.833333     bias          muslims  religion   \n",
       "916           0.600000     bias           blacks      race   \n",
       "183           0.500000     bias          chinese      race   \n",
       "474           0.500000     bias           blacks      race   \n",
       "\n",
       "                                 rationale predicted_label  \\\n",
       "716                                    NaN         neutral   \n",
       "900                                    NaN         neutral   \n",
       "25                prejudice against whites      entailment   \n",
       "893                 prejudice against gays         neutral   \n",
       "141  prejudice against asians and africans      entailment   \n",
       "849               prejudice against whites      entailment   \n",
       "695              prejudice against muslims      entailment   \n",
       "916               prejudice against blacks         neutral   \n",
       "183              prejudice against chinese      entailment   \n",
       "474               prejudice against blacks      entailment   \n",
       "\n",
       "                                                   predicted_scores  \n",
       "716     [-2.839334726333618, 1.3392512798309326, 1.936112880706787]  \n",
       "900     [-2.975454092025757, 1.3704737424850464, 2.072193145751953]  \n",
       "25   [-0.20237302780151367, 1.4207251071929932, -1.248955249786377]  \n",
       "893    [-2.1402523517608643, 1.3139210939407349, 1.494579792022705]  \n",
       "141   [0.5365539789199829, 1.7771034240722656, -1.2384419441223145]  \n",
       "849    [-1.0225396156311035, 1.934458613395691, 0.0945172905921936]  \n",
       "695  [-0.6682076454162598, 1.8851962089538574, -0.6720868349075317]  \n",
       "916    [-3.1095900535583496, 1.1269792318344116, 2.222885847091675]  \n",
       "183   [-2.2349348068237305, 2.5432820320129395, 0.5111067295074463]  \n",
       "474    [-2.193145751953125, 1.6619800329208374, 1.0733790397644043]  "
      ]
     },
     "metadata": {},
     "execution_count": 234
    }
   ],
   "metadata": {}
  },
  {
   "cell_type": "markdown",
   "source": [
    "### Examples showing the impact of wording of hypothesis"
   ],
   "metadata": {}
  },
  {
   "cell_type": "code",
   "execution_count": 233,
   "source": [
    "premise = \"Theres little difference between Muslim terrorists and Israeli terrorists.\"\n",
    "hypothesis = \"Bias or prejudice against israelis, muslims\"\n",
    "predict_nli_label(premise,hypothesis, 'facebook/bart-large-mnli')"
   ],
   "outputs": [
    {
     "output_type": "execute_result",
     "data": {
      "text/plain": [
       "('contradiction',\n",
       " [1.1538724899291992, 1.0089519023895264, -1.2281742095947266])"
      ]
     },
     "metadata": {},
     "execution_count": 233
    }
   ],
   "metadata": {}
  },
  {
   "cell_type": "code",
   "execution_count": 286,
   "source": [
    "premise = \"Theres little difference between Muslim dogs and Israeli dogs.\"\n",
    "hypothesis = \"Bias or prejudice against israelis and muslims\"\n",
    "predict_nli_label(premise,hypothesis, 'facebook/bart-large-mnli')"
   ],
   "outputs": [
    {
     "output_type": "execute_result",
     "data": {
      "text/plain": [
       "('entailment', [0.4007895290851593, 1.131015419960022, -0.9698682427406311])"
      ]
     },
     "metadata": {},
     "execution_count": 286
    }
   ],
   "metadata": {}
  },
  {
   "cell_type": "markdown",
   "source": [
    "### Examples of atomisation"
   ],
   "metadata": {}
  },
  {
   "cell_type": "markdown",
   "source": [
    "Example 1: marked neutral initially"
   ],
   "metadata": {}
  },
  {
   "cell_type": "code",
   "execution_count": 100,
   "source": [
    "premise = \"NO NO NO NO NO You cannot call Muslims innocent and nothing to so with terrorism then not do the same here. We will speak out harshly against Islam. Arrest me now scum Pay me later for breaching my speech rights.\t\"\n",
    "hypothesis = \"prejudice against muslims\t\"\n",
    "predict_nli_label(premise,hypothesis, 'facebook/bart-large-mnli')"
   ],
   "outputs": [
    {
     "output_type": "execute_result",
     "data": {
      "text/plain": [
       "('entailment', [-1.4833273887634277, -0.026008237153291702, 1.884655475616455])"
      ]
     },
     "metadata": {},
     "execution_count": 100
    }
   ],
   "metadata": {}
  },
  {
   "cell_type": "code",
   "execution_count": 99,
   "source": [
    "premise = \"NO NO NO NO NO You cannot call Muslims innocent and nothing to so with terrorism then not do the same here.\"\n",
    "hypothesis = \"prejudice against muslims\t\"\n",
    "predict_nli_label(premise,hypothesis, 'facebook/bart-large-mnli')"
   ],
   "outputs": [
    {
     "output_type": "execute_result",
     "data": {
      "text/plain": [
       "('entailment', [-1.2644469738006592, 0.20070520043373108, 1.3086400032043457])"
      ]
     },
     "metadata": {},
     "execution_count": 99
    }
   ],
   "metadata": {}
  },
  {
   "cell_type": "code",
   "execution_count": 298,
   "source": [
    "premise = \"We will speak out harshly against Islam.\"\n",
    "hypothesis = \"prejudice against muslims\"\n",
    "predict_nli_label(premise,hypothesis, 'facebook/bart-large-mnli')"
   ],
   "outputs": [
    {
     "output_type": "execute_result",
     "data": {
      "text/plain": [
       "('neutral', [-2.393953800201416, 0.7602177262306213, 2.2532169818878174])"
      ]
     },
     "metadata": {},
     "execution_count": 298
    }
   ],
   "metadata": {}
  },
  {
   "cell_type": "code",
   "execution_count": 299,
   "source": [
    "premise = \"Arrest me now scum Pay me later for breaching my speech rights.\"\n",
    "hypothesis = \"prejudice against muslims\"\n",
    "predict_nli_label(premise,hypothesis, 'facebook/bart-large-mnli')"
   ],
   "outputs": [
    {
     "output_type": "execute_result",
     "data": {
      "text/plain": [
       "('entailment', [-0.9653019905090332, 4.0350165367126465, -1.7184970378875732])"
      ]
     },
     "metadata": {},
     "execution_count": 299
    }
   ],
   "metadata": {}
  },
  {
   "cell_type": "markdown",
   "source": [
    "Example 2: marked neutral originially"
   ],
   "metadata": {}
  },
  {
   "cell_type": "code",
   "execution_count": 190,
   "source": [
    "premise = \"A suspected Islamist?? Thats an inaccurate description and will soon be a banned word as it is Islamophobic. We are not to talk about Islam Justin says so. Ah geez sorry Alceste I mentioned Islam. This post to disappear shortly.\t\"\n",
    "hypothesis = \"prejudice against muslims\"\n",
    "predict_nli_label(premise,hypothesis, 'facebook/bart-large-mnli')"
   ],
   "outputs": [
    {
     "output_type": "execute_result",
     "data": {
      "text/plain": [
       "('neutral', [-2.690321207046509, 0.20049217343330383, 2.691774845123291])"
      ]
     },
     "metadata": {},
     "execution_count": 190
    }
   ],
   "metadata": {}
  },
  {
   "cell_type": "code",
   "execution_count": 195,
   "source": [
    "premise = \"A suspected Islamist??\"\n",
    "hypothesis = \"prejudice against muslims\"\n",
    "predict_nli_label(premise,hypothesis, 'facebook/bart-large-mnli')"
   ],
   "outputs": [
    {
     "output_type": "execute_result",
     "data": {
      "text/plain": [
       "('entailment', [0.1728627234697342, 0.4996832311153412, -0.4560590982437134])"
      ]
     },
     "metadata": {},
     "execution_count": 195
    }
   ],
   "metadata": {}
  },
  {
   "cell_type": "code",
   "execution_count": 307,
   "source": [
    "premise = \"Thats an inaccurate description and will soon be a banned word as it is Islamophobic.\"\n",
    "hypothesis = \"prejudice against muslims\"\n",
    "predict_nli_label(premise,hypothesis, 'facebook/bart-large-mnli')"
   ],
   "outputs": [
    {
     "output_type": "execute_result",
     "data": {
      "text/plain": [
       "('neutral', [-2.543168544769287, 0.6502559185028076, 2.4211270809173584])"
      ]
     },
     "metadata": {},
     "execution_count": 307
    }
   ],
   "metadata": {}
  },
  {
   "cell_type": "code",
   "execution_count": 196,
   "source": [
    "premise = \"We are not to talk about Islam Justin says so.\"\n",
    "hypothesis = \"prejudice against muslims\"\n",
    "predict_nli_label(premise,hypothesis, 'facebook/bart-large-mnli')"
   ],
   "outputs": [
    {
     "output_type": "execute_result",
     "data": {
      "text/plain": [
       "('entailment', [-0.9334355592727661, 1.732102632522583, -0.2891322374343872])"
      ]
     },
     "metadata": {},
     "execution_count": 196
    }
   ],
   "metadata": {}
  },
  {
   "cell_type": "code",
   "execution_count": 197,
   "source": [
    "premise = \"Ah geez sorry Alceste I mentioned Islam. This post to disappear shortly.\"\n",
    "hypothesis = \"prejudice against muslims\"\n",
    "predict_nli_label(premise,hypothesis, 'facebook/bart-large-mnli')"
   ],
   "outputs": [
    {
     "output_type": "execute_result",
     "data": {
      "text/plain": [
       "('contradiction', [1.6803958415985107, 1.114214301109314, -2.2965805530548096])"
      ]
     },
     "metadata": {},
     "execution_count": 197
    }
   ],
   "metadata": {}
  },
  {
   "cell_type": "markdown",
   "source": [
    "Example 3: marked contradiction originially"
   ],
   "metadata": {}
  },
  {
   "cell_type": "code",
   "execution_count": 203,
   "source": [
    "premise = \"...we do allow our white domestic terrorists to walk around in public armed. Lets not discriminate here. We also allow Muslim terrorists to walk around and drive around armed. How else would they arrive at the location theyve chosen prepared for their murderous deeds?\t\"\n",
    "hypothesis = \"prejudice against muslims and whites\t\"\n",
    "predict_nli_label(premise,hypothesis, 'facebook/bart-large-mnli')"
   ],
   "outputs": [
    {
     "output_type": "execute_result",
     "data": {
      "text/plain": [
       "('contradiction',\n",
       " [1.5307340621948242, -0.6096659898757935, -0.7171313166618347])"
      ]
     },
     "metadata": {},
     "execution_count": 203
    }
   ],
   "metadata": {}
  },
  {
   "cell_type": "code",
   "execution_count": 207,
   "source": [
    "premise = \"...we do allow our white domestic terrorists to walk around in public armed.\"\n",
    "hypothesis = \"prejudice against muslims and whites\"\n",
    "predict_nli_label(premise,hypothesis, 'facebook/bart-large-mnli')"
   ],
   "outputs": [
    {
     "output_type": "execute_result",
     "data": {
      "text/plain": [
       "('entailment', [0.8523672223091125, 1.3388031721115112, -1.2235276699066162])"
      ]
     },
     "metadata": {},
     "execution_count": 207
    }
   ],
   "metadata": {}
  },
  {
   "cell_type": "code",
   "execution_count": 232,
   "source": [
    "premise = \"Lets not discriminate here.\"\n",
    "hypothesis = \"prejudice against muslims and whites\"\n",
    "predict_nli_label(premise,hypothesis, 'facebook/bart-large-mnli')"
   ],
   "outputs": [
    {
     "output_type": "execute_result",
     "data": {
      "text/plain": [
       "('entailment', [0.261341392993927, 2.901933193206787, -2.2467544078826904])"
      ]
     },
     "metadata": {},
     "execution_count": 232
    }
   ],
   "metadata": {}
  },
  {
   "cell_type": "code",
   "execution_count": 212,
   "source": [
    "premise = \"We also allow Muslim terrorists to walk around and drive around armed.\"\n",
    "hypothesis = \"prejudice against muslims and whites\"\n",
    "predict_nli_label(premise,hypothesis, 'facebook/bart-large-mnli')"
   ],
   "outputs": [
    {
     "output_type": "execute_result",
     "data": {
      "text/plain": [
       "('entailment', [-0.41969287395477295, 2.004979133605957, -0.7019047141075134])"
      ]
     },
     "metadata": {},
     "execution_count": 212
    }
   ],
   "metadata": {}
  },
  {
   "cell_type": "code",
   "execution_count": 221,
   "source": [
    "premise = \"How else would they arrive at the location theyve chosen prepared for their murderous deeds?\"\n",
    "hypothesis = \"prejudice against muslims and whites\"\n",
    "predict_nli_label(premise,hypothesis, 'facebook/bart-large-mnli')"
   ],
   "outputs": [
    {
     "output_type": "execute_result",
     "data": {
      "text/plain": [
       "('entailment', [-0.9712803363800049, 3.7575583457946777, -1.217695951461792])"
      ]
     },
     "metadata": {},
     "execution_count": 221
    }
   ],
   "metadata": {}
  },
  {
   "cell_type": "markdown",
   "source": [
    "## Issues with bart model"
   ],
   "metadata": {}
  },
  {
   "cell_type": "markdown",
   "source": [
    "Example 1"
   ],
   "metadata": {}
  },
  {
   "cell_type": "code",
   "execution_count": 57,
   "source": [
    "premise = \"The teenager, who cannot be named for legal reasons, also admitted five terror offences, police said.\"\n",
    "hypothesis = \"Prejudice or bias against muslims\"\n",
    "predict_nli_label(premise,hypothesis, 'facebook/bart-large-mnli')"
   ],
   "outputs": [
    {
     "output_type": "execute_result",
     "data": {
      "text/plain": [
       "('entailment', [0.29532966017723083, 1.6984502077102661, -1.1082813739776611])"
      ]
     },
     "metadata": {},
     "execution_count": 57
    }
   ],
   "metadata": {}
  },
  {
   "cell_type": "code",
   "execution_count": 61,
   "source": [
    "premise = \"The teenager, who cannot be named for legal reasons, also admitted five car offences, police said.\"\n",
    "hypothesis = \"Prejudice or bias against muslims\"\n",
    "predict_nli_label(premise,hypothesis, 'facebook/bart-large-mnli')"
   ],
   "outputs": [
    {
     "output_type": "execute_result",
     "data": {
      "text/plain": [
       "('entailment', [-0.5969671010971069, 3.142813205718994, -1.6399071216583252])"
      ]
     },
     "metadata": {},
     "execution_count": 61
    }
   ],
   "metadata": {}
  },
  {
   "cell_type": "code",
   "execution_count": 84,
   "source": [
    "premise = \"The teenager who cannot be named also admitted to being tired while driving.\"\n",
    "hypothesis = \"Prejudice in favour of greeks\"\n",
    "predict_nli_label(premise,hypothesis, 'facebook/bart-large-mnli')"
   ],
   "outputs": [
    {
     "output_type": "execute_result",
     "data": {
      "text/plain": [
       "('entailment', [0.3095209300518036, 1.4472826719284058, -1.3026847839355469])"
      ]
     },
     "metadata": {},
     "execution_count": 84
    }
   ],
   "metadata": {}
  },
  {
   "cell_type": "code",
   "execution_count": 83,
   "source": [
    "premise = \"The teenager, who cannot be named for legal reasons, also admitted five terror offences, police said.\"\n",
    "hypothesis = \"The police was arresting a teenager\"\n",
    "predict_nli_label(premise,hypothesis, 'cross-encoder/nli-deberta-base')"
   ],
   "outputs": [
    {
     "output_type": "execute_result",
     "data": {
      "text/plain": [
       "('contradiction',\n",
       " [1.0923528671264648, -1.7041794061660767, 0.4700973629951477])"
      ]
     },
     "metadata": {},
     "execution_count": 83
    }
   ],
   "metadata": {}
  },
  {
   "cell_type": "markdown",
   "source": [
    "Example 2"
   ],
   "metadata": {}
  },
  {
   "cell_type": "code",
   "execution_count": 98,
   "source": [
    "premise = \"Russian terrorists once again confirm their status of fighters against everything humane and honest\"\n",
    "hypothesis = \"Prejudice or bias against Russians\"\n",
    "predict_nli_label(premise,hypothesis, 'facebook/bart-large-mnli')"
   ],
   "outputs": [
    {
     "output_type": "execute_result",
     "data": {
      "text/plain": [
       "('neutral', [-1.5309932231903076, 2.1342973709106445, -0.1567661166191101])"
      ]
     },
     "metadata": {},
     "execution_count": 98
    }
   ],
   "metadata": {}
  },
  {
   "cell_type": "code",
   "execution_count": 90,
   "source": [
    "premise = \"Russian terrorists once again confirm their status of fighters against everything humane and honest\"\n",
    "hypothesis = \"Prejudice or bias against whites and muslims\"\n",
    "predict_nli_label(premise,hypothesis, 'facebook/bart-large-mnli')"
   ],
   "outputs": [
    {
     "output_type": "execute_result",
     "data": {
      "text/plain": [
       "('neutral', [-0.3534943759441376, 2.0039029121398926, -0.6138737201690674])"
      ]
     },
     "metadata": {},
     "execution_count": 90
    }
   ],
   "metadata": {}
  },
  {
   "cell_type": "code",
   "execution_count": 91,
   "source": [
    "premise = \"Russian terrorists once again confirm their status of fighters against everything humane and honest\"\n",
    "hypothesis = \"Russians are viewed negatively\"\n",
    "predict_nli_label(premise,hypothesis, 'facebook/bart-large-mnli')"
   ],
   "outputs": [
    {
     "output_type": "execute_result",
     "data": {
      "text/plain": [
       "('neutral', [-2.3883211612701416, 1.6014249324798584, 0.37197765707969666])"
      ]
     },
     "metadata": {},
     "execution_count": 91
    }
   ],
   "metadata": {}
  },
  {
   "cell_type": "code",
   "execution_count": 94,
   "source": [
    "premise = \"Russian terrorists once again confirm their status of fighters against everything humane and honest\"\n",
    "hypothesis = \"Prejudice or bias against Russians\"\n",
    "predict_nli_label(premise,hypothesis)"
   ],
   "outputs": [
    {
     "output_type": "execute_result",
     "data": {
      "text/plain": [
       "('entailment', [-1.6040250062942505, -0.31898173689842224, 1.5850768089294434])"
      ]
     },
     "metadata": {},
     "execution_count": 94
    }
   ],
   "metadata": {}
  },
  {
   "cell_type": "code",
   "execution_count": 95,
   "source": [
    "premise = \"Russian terrorists once again confirm their status of fighters against everything humane and honest\"\n",
    "hypothesis = \"Prejudice or bias against whites and muslims\"\n",
    "predict_nli_label(premise,hypothesis)"
   ],
   "outputs": [
    {
     "output_type": "execute_result",
     "data": {
      "text/plain": [
       "('entailment', [-0.6857920289039612, -1.9471826553344727, 2.2474167346954346])"
      ]
     },
     "metadata": {},
     "execution_count": 95
    }
   ],
   "metadata": {}
  },
  {
   "cell_type": "code",
   "execution_count": 96,
   "source": [
    "premise = \"Russian terrorists once again confirm their status of fighters against everything humane and honest\"\n",
    "hypothesis = \"Russians are viewed negatively\"\n",
    "predict_nli_label(premise,hypothesis)"
   ],
   "outputs": [
    {
     "output_type": "execute_result",
     "data": {
      "text/plain": [
       "('entailment', [-2.053891658782959, 0.6989030241966248, 0.949586808681488])"
      ]
     },
     "metadata": {},
     "execution_count": 96
    }
   ],
   "metadata": {}
  },
  {
   "cell_type": "code",
   "execution_count": null,
   "source": [],
   "outputs": [],
   "metadata": {}
  }
 ],
 "metadata": {
  "interpreter": {
   "hash": "aee8b7b246df8f9039afb4144a1f6fd8d2ca17a180786b69acc140d282b71a49"
  },
  "kernelspec": {
   "name": "python3",
   "display_name": "Python 3.9.12 64-bit"
  },
  "language_info": {
   "codemirror_mode": {
    "name": "ipython",
    "version": 3
   },
   "file_extension": ".py",
   "mimetype": "text/x-python",
   "name": "python",
   "nbconvert_exporter": "python",
   "pygments_lexer": "ipython3",
   "version": "3.9.12"
  }
 },
 "nbformat": 4,
 "nbformat_minor": 5
}