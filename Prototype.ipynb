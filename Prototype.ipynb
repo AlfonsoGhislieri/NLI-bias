{
 "cells": [
  {
   "cell_type": "code",
   "execution_count": 4,
   "source": [
    "import pandas as pd\n",
    "import jsonlines\n",
    "import numpy as np\n",
    "\n",
    "pd.set_option('display.max_columns', None)  # Display all columns\n",
    "pd.set_option('display.max_rows', None)  # Display all rows\n",
    "pd.set_option('display.max_colwidth', 500)  # Display full text in columns\n"
   ],
   "outputs": [],
   "metadata": {}
  },
  {
   "cell_type": "markdown",
   "source": [
    "## Datasets"
   ],
   "metadata": {}
  },
  {
   "cell_type": "code",
   "execution_count": 5,
   "source": [
    "# Analyzing Political Bias and Unfairness in News Articles at Different Levels of Granularity\n",
    "# Political Ideology and Polarization: A Multi-dimensional Approach\n",
    "\n",
    "import json\n",
    "\n",
    "with open(\"data/released_data.json\", \"r\") as file:\n",
    "    j_string = file.readline()\n",
    "    jsons = []\n",
    "    while j_string:\n",
    "        data = json.loads(j_string)\n",
    "        jsons.append(data)\n",
    "        j_string = file.readline()\n",
    "        \n",
    "df = pd.DataFrame(jsons)\n",
    "\n",
    "df_right_bias = df.loc[(df['allsides_bias'] == 'From the Right') & (df['adfontes_political'] == 'bias') & (df['adfontes_fair'] == 'bias')] \n",
    "\n",
    "df_left_bias = df.loc[(df['allsides_bias'] == 'From the Left') & (df['adfontes_political'] == 'bias') & (df['adfontes_fair'] == 'bias')] \n",
    "\n",
    "df.tail(6)\n"
   ],
   "outputs": [
    {
     "output_type": "execute_result",
     "data": {
      "text/html": [
       "<div>\n",
       "<style scoped>\n",
       "    .dataframe tbody tr th:only-of-type {\n",
       "        vertical-align: middle;\n",
       "    }\n",
       "\n",
       "    .dataframe tbody tr th {\n",
       "        vertical-align: top;\n",
       "    }\n",
       "\n",
       "    .dataframe thead th {\n",
       "        text-align: right;\n",
       "    }\n",
       "</style>\n",
       "<table border=\"1\" class=\"dataframe\">\n",
       "  <thead>\n",
       "    <tr style=\"text-align: right;\">\n",
       "      <th></th>\n",
       "      <th>source</th>\n",
       "      <th>title</th>\n",
       "      <th>event_id</th>\n",
       "      <th>adfontes_fair</th>\n",
       "      <th>adfontes_political</th>\n",
       "      <th>allsides_bias</th>\n",
       "      <th>content</th>\n",
       "      <th>misc</th>\n",
       "    </tr>\n",
       "  </thead>\n",
       "  <tbody>\n",
       "    <tr>\n",
       "      <th>7769</th>\n",
       "      <td>Washington Times</td>\n",
       "      <td>PICKET: RNC's Priebus hits back at MSNBC's Matthews - 'He wants to be the biggest jerk in the room'</td>\n",
       "      <td>0</td>\n",
       "      <td>bias</td>\n",
       "      <td>neutral</td>\n",
       "      <td>From the Right</td>\n",
       "      <td>*UPDATE 8/29/12 - MSNBC’s Chris Matthews Responded to Chairman Priebus:\\n“Nobody’s asked me to apologize,” said MSNBC’s Chris Matthews. “I was telling the truth…those ads are aimed at racial purpose,” he later added.</td>\n",
       "      <td>{'time': 'None', 'topics': 'Election: Presidential', 'author': ['Kerry Picket']}</td>\n",
       "    </tr>\n",
       "    <tr>\n",
       "      <th>7770</th>\n",
       "      <td>Politico</td>\n",
       "      <td>Ann Romney's task: Humanize Mitt</td>\n",
       "      <td>0</td>\n",
       "      <td>bias</td>\n",
       "      <td>neutral</td>\n",
       "      <td>From the Left</td>\n",
       "      <td>TAMPA, Fla. — Ann Romney will take to the podium here Tuesday night and try to accomplish what the sharpest minds in Republican politics have failed to do: present her stiff and awkward husband as a likable guy.\\nHer speech is considered second in importance only to Mitt Romney’s and will set the tone for the week as the Republican Party presents its case for turning President Barack Obama out of office.\\nStory Continued Below\\nConvention and campaign officials see Ann Romney as the only per...</td>\n",
       "      <td>{'time': '2012-08-28 04:59:14', 'topics': 'Election: Presidential', 'author': ['LOIS ROMANO', 'Frida Ghitis', 'John A. Farrell', 'Jeff Greenfield', 'Cliff Sims']}</td>\n",
       "    </tr>\n",
       "    <tr>\n",
       "      <th>7771</th>\n",
       "      <td>Washington Times</td>\n",
       "      <td>'Mittigator' to make case for Romney</td>\n",
       "      <td>0</td>\n",
       "      <td>bias</td>\n",
       "      <td>neutral</td>\n",
       "      <td>From the Right</td>\n",
       "      <td>She is a gracious warrior with a kind face, a polished demeanor and the inner mettle of a survivor. Ann Romney has been called the secret weapon of her husband’s campaign, and he adores her: When Mitt Romney strides to the podium to introduce his wife of 43 years, he calls her “sweetheart.” She smiles. The crowd goes crazy.\\nAnd why shouldn’t they? Though the Romneys could emerge as the nation’s No. 1 power couple, there is a certain authenticity about them, built over decades around family ...</td>\n",
       "      <td>{'time': 'None', 'topics': 'Election: Presidential', 'author': ['Jennifer Harper']}</td>\n",
       "    </tr>\n",
       "    <tr>\n",
       "      <th>7772</th>\n",
       "      <td>Fox News</td>\n",
       "      <td>Convention-bound Ryan slams Obama for presiding over 'debt, doubt and decline'</td>\n",
       "      <td>0</td>\n",
       "      <td>bias</td>\n",
       "      <td>bias</td>\n",
       "      <td>From the Right</td>\n",
       "      <td>Republican VP pick on 'Special Report'\\nMaking one last stop in his hometown before flying to Tampa for the official nomination to the Republican ticket, vice presidential pick Paul Ryan slammed the current White House for putting the nation down a road of \"debt, doubt and decline.\"\\nIn an interview with Fox News&amp;apos Bret Baier, Ryan teed up his speech at the Republican National Convention by stressing that the weather-delayed event will nevertheless provide a critical opportunity to draw a...</td>\n",
       "      <td>{'time': '2012-08-27 00:00:00', 'topics': 'Election: Presidential', 'author': ['| Fox News']}</td>\n",
       "    </tr>\n",
       "    <tr>\n",
       "      <th>7773</th>\n",
       "      <td>Politico</td>\n",
       "      <td>Ryan seeks comfort of Ron Paul fans</td>\n",
       "      <td>0</td>\n",
       "      <td>bias</td>\n",
       "      <td>neutral</td>\n",
       "      <td>From the Left</td>\n",
       "      <td>Paul Ryan said Monday he expects Ron Paul supporters will come around to the Republican ticket and “should be very comfortable with us.”\\nRyan told Fox News that he and Paul “see eye to eye on a lot of issues,” adding that he doesn’t feel there is any tension with Paul — who held his own rally in Tampa on Sunday and did not endorse Romney — or the Texas congressman’s supporters.\\nStory Continued Below\\n“So I think, in the final analysis, Ron is clearly going to — he and his supporters should...</td>\n",
       "      <td>{'time': '2012-08-27 15:52:45', 'topics': 'Election: Presidential', 'author': ['MACKENZIE WEINGER', 'Frida Ghitis', 'John A. Farrell', 'Jeff Greenfield', 'Cliff Sims']}</td>\n",
       "    </tr>\n",
       "    <tr>\n",
       "      <th>7774</th>\n",
       "      <td>CNN (Web News)</td>\n",
       "      <td>Paul to supporters: 2012 the start of a new era</td>\n",
       "      <td>0</td>\n",
       "      <td>bias</td>\n",
       "      <td>neutral</td>\n",
       "      <td>From the Left</td>\n",
       "      <td>Tampa, Florida (CNN) \\- As Rep. Ron Paul's third presidential bid is set to come to its formal end at the Republican National Convention, Paul sought to rally his loyal supporters with talk of a new era in American history.\\n\"I'm convinced that we're living at the end of an era,\" Paul told the crowd at a rally in honor of him and his libertarian political movement. \"The end of an era provides an opportunity,\" Paul added before laying out his view that an era in American government, foreign p...</td>\n",
       "      <td>{'time': '2012-08-26 00:00:00', 'topics': 'Election: Presidential', 'author': ['CNN Political Producer Martina Stewart']}</td>\n",
       "    </tr>\n",
       "  </tbody>\n",
       "</table>\n",
       "</div>"
      ],
      "text/plain": [
       "                source  \\\n",
       "7769  Washington Times   \n",
       "7770          Politico   \n",
       "7771  Washington Times   \n",
       "7772          Fox News   \n",
       "7773          Politico   \n",
       "7774    CNN (Web News)   \n",
       "\n",
       "                                                                                                    title  \\\n",
       "7769  PICKET: RNC's Priebus hits back at MSNBC's Matthews - 'He wants to be the biggest jerk in the room'   \n",
       "7770                                                                     Ann Romney's task: Humanize Mitt   \n",
       "7771                                                                 'Mittigator' to make case for Romney   \n",
       "7772                       Convention-bound Ryan slams Obama for presiding over 'debt, doubt and decline'   \n",
       "7773                                                                  Ryan seeks comfort of Ron Paul fans   \n",
       "7774                                                      Paul to supporters: 2012 the start of a new era   \n",
       "\n",
       "      event_id adfontes_fair adfontes_political   allsides_bias  \\\n",
       "7769         0          bias            neutral  From the Right   \n",
       "7770         0          bias            neutral   From the Left   \n",
       "7771         0          bias            neutral  From the Right   \n",
       "7772         0          bias               bias  From the Right   \n",
       "7773         0          bias            neutral   From the Left   \n",
       "7774         0          bias            neutral   From the Left   \n",
       "\n",
       "                                                                                                                                                                                                                                                                                                                                                                                                                                                                                                                  content  \\\n",
       "7769                                                                                                                                                                                                                                                                                             *UPDATE 8/29/12 - MSNBC’s Chris Matthews Responded to Chairman Priebus:\\n“Nobody’s asked me to apologize,” said MSNBC’s Chris Matthews. “I was telling the truth…those ads are aimed at racial purpose,” he later added.   \n",
       "7770  TAMPA, Fla. — Ann Romney will take to the podium here Tuesday night and try to accomplish what the sharpest minds in Republican politics have failed to do: present her stiff and awkward husband as a likable guy.\\nHer speech is considered second in importance only to Mitt Romney’s and will set the tone for the week as the Republican Party presents its case for turning President Barack Obama out of office.\\nStory Continued Below\\nConvention and campaign officials see Ann Romney as the only per...   \n",
       "7771  She is a gracious warrior with a kind face, a polished demeanor and the inner mettle of a survivor. Ann Romney has been called the secret weapon of her husband’s campaign, and he adores her: When Mitt Romney strides to the podium to introduce his wife of 43 years, he calls her “sweetheart.” She smiles. The crowd goes crazy.\\nAnd why shouldn’t they? Though the Romneys could emerge as the nation’s No. 1 power couple, there is a certain authenticity about them, built over decades around family ...   \n",
       "7772  Republican VP pick on 'Special Report'\\nMaking one last stop in his hometown before flying to Tampa for the official nomination to the Republican ticket, vice presidential pick Paul Ryan slammed the current White House for putting the nation down a road of \"debt, doubt and decline.\"\\nIn an interview with Fox News&apos Bret Baier, Ryan teed up his speech at the Republican National Convention by stressing that the weather-delayed event will nevertheless provide a critical opportunity to draw a...   \n",
       "7773  Paul Ryan said Monday he expects Ron Paul supporters will come around to the Republican ticket and “should be very comfortable with us.”\\nRyan told Fox News that he and Paul “see eye to eye on a lot of issues,” adding that he doesn’t feel there is any tension with Paul — who held his own rally in Tampa on Sunday and did not endorse Romney — or the Texas congressman’s supporters.\\nStory Continued Below\\n“So I think, in the final analysis, Ron is clearly going to — he and his supporters should...   \n",
       "7774  Tampa, Florida (CNN) \\- As Rep. Ron Paul's third presidential bid is set to come to its formal end at the Republican National Convention, Paul sought to rally his loyal supporters with talk of a new era in American history.\\n\"I'm convinced that we're living at the end of an era,\" Paul told the crowd at a rally in honor of him and his libertarian political movement. \"The end of an era provides an opportunity,\" Paul added before laying out his view that an era in American government, foreign p...   \n",
       "\n",
       "                                                                                                                                                                          misc  \n",
       "7769                                                                                          {'time': 'None', 'topics': 'Election: Presidential', 'author': ['Kerry Picket']}  \n",
       "7770        {'time': '2012-08-28 04:59:14', 'topics': 'Election: Presidential', 'author': ['LOIS ROMANO', 'Frida Ghitis', 'John A. Farrell', 'Jeff Greenfield', 'Cliff Sims']}  \n",
       "7771                                                                                       {'time': 'None', 'topics': 'Election: Presidential', 'author': ['Jennifer Harper']}  \n",
       "7772                                                                             {'time': '2012-08-27 00:00:00', 'topics': 'Election: Presidential', 'author': ['| Fox News']}  \n",
       "7773  {'time': '2012-08-27 15:52:45', 'topics': 'Election: Presidential', 'author': ['MACKENZIE WEINGER', 'Frida Ghitis', 'John A. Farrell', 'Jeff Greenfield', 'Cliff Sims']}  \n",
       "7774                                                 {'time': '2012-08-26 00:00:00', 'topics': 'Election: Presidential', 'author': ['CNN Political Producer Martina Stewart']}  "
      ]
     },
     "metadata": {},
     "execution_count": 5
    }
   ],
   "metadata": {}
  },
  {
   "cell_type": "code",
   "execution_count": 6,
   "source": [
    "df_right_bias.sample(3)"
   ],
   "outputs": [
    {
     "output_type": "execute_result",
     "data": {
      "text/html": [
       "<div>\n",
       "<style scoped>\n",
       "    .dataframe tbody tr th:only-of-type {\n",
       "        vertical-align: middle;\n",
       "    }\n",
       "\n",
       "    .dataframe tbody tr th {\n",
       "        vertical-align: top;\n",
       "    }\n",
       "\n",
       "    .dataframe thead th {\n",
       "        text-align: right;\n",
       "    }\n",
       "</style>\n",
       "<table border=\"1\" class=\"dataframe\">\n",
       "  <thead>\n",
       "    <tr style=\"text-align: right;\">\n",
       "      <th></th>\n",
       "      <th>source</th>\n",
       "      <th>title</th>\n",
       "      <th>event_id</th>\n",
       "      <th>adfontes_fair</th>\n",
       "      <th>adfontes_political</th>\n",
       "      <th>allsides_bias</th>\n",
       "      <th>content</th>\n",
       "      <th>misc</th>\n",
       "    </tr>\n",
       "  </thead>\n",
       "  <tbody>\n",
       "    <tr>\n",
       "      <th>4804</th>\n",
       "      <td>Fox News</td>\n",
       "      <td>Security Expert: My Fear is That More Churches Will be Targeted</td>\n",
       "      <td>0</td>\n",
       "      <td>bias</td>\n",
       "      <td>bias</td>\n",
       "      <td>From the Right</td>\n",
       "      <td>South Carolina governor delivers emotional statement after Charleston church massacre\\nThe gunman walked into the church sanctuary and opened fire.\\nHe showed no mercy – firing more than 100 rounds and exploding a pipe bomb in the balcony. There was nowhere to hide from the carnage.\\nClick here to follow Todd on Facebook for conservative conversation!\\nSeven people died that night. Seven others were wounded.\\nIt was Sept. 15, 1999 – the day a madman slaughtered Christians inside Wedgwood Bap...</td>\n",
       "      <td>{'time': '2015-06-18 00:00:00', 'topics': 'Violence in America', 'author': ['Todd Starnes', '| Fox News']}</td>\n",
       "    </tr>\n",
       "    <tr>\n",
       "      <th>4321</th>\n",
       "      <td>Fox News</td>\n",
       "      <td>Turnout is name of the game in Iowa caucuses</td>\n",
       "      <td>0</td>\n",
       "      <td>bias</td>\n",
       "      <td>bias</td>\n",
       "      <td>From the Right</td>\n",
       "      <td>The 2016 presidential contenders are begging their Iowa supporters to get to the caucuses Monday and Donald Trump, true to form, is in-your-face about it.\\n\"You&amp;aposre from Iowa,\" Trump told a Dubuque crowd Saturday. \"Are you afraid of snow?\"\\nA snowfall forecast to start Monday night appeared more likely to hinder the hopefuls in their rush out of Iowa than the voters who will be flocking to the caucuses in the first contest of the presidential campaign.\\nStill, there was every reason for c...</td>\n",
       "      <td>{'time': '2016-01-31 00:00:00', 'topics': 'Election: Presidential', 'author': ['| Associated Press']}</td>\n",
       "    </tr>\n",
       "    <tr>\n",
       "      <th>4037</th>\n",
       "      <td>Newsmax</td>\n",
       "      <td>Ted Cruz Desperately Seeks to Stop Donald Trump in Indiana</td>\n",
       "      <td>0</td>\n",
       "      <td>bias</td>\n",
       "      <td>bias</td>\n",
       "      <td>From the Right</td>\n",
       "      <td>Republican Ted Cruz faces a high-stakes test for his slumping presidential campaign in Tuesday's Indiana primary, one of the last opportunities for the Texas senator to halt Donald Trump's stunning march toward the GOP nomination. Cruz has spent the past week camped out in Indiana, securing the support of the state's governor and announcing retired technology executive Carly Fiorina as his running mate. Yet his aides were pessimistic heading into Tuesday's voting and were prepared for Cruz t...</td>\n",
       "      <td>{'time': '2016-05-03 06:42:00', 'topics': 'Election: Presidential', 'author': ['JULIE PACE and SCOTT BAUER']}</td>\n",
       "    </tr>\n",
       "  </tbody>\n",
       "</table>\n",
       "</div>"
      ],
      "text/plain": [
       "        source  \\\n",
       "4804  Fox News   \n",
       "4321  Fox News   \n",
       "4037   Newsmax   \n",
       "\n",
       "                                                                title  \\\n",
       "4804  Security Expert: My Fear is That More Churches Will be Targeted   \n",
       "4321                     Turnout is name of the game in Iowa caucuses   \n",
       "4037       Ted Cruz Desperately Seeks to Stop Donald Trump in Indiana   \n",
       "\n",
       "      event_id adfontes_fair adfontes_political   allsides_bias  \\\n",
       "4804         0          bias               bias  From the Right   \n",
       "4321         0          bias               bias  From the Right   \n",
       "4037         0          bias               bias  From the Right   \n",
       "\n",
       "                                                                                                                                                                                                                                                                                                                                                                                                                                                                                                                  content  \\\n",
       "4804  South Carolina governor delivers emotional statement after Charleston church massacre\\nThe gunman walked into the church sanctuary and opened fire.\\nHe showed no mercy – firing more than 100 rounds and exploding a pipe bomb in the balcony. There was nowhere to hide from the carnage.\\nClick here to follow Todd on Facebook for conservative conversation!\\nSeven people died that night. Seven others were wounded.\\nIt was Sept. 15, 1999 – the day a madman slaughtered Christians inside Wedgwood Bap...   \n",
       "4321  The 2016 presidential contenders are begging their Iowa supporters to get to the caucuses Monday and Donald Trump, true to form, is in-your-face about it.\\n\"You&aposre from Iowa,\" Trump told a Dubuque crowd Saturday. \"Are you afraid of snow?\"\\nA snowfall forecast to start Monday night appeared more likely to hinder the hopefuls in their rush out of Iowa than the voters who will be flocking to the caucuses in the first contest of the presidential campaign.\\nStill, there was every reason for c...   \n",
       "4037  Republican Ted Cruz faces a high-stakes test for his slumping presidential campaign in Tuesday's Indiana primary, one of the last opportunities for the Texas senator to halt Donald Trump's stunning march toward the GOP nomination. Cruz has spent the past week camped out in Indiana, securing the support of the state's governor and announcing retired technology executive Carly Fiorina as his running mate. Yet his aides were pessimistic heading into Tuesday's voting and were prepared for Cruz t...   \n",
       "\n",
       "                                                                                                               misc  \n",
       "4804     {'time': '2015-06-18 00:00:00', 'topics': 'Violence in America', 'author': ['Todd Starnes', '| Fox News']}  \n",
       "4321          {'time': '2016-01-31 00:00:00', 'topics': 'Election: Presidential', 'author': ['| Associated Press']}  \n",
       "4037  {'time': '2016-05-03 06:42:00', 'topics': 'Election: Presidential', 'author': ['JULIE PACE and SCOTT BAUER']}  "
      ]
     },
     "metadata": {},
     "execution_count": 6
    }
   ],
   "metadata": {}
  },
  {
   "cell_type": "code",
   "execution_count": 7,
   "source": [
    "csv_file = \"data/toxicbias_train.csv\"\n",
    "df = pd.read_csv(csv_file)\n",
    "\n",
    "# Display the DataFrame\n",
    "df.sample(5)\n"
   ],
   "outputs": [
    {
     "output_type": "execute_result",
     "data": {
      "text/html": [
       "<div>\n",
       "<style scoped>\n",
       "    .dataframe tbody tr th:only-of-type {\n",
       "        vertical-align: middle;\n",
       "    }\n",
       "\n",
       "    .dataframe tbody tr th {\n",
       "        vertical-align: top;\n",
       "    }\n",
       "\n",
       "    .dataframe thead th {\n",
       "        text-align: right;\n",
       "    }\n",
       "</style>\n",
       "<table border=\"1\" class=\"dataframe\">\n",
       "  <thead>\n",
       "    <tr style=\"text-align: right;\">\n",
       "      <th></th>\n",
       "      <th>comment_text</th>\n",
       "      <th>identity_attack_x</th>\n",
       "      <th>bias</th>\n",
       "      <th>target</th>\n",
       "      <th>category</th>\n",
       "      <th>rationale</th>\n",
       "    </tr>\n",
       "  </thead>\n",
       "  <tbody>\n",
       "    <tr>\n",
       "      <th>2842</th>\n",
       "      <td>Also prohomophobic protraitorstoAmerica proNO HEALTHCARE promisogyny profascist dictators ...</td>\n",
       "      <td>0.2875</td>\n",
       "      <td>neutral</td>\n",
       "      <td>NaN</td>\n",
       "      <td>none</td>\n",
       "      <td>NaN</td>\n",
       "    </tr>\n",
       "    <tr>\n",
       "      <th>3142</th>\n",
       "      <td>If we should blame all Muslims for the acts of a few as many on the right feel we should be doing then yes we should blame all Christians for the actions of this one guy.</td>\n",
       "      <td>0.8000</td>\n",
       "      <td>neutral</td>\n",
       "      <td>NaN</td>\n",
       "      <td>none</td>\n",
       "      <td>NaN</td>\n",
       "    </tr>\n",
       "    <tr>\n",
       "      <th>4234</th>\n",
       "      <td>Christianity is the Religion of Love except for the part where Catholic and Protestant want to kill each other riight.</td>\n",
       "      <td>0.5125</td>\n",
       "      <td>bias</td>\n",
       "      <td>christians</td>\n",
       "      <td>religion</td>\n",
       "      <td>prejudice towards christians</td>\n",
       "    </tr>\n",
       "    <tr>\n",
       "      <th>4190</th>\n",
       "      <td>hipsters white people with dreadlocks credit card hippies and selfentitled selfrighteous over privileged idealistic white millenials.   if i were a minority a woman or gay these would be the absolute last people i would want taking up my cause or attempting to represent my interests andor frustrations.  but alas i am in fact the problem a thirtysomething white male the sole cause of every injustice ever perpetrated on anyone or anything since the damn of humankind.  and ive never been so ash...</td>\n",
       "      <td>0.8000</td>\n",
       "      <td>bias</td>\n",
       "      <td>whites</td>\n",
       "      <td>race</td>\n",
       "      <td>prejudice against whites</td>\n",
       "    </tr>\n",
       "    <tr>\n",
       "      <th>2602</th>\n",
       "      <td>Whites commit the majority of crime in the U.S. What do you think we should do about it?</td>\n",
       "      <td>0.5875</td>\n",
       "      <td>bias</td>\n",
       "      <td>whites</td>\n",
       "      <td>race</td>\n",
       "      <td>prejudice against whites</td>\n",
       "    </tr>\n",
       "  </tbody>\n",
       "</table>\n",
       "</div>"
      ],
      "text/plain": [
       "                                                                                                                                                                                                                                                                                                                                                                                                                                                                                                             comment_text  \\\n",
       "2842                                                                                                                                                                                                                                                                                                                                                                                                                        Also prohomophobic protraitorstoAmerica proNO HEALTHCARE promisogyny profascist dictators ...   \n",
       "3142                                                                                                                                                                                                                                                                                                                                           If we should blame all Muslims for the acts of a few as many on the right feel we should be doing then yes we should blame all Christians for the actions of this one guy.   \n",
       "4234                                                                                                                                                                                                                                                                                                                                                                                               Christianity is the Religion of Love except for the part where Catholic and Protestant want to kill each other riight.   \n",
       "4190  hipsters white people with dreadlocks credit card hippies and selfentitled selfrighteous over privileged idealistic white millenials.   if i were a minority a woman or gay these would be the absolute last people i would want taking up my cause or attempting to represent my interests andor frustrations.  but alas i am in fact the problem a thirtysomething white male the sole cause of every injustice ever perpetrated on anyone or anything since the damn of humankind.  and ive never been so ash...   \n",
       "2602                                                                                                                                                                                                                                                                                                                                                                                                                             Whites commit the majority of crime in the U.S. What do you think we should do about it?   \n",
       "\n",
       "      identity_attack_x     bias      target  category  \\\n",
       "2842             0.2875  neutral         NaN      none   \n",
       "3142             0.8000  neutral         NaN      none   \n",
       "4234             0.5125     bias  christians  religion   \n",
       "4190             0.8000     bias      whites      race   \n",
       "2602             0.5875     bias      whites      race   \n",
       "\n",
       "                         rationale  \n",
       "2842                           NaN  \n",
       "3142                           NaN  \n",
       "4234  prejudice towards christians  \n",
       "4190      prejudice against whites  \n",
       "2602      prejudice against whites  "
      ]
     },
     "metadata": {},
     "execution_count": 7
    }
   ],
   "metadata": {}
  },
  {
   "cell_type": "markdown",
   "source": [
    "## Model"
   ],
   "metadata": {}
  },
  {
   "cell_type": "code",
   "execution_count": 36,
   "source": [
    "from transformers import AutoTokenizer, AutoModelForSequenceClassification\n",
    "import torch\n",
    "\n",
    "def predict_nli_label(premise, hypothesis):\n",
    "    model = AutoModelForSequenceClassification.from_pretrained('cross-encoder/nli-deberta-base')\n",
    "    tokenizer = AutoTokenizer.from_pretrained('cross-encoder/nli-deberta-base')\n",
    "\n",
    "    features = tokenizer([premise], [hypothesis],  padding=True, truncation=True, return_tensors=\"pt\")\n",
    "\n",
    "    model.eval()\n",
    "    with torch.no_grad():\n",
    "        scores = model(**features).logits\n",
    "        label_mapping = ['contradiction', 'entailment', 'neutral']\n",
    "        labels = [label_mapping[score_max] for score_max in scores.argmax(dim=1)]\n",
    "\n",
    "    return labels[0], scores.tolist()[0] \n"
   ],
   "outputs": [],
   "metadata": {}
  },
  {
   "cell_type": "code",
   "execution_count": 9,
   "source": [
    "from transformers import pipeline\n",
    "\n",
    "classifier = pipeline(\"zero-shot-classification\", model='cross-encoder/nli-deberta-base')\n",
    "\n",
    "sent = \"Hey he hates Asians too Apparently successful minorities get under the loony lefts skin.\"\n",
    "candidate_labels = [\"Prejudice\", \"Wealth\", \"Income\"]\n",
    "res = classifier(sent, candidate_labels)\n",
    "print(res)"
   ],
   "outputs": [
    {
     "output_type": "stream",
     "name": "stdout",
     "text": [
      "{'sequence': 'Hey he hates Asians too Apparently successful minorities get under the loony lefts skin.', 'labels': ['Wealth', 'Prejudice', 'Income'], 'scores': [0.382228285074234, 0.3719187080860138, 0.245852991938591]}\n"
     ]
    }
   ],
   "metadata": {}
  },
  {
   "cell_type": "markdown",
   "source": [
    "## Test examples"
   ],
   "metadata": {}
  },
  {
   "cell_type": "code",
   "execution_count": 37,
   "source": [
    "premise = \"Hey he hates Asians too Apparently successful minorities get under the loony lefts skin.\"\n",
    "hypothesis = \"Prejudice towards individuals based on geographic location.\"\n",
    "\n",
    "predict_nli_label(premise,hypothesis)"
   ],
   "outputs": [
    {
     "output_type": "execute_result",
     "data": {
      "text/plain": [
       "('neutral', [-1.519162893295288, -0.20995476841926575, 1.3938082456588745])"
      ]
     },
     "metadata": {},
     "execution_count": 37
    }
   ],
   "metadata": {}
  },
  {
   "cell_type": "code",
   "execution_count": 34,
   "source": [
    "premise = \"Intolerant liberals here calling others intolerant. Liberalism is a mental disorder. The sooner we rub it out of Western culture the better.\"\n",
    "hypothesis = \"Dislike, hatred, or prejudice against a political group, in particular liberals.\"\n",
    "\n",
    "predict_nli_label(premise,hypothesis)"
   ],
   "outputs": [
    {
     "output_type": "execute_result",
     "data": {
      "text/plain": [
       "('entailment', [-3.1031978130340576, 1.9444491863250732, 0.7191958427429199])"
      ]
     },
     "metadata": {},
     "execution_count": 34
    }
   ],
   "metadata": {}
  },
  {
   "cell_type": "code",
   "execution_count": 35,
   "source": [
    "premise = \"Its bad enough we already have all these American sickos living in this country shooting up theatre schools churches malls etc. we dont have room for crazy muslims.\"\n",
    "hypothesis = \"Dislike, hatred or prejudice towards individuals of a race.\"\n",
    "\n",
    "predict_nli_label(premise,hypothesis)"
   ],
   "outputs": [
    {
     "output_type": "execute_result",
     "data": {
      "text/plain": [
       "('entailment', [-1.6237410306930542, 1.1280356645584106, 0.0267395731061697])"
      ]
     },
     "metadata": {},
     "execution_count": 35
    }
   ],
   "metadata": {}
  },
  {
   "cell_type": "code",
   "execution_count": 33,
   "source": [
    "premise = \"where is our vocal feral cat killing muslim to defend his fellow islamist? must be hiding under his blow up sheep.\"\n",
    "hypothesis = \"Dislike, hatred, or prejudice towards individuals who are muslim.\"\n",
    "\n",
    "predict_nli_label(premise,hypothesis)"
   ],
   "outputs": [
    {
     "output_type": "execute_result",
     "data": {
      "text/plain": [
       "('entailment', [-1.1952913999557495, 0.5450257062911987, 0.3316133916378021])"
      ]
     },
     "metadata": {},
     "execution_count": 33
    }
   ],
   "metadata": {}
  },
  {
   "cell_type": "code",
   "execution_count": 32,
   "source": [
    "premise = \"where is our vocal feral cat killing muslim to defend his fellow islamist? must be hiding under his blow up sheep.\"\n",
    "hypothesis = \"Love or positive feelings towards individuals who are muslim.\"\n",
    "predict_nli_label(premise,hypothesis)"
   ],
   "outputs": [
    {
     "output_type": "execute_result",
     "data": {
      "text/plain": [
       "('contradiction',\n",
       " [1.3223092555999756, -0.9107821583747864, -0.4003891348838806])"
      ]
     },
     "metadata": {},
     "execution_count": 32
    }
   ],
   "metadata": {}
  },
  {
   "cell_type": "code",
   "execution_count": 15,
   "source": [
    "premise1 = \"Islam frightens me when I think of my daughters future in an islamized Canada.\"\n",
    "premise2= \"This is not an irrational fear not a phobia when you look at whats happening in the world today.\"\n",
    "hypothesis = \"Dislike, hatred or prejudice towards individuals who are muslim.\"\n",
    "hypothesis_New = \"Negative feelings towards islam.\"\n",
    "\n",
    "predict_nli_label(premise1,hypothesis_New)\n",
    "predict_nli_label(premise2,hypothesis_New)"
   ],
   "outputs": [
    {
     "output_type": "stream",
     "name": "stdout",
     "text": [
      "tensor([[-1.5974,  1.0171,  0.1459]])\n",
      "['entailment']\n",
      "tensor([[ 0.4719, -2.0669,  1.2745]])\n",
      "['neutral']\n"
     ]
    }
   ],
   "metadata": {}
  },
  {
   "cell_type": "code",
   "execution_count": 16,
   "source": [
    "premise = \"Islam frightens me when I think of my daughters future in an islamized Canada. This is not an irrational fear not a phobia when you look at whats happening in the world today.\"\n",
    "hypothesis = \"Negative view of individuals who are muslim.\"\n",
    "\n",
    "predict_nli_label(premise,hypothesis)"
   ],
   "outputs": [
    {
     "output_type": "stream",
     "name": "stdout",
     "text": [
      "tensor([[ 1.1562, -1.3025,  0.0457]])\n",
      "['contradiction']\n"
     ]
    }
   ],
   "metadata": {}
  },
  {
   "cell_type": "code",
   "execution_count": 17,
   "source": [
    "premise = \"Islam frightens me when I think of my daughters future in an islamized Canada. This is not an irrational fear not a phobia when you look at whats happening in the world today.\"\n",
    "hypothesis = \"Fear of individuals who are protestant.\"\n",
    "\n",
    "predict_nli_label(premise,hypothesis)"
   ],
   "outputs": [
    {
     "output_type": "stream",
     "name": "stdout",
     "text": [
      "tensor([[-0.0936, -0.1933,  0.1388]])\n",
      "['neutral']\n"
     ]
    }
   ],
   "metadata": {}
  },
  {
   "cell_type": "code",
   "execution_count": 41,
   "source": [
    "premise = \"Great. Catholics are on the winning side and the country as a whole loses. Whats not to love? Make America hate again.\"\n",
    "hypothesis = \"Derogatory negative opinion against individuals\"\n",
    "\n",
    "predict_nli_label(premise,hypothesis)"
   ],
   "outputs": [
    {
     "output_type": "execute_result",
     "data": {
      "text/plain": [
       "('entailment', [-1.183259129524231, 0.4223703444004059, 0.39567989110946655])"
      ]
     },
     "metadata": {},
     "execution_count": 41
    }
   ],
   "metadata": {}
  },
  {
   "cell_type": "markdown",
   "source": [
    "## Initial testing \n",
    "\n",
    "Using exisiting rationale from dataset to see if model gives similar results"
   ],
   "metadata": {}
  },
  {
   "cell_type": "code",
   "execution_count": 40,
   "source": [
    "csv_file = \"data/toxicbias_train.csv\"\n",
    "df = pd.read_csv(csv_file)\n",
    "\n",
    "# Create empty lists to store the predicted labels and scores\n",
    "predicted_labels = []\n",
    "predicted_scores = []\n",
    "\n",
    "# Iterate over each row in the dataset\n",
    "for index, row in df.iterrows():\n",
    "    comment_text = row['comment_text']\n",
    "    rationale = row['rationale']\n",
    "\n",
    "    # Check if rationale is NaN\n",
    "    if pd.isna(rationale):\n",
    "        rationale = \"No bias or prejudice in the text.\"\n",
    "        \n",
    "    label, scores = predict_nli_label(comment_text, rationale)\n",
    "    \n",
    "    predicted_labels.append(label)\n",
    "    predicted_scores.append(scores)\n",
    "\n",
    "# Add the predicted labels and scores to the dataset\n",
    "df['predicted_label'] = predicted_labels\n",
    "df['predicted_scores'] = predicted_scores\n"
   ],
   "outputs": [],
   "metadata": {}
  },
  {
   "cell_type": "code",
   "execution_count": 44,
   "source": [
    "# save result to csv\n",
    "df.to_csv('results/output.csv', index=False)"
   ],
   "outputs": [],
   "metadata": {}
  },
  {
   "cell_type": "code",
   "execution_count": 45,
   "source": [
    "df.sample(10)"
   ],
   "outputs": [
    {
     "output_type": "execute_result",
     "data": {
      "text/html": [
       "<div>\n",
       "<style scoped>\n",
       "    .dataframe tbody tr th:only-of-type {\n",
       "        vertical-align: middle;\n",
       "    }\n",
       "\n",
       "    .dataframe tbody tr th {\n",
       "        vertical-align: top;\n",
       "    }\n",
       "\n",
       "    .dataframe thead th {\n",
       "        text-align: right;\n",
       "    }\n",
       "</style>\n",
       "<table border=\"1\" class=\"dataframe\">\n",
       "  <thead>\n",
       "    <tr style=\"text-align: right;\">\n",
       "      <th></th>\n",
       "      <th>comment_text</th>\n",
       "      <th>identity_attack_x</th>\n",
       "      <th>bias</th>\n",
       "      <th>target</th>\n",
       "      <th>category</th>\n",
       "      <th>rationale</th>\n",
       "      <th>predicted_label</th>\n",
       "      <th>predicted_scores</th>\n",
       "    </tr>\n",
       "  </thead>\n",
       "  <tbody>\n",
       "    <tr>\n",
       "      <th>2863</th>\n",
       "      <td>Yet these same groups look the other way when islam teaches it is O.K. to beat women to rape women for not dressing properly and allows the raping of non Islamic women  The hypocrisy is staggering</td>\n",
       "      <td>0.571429</td>\n",
       "      <td>bias</td>\n",
       "      <td>muslims</td>\n",
       "      <td>religion</td>\n",
       "      <td>prejudice against muslims</td>\n",
       "      <td>neutral</td>\n",
       "      <td>[-1.7085249423980713, -0.16685394942760468, 1.5042953491210938]</td>\n",
       "    </tr>\n",
       "    <tr>\n",
       "      <th>576</th>\n",
       "      <td>They should all be given long sentences and thrown in prison like they did during the crack epidemic but of course  that situation involved  a bunch o black and brown people so now its treatment sympathy and a public health emergency. You got to love America...that great Christian Nation. Unbelievable</td>\n",
       "      <td>0.500000</td>\n",
       "      <td>bias</td>\n",
       "      <td>blacks,christians</td>\n",
       "      <td>race,religion</td>\n",
       "      <td>prejudice against blacks and christians</td>\n",
       "      <td>contradiction</td>\n",
       "      <td>[0.5061009526252747, -1.0798803567886353, 0.41280320286750793]</td>\n",
       "    </tr>\n",
       "    <tr>\n",
       "      <th>1709</th>\n",
       "      <td>Thats disturbing that an atheist and presumably an agnostic could never be voted into office. And its also disturbing that religion or any of these categories automatically would have an affect on votes.</td>\n",
       "      <td>0.500000</td>\n",
       "      <td>bias</td>\n",
       "      <td>atheists</td>\n",
       "      <td>religion</td>\n",
       "      <td>prejudice against atheists</td>\n",
       "      <td>neutral</td>\n",
       "      <td>[-1.8708322048187256, -0.6543827652931213, 2.1548099517822266]</td>\n",
       "    </tr>\n",
       "    <tr>\n",
       "      <th>4039</th>\n",
       "      <td>these people were hired to work for the AMERICAN  people not refugee muslims   VOTE THEM OUT</td>\n",
       "      <td>0.800000</td>\n",
       "      <td>bias</td>\n",
       "      <td>muslims</td>\n",
       "      <td>religion</td>\n",
       "      <td>prejudice towards muslims</td>\n",
       "      <td>neutral</td>\n",
       "      <td>[-0.21673975884914398, -1.2978944778442383, 1.109818935394287]</td>\n",
       "    </tr>\n",
       "    <tr>\n",
       "      <th>729</th>\n",
       "      <td>Theres little difference between Muslim terrorists and Israeli terrorists.</td>\n",
       "      <td>0.800000</td>\n",
       "      <td>bias</td>\n",
       "      <td>muslims,israelis</td>\n",
       "      <td>religion,race</td>\n",
       "      <td>prejudice against muslims,israelis</td>\n",
       "      <td>contradiction</td>\n",
       "      <td>[2.2116761207580566, -1.6123117208480835, -0.6242567896842957]</td>\n",
       "    </tr>\n",
       "    <tr>\n",
       "      <th>2764</th>\n",
       "      <td>Bruddah Trump just got back from the Middle East where he was welcomed with open arms yet people like you and the media still trying to peg him as an antiMuslim racist. No can</td>\n",
       "      <td>0.257143</td>\n",
       "      <td>neutral</td>\n",
       "      <td>NaN</td>\n",
       "      <td>none</td>\n",
       "      <td>NaN</td>\n",
       "      <td>contradiction</td>\n",
       "      <td>[2.1651017665863037, -1.634959101676941, -0.541456937789917]</td>\n",
       "    </tr>\n",
       "    <tr>\n",
       "      <th>33</th>\n",
       "      <td>Being antiracist isnt racist. The right has tried to peddle that antiwhite nonsense for two generations now since the GOP adopted all the orphaned racist southerners abandoned by the Democrats. No one has said border control is racist. Youre engaging in whats known as equivocation.</td>\n",
       "      <td>0.500000</td>\n",
       "      <td>bias</td>\n",
       "      <td>whites</td>\n",
       "      <td>race</td>\n",
       "      <td>prejudice against whites</td>\n",
       "      <td>neutral</td>\n",
       "      <td>[-0.39023658633232117, -0.5655011534690857, 0.6482449173927307]</td>\n",
       "    </tr>\n",
       "    <tr>\n",
       "      <th>1573</th>\n",
       "      <td>Perhaps the women were black as well as Muslim. From the article: Portland police Sgt. Pete Simpson says the assailant on the train was ranting on many topics using hate speech or biased language and turned his focus on the women.</td>\n",
       "      <td>0.500000</td>\n",
       "      <td>bias</td>\n",
       "      <td>blacks,muslims</td>\n",
       "      <td>race,religion</td>\n",
       "      <td>prejudice against blacks and muslims</td>\n",
       "      <td>entailment</td>\n",
       "      <td>[-3.069397211074829, 1.6497869491577148, 0.8996347784996033]</td>\n",
       "    </tr>\n",
       "    <tr>\n",
       "      <th>1314</th>\n",
       "      <td>Wah wah wah go paint yourself a sign and walk around in a circle with the other morons. I just got back from a gay wedding and smoked a huge bowl of the weed I grew. You are a narrow minded lefty who hasnt got a clue.</td>\n",
       "      <td>0.274194</td>\n",
       "      <td>neutral</td>\n",
       "      <td>NaN</td>\n",
       "      <td>none</td>\n",
       "      <td>NaN</td>\n",
       "      <td>contradiction</td>\n",
       "      <td>[2.466484546661377, -2.1830663681030273, -0.3328106701374054]</td>\n",
       "    </tr>\n",
       "    <tr>\n",
       "      <th>4129</th>\n",
       "      <td>go peddle your white mans guilt elsewhere.</td>\n",
       "      <td>0.525000</td>\n",
       "      <td>bias</td>\n",
       "      <td>whites,men</td>\n",
       "      <td>race,gender</td>\n",
       "      <td>prejudice towards white men</td>\n",
       "      <td>entailment</td>\n",
       "      <td>[-1.1454640626907349, 0.5496312975883484, 0.2691248953342438]</td>\n",
       "    </tr>\n",
       "  </tbody>\n",
       "</table>\n",
       "</div>"
      ],
      "text/plain": [
       "                                                                                                                                                                                                                                                                                                        comment_text  \\\n",
       "2863                                                                                                            Yet these same groups look the other way when islam teaches it is O.K. to beat women to rape women for not dressing properly and allows the raping of non Islamic women  The hypocrisy is staggering   \n",
       "576   They should all be given long sentences and thrown in prison like they did during the crack epidemic but of course  that situation involved  a bunch o black and brown people so now its treatment sympathy and a public health emergency. You got to love America...that great Christian Nation. Unbelievable   \n",
       "1709                                                                                                     Thats disturbing that an atheist and presumably an agnostic could never be voted into office. And its also disturbing that religion or any of these categories automatically would have an affect on votes.   \n",
       "4039                                                                                                                                                                                                                    these people were hired to work for the AMERICAN  people not refugee muslims   VOTE THEM OUT   \n",
       "729                                                                                                                                                                                                                                       Theres little difference between Muslim terrorists and Israeli terrorists.   \n",
       "2764                                                                                                                                 Bruddah Trump just got back from the Middle East where he was welcomed with open arms yet people like you and the media still trying to peg him as an antiMuslim racist. No can   \n",
       "33                        Being antiracist isnt racist. The right has tried to peddle that antiwhite nonsense for two generations now since the GOP adopted all the orphaned racist southerners abandoned by the Democrats. No one has said border control is racist. Youre engaging in whats known as equivocation.   \n",
       "1573                                                                          Perhaps the women were black as well as Muslim. From the article: Portland police Sgt. Pete Simpson says the assailant on the train was ranting on many topics using hate speech or biased language and turned his focus on the women.   \n",
       "1314                                                                                       Wah wah wah go paint yourself a sign and walk around in a circle with the other morons. I just got back from a gay wedding and smoked a huge bowl of the weed I grew. You are a narrow minded lefty who hasnt got a clue.   \n",
       "4129                                                                                                                                                                                                                                                                      go peddle your white mans guilt elsewhere.   \n",
       "\n",
       "      identity_attack_x     bias             target       category  \\\n",
       "2863           0.571429     bias            muslims       religion   \n",
       "576            0.500000     bias  blacks,christians  race,religion   \n",
       "1709           0.500000     bias           atheists       religion   \n",
       "4039           0.800000     bias            muslims       religion   \n",
       "729            0.800000     bias   muslims,israelis  religion,race   \n",
       "2764           0.257143  neutral                NaN           none   \n",
       "33             0.500000     bias             whites           race   \n",
       "1573           0.500000     bias     blacks,muslims  race,religion   \n",
       "1314           0.274194  neutral                NaN           none   \n",
       "4129           0.525000     bias         whites,men    race,gender   \n",
       "\n",
       "                                    rationale predicted_label  \\\n",
       "2863                prejudice against muslims         neutral   \n",
       "576   prejudice against blacks and christians   contradiction   \n",
       "1709               prejudice against atheists         neutral   \n",
       "4039                prejudice towards muslims         neutral   \n",
       "729        prejudice against muslims,israelis   contradiction   \n",
       "2764                                      NaN   contradiction   \n",
       "33                   prejudice against whites         neutral   \n",
       "1573     prejudice against blacks and muslims      entailment   \n",
       "1314                                      NaN   contradiction   \n",
       "4129              prejudice towards white men      entailment   \n",
       "\n",
       "                                                     predicted_scores  \n",
       "2863  [-1.7085249423980713, -0.16685394942760468, 1.5042953491210938]  \n",
       "576    [0.5061009526252747, -1.0798803567886353, 0.41280320286750793]  \n",
       "1709   [-1.8708322048187256, -0.6543827652931213, 2.1548099517822266]  \n",
       "4039   [-0.21673975884914398, -1.2978944778442383, 1.109818935394287]  \n",
       "729    [2.2116761207580566, -1.6123117208480835, -0.6242567896842957]  \n",
       "2764     [2.1651017665863037, -1.634959101676941, -0.541456937789917]  \n",
       "33    [-0.39023658633232117, -0.5655011534690857, 0.6482449173927307]  \n",
       "1573     [-3.069397211074829, 1.6497869491577148, 0.8996347784996033]  \n",
       "1314    [2.466484546661377, -2.1830663681030273, -0.3328106701374054]  \n",
       "4129    [-1.1454640626907349, 0.5496312975883484, 0.2691248953342438]  "
      ]
     },
     "metadata": {},
     "execution_count": 45
    }
   ],
   "metadata": {}
  },
  {
   "cell_type": "code",
   "execution_count": 53,
   "source": [
    "label_counts = df['predicted_label'].value_counts()\n",
    "\n",
    "entailment_count = label_counts.get('entailment', 0)\n",
    "contradiction_count = label_counts.get('contradiction', 0)\n",
    "neutral_count = label_counts.get('neutral', 0)\n",
    "\n",
    "print(f'Total: {entailment_count + contradiction_count + neutral_count}')\n",
    "print(f'Entailment total: {entailment_count}')\n",
    "print(f'Contradiction total: {contradiction_count}')\n",
    "print(f'Neutral total: {neutral_count}')\n"
   ],
   "outputs": [
    {
     "output_type": "stream",
     "name": "stdout",
     "text": [
      "Total: 4327\n",
      "Entailment total: 507\n",
      "Contradiction total: 1025\n",
      "Neutral total: 2795\n"
     ]
    }
   ],
   "metadata": {}
  },
  {
   "cell_type": "code",
   "execution_count": null,
   "source": [],
   "outputs": [],
   "metadata": {}
  }
 ],
 "metadata": {
  "kernelspec": {
   "name": "python3",
   "display_name": "Python 3.9.12 64-bit"
  },
  "language_info": {
   "codemirror_mode": {
    "name": "ipython",
    "version": 3
   },
   "file_extension": ".py",
   "mimetype": "text/x-python",
   "name": "python",
   "nbconvert_exporter": "python",
   "pygments_lexer": "ipython3",
   "version": "3.9.12"
  },
  "interpreter": {
   "hash": "aee8b7b246df8f9039afb4144a1f6fd8d2ca17a180786b69acc140d282b71a49"
  }
 },
 "nbformat": 4,
 "nbformat_minor": 5
}