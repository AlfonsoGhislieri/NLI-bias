{
 "cells": [
  {
   "cell_type": "code",
   "execution_count": 1,
   "id": "399e4293-03b0-4637-96bd-98ef0c2498e3",
   "metadata": {},
   "outputs": [],
   "source": [
    "import pandas as pd\n",
    "import jsonlines\n",
    "import numpy as np\n",
    "\n",
    "pd.set_option('display.max_columns', None)  # Display all columns\n",
    "pd.set_option('display.max_rows', None)  # Display all rows\n",
    "pd.set_option('display.max_colwidth', 500)  # Display full text in columns\n"
   ]
  },
  {
   "cell_type": "markdown",
   "id": "36746220-9652-46bb-bce7-58552a4f8c3b",
   "metadata": {},
   "source": [
    "## Datasets"
   ]
  },
  {
   "cell_type": "code",
   "execution_count": 37,
   "id": "237a49c7-f225-46b2-8626-3e7daf79fcbd",
   "metadata": {},
   "outputs": [
    {
     "data": {
      "text/html": [
       "<div>\n",
       "<style scoped>\n",
       "    .dataframe tbody tr th:only-of-type {\n",
       "        vertical-align: middle;\n",
       "    }\n",
       "\n",
       "    .dataframe tbody tr th {\n",
       "        vertical-align: top;\n",
       "    }\n",
       "\n",
       "    .dataframe thead th {\n",
       "        text-align: right;\n",
       "    }\n",
       "</style>\n",
       "<table border=\"1\" class=\"dataframe\">\n",
       "  <thead>\n",
       "    <tr style=\"text-align: right;\">\n",
       "      <th></th>\n",
       "      <th>source</th>\n",
       "      <th>title</th>\n",
       "      <th>event_id</th>\n",
       "      <th>adfontes_fair</th>\n",
       "      <th>adfontes_political</th>\n",
       "      <th>allsides_bias</th>\n",
       "      <th>content</th>\n",
       "      <th>misc</th>\n",
       "    </tr>\n",
       "  </thead>\n",
       "  <tbody>\n",
       "    <tr>\n",
       "      <th>7769</th>\n",
       "      <td>Washington Times</td>\n",
       "      <td>PICKET: RNC's Priebus hits back at MSNBC's Matthews - 'He wants to be the biggest jerk in the room'</td>\n",
       "      <td>0</td>\n",
       "      <td>bias</td>\n",
       "      <td>neutral</td>\n",
       "      <td>From the Right</td>\n",
       "      <td>*UPDATE 8/29/12 - MSNBC’s Chris Matthews Responded to Chairman Priebus:\\n“Nobody’s asked me to apologize,” said MSNBC’s Chris Matthews. “I was telling the truth…those ads are aimed at racial purpose,” he later added.</td>\n",
       "      <td>{'time': 'None', 'topics': 'Election: Presidential', 'author': ['Kerry Picket']}</td>\n",
       "    </tr>\n",
       "    <tr>\n",
       "      <th>7770</th>\n",
       "      <td>Politico</td>\n",
       "      <td>Ann Romney's task: Humanize Mitt</td>\n",
       "      <td>0</td>\n",
       "      <td>bias</td>\n",
       "      <td>neutral</td>\n",
       "      <td>From the Left</td>\n",
       "      <td>TAMPA, Fla. — Ann Romney will take to the podium here Tuesday night and try to accomplish what the sharpest minds in Republican politics have failed to do: present her stiff and awkward husband as a likable guy.\\nHer speech is considered second in importance only to Mitt Romney’s and will set the tone for the week as the Republican Party presents its case for turning President Barack Obama out of office.\\nStory Continued Below\\nConvention and campaign officials see Ann Romney as the only per...</td>\n",
       "      <td>{'time': '2012-08-28 04:59:14', 'topics': 'Election: Presidential', 'author': ['LOIS ROMANO', 'Frida Ghitis', 'John A. Farrell', 'Jeff Greenfield', 'Cliff Sims']}</td>\n",
       "    </tr>\n",
       "    <tr>\n",
       "      <th>7771</th>\n",
       "      <td>Washington Times</td>\n",
       "      <td>'Mittigator' to make case for Romney</td>\n",
       "      <td>0</td>\n",
       "      <td>bias</td>\n",
       "      <td>neutral</td>\n",
       "      <td>From the Right</td>\n",
       "      <td>She is a gracious warrior with a kind face, a polished demeanor and the inner mettle of a survivor. Ann Romney has been called the secret weapon of her husband’s campaign, and he adores her: When Mitt Romney strides to the podium to introduce his wife of 43 years, he calls her “sweetheart.” She smiles. The crowd goes crazy.\\nAnd why shouldn’t they? Though the Romneys could emerge as the nation’s No. 1 power couple, there is a certain authenticity about them, built over decades around family ...</td>\n",
       "      <td>{'time': 'None', 'topics': 'Election: Presidential', 'author': ['Jennifer Harper']}</td>\n",
       "    </tr>\n",
       "    <tr>\n",
       "      <th>7772</th>\n",
       "      <td>Fox News</td>\n",
       "      <td>Convention-bound Ryan slams Obama for presiding over 'debt, doubt and decline'</td>\n",
       "      <td>0</td>\n",
       "      <td>bias</td>\n",
       "      <td>bias</td>\n",
       "      <td>From the Right</td>\n",
       "      <td>Republican VP pick on 'Special Report'\\nMaking one last stop in his hometown before flying to Tampa for the official nomination to the Republican ticket, vice presidential pick Paul Ryan slammed the current White House for putting the nation down a road of \"debt, doubt and decline.\"\\nIn an interview with Fox News&amp;apos Bret Baier, Ryan teed up his speech at the Republican National Convention by stressing that the weather-delayed event will nevertheless provide a critical opportunity to draw a...</td>\n",
       "      <td>{'time': '2012-08-27 00:00:00', 'topics': 'Election: Presidential', 'author': ['| Fox News']}</td>\n",
       "    </tr>\n",
       "    <tr>\n",
       "      <th>7773</th>\n",
       "      <td>Politico</td>\n",
       "      <td>Ryan seeks comfort of Ron Paul fans</td>\n",
       "      <td>0</td>\n",
       "      <td>bias</td>\n",
       "      <td>neutral</td>\n",
       "      <td>From the Left</td>\n",
       "      <td>Paul Ryan said Monday he expects Ron Paul supporters will come around to the Republican ticket and “should be very comfortable with us.”\\nRyan told Fox News that he and Paul “see eye to eye on a lot of issues,” adding that he doesn’t feel there is any tension with Paul — who held his own rally in Tampa on Sunday and did not endorse Romney — or the Texas congressman’s supporters.\\nStory Continued Below\\n“So I think, in the final analysis, Ron is clearly going to — he and his supporters should...</td>\n",
       "      <td>{'time': '2012-08-27 15:52:45', 'topics': 'Election: Presidential', 'author': ['MACKENZIE WEINGER', 'Frida Ghitis', 'John A. Farrell', 'Jeff Greenfield', 'Cliff Sims']}</td>\n",
       "    </tr>\n",
       "    <tr>\n",
       "      <th>7774</th>\n",
       "      <td>CNN (Web News)</td>\n",
       "      <td>Paul to supporters: 2012 the start of a new era</td>\n",
       "      <td>0</td>\n",
       "      <td>bias</td>\n",
       "      <td>neutral</td>\n",
       "      <td>From the Left</td>\n",
       "      <td>Tampa, Florida (CNN) \\- As Rep. Ron Paul's third presidential bid is set to come to its formal end at the Republican National Convention, Paul sought to rally his loyal supporters with talk of a new era in American history.\\n\"I'm convinced that we're living at the end of an era,\" Paul told the crowd at a rally in honor of him and his libertarian political movement. \"The end of an era provides an opportunity,\" Paul added before laying out his view that an era in American government, foreign p...</td>\n",
       "      <td>{'time': '2012-08-26 00:00:00', 'topics': 'Election: Presidential', 'author': ['CNN Political Producer Martina Stewart']}</td>\n",
       "    </tr>\n",
       "  </tbody>\n",
       "</table>\n",
       "</div>"
      ],
      "text/plain": [
       "                source  \\\n",
       "7769  Washington Times   \n",
       "7770          Politico   \n",
       "7771  Washington Times   \n",
       "7772          Fox News   \n",
       "7773          Politico   \n",
       "7774    CNN (Web News)   \n",
       "\n",
       "                                                                                                    title  \\\n",
       "7769  PICKET: RNC's Priebus hits back at MSNBC's Matthews - 'He wants to be the biggest jerk in the room'   \n",
       "7770                                                                     Ann Romney's task: Humanize Mitt   \n",
       "7771                                                                 'Mittigator' to make case for Romney   \n",
       "7772                       Convention-bound Ryan slams Obama for presiding over 'debt, doubt and decline'   \n",
       "7773                                                                  Ryan seeks comfort of Ron Paul fans   \n",
       "7774                                                      Paul to supporters: 2012 the start of a new era   \n",
       "\n",
       "      event_id adfontes_fair adfontes_political   allsides_bias  \\\n",
       "7769         0          bias            neutral  From the Right   \n",
       "7770         0          bias            neutral   From the Left   \n",
       "7771         0          bias            neutral  From the Right   \n",
       "7772         0          bias               bias  From the Right   \n",
       "7773         0          bias            neutral   From the Left   \n",
       "7774         0          bias            neutral   From the Left   \n",
       "\n",
       "                                                                                                                                                                                                                                                                                                                                                                                                                                                                                                                  content  \\\n",
       "7769                                                                                                                                                                                                                                                                                             *UPDATE 8/29/12 - MSNBC’s Chris Matthews Responded to Chairman Priebus:\\n“Nobody’s asked me to apologize,” said MSNBC’s Chris Matthews. “I was telling the truth…those ads are aimed at racial purpose,” he later added.   \n",
       "7770  TAMPA, Fla. — Ann Romney will take to the podium here Tuesday night and try to accomplish what the sharpest minds in Republican politics have failed to do: present her stiff and awkward husband as a likable guy.\\nHer speech is considered second in importance only to Mitt Romney’s and will set the tone for the week as the Republican Party presents its case for turning President Barack Obama out of office.\\nStory Continued Below\\nConvention and campaign officials see Ann Romney as the only per...   \n",
       "7771  She is a gracious warrior with a kind face, a polished demeanor and the inner mettle of a survivor. Ann Romney has been called the secret weapon of her husband’s campaign, and he adores her: When Mitt Romney strides to the podium to introduce his wife of 43 years, he calls her “sweetheart.” She smiles. The crowd goes crazy.\\nAnd why shouldn’t they? Though the Romneys could emerge as the nation’s No. 1 power couple, there is a certain authenticity about them, built over decades around family ...   \n",
       "7772  Republican VP pick on 'Special Report'\\nMaking one last stop in his hometown before flying to Tampa for the official nomination to the Republican ticket, vice presidential pick Paul Ryan slammed the current White House for putting the nation down a road of \"debt, doubt and decline.\"\\nIn an interview with Fox News&apos Bret Baier, Ryan teed up his speech at the Republican National Convention by stressing that the weather-delayed event will nevertheless provide a critical opportunity to draw a...   \n",
       "7773  Paul Ryan said Monday he expects Ron Paul supporters will come around to the Republican ticket and “should be very comfortable with us.”\\nRyan told Fox News that he and Paul “see eye to eye on a lot of issues,” adding that he doesn’t feel there is any tension with Paul — who held his own rally in Tampa on Sunday and did not endorse Romney — or the Texas congressman’s supporters.\\nStory Continued Below\\n“So I think, in the final analysis, Ron is clearly going to — he and his supporters should...   \n",
       "7774  Tampa, Florida (CNN) \\- As Rep. Ron Paul's third presidential bid is set to come to its formal end at the Republican National Convention, Paul sought to rally his loyal supporters with talk of a new era in American history.\\n\"I'm convinced that we're living at the end of an era,\" Paul told the crowd at a rally in honor of him and his libertarian political movement. \"The end of an era provides an opportunity,\" Paul added before laying out his view that an era in American government, foreign p...   \n",
       "\n",
       "                                                                                                                                                                          misc  \n",
       "7769                                                                                          {'time': 'None', 'topics': 'Election: Presidential', 'author': ['Kerry Picket']}  \n",
       "7770        {'time': '2012-08-28 04:59:14', 'topics': 'Election: Presidential', 'author': ['LOIS ROMANO', 'Frida Ghitis', 'John A. Farrell', 'Jeff Greenfield', 'Cliff Sims']}  \n",
       "7771                                                                                       {'time': 'None', 'topics': 'Election: Presidential', 'author': ['Jennifer Harper']}  \n",
       "7772                                                                             {'time': '2012-08-27 00:00:00', 'topics': 'Election: Presidential', 'author': ['| Fox News']}  \n",
       "7773  {'time': '2012-08-27 15:52:45', 'topics': 'Election: Presidential', 'author': ['MACKENZIE WEINGER', 'Frida Ghitis', 'John A. Farrell', 'Jeff Greenfield', 'Cliff Sims']}  \n",
       "7774                                                 {'time': '2012-08-26 00:00:00', 'topics': 'Election: Presidential', 'author': ['CNN Political Producer Martina Stewart']}  "
      ]
     },
     "execution_count": 37,
     "metadata": {},
     "output_type": "execute_result"
    }
   ],
   "source": [
    "# Analyzing Political Bias and Unfairness in News Articles at Different Levels of Granularity\n",
    "# Political Ideology and Polarization: A Multi-dimensional Approach\n",
    "\n",
    "import json\n",
    "\n",
    "with open(\"data/released_data.json\", \"r\") as file:\n",
    "    j_string = file.readline()\n",
    "    jsons = []\n",
    "    while j_string:\n",
    "        data = json.loads(j_string)\n",
    "        jsons.append(data)\n",
    "        j_string = file.readline()\n",
    "        \n",
    "df = pd.DataFrame(jsons)\n",
    "\n",
    "df_right_bias = df.loc[(df['allsides_bias'] == 'From the Right') & (df['adfontes_political'] == 'bias') & (df['adfontes_fair'] == 'bias')] \n",
    "\n",
    "df_left_bias = df.loc[(df['allsides_bias'] == 'From the Left') & (df['adfontes_political'] == 'bias') & (df['adfontes_fair'] == 'bias')] \n",
    "\n",
    "df.tail(6)\n"
   ]
  },
  {
   "cell_type": "code",
   "execution_count": 26,
   "id": "582d1edb-b7df-4138-8ad2-1ed5fa957811",
   "metadata": {},
   "outputs": [
    {
     "data": {
      "text/html": [
       "<div>\n",
       "<style scoped>\n",
       "    .dataframe tbody tr th:only-of-type {\n",
       "        vertical-align: middle;\n",
       "    }\n",
       "\n",
       "    .dataframe tbody tr th {\n",
       "        vertical-align: top;\n",
       "    }\n",
       "\n",
       "    .dataframe thead th {\n",
       "        text-align: right;\n",
       "    }\n",
       "</style>\n",
       "<table border=\"1\" class=\"dataframe\">\n",
       "  <thead>\n",
       "    <tr style=\"text-align: right;\">\n",
       "      <th></th>\n",
       "      <th>source</th>\n",
       "      <th>title</th>\n",
       "      <th>event_id</th>\n",
       "      <th>adfontes_fair</th>\n",
       "      <th>adfontes_political</th>\n",
       "      <th>allsides_bias</th>\n",
       "      <th>content</th>\n",
       "      <th>misc</th>\n",
       "    </tr>\n",
       "  </thead>\n",
       "  <tbody>\n",
       "    <tr>\n",
       "      <th>6774</th>\n",
       "      <td>Fox News</td>\n",
       "      <td>State Department accused of covering up sex and prostitution investigation</td>\n",
       "      <td>0</td>\n",
       "      <td>bias</td>\n",
       "      <td>bias</td>\n",
       "      <td>From the Right</td>\n",
       "      <td>FILE: Jan. 18, 2013: Then-Secretary of State HillaryClinton talks at the State Department, in Washington, D.C. (AP)\\nWASHINGTON – The U.S. State Department’s ability to investigate wrongdoing by its staff is under question after a report that the agency tried to cover up several crimes committed has surfaced.\\nSome of the allegations are against then-Secretary of State Hillary Clinton’s security detail who allegedly hired prostitutes, a U.S. ambassador accused of trolling public parks for pa...</td>\n",
       "      <td>{'time': '2013-06-11 00:00:00', 'topics': 'State Department', 'author': ['| Fox News']}</td>\n",
       "    </tr>\n",
       "    <tr>\n",
       "      <th>2051</th>\n",
       "      <td>Fox News</td>\n",
       "      <td>Franken resigns from Senate amid new claims of sexual misconduct, backlash from Dems</td>\n",
       "      <td>0</td>\n",
       "      <td>bias</td>\n",
       "      <td>bias</td>\n",
       "      <td>From the Right</td>\n",
       "      <td>Sen. Al Franken (D-Minn.) resigns amid a growing number of women accusing him of sexual harassment. Franken, who said that some of the complaints against him were “simply not true” and that he remembers others “differently,” also took a parting shot at President Trump.\\nCalling it “the worst day of his political life,” Minnesota Democratic Sen. Al Franken said Thursday he will resign from the U.S. Senate following a wave of sexual misconduct allegations against him that ranged from groping t...</td>\n",
       "      <td>{'time': '2017-12-07 00:00:00', 'topics': 'US Senate', 'author': ['Barnini Chakraborty', '| Fox News']}</td>\n",
       "    </tr>\n",
       "    <tr>\n",
       "      <th>7400</th>\n",
       "      <td>Fox News</td>\n",
       "      <td>Fox News poll:  According to voters, spending cuts are a must</td>\n",
       "      <td>0</td>\n",
       "      <td>bias</td>\n",
       "      <td>bias</td>\n",
       "      <td>From the Right</td>\n",
       "      <td>New Fox News polling on budget crisis\\nIf Washington is looking for guidance on the fiscal cliff, voters are sending mixed signals.\\nA majority says major spending cuts are necessary to solve the country’s budget woes -- that solely raising taxes on taxpayers earning more than $250,000 isn’t enough. Even so, the most popular proposal among voters for reducing the deficit is -- you guessed it -- raising taxes on the rich.\\nIn addition, while a majority of Republicans (59 percent) thinks major...</td>\n",
       "      <td>{'time': '2012-12-12 00:00:00', 'topics': 'Fiscal Cliff', 'author': ['Dana Blanton', '| Fox News']}</td>\n",
       "    </tr>\n",
       "  </tbody>\n",
       "</table>\n",
       "</div>"
      ],
      "text/plain": [
       "        source  \\\n",
       "6774  Fox News   \n",
       "2051  Fox News   \n",
       "7400  Fox News   \n",
       "\n",
       "                                                                                     title  \\\n",
       "6774            State Department accused of covering up sex and prostitution investigation   \n",
       "2051  Franken resigns from Senate amid new claims of sexual misconduct, backlash from Dems   \n",
       "7400                         Fox News poll:  According to voters, spending cuts are a must   \n",
       "\n",
       "      event_id adfontes_fair adfontes_political   allsides_bias  \\\n",
       "6774         0          bias               bias  From the Right   \n",
       "2051         0          bias               bias  From the Right   \n",
       "7400         0          bias               bias  From the Right   \n",
       "\n",
       "                                                                                                                                                                                                                                                                                                                                                                                                                                                                                                                  content  \\\n",
       "6774  FILE: Jan. 18, 2013: Then-Secretary of State HillaryClinton talks at the State Department, in Washington, D.C. (AP)\\nWASHINGTON – The U.S. State Department’s ability to investigate wrongdoing by its staff is under question after a report that the agency tried to cover up several crimes committed has surfaced.\\nSome of the allegations are against then-Secretary of State Hillary Clinton’s security detail who allegedly hired prostitutes, a U.S. ambassador accused of trolling public parks for pa...   \n",
       "2051  Sen. Al Franken (D-Minn.) resigns amid a growing number of women accusing him of sexual harassment. Franken, who said that some of the complaints against him were “simply not true” and that he remembers others “differently,” also took a parting shot at President Trump.\\nCalling it “the worst day of his political life,” Minnesota Democratic Sen. Al Franken said Thursday he will resign from the U.S. Senate following a wave of sexual misconduct allegations against him that ranged from groping t...   \n",
       "7400  New Fox News polling on budget crisis\\nIf Washington is looking for guidance on the fiscal cliff, voters are sending mixed signals.\\nA majority says major spending cuts are necessary to solve the country’s budget woes -- that solely raising taxes on taxpayers earning more than $250,000 isn’t enough. Even so, the most popular proposal among voters for reducing the deficit is -- you guessed it -- raising taxes on the rich.\\nIn addition, while a majority of Republicans (59 percent) thinks major...   \n",
       "\n",
       "                                                                                                         misc  \n",
       "6774                  {'time': '2013-06-11 00:00:00', 'topics': 'State Department', 'author': ['| Fox News']}  \n",
       "2051  {'time': '2017-12-07 00:00:00', 'topics': 'US Senate', 'author': ['Barnini Chakraborty', '| Fox News']}  \n",
       "7400      {'time': '2012-12-12 00:00:00', 'topics': 'Fiscal Cliff', 'author': ['Dana Blanton', '| Fox News']}  "
      ]
     },
     "execution_count": 26,
     "metadata": {},
     "output_type": "execute_result"
    }
   ],
   "source": [
    "df_right_bias.sample(3)"
   ]
  },
  {
   "cell_type": "code",
   "execution_count": 205,
   "id": "2c7b78a1-9d98-42f8-bd9d-60c7619edb70",
   "metadata": {},
   "outputs": [
    {
     "data": {
      "text/html": [
       "<div>\n",
       "<style scoped>\n",
       "    .dataframe tbody tr th:only-of-type {\n",
       "        vertical-align: middle;\n",
       "    }\n",
       "\n",
       "    .dataframe tbody tr th {\n",
       "        vertical-align: top;\n",
       "    }\n",
       "\n",
       "    .dataframe thead th {\n",
       "        text-align: right;\n",
       "    }\n",
       "</style>\n",
       "<table border=\"1\" class=\"dataframe\">\n",
       "  <thead>\n",
       "    <tr style=\"text-align: right;\">\n",
       "      <th></th>\n",
       "      <th>comment_text</th>\n",
       "      <th>identity_attack_x</th>\n",
       "      <th>bias</th>\n",
       "      <th>target</th>\n",
       "      <th>category</th>\n",
       "      <th>rationale</th>\n",
       "    </tr>\n",
       "  </thead>\n",
       "  <tbody>\n",
       "    <tr>\n",
       "      <th>3173</th>\n",
       "      <td>Remember your history Slavery was brought to the Americas by white Europeans the English Dutch French Spanish and Portuguese.</td>\n",
       "      <td>0.500000</td>\n",
       "      <td>bias</td>\n",
       "      <td>whites</td>\n",
       "      <td>race</td>\n",
       "      <td>prejudice against whites</td>\n",
       "    </tr>\n",
       "    <tr>\n",
       "      <th>1393</th>\n",
       "      <td>The blacks are the ones that are racists. They hate white people and do not hesitate to let them know that fact. Ridiculous waste of time and energy in this article. Just trying to make white people feel guilty once again for slavery..which is really stupid.</td>\n",
       "      <td>0.728571</td>\n",
       "      <td>bias</td>\n",
       "      <td>blacks</td>\n",
       "      <td>race</td>\n",
       "      <td>prejudice against blacks</td>\n",
       "    </tr>\n",
       "    <tr>\n",
       "      <th>861</th>\n",
       "      <td>Uh why would i want to do that its bad enough being black.</td>\n",
       "      <td>0.689189</td>\n",
       "      <td>neutral</td>\n",
       "      <td>NaN</td>\n",
       "      <td>none</td>\n",
       "      <td>NaN</td>\n",
       "    </tr>\n",
       "    <tr>\n",
       "      <th>4036</th>\n",
       "      <td>Yes suicide bombings are all the Wests fault How does he explain Muslims killing Muslims? ISIL has probably killed more Muslims then Westerners. He appears to be a leftwing ninnie.</td>\n",
       "      <td>0.513158</td>\n",
       "      <td>bias</td>\n",
       "      <td>muslims</td>\n",
       "      <td>religion</td>\n",
       "      <td>prejudice against muslimss</td>\n",
       "    </tr>\n",
       "    <tr>\n",
       "      <th>4320</th>\n",
       "      <td>Do you really believe there are so few heterosexuals out here that if the Church doesnt mandate heterosexuality the human race will die out?</td>\n",
       "      <td>0.271429</td>\n",
       "      <td>neutral</td>\n",
       "      <td>NaN</td>\n",
       "      <td>none</td>\n",
       "      <td>NaN</td>\n",
       "    </tr>\n",
       "  </tbody>\n",
       "</table>\n",
       "</div>"
      ],
      "text/plain": [
       "                                                                                                                                                                                                                                                            comment_text  \\\n",
       "3173                                                                                                                                       Remember your history Slavery was brought to the Americas by white Europeans the English Dutch French Spanish and Portuguese.   \n",
       "1393  The blacks are the ones that are racists. They hate white people and do not hesitate to let them know that fact. Ridiculous waste of time and energy in this article. Just trying to make white people feel guilty once again for slavery..which is really stupid.   \n",
       "861                                                                                                                                                                                                           Uh why would i want to do that its bad enough being black.   \n",
       "4036                                                                                Yes suicide bombings are all the Wests fault How does he explain Muslims killing Muslims? ISIL has probably killed more Muslims then Westerners. He appears to be a leftwing ninnie.   \n",
       "4320                                                                                                                        Do you really believe there are so few heterosexuals out here that if the Church doesnt mandate heterosexuality the human race will die out?   \n",
       "\n",
       "      identity_attack_x     bias   target  category  \\\n",
       "3173           0.500000     bias   whites      race   \n",
       "1393           0.728571     bias   blacks      race   \n",
       "861            0.689189  neutral      NaN      none   \n",
       "4036           0.513158     bias  muslims  religion   \n",
       "4320           0.271429  neutral      NaN      none   \n",
       "\n",
       "                       rationale  \n",
       "3173    prejudice against whites  \n",
       "1393    prejudice against blacks  \n",
       "861                          NaN  \n",
       "4036  prejudice against muslimss  \n",
       "4320                         NaN  "
      ]
     },
     "execution_count": 205,
     "metadata": {},
     "output_type": "execute_result"
    }
   ],
   "source": [
    "csv_file = \"data/toxicbias_train.csv\"\n",
    "df = pd.read_csv(csv_file)\n",
    "\n",
    "# Display the DataFrame\n",
    "df.sample(5)\n"
   ]
  },
  {
   "cell_type": "markdown",
   "id": "9dc084b6-0040-4d45-b0d0-0f40374edf51",
   "metadata": {},
   "source": [
    "## Model"
   ]
  },
  {
   "cell_type": "code",
   "execution_count": 203,
   "id": "e9a3db13-84df-4350-baac-41800f3ba797",
   "metadata": {},
   "outputs": [],
   "source": [
    "from transformers import AutoTokenizer, AutoModelForSequenceClassification\n",
    "import torch\n",
    "\n",
    "def predict_nli_label(premise, hypothesis):\n",
    "    model = AutoModelForSequenceClassification.from_pretrained('cross-encoder/nli-deberta-base')\n",
    "    tokenizer = AutoTokenizer.from_pretrained('cross-encoder/nli-deberta-base')\n",
    "\n",
    "    features = tokenizer([premise], [hypothesis],  padding=True, truncation=True, return_tensors=\"pt\")\n",
    "\n",
    "    model.eval()\n",
    "    with torch.no_grad():\n",
    "        scores = model(**features).logits\n",
    "        label_mapping = ['contradiction', 'entailment', 'neutral']\n",
    "        labels = [label_mapping[score_max] for score_max in scores.argmax(dim=1)]\n",
    "        print(scores)\n",
    "        print(labels)\n"
   ]
  },
  {
   "cell_type": "markdown",
   "id": "2a0eaf51-b3e8-4c83-a627-1862d07f20b3",
   "metadata": {},
   "source": [
    "## Test examples"
   ]
  },
  {
   "cell_type": "code",
   "execution_count": 204,
   "id": "32f3ce68-a389-4f6f-b78d-1dd4b308897c",
   "metadata": {},
   "outputs": [
    {
     "name": "stdout",
     "output_type": "stream",
     "text": [
      "tensor([[-1.5192, -0.2100,  1.3938]])\n",
      "['neutral']\n"
     ]
    }
   ],
   "source": [
    "premise = \"Hey he hates Asians too Apparently successful minorities get under the loony lefts skin.\"\n",
    "hypothesis = \"Prejudice towards individuals based on geographic location.\"\n",
    "\n",
    "predict_nli_label(premise,hypothesis)"
   ]
  },
  {
   "cell_type": "code",
   "execution_count": 195,
   "id": "295f00e0-f6b9-4968-911a-3a0d2619a51f",
   "metadata": {},
   "outputs": [
    {
     "name": "stdout",
     "output_type": "stream",
     "text": [
      "tensor([[-3.1032,  1.9444,  0.7192]])\n",
      "['entailment']\n"
     ]
    }
   ],
   "source": [
    "premise = \"Intolerant liberals here calling others intolerant. Liberalism is a mental disorder. The sooner we rub it out of Western culture the better.\"\n",
    "hypothesis = \"Dislike, hatred, or prejudice against a political group, in particular liberals.\"\n",
    "\n",
    "predict_nli_label(premise,hypothesis)"
   ]
  },
  {
   "cell_type": "code",
   "execution_count": 168,
   "id": "11ea7a26-75d9-48a5-9c71-9dd378f0f490",
   "metadata": {},
   "outputs": [
    {
     "name": "stdout",
     "output_type": "stream",
     "text": [
      "['entailment']\n"
     ]
    }
   ],
   "source": [
    "premise = \"Its bad enough we already have all these American sickos living in this country shooting up theatre schools churches malls etc. we dont have room for crazy muslims.\"\n",
    "hypothesis = \"Dislike, hatred, or prejudice towards individuals of a race.\"\n",
    "\n",
    "predict_nli_label(premise,hypothesis)"
   ]
  },
  {
   "cell_type": "code",
   "execution_count": 171,
   "id": "fb587f97-1e41-4dfe-bf9a-71e7dd17becf",
   "metadata": {},
   "outputs": [
    {
     "name": "stdout",
     "output_type": "stream",
     "text": [
      "['entailment']\n"
     ]
    }
   ],
   "source": [
    "premise = \"where is our vocal feral cat killing muslim to defend his fellow islamist? must be hiding under his blow up sheep.\"\n",
    "hypothesis = \"Dislike, hatred, or prejudice towards individuals who are muslim.\"\n",
    "\n",
    "predict_nli_label(premise,hypothesis)"
   ]
  },
  {
   "cell_type": "code",
   "execution_count": 172,
   "id": "c33021a5-f3ba-48b1-a4f9-a59c29b63114",
   "metadata": {},
   "outputs": [
    {
     "name": "stdout",
     "output_type": "stream",
     "text": [
      "['contradiction']\n"
     ]
    }
   ],
   "source": [
    "premise = \"where is our vocal feral cat killing muslim to defend his fellow islamist? must be hiding under his blow up sheep.\"\n",
    "hypothesis = \"Love or positive feelings towards individuals who are muslim.\"\n",
    "predict_nli_label(premise,hypothesis)"
   ]
  },
  {
   "cell_type": "code",
   "execution_count": 188,
   "id": "adfc26aa-b50c-402f-bf10-f84d3350f49a",
   "metadata": {},
   "outputs": [
    {
     "name": "stdout",
     "output_type": "stream",
     "text": [
      "['entailment']\n",
      "['neutral']\n"
     ]
    }
   ],
   "source": [
    "premise1 = \"Islam frightens me when I think of my daughters future in an islamized Canada.\"\n",
    "premise2= \"This is not an irrational fear not a phobia when you look at whats happening in the world today.\"\n",
    "hypothesis = \"Dislike, hatred or prejudice towards individuals who are muslim.\"\n",
    "hypothesis_New = \"Negative feelings towards islam.\"\n",
    "\n",
    "predict_nli_label(premise1,hypothesis_New)\n",
    "predict_nli_label(premise2,hypothesis_New)"
   ]
  },
  {
   "cell_type": "code",
   "execution_count": 161,
   "id": "fc2502eb-f0d8-4ad9-9035-e7e789e598e8",
   "metadata": {},
   "outputs": [
    {
     "name": "stdout",
     "output_type": "stream",
     "text": [
      "['contradiction']\n"
     ]
    }
   ],
   "source": [
    "premise = \"Islam frightens me when I think of my daughters future in an islamized Canada. This is not an irrational fear not a phobia when you look at whats happening in the world today.\"\n",
    "hypothesis = \"Negative view of individuals who are muslim.\"\n",
    "\n",
    "predict_nli_label(premise,hypothesis)"
   ]
  },
  {
   "cell_type": "code",
   "execution_count": 164,
   "id": "9a028325-78dc-4d8f-b2d0-c46b76a315ac",
   "metadata": {},
   "outputs": [
    {
     "name": "stdout",
     "output_type": "stream",
     "text": [
      "['entailment']\n"
     ]
    }
   ],
   "source": [
    "premise = \"Islam frightens me when I think of my daughters future in an islamized Canada. This is not an irrational fear not a phobia when you look at whats happening in the world today.\"\n",
    "hypothesis = \"Fear of individuals who are protestant.\"\n",
    "\n",
    "predict_nli_label(premise,hypothesis)"
   ]
  },
  {
   "cell_type": "code",
   "execution_count": 193,
   "id": "fcebdf78-f47d-429f-b2ee-b3248b4ba7ca",
   "metadata": {},
   "outputs": [
    {
     "name": "stdout",
     "output_type": "stream",
     "text": [
      "['entailment']\n"
     ]
    }
   ],
   "source": [
    "premise = \"Great. Catholics are on the winning side and the country as a whole loses. Whats not to love? Make America hate again.\"\n",
    "hypothesis = \"Derogatory negative opinion against individuals\"\n",
    "\n",
    "predict_nli_label(premise,hypothesis)"
   ]
  },
  {
   "cell_type": "code",
   "execution_count": 181,
   "id": "c2d7941b-d6b6-4fcb-b3fe-712f8fe3e2b6",
   "metadata": {},
   "outputs": [
    {
     "name": "stdout",
     "output_type": "stream",
     "text": [
      "{'sequence': 'Hey he hates Asians too Apparently successful minorities get under the loony lefts skin.', 'labels': ['Wealth', 'Prejudice', 'Income'], 'scores': [0.382228285074234, 0.3719187080860138, 0.245852991938591]}\n"
     ]
    }
   ],
   "source": [
    "from transformers import pipeline\n",
    "\n",
    "classifier = pipeline(\"zero-shot-classification\", model='cross-encoder/nli-deberta-base')\n",
    "\n",
    "sent = \"Hey he hates Asians too Apparently successful minorities get under the loony lefts skin.\"\n",
    "candidate_labels = [\"Prejudice\", \"Wealth\", \"Income\"]\n",
    "res = classifier(sent, candidate_labels)\n",
    "print(res)"
   ]
  },
  {
   "cell_type": "code",
   "execution_count": null,
   "id": "9f20e770-c277-4bf7-b067-6517ea75f45a",
   "metadata": {},
   "outputs": [],
   "source": []
  }
 ],
 "metadata": {
  "kernelspec": {
   "display_name": "Python 3 (ipykernel)",
   "language": "python",
   "name": "python3"
  },
  "language_info": {
   "codemirror_mode": {
    "name": "ipython",
    "version": 3
   },
   "file_extension": ".py",
   "mimetype": "text/x-python",
   "name": "python",
   "nbconvert_exporter": "python",
   "pygments_lexer": "ipython3",
   "version": "3.9.12"
  }
 },
 "nbformat": 4,
 "nbformat_minor": 5
}
