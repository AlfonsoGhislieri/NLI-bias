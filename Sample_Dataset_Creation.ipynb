{
 "cells": [
  {
   "cell_type": "code",
   "execution_count": 2,
   "source": [
    "import random\n",
    "import pandas as pd\n",
    "\n",
    "random.seed(42)\n",
    "\n",
    "csv_file = \"data/toxicbias_train.csv\"\n",
    "\n",
    "# create df with 1000 random samples\n",
    "df = pd.read_csv(csv_file)\n",
    "random_samples = random.sample(range(len(df)), k=1000)\n",
    "df_random_samples = df.iloc[random_samples]\n",
    "\n",
    "df_random_samples.to_csv('data/test/toxicbias_random1000.csv')"
   ],
   "outputs": [],
   "metadata": {}
  },
  {
   "cell_type": "code",
   "execution_count": 9,
   "source": [
    "csv_file = \"data/toxicbias_train.csv\"\n",
    "df = pd.read_csv(csv_file)\n",
    "\n",
    "n = len(df) // 4\n",
    "df1 = df[:n]\n",
    "df2 = df[n:2*n]\n",
    "df3 = df[2*n:3*n]\n",
    "df4 = df[3*n:]\n",
    "\n",
    "df1.to_csv('data/test/toxicbias1.csv')\n",
    "df2.to_csv('data/test/toxicbias2.csv')\n",
    "df3.to_csv('data/test/toxicbias3.csv')\n",
    "df4.to_csv('data/test/toxicbias4.csv')"
   ],
   "outputs": [],
   "metadata": {}
  },
  {
   "cell_type": "code",
   "execution_count": null,
   "source": [],
   "outputs": [],
   "metadata": {}
  }
 ],
 "metadata": {
  "orig_nbformat": 4,
  "language_info": {
   "name": "python",
   "version": "3.9.12",
   "mimetype": "text/x-python",
   "codemirror_mode": {
    "name": "ipython",
    "version": 3
   },
   "pygments_lexer": "ipython3",
   "nbconvert_exporter": "python",
   "file_extension": ".py"
  },
  "kernelspec": {
   "name": "python3",
   "display_name": "Python 3.9.12 64-bit"
  },
  "interpreter": {
   "hash": "aee8b7b246df8f9039afb4144a1f6fd8d2ca17a180786b69acc140d282b71a49"
  }
 },
 "nbformat": 4,
 "nbformat_minor": 2
}