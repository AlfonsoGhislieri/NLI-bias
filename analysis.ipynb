{
 "cells": [
  {
   "cell_type": "code",
   "execution_count": 2,
   "source": [
    "import sys\n",
    "sys.path.append('src/')\n",
    "import pandas as pd\n",
    "from sklearn.metrics import f1_score, roc_auc_score, roc_curve, auc\n",
    "import pandas as pd\n",
    "import ast\n",
    "import matplotlib.pyplot as plt\n",
    "import numpy as np\n",
    "\n",
    "# panda view settings\n",
    "pd.set_option('display.max_columns', None)  # Display all columns\n",
    "pd.set_option('display.max_rows', None)  # Display all rows\n",
    "pd.set_option('display.max_colwidth', 500)  # Display full text in columns"
   ],
   "outputs": [],
   "metadata": {}
  },
  {
   "cell_type": "code",
   "execution_count": 3,
   "source": [
    "combined_training_bart = pd.read_csv('results/training/bart-large/combined_training_results.csv')\n",
    "combined_training_debertav3 = pd.read_csv('results/training/debertav3/combined_deberta_trainng_results.csv')\n",
    "\n",
    "combined_test_bart = pd.read_csv('results/test/bart-large/combined_test_results.csv')\n",
    "combined_test_debertav3 = pd.read_csv('results/test/debertav3/combined_test_results_deberta.csv')"
   ],
   "outputs": [],
   "metadata": {}
  },
  {
   "cell_type": "markdown",
   "source": [
    "# Training data analysis"
   ],
   "metadata": {}
  },
  {
   "cell_type": "markdown",
   "source": [
    "## Test f1 scores"
   ],
   "metadata": {}
  },
  {
   "cell_type": "code",
   "execution_count": 4,
   "source": [
    "def set_predictions_multiple(df, max_correct_threshold=1):\n",
    "    def is_bias(row, n_labels):\n",
    "        labels = ast.literal_eval(row['labels'])\n",
    "        if sum(label == 'entailment' for label in labels) >= n_labels:\n",
    "            return 'bias'\n",
    "        else:\n",
    "            return 'neutral'\n",
    "\n",
    "    label_correctness_list = []\n",
    "\n",
    "    for _, row in df.iterrows():\n",
    "        row_results = []\n",
    "\n",
    "        for n in range(1, max_correct_threshold + 1):\n",
    "            result = is_bias(row, n)\n",
    "            row_results.append(result)\n",
    "\n",
    "        label_correctness_list.append(row_results)\n",
    "\n",
    "    # Add the list as the 'is_label_correct' column in the DataFrame\n",
    "    df['predicted'] = pd.Series(label_correctness_list)\n",
    "\n",
    "    return df\n"
   ],
   "outputs": [],
   "metadata": {}
  },
  {
   "cell_type": "code",
   "execution_count": 5,
   "source": [
    "df_training_multiple_bart = set_predictions_multiple(combined_training_bart, 15)\n",
    "df_training_multiple_debertav3 = set_predictions_multiple(combined_training_debertav3, 15)"
   ],
   "outputs": [],
   "metadata": {}
  },
  {
   "cell_type": "code",
   "execution_count": 6,
   "source": [
    "np.random.seed(42)"
   ],
   "outputs": [],
   "metadata": {}
  },
  {
   "cell_type": "code",
   "execution_count": 7,
   "source": [
    "def convert_to_binary(label_array, target_label):\n",
    "    return [1 if label == target_label else 0 for label in label_array]"
   ],
   "outputs": [],
   "metadata": {}
  },
  {
   "cell_type": "code",
   "execution_count": 8,
   "source": [
    "def calculate_multiple_f1_scores(df):\n",
    "    f1_score_values = [] \n",
    "\n",
    "    for idx in range(len(df['predicted'].iloc[0])):\n",
    "        predicted_labels = df['predicted'].apply(lambda x: x[idx])\n",
    "        actual = df['bias']\n",
    "\n",
    "        # Convert predicted_labels to binary (1 for target_label, 0 otherwise)\n",
    "        predicted_binary_bias = convert_to_binary(predicted_labels, 'bias')\n",
    "        actual_binary_bias = convert_to_binary(actual, 'bias')\n",
    "\n",
    "        predicted_binary_neutral = convert_to_binary(predicted_labels, 'neutral')\n",
    "        actual_binary_neutral = convert_to_binary(actual, 'neutral')\n",
    "\n",
    "        f1_bias = f1_score(actual_binary_bias, predicted_binary_bias)\n",
    "        f1_neutral =  f1_score(actual_binary_neutral, predicted_binary_neutral)\n",
    "\n",
    "        f1_score_values.append((f1_bias + f1_neutral) / 2)\n",
    "\n",
    "    return f1_score_values"
   ],
   "outputs": [],
   "metadata": {}
  },
  {
   "cell_type": "code",
   "execution_count": 9,
   "source": [
    "f1_scores_training_deberta = calculate_multiple_f1_scores(df_training_multiple_debertav3)\n",
    "print('F1 scores training deberta-v3:')\n",
    "print(f1_scores_training_deberta)\n",
    "\n",
    "f1_scores_training_bart = calculate_multiple_f1_scores(df_training_multiple_bart)\n",
    "print('F1 scores training bart-large:')\n",
    "print(f1_scores_training_bart)"
   ],
   "outputs": [
    {
     "output_type": "stream",
     "name": "stdout",
     "text": [
      "F1 scores training deberta-v3:\n",
      "[0.6376965879034648, 0.5720069675190655, 0.4999336700477346, 0.4462344594793496, 0.38593750000000004, 0.35776134304195994, 0.3497735709081982, 0.34454365185701274, 0.34315305713594546, 0.33615436987753483, 0.33615436987753483, 0.3333333333333333, 0.3333333333333333, 0.3333333333333333, 0.3333333333333333]\n",
      "F1 scores training bart-large:\n",
      "[0.6246005257162046, 0.6472744365520144, 0.6252075022617292, 0.575503530286139, 0.5267880152894934, 0.4739560545499039, 0.4318651196341896, 0.3915961375073525, 0.3661499709257056, 0.3516009695114172, 0.34117369633956807, 0.337272404633105, 0.3330504879083581, 0.3330504879083581, 0.3333333333333333]\n"
     ]
    }
   ],
   "metadata": {}
  },
  {
   "cell_type": "markdown",
   "source": [
    "## Check neutral prediction numbers"
   ],
   "metadata": {}
  },
  {
   "cell_type": "code",
   "execution_count": 10,
   "source": [
    "neutral_rows = df_training_multiple_debertav3[df_training_multiple_debertav3['predicted'].apply(lambda x: all(item == 'neutral' for item in x))]\n",
    "print(len(neutral_rows))\n",
    "\n",
    "neutral_rows = df_training_multiple_bart[df_training_multiple_bart['predicted'].apply(lambda x: all(item == 'neutral' for item in x))]\n",
    "print(len(neutral_rows))"
   ],
   "outputs": [
    {
     "output_type": "stream",
     "name": "stdout",
     "text": [
      "681\n",
      "371\n"
     ]
    }
   ],
   "metadata": {}
  },
  {
   "cell_type": "code",
   "execution_count": 12,
   "source": [
    "import matplotlib.pyplot as plt\n",
    "\n",
    "plt.figure(figsize=(12, 5))\n",
    "\n",
    "# Plot for training data\n",
    "plt.subplot(1, 2, 1)\n",
    "plt.plot(range(1, len(f1_scores_training_deberta) + 1), f1_scores_training_deberta, marker='o', color='blue')\n",
    "plt.xlabel('Threshold for bias prediction')\n",
    "plt.ylabel('F1 Score')\n",
    "plt.title('F1 Score - Training Data Deberta V3')\n",
    "plt.xticks(range(1, len(f1_scores_training_deberta) + 1))\n",
    "plt.grid()\n",
    "\n",
    "# Plot for test data\n",
    "plt.subplot(1, 2, 2)\n",
    "plt.plot(range(1, len(f1_scores_training_bart) + 1), f1_scores_training_bart, marker='o', color='green')\n",
    "plt.xlabel('Threshold for bias prediction')\n",
    "plt.ylabel('F1 Score')\n",
    "plt.title('F1 Score - Training Data Bart-large')\n",
    "plt.xticks(range(1, len(f1_scores_training_bart) + 1))\n",
    "plt.grid()\n",
    "\n",
    "plt.tight_layout()\n",
    "plt.show()\n"
   ],
   "outputs": [
    {
     "output_type": "display_data",
     "data": {
      "image/png": "[encoded data removed]",
      "text/plain": [
       "<Figure size 1200x500 with 2 Axes>"
      ]
     },
     "metadata": {}
    }
   ],
   "metadata": {}
  },
  {
   "cell_type": "markdown",
   "source": [
    "## AUC (Area under curve)"
   ],
   "metadata": {}
  },
  {
   "cell_type": "code",
   "execution_count": 11,
   "source": [
    "def calculate_entailment_ratio(labels):\n",
    "    labels = ast.literal_eval(labels)\n",
    "    entailment_count = sum(label == 'entailment' for label in labels) \n",
    "    return entailment_count / len(labels)"
   ],
   "outputs": [],
   "metadata": {}
  },
  {
   "cell_type": "code",
   "execution_count": 12,
   "source": [
    "# Add entailment ratios to df\n",
    "df_training_multiple_debertav3['entailment_ratio'] = df_training_multiple_debertav3['labels'].apply(calculate_entailment_ratio)\n",
    "df_training_multiple_bart['entailment_ratio'] = df_training_multiple_bart['labels'].apply(calculate_entailment_ratio)"
   ],
   "outputs": [],
   "metadata": {}
  },
  {
   "cell_type": "code",
   "execution_count": 13,
   "source": [
    "# Get unique class labels from 'predicted' column\n",
    "class_labels = np.unique(np.concatenate(df_training_multiple_debertav3['predicted']))\n",
    "positive_class = 'bias'\n",
    "\n",
    "y_true = (df_training_multiple_debertav3['bias'] == positive_class).astype(int)\n",
    "y_scores = df_training_multiple_debertav3['entailment_ratio']\n",
    "auc_roc = roc_auc_score(y_true, y_scores)\n",
    "print(f\"AUC-ROC Score for training data debertav3: {auc_roc}\")"
   ],
   "outputs": [
    {
     "output_type": "stream",
     "name": "stdout",
     "text": [
      "AUC-ROC Score for training data debertav3: 0.6509794495270282\n"
     ]
    }
   ],
   "metadata": {}
  },
  {
   "cell_type": "code",
   "execution_count": 14,
   "source": [
    "# Get unique class labels from 'predicted' column\n",
    "class_labels = np.unique(np.concatenate(df_training_multiple_bart['predicted']))\n",
    "positive_class = 'bias'\n",
    "\n",
    "y_true = (df_training_multiple_bart['bias'] == positive_class).astype(int)\n",
    "y_scores = df_training_multiple_bart['entailment_ratio']\n",
    "auc_roc = roc_auc_score(y_true, y_scores)\n",
    "print(f\"AUC-ROC Score for training data bart-large: {auc_roc}\")"
   ],
   "outputs": [
    {
     "output_type": "stream",
     "name": "stdout",
     "text": [
      "AUC-ROC Score for training data bart-large: 0.6764733018666356\n"
     ]
    }
   ],
   "metadata": {}
  },
  {
   "cell_type": "markdown",
   "source": [
    "# Test data analysis"
   ],
   "metadata": {}
  },
  {
   "cell_type": "code",
   "execution_count": 21,
   "source": [
    "df_test_multiple_bart = set_predictions_multiple(combined_test_bart, 2)\n",
    "df_test_multiple_debertav3 = set_predictions_multiple(combined_test_debertav3, 1)"
   ],
   "outputs": [],
   "metadata": {}
  },
  {
   "cell_type": "code",
   "execution_count": 22,
   "source": [
    "f1_scores_test_deberta = calculate_multiple_f1_scores(df_test_multiple_debertav3)\n",
    "print('F1 scores test deberta-v3:')\n",
    "print(f1_scores_test_deberta)\n",
    "\n",
    "f1_scores_test_bart = calculate_multiple_f1_scores(df_test_multiple_bart)\n",
    "print('F1 scores test bart-large:')\n",
    "print(f1_scores_test_bart)"
   ],
   "outputs": [
    {
     "output_type": "stream",
     "name": "stdout",
     "text": [
      "F1 scores test deberta-v3:\n",
      "[0.6387497727310293]\n",
      "F1 scores test bart-large:\n",
      "[0.6409096012431608, 0.654846494774973]\n"
     ]
    }
   ],
   "metadata": {}
  },
  {
   "cell_type": "code",
   "execution_count": 26,
   "source": [
    "# Add entailment ratios to df\n",
    "df_test_multiple_debertav3['entailment_ratio'] = df_test_multiple_debertav3['labels'].apply(calculate_entailment_ratio)\n",
    "df_test_multiple_bart['entailment_ratio'] = df_test_multiple_bart['labels'].apply(calculate_entailment_ratio)"
   ],
   "outputs": [],
   "metadata": {}
  },
  {
   "cell_type": "code",
   "execution_count": 27,
   "source": [
    "df_test_multiple_debertav3['entailment_ratio'] = df_test_multiple_debertav3['labels'].apply(calculate_entailment_ratio)\n",
    "# Get unique class labels from 'predicted' column\n",
    "class_labels = np.unique(np.concatenate(df_test_multiple_debertav3['predicted']))\n",
    "positive_class = 'bias'\n",
    "\n",
    "y_true = (df_test_multiple_debertav3['bias'] == positive_class).astype(int)\n",
    "y_scores = df_test_multiple_debertav3['entailment_ratio']\n",
    "auc_roc = roc_auc_score(y_true, y_scores)\n",
    "print(f\"AUC-ROC Score for deberta data: {auc_roc}\")"
   ],
   "outputs": [
    {
     "output_type": "stream",
     "name": "stdout",
     "text": [
      "AUC-ROC Score for deberta data: 0.6465139049366653\n"
     ]
    }
   ],
   "metadata": {}
  },
  {
   "cell_type": "code",
   "execution_count": 29,
   "source": [
    "df_test_multiple_bart['entailment_ratio'] = df_test_multiple_bart['labels'].apply(calculate_entailment_ratio)\n",
    "# Get unique class labels from 'predicted' column\n",
    "class_labels = np.unique(np.concatenate(df_test_multiple_bart['predicted']))\n",
    "positive_class = 'bias'\n",
    "\n",
    "y_true = (df_test_multiple_bart['bias'] == positive_class).astype(int)\n",
    "y_scores = df_test_multiple_bart['entailment_ratio']\n",
    "auc_roc = roc_auc_score(y_true, y_scores)\n",
    "print(f\"AUC-ROC Score for bart data: {auc_roc}\")"
   ],
   "outputs": [
    {
     "output_type": "stream",
     "name": "stdout",
     "text": [
      "AUC-ROC Score for bart data: 0.6873841076638463\n"
     ]
    }
   ],
   "metadata": {}
  },
  {
   "cell_type": "code",
   "execution_count": 33,
   "source": [
    "# Convert the true labels to binary values (0 for 'neutral', 1 for 'bias')\n",
    "y_true_deberta = (df_test_multiple_debertav3['bias'] == 'bias').astype(int)\n",
    "y_true_bart = (df_test_multiple_bart['bias'] == 'bias').astype(int)\n",
    "\n",
    "# Get the predicted ratios from the 'entailment_ratio' column\n",
    "y_scores_deberta = df_test_multiple_debertav3['entailment_ratio']\n",
    "y_scores_bart = df_test_multiple_bart['entailment_ratio']\n",
    "\n",
    "# Calculate the ROC curve for training data\n",
    "fpr_deberta, tpr_deberta, thresholds_train = roc_curve(y_true_deberta, y_scores_deberta)\n",
    "roc_auc_deberta = auc(fpr_deberta, tpr_deberta)\n",
    "\n",
    "# Calculate the ROC curve for test data\n",
    "fpr_bart, tpr_bart, thresholds_train = roc_curve(y_true_bart, y_scores_bart)\n",
    "roc_auc_bart = auc(fpr_bart, tpr_bart)\n",
    "\n",
    "# Plot the ROC curves side by side\n",
    "plt.figure(figsize=(12, 6))\n",
    "\n",
    "# Plot for training data\n",
    "plt.subplot(1, 2, 1)\n",
    "plt.plot(fpr_deberta, tpr_deberta, color='blue', lw=2, label=f'AUC = {roc_auc_deberta:.2f}')\n",
    "plt.plot([0, 1], [0, 1], color='gray', linestyle='--')\n",
    "plt.xlim([0.0, 1.0])\n",
    "plt.ylim([0.0, 1.0])\n",
    "plt.xlabel('False Positive Rate (FPR)')\n",
    "plt.ylabel('True Positive Rate (TPR)')\n",
    "plt.title('Debertav3 Data ROC Curve')\n",
    "plt.legend(loc='lower right')\n",
    "plt.grid(True)\n",
    "\n",
    "# Plot for test data\n",
    "plt.subplot(1, 2, 2)\n",
    "plt.plot(fpr_bart, tpr_bart, color='green', lw=2, label=f'AUC = {roc_auc_bart:.2f}')\n",
    "plt.plot([0, 1], [0, 1], color='gray', linestyle='--')\n",
    "plt.xlim([0.0, 1.0])\n",
    "plt.ylim([0.0, 1.0])\n",
    "plt.xlabel('False Positive Rate (FPR)')\n",
    "plt.ylabel('True Positive Rate (TPR)')\n",
    "plt.title('Bart-large Data ROC Curve')\n",
    "plt.legend(loc='lower right')\n",
    "plt.grid(True)\n",
    "\n",
    "plt.tight_layout()\n",
    "plt.show()\n"
   ],
   "outputs": [
    {
     "output_type": "display_data",
     "data": {
      "image/png": "[encoded data removed]",
      "text/plain": [
       "<Figure size 1200x600 with 2 Axes>"
      ]
     },
     "metadata": {}
    }
   ],
   "metadata": {}
  },
  {
   "cell_type": "markdown",
   "source": [
    "# Full deep dive of results "
   ],
   "metadata": {}
  },
  {
   "cell_type": "code",
   "execution_count": 71,
   "source": [
    "bart_large_rationale = pd.read_csv('results/rationale/bart-large_rationale_results.csv')\n",
    "deberta_base_rationale = pd.read_csv('results/rationale/deberta-base_rationale_results.csv')\n",
    "deberta_v3_rationale = pd.read_csv('results/rationale/deberta-v3_rationale_results.csv')"
   ],
   "outputs": [],
   "metadata": {}
  },
  {
   "cell_type": "code",
   "execution_count": 72,
   "source": [
    "deberta_results_training = pd.read_csv('results/training/debertav3/combined_deberta_trainng_results.csv')\n",
    "bart_results_training = pd.read_csv('results/training/bart-large/combined_training_results.csv')"
   ],
   "outputs": [],
   "metadata": {}
  },
  {
   "cell_type": "code",
   "execution_count": 73,
   "source": [
    "deberta_results = pd.read_csv('results/test/debertav3/combined_test_results_deberta.csv')\n",
    "bart_results = pd.read_csv('results/test/bart-large/combined_test_results.csv')\n",
    "\n",
    "# breakdown of accuracy for bart model by category\n",
    "bart_results_religion = pd.read_csv('results/test/bart-large/religion_test_results.csv')\n",
    "bart_results_gender = pd.read_csv('results/test/bart-large/gender_test_results.csv')\n",
    "bart_results_lgbtq = pd.read_csv('results/test/bart-large/lgbtq_test_results.csv')\n",
    "bart_results_political = pd.read_csv('results/test/bart-large/political_test_results.csv')\n",
    "bart_results_race = pd.read_csv('results/test/bart-large/race_test_results.csv')\n",
    "\n",
    "deberta_results_religion = pd.read_csv('results/test/debertav3/religion_labels_deberta_test.csv')\n",
    "deberta_results_gender = pd.read_csv('results/test/debertav3/gender_labels_deberta_test.csv')\n",
    "deberta_results_lgbtq = pd.read_csv('results/test/debertav3/lgbtq_labels_deberta_test.csv')\n",
    "deberta_results_political = pd.read_csv('results/test/debertav3/political_labels_deberta_test.csv')\n",
    "deberta_results_race = pd.read_csv('results/test/debertav3/race_labels_deberta_test.csv')\n",
    "# fine tuned \n",
    "bart_results_fine_tuned = pd.read_csv('results/fine_tuning/bart-large/fine_tuning_religion_test_results.csv')\n",
    "\n"
   ],
   "outputs": [],
   "metadata": {}
  },
  {
   "cell_type": "code",
   "execution_count": 74,
   "source": [
    "## Set predicted labels \n",
    "deberta_results_training = set_predictions_multiple(deberta_results_training, 15)\n",
    "bart_results_training = set_predictions_multiple(bart_results_training, 15)"
   ],
   "outputs": [],
   "metadata": {}
  },
  {
   "cell_type": "code",
   "execution_count": 75,
   "source": [
    "## Set predicted labels \n",
    "deberta_results = set_predictions_multiple(deberta_results, 15)\n",
    "bart_results = set_predictions_multiple(bart_results, 15)\n",
    "\n",
    "bart_results_religion = set_predictions_multiple(bart_results_religion, 15)\n",
    "bart_results_gender= set_predictions_multiple(bart_results_gender, 15)\n",
    "bart_results_lgbtq = set_predictions_multiple(bart_results_lgbtq, 15)\n",
    "bart_results_political = set_predictions_multiple(bart_results_political, 15)\n",
    "bart_results_race = set_predictions_multiple(bart_results_race, 15)\n",
    "\n",
    "deberta_results_religion = set_predictions_multiple(deberta_results_religion, 15)\n",
    "deberta_results_gender = set_predictions_multiple(deberta_results_gender, 15)\n",
    "deberta_results_lgbtq = set_predictions_multiple(deberta_results_lgbtq, 15)\n",
    "deberta_results_political = set_predictions_multiple(deberta_results_political, 15)\n",
    "deberta_results_race = set_predictions_multiple(deberta_results_race, 15)\n",
    "\n",
    "bart_results_fine_tuned = set_predictions_multiple(bart_results_fine_tuned, 15)"
   ],
   "outputs": [],
   "metadata": {}
  },
  {
   "cell_type": "code",
   "execution_count": 76,
   "source": [
    "\n",
    "def get_accuracy_results(df, threshold=1):\n",
    "\n",
    "  # lower threshold for indexing issues\n",
    "  threshold = threshold - 1\n",
    "\n",
    "  true_positive_bias = len(df[df.apply(lambda row: 'bias' in row['predicted'][threshold] and row['bias'] == 'bias', axis=1)])\n",
    "  false_positive_bias = len(df[df.apply(lambda row: 'bias' in row['predicted'][threshold] and row['bias'] == 'neutral', axis=1)])\n",
    "  false_negative_bias = len(df[df.apply(lambda row: 'neutral' in row['predicted'][threshold] and row['bias'] == 'bias', axis=1)])\n",
    "\n",
    "  precision_bias = true_positive_bias / (true_positive_bias + false_positive_bias + 1e-10)  # Adding a small constant\n",
    "  recall_bias = true_positive_bias / (true_positive_bias + false_negative_bias + 1e-10)  # Adding a small constant\n",
    "  f1_bias = (2 * precision_bias * recall_bias) / (precision_bias + recall_bias + 1e-10)  # Adding a small constant\n",
    "\n",
    "  true_positive_neutral = len(df[df.apply(lambda row: 'neutral' in row['predicted'][threshold] and row['bias'] == 'neutral', axis=1)])\n",
    "  false_positive_neutral = len(df[df.apply(lambda row: 'neutral' in row['predicted'][threshold] and row['bias'] == 'bias', axis=1)])\n",
    "  false_negative_neutral = len(df[df.apply(lambda row: 'bias' in row['predicted'][threshold] and row['bias'] == 'neutral', axis=1)])\n",
    "\n",
    "\n",
    "  precision_neutral = true_positive_neutral / (true_positive_neutral + false_positive_neutral + 1e-10)  # Adding a small constant\n",
    "  recall_neutral = true_positive_neutral / (true_positive_neutral + false_negative_neutral + 1e-10)  # Adding a small constant\n",
    "  f1_neutral = (2 * precision_neutral * recall_neutral) / (precision_neutral + recall_neutral + 1e-10)  # Adding a small constant\n",
    "\n",
    "  return ({\n",
    "    'precision': (precision_bias + precision_neutral) / 2,\n",
    "    'recall': (recall_bias + recall_neutral) / 2,\n",
    "    'f1': (f1_bias + f1_neutral) / 2,\n",
    "    'accuracy': (true_positive_bias + true_positive_neutral) / len(df)\n",
    "\n",
    "  })\n",
    "    \n"
   ],
   "outputs": [],
   "metadata": {}
  },
  {
   "cell_type": "code",
   "execution_count": 77,
   "source": [
    "get_accuracy_results(bart_results,2)"
   ],
   "outputs": [
    {
     "output_type": "execute_result",
     "data": {
      "text/plain": [
       "{'precision': 0.6632725165075968,\n",
       " 'recall': 0.6577598828696685,\n",
       " 'f1': 0.6548464947253818,\n",
       " 'accuracy': 0.6577598828696926}"
      ]
     },
     "metadata": {},
     "execution_count": 77
    }
   ],
   "metadata": {}
  },
  {
   "cell_type": "code",
   "execution_count": 78,
   "source": [
    "get_accuracy_results(deberta_results,1)"
   ],
   "outputs": [
    {
     "output_type": "execute_result",
     "data": {
      "text/plain": [
       "{'precision': 0.6415079552326399,\n",
       " 'recall': 0.6398243045387759,\n",
       " 'f1': 0.638749772681156,\n",
       " 'accuracy': 0.6398243045387995}"
      ]
     },
     "metadata": {},
     "execution_count": 78
    }
   ],
   "metadata": {}
  },
  {
   "cell_type": "code",
   "execution_count": 79,
   "source": [
    "get_accuracy_results(bart_results_fine_tuned,2)"
   ],
   "outputs": [
    {
     "output_type": "execute_result",
     "data": {
      "text/plain": [
       "{'precision': 0.5186763146397171,\n",
       " 'recall': 0.5015030060119737,\n",
       " 'f1': 0.35270146635422417,\n",
       " 'accuracy': 0.501503006012024}"
      ]
     },
     "metadata": {},
     "execution_count": 79
    }
   ],
   "metadata": {}
  },
  {
   "cell_type": "code",
   "execution_count": 80,
   "source": [
    "get_accuracy_results(bart_results_training,1)"
   ],
   "outputs": [
    {
     "output_type": "execute_result",
     "data": {
      "text/plain": [
       "{'precision': 0.7090373924693028,\n",
       " 'recall': 0.6507633587785431,\n",
       " 'f1': 0.6246005256704297,\n",
       " 'accuracy': 0.6507633587786259}"
      ]
     },
     "metadata": {},
     "execution_count": 80
    }
   ],
   "metadata": {}
  },
  {
   "cell_type": "code",
   "execution_count": 81,
   "source": [
    "get_accuracy_results(deberta_results_training,1)"
   ],
   "outputs": [
    {
     "output_type": "execute_result",
     "data": {
      "text/plain": [
       "{'precision': 0.641844287218653,\n",
       " 'recall': 0.6393129770991552,\n",
       " 'f1': 0.6376965878536096,\n",
       " 'accuracy': 0.6393129770992366}"
      ]
     },
     "metadata": {},
     "execution_count": 81
    }
   ],
   "metadata": {}
  },
  {
   "cell_type": "markdown",
   "source": [
    "### categorical deberta"
   ],
   "metadata": {}
  },
  {
   "cell_type": "code",
   "execution_count": 82,
   "source": [
    "get_accuracy_results(deberta_results_religion)"
   ],
   "outputs": [
    {
     "output_type": "execute_result",
     "data": {
      "text/plain": [
       "{'precision': 0.7132094025901863,\n",
       " 'recall': 0.6993987975951204,\n",
       " 'f1': 0.6944508227598116,\n",
       " 'accuracy': 0.6993987975951904}"
      ]
     },
     "metadata": {},
     "execution_count": 82
    }
   ],
   "metadata": {}
  },
  {
   "cell_type": "code",
   "execution_count": 83,
   "source": [
    "get_accuracy_results(deberta_results_gender)"
   ],
   "outputs": [
    {
     "output_type": "execute_result",
     "data": {
      "text/plain": [
       "{'precision': 0.6490017399505558,\n",
       " 'recall': 0.5914893617018759,\n",
       " 'f1': 0.547859547815791,\n",
       " 'accuracy': 0.5914893617021276}"
      ]
     },
     "metadata": {},
     "execution_count": 83
    }
   ],
   "metadata": {}
  },
  {
   "cell_type": "code",
   "execution_count": 84,
   "source": [
    "get_accuracy_results(deberta_results_lgbtq)"
   ],
   "outputs": [
    {
     "output_type": "execute_result",
     "data": {
      "text/plain": [
       "{'precision': 0.6532646102859603,\n",
       " 'recall': 0.6460055096416953,\n",
       " 'f1': 0.6417637063065755,\n",
       " 'accuracy': 0.6460055096418733}"
      ]
     },
     "metadata": {},
     "execution_count": 84
    }
   ],
   "metadata": {}
  },
  {
   "cell_type": "code",
   "execution_count": 85,
   "source": [
    "get_accuracy_results(deberta_results_political)"
   ],
   "outputs": [
    {
     "output_type": "execute_result",
     "data": {
      "text/plain": [
       "{'precision': 0.7005495957295522,\n",
       " 'recall': 0.6992753623183339,\n",
       " 'f1': 0.698796923228779,\n",
       " 'accuracy': 0.6992753623188406}"
      ]
     },
     "metadata": {},
     "execution_count": 85
    }
   ],
   "metadata": {}
  },
  {
   "cell_type": "code",
   "execution_count": 86,
   "source": [
    "get_accuracy_results(deberta_results_race)"
   ],
   "outputs": [
    {
     "output_type": "execute_result",
     "data": {
      "text/plain": [
       "{'precision': 0.5916780076210533,\n",
       " 'recall': 0.5811623246492403,\n",
       " 'f1': 0.5687973347815681,\n",
       " 'accuracy': 0.5811623246492986}"
      ]
     },
     "metadata": {},
     "execution_count": 86
    }
   ],
   "metadata": {}
  },
  {
   "cell_type": "markdown",
   "source": [
    "### Categorical bart"
   ],
   "metadata": {}
  },
  {
   "cell_type": "code",
   "execution_count": 87,
   "source": [
    "get_accuracy_results(bart_results_religion,2)"
   ],
   "outputs": [
    {
     "output_type": "execute_result",
     "data": {
      "text/plain": [
       "{'precision': 0.7504521320722626,\n",
       " 'recall': 0.7424849699398053,\n",
       " 'f1': 0.7404205921475469,\n",
       " 'accuracy': 0.7424849699398798}"
      ]
     },
     "metadata": {},
     "execution_count": 87
    }
   ],
   "metadata": {}
  },
  {
   "cell_type": "code",
   "execution_count": 88,
   "source": [
    "get_accuracy_results(bart_results_gender,2)"
   ],
   "outputs": [
    {
     "output_type": "execute_result",
     "data": {
      "text/plain": [
       "{'precision': 0.5874906924790472,\n",
       " 'recall': 0.5489361702125324,\n",
       " 'f1': 0.49309130864069106,\n",
       " 'accuracy': 0.548936170212766}"
      ]
     },
     "metadata": {},
     "execution_count": 88
    }
   ],
   "metadata": {}
  },
  {
   "cell_type": "code",
   "execution_count": 89,
   "source": [
    "get_accuracy_results(bart_results_lgbtq,2)"
   ],
   "outputs": [
    {
     "output_type": "execute_result",
     "data": {
      "text/plain": [
       "{'precision': 0.7377802946419442,\n",
       " 'recall': 0.7134986225893352,\n",
       " 'f1': 0.7059927572425638,\n",
       " 'accuracy': 0.7134986225895317}"
      ]
     },
     "metadata": {},
     "execution_count": 89
    }
   ],
   "metadata": {}
  },
  {
   "cell_type": "code",
   "execution_count": 90,
   "source": [
    "get_accuracy_results(bart_results_race,2)"
   ],
   "outputs": [
    {
     "output_type": "execute_result",
     "data": {
      "text/plain": [
       "{'precision': 0.6134056995902262,\n",
       " 'recall': 0.5761523046091607,\n",
       " 'f1': 0.5382298119892424,\n",
       " 'accuracy': 0.5761523046092184}"
      ]
     },
     "metadata": {},
     "execution_count": 90
    }
   ],
   "metadata": {}
  },
  {
   "cell_type": "code",
   "execution_count": 91,
   "source": [
    "get_accuracy_results(bart_results_political,2)"
   ],
   "outputs": [
    {
     "output_type": "execute_result",
     "data": {
      "text/plain": [
       "{'precision': 0.7296809986122857,\n",
       " 'recall': 0.6739130434777726,\n",
       " 'f1': 0.6528398926186355,\n",
       " 'accuracy': 0.6739130434782609}"
      ]
     },
     "metadata": {},
     "execution_count": 91
    }
   ],
   "metadata": {}
  },
  {
   "cell_type": "code",
   "execution_count": 92,
   "source": [
    "bart_results_religion_accuracy = get_accuracy_results(bart_results_religion,2)\n",
    "bart_results_gender_accuracy = get_accuracy_results(bart_results_gender,2)\n",
    "bart_results_lgbtq_accuracy = get_accuracy_results(bart_results_lgbtq,2)\n",
    "bart_results_race_accuracy = get_accuracy_results(bart_results_race,2)\n",
    "bart_results_political_accuracy = get_accuracy_results(bart_results_political,2)\n",
    "\n",
    "deberta_results_religion_accuracy = get_accuracy_results(deberta_results_religion,2)\n",
    "deberta_results_gender_accuracy = get_accuracy_results(deberta_results_gender,2)\n",
    "deberta_results_lgbtq_accuracy = get_accuracy_results(deberta_results_lgbtq,2)\n",
    "deberta_results_race_accuracy = get_accuracy_results(deberta_results_race,2)\n",
    "deberta_results_political_accuracy = get_accuracy_results(deberta_results_political,2)\n"
   ],
   "outputs": [],
   "metadata": {}
  },
  {
   "cell_type": "code",
   "execution_count": 93,
   "source": [
    "\n",
    "# List of categories\n",
    "categories = ['Religion', 'Gender', 'LGBTQ', 'Race', 'Political']\n",
    "\n",
    "# Accuracy results for BART and DeBERTa models\n",
    "bart_results_f1_category = [bart_results_religion_accuracy['f1'], bart_results_gender_accuracy['f1'], bart_results_lgbtq_accuracy['f1'], bart_results_race_accuracy['f1'], bart_results_political_accuracy['f1']]\n",
    "deberta_results_f1_category = [deberta_results_religion_accuracy['f1'], deberta_results_gender_accuracy['f1'], deberta_results_lgbtq_accuracy['f1'], deberta_results_race_accuracy['f1'], deberta_results_political_accuracy['f1']]\n",
    "\n",
    "# Width of each bar\n",
    "bar_width = 0.35\n",
    "\n",
    "# Create a figure and axis\n",
    "fig, ax = plt.subplots()\n",
    "\n",
    "# Position of each bar group on the x-axis\n",
    "x = range(len(categories))\n",
    "\n",
    "# Plot the bars for BART and DeBERTa accuracy results\n",
    "bart_bars = ax.bar(x, bart_results_f1_category, bar_width, label='bart-large')\n",
    "deberta_bars = ax.bar([i + bar_width for i in x], deberta_results_f1_category, bar_width, label='deberta-v3')\n",
    "\n",
    "# Set labels, title, and legend\n",
    "ax.set_xlabel('Categories')\n",
    "ax.set_ylabel('F1 Score')\n",
    "ax.set_title('F1 Score Comparison by Category and Model')\n",
    "ax.set_xticks([i + bar_width/2 for i in x])\n",
    "ax.set_xticklabels(categories)\n",
    "ax.legend()\n",
    "\n",
    "# Show the plot\n",
    "plt.tight_layout()\n",
    "plt.show()\n"
   ],
   "outputs": [
    {
     "output_type": "display_data",
     "data": {
      "image/png": "[encoded data removed]",
      "text/plain": [
       "<Figure size 640x480 with 1 Axes>"
      ]
     },
     "metadata": {}
    }
   ],
   "metadata": {}
  },
  {
   "cell_type": "markdown",
   "source": [
    "### Old rationale results anaylsis"
   ],
   "metadata": {}
  },
  {
   "cell_type": "code",
   "execution_count": 94,
   "source": [
    "\n",
    "def get_accuracy_results_rationale(df):\n",
    "  \n",
    "  true_positive_bias = len(df[df.apply(lambda row: 'entailment' in row['predicted'] and row['bias'] == 'bias', axis=1)])\n",
    "  false_positive_bias = len(df[df.apply(lambda row: 'entailment' in row['predicted'] and row['bias'] == 'neutral', axis=1)])\n",
    "  false_negative_bias = len(df[df.apply(lambda row: ('neutral' in row['predicted'] or 'contradiction' in row['predicted']) and row['bias'] == 'bias', axis=1)])\n",
    "\n",
    "  precision_bias = true_positive_bias / (true_positive_bias + false_positive_bias + 1e-10)  # Adding a small constant\n",
    "  recall_bias = true_positive_bias / (true_positive_bias + false_negative_bias + 1e-10)  # Adding a small constant\n",
    "  f1_bias = (2 * precision_bias * recall_bias) / (precision_bias + recall_bias + 1e-10)  # Adding a small constant\n",
    "\n",
    "  true_positive_neutral = len(df[df.apply(lambda row: ('neutral' in row['predicted'] or 'contradiction' in row['predicted']) and row['bias'] == 'neutral', axis=1)])\n",
    "  false_positive_neutral = len(df[df.apply(lambda row: ('neutral' in row['predicted'] or 'contradiction' in row['predicted']) and row['bias'] == 'bias', axis=1)])\n",
    "  false_negative_neutral = len(df[df.apply(lambda row: 'entailment' in row['predicted'] and row['bias'] == 'neutral', axis=1)])\n",
    "\n",
    "  precision_neutral = true_positive_neutral / (true_positive_neutral + false_positive_neutral + 1e-10)  # Adding a small constant\n",
    "  recall_neutral = true_positive_neutral / (true_positive_neutral + false_negative_neutral + 1e-10)  # Adding a small constant\n",
    "  f1_neutral = (2 * precision_neutral * recall_neutral) / (precision_neutral + recall_neutral + 1e-10)  # Adding a small constant\n",
    "\n",
    "  return ({\n",
    "    'precision': (precision_bias + precision_neutral) / 2,\n",
    "    'recall': (recall_bias + recall_neutral) / 2,\n",
    "    'f1': (f1_bias + f1_neutral) / 2,\n",
    "    'accuracy': (true_positive_bias + true_positive_neutral) / len(df)\n",
    "\n",
    "  })\n",
    "    \n"
   ],
   "outputs": [],
   "metadata": {}
  },
  {
   "cell_type": "code",
   "execution_count": 95,
   "source": [
    "get_accuracy_results_rationale(bart_large_rationale)"
   ],
   "outputs": [
    {
     "output_type": "execute_result",
     "data": {
      "text/plain": [
       "{'precision': 0.1508759291529367,\n",
       " 'recall': 0.1529999999999694,\n",
       " 'f1': 0.15170975048060326,\n",
       " 'accuracy': 0.153}"
      ]
     },
     "metadata": {},
     "execution_count": 95
    }
   ],
   "metadata": {}
  },
  {
   "cell_type": "code",
   "execution_count": 96,
   "source": [
    "get_accuracy_results_rationale(deberta_base_rationale)"
   ],
   "outputs": [
    {
     "output_type": "execute_result",
     "data": {
      "text/plain": [
       "{'precision': 0.11288013160062285,\n",
       " 'recall': 0.11499999999997701,\n",
       " 'f1': 0.11378677404378049,\n",
       " 'accuracy': 0.115}"
      ]
     },
     "metadata": {},
     "execution_count": 96
    }
   ],
   "metadata": {}
  },
  {
   "cell_type": "code",
   "execution_count": 97,
   "source": [
    "get_accuracy_results_rationale(deberta_v3_rationale)"
   ],
   "outputs": [
    {
     "output_type": "execute_result",
     "data": {
      "text/plain": [
       "{'precision': 0.5472304088262411,\n",
       " 'recall': 0.529999999999894,\n",
       " 'f1': 0.48283223073159265,\n",
       " 'accuracy': 0.53}"
      ]
     },
     "metadata": {},
     "execution_count": 97
    }
   ],
   "metadata": {}
  },
  {
   "cell_type": "markdown",
   "source": [
    "### Breakdown of total neutral vs total bias predictions"
   ],
   "metadata": {}
  },
  {
   "cell_type": "code",
   "execution_count": 98,
   "source": [
    "def get_prediction_breakdown(df, threshold=1):\n",
    "\n",
    "  # lower threshold for indexing issues\n",
    "  threshold = threshold - 1\n",
    "\n",
    "  # Count occurrences of 'bias' and 'neutral' predictions\n",
    "  total_bias = len(df[df.apply(lambda row: 'bias' in row['predicted'][threshold], axis=1)])\n",
    "  total_neutral = len(df[df.apply(lambda row: 'neutral' in row['predicted'][threshold], axis=1)])\n",
    "\n",
    "  return ({\n",
    "    'Bias': total_bias,\n",
    "    'Neutral':total_neutral\n",
    "  })\n",
    "    \n",
    "\n",
    "print(get_prediction_breakdown(bart_results, 2))\n",
    "print(get_prediction_breakdown(deberta_results, 1))\n",
    "\n"
   ],
   "outputs": [
    {
     "output_type": "stream",
     "name": "stdout",
     "text": [
      "{'Bias': 3234, 'Neutral': 2230}\n",
      "{'Bias': 3030, 'Neutral': 2434}\n"
     ]
    }
   ],
   "metadata": {}
  },
  {
   "cell_type": "code",
   "execution_count": 99,
   "source": [
    "print(3234/(3234+2230))\n",
    "print(2230/(3234+2230))\n",
    "\n",
    "print(3030/(3030+2434))\n",
    "print(2434/(3030+2434))\n"
   ],
   "outputs": [
    {
     "output_type": "stream",
     "name": "stdout",
     "text": [
      "0.5918740849194729\n",
      "0.4081259150805271\n",
      "0.5545387994143485\n",
      "0.44546120058565153\n"
     ]
    }
   ],
   "metadata": {}
  },
  {
   "cell_type": "code",
   "execution_count": null,
   "source": [],
   "outputs": [],
   "metadata": {}
  }
 ],
 "metadata": {
  "orig_nbformat": 4,
  "language_info": {
   "name": "python",
   "version": "3.9.12",
   "mimetype": "text/x-python",
   "codemirror_mode": {
    "name": "ipython",
    "version": 3
   },
   "pygments_lexer": "ipython3",
   "nbconvert_exporter": "python",
   "file_extension": ".py"
  },
  "kernelspec": {
   "name": "python3",
   "display_name": "Python 3.9.12 64-bit"
  },
  "interpreter": {
   "hash": "aee8b7b246df8f9039afb4144a1f6fd8d2ca17a180786b69acc140d282b71a49"
  }
 },
 "nbformat": 4,
 "nbformat_minor": 2
}