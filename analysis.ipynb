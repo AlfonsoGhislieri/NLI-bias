{
 "cells": [
  {
   "cell_type": "code",
   "execution_count": 6,
   "source": [
    "import sys\n",
    "sys.path.append('src/')\n",
    "import pandas as pd\n",
    "from sklearn.model_selection import train_test_split\n",
    "from sklearn.metrics import f1_score, roc_auc_score, roc_curve, auc\n",
    "from sklearn.preprocessing import LabelEncoder\n",
    "import pandas as pd\n",
    "import torch\n",
    "from transformers import AutoModelForSequenceClassification, AutoTokenizer, TrainingArguments, Trainer\n",
    "import torch\n",
    "import ast\n",
    "import matplotlib.pyplot as plt\n",
    "import numpy as np\n",
    "import evaluate\n",
    "from datasets import Dataset\n",
    "\n",
    "# panda view settings\n",
    "pd.set_option('display.max_columns', None)  # Display all columns\n",
    "pd.set_option('display.max_rows', None)  # Display all rows\n",
    "pd.set_option('display.max_colwidth', 500)  # Display full text in columns"
   ],
   "outputs": [],
   "metadata": {}
  },
  {
   "cell_type": "code",
   "execution_count": 15,
   "source": [
    "combined_training_bart = pd.read_csv('results/training/bart-large/combined_training_results.csv')\n",
    "combined_training_debertav3 = pd.read_csv('results/training/debertav3/combined_deberta_trainng_results.csv')"
   ],
   "outputs": [],
   "metadata": {}
  },
  {
   "cell_type": "markdown",
   "source": [
    "## Test f1 scores"
   ],
   "metadata": {}
  },
  {
   "cell_type": "code",
   "execution_count": 16,
   "source": [
    "def set_predictions_multiple(df, max_correct_threshold=1):\n",
    "    def is_bias(row, n_labels):\n",
    "        labels = ast.literal_eval(row['labels'])\n",
    "        if sum(label == 'entailment' for label in labels) >= n_labels:\n",
    "            return 'bias'\n",
    "        else:\n",
    "            return 'neutral'\n",
    "\n",
    "    label_correctness_list = []\n",
    "\n",
    "    for _, row in df.iterrows():\n",
    "        row_results = []\n",
    "\n",
    "        for n in range(1, max_correct_threshold + 1):\n",
    "            result = is_bias(row, n)\n",
    "            row_results.append(result)\n",
    "\n",
    "        label_correctness_list.append(row_results)\n",
    "\n",
    "    # Add the list as the 'is_label_correct' column in the DataFrame\n",
    "    df['predicted'] = pd.Series(label_correctness_list)\n",
    "\n",
    "    return df\n"
   ],
   "outputs": [],
   "metadata": {}
  },
  {
   "cell_type": "code",
   "execution_count": 17,
   "source": [
    "df_training_multiple_bart = set_predictions_multiple(combined_training_bart, 15)\n",
    "df_training_multiple_debertav3 = set_predictions_multiple(combined_training_debertav3, 15)"
   ],
   "outputs": [],
   "metadata": {}
  },
  {
   "cell_type": "code",
   "execution_count": null,
   "source": [],
   "outputs": [],
   "metadata": {}
  },
  {
   "cell_type": "code",
   "execution_count": null,
   "source": [],
   "outputs": [],
   "metadata": {}
  },
  {
   "cell_type": "code",
   "execution_count": null,
   "source": [],
   "outputs": [],
   "metadata": {}
  }
 ],
 "metadata": {
  "orig_nbformat": 4,
  "language_info": {
   "name": "python",
   "version": "3.9.12",
   "mimetype": "text/x-python",
   "codemirror_mode": {
    "name": "ipython",
    "version": 3
   },
   "pygments_lexer": "ipython3",
   "nbconvert_exporter": "python",
   "file_extension": ".py"
  },
  "kernelspec": {
   "name": "python3",
   "display_name": "Python 3.9.12 64-bit"
  },
  "interpreter": {
   "hash": "aee8b7b246df8f9039afb4144a1f6fd8d2ca17a180786b69acc140d282b71a49"
  }
 },
 "nbformat": 4,
 "nbformat_minor": 2
}