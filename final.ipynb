{
 "cells": [
  {
   "cell_type": "code",
   "execution_count": 213,
   "source": [
    "!pip3 install transformers"
   ],
   "outputs": [
    {
     "output_type": "stream",
     "name": "stdout",
     "text": [
      "huggingface/tokenizers: The current process just got forked, after parallelism has already been used. Disabling parallelism to avoid deadlocks...\n",
      "To disable this warning, you can either:\n",
      "\t- Avoid using `tokenizers` before the fork if possible\n",
      "\t- Explicitly set the environment variable TOKENIZERS_PARALLELISM=(true | false)\n",
      "\u001b[33mDEPRECATION: Configuring installation scheme with distutils config files is deprecated and will no longer work in the near future. If you are using a Homebrew or Linuxbrew Python, please see discussion at https://github.com/Homebrew/homebrew-core/issues/76621\u001b[0m\u001b[33m\n",
      "\u001b[0mRequirement already satisfied: transformers in /usr/local/lib/python3.9/site-packages (4.29.2)\n",
      "Requirement already satisfied: numpy>=1.17 in /usr/local/lib/python3.9/site-packages (from transformers) (1.21.5)\n",
      "Requirement already satisfied: huggingface-hub<1.0,>=0.14.1 in /usr/local/lib/python3.9/site-packages (from transformers) (0.14.1)\n",
      "Requirement already satisfied: tqdm>=4.27 in /usr/local/lib/python3.9/site-packages (from transformers) (4.65.0)\n",
      "Requirement already satisfied: packaging>=20.0 in /usr/local/lib/python3.9/site-packages (from transformers) (21.3)\n",
      "Requirement already satisfied: requests in /usr/local/lib/python3.9/site-packages (from transformers) (2.31.0)\n",
      "Requirement already satisfied: pyyaml>=5.1 in /usr/local/lib/python3.9/site-packages (from transformers) (6.0)\n",
      "Requirement already satisfied: regex!=2019.12.17 in /usr/local/lib/python3.9/site-packages (from transformers) (2023.5.5)\n",
      "Requirement already satisfied: tokenizers!=0.11.3,<0.14,>=0.11.1 in /usr/local/lib/python3.9/site-packages (from transformers) (0.13.3)\n",
      "Requirement already satisfied: filelock in /usr/local/lib/python3.9/site-packages (from transformers) (3.12.0)\n",
      "Requirement already satisfied: typing-extensions>=3.7.4.3 in /usr/local/lib/python3.9/site-packages (from huggingface-hub<1.0,>=0.14.1->transformers) (4.5.0)\n",
      "Requirement already satisfied: fsspec in /usr/local/lib/python3.9/site-packages (from huggingface-hub<1.0,>=0.14.1->transformers) (2023.5.0)\n",
      "Requirement already satisfied: pyparsing!=3.0.5,>=2.0.2 in /usr/local/lib/python3.9/site-packages (from packaging>=20.0->transformers) (3.0.9)\n",
      "Requirement already satisfied: urllib3<3,>=1.21.1 in /usr/local/lib/python3.9/site-packages (from requests->transformers) (1.26.12)\n",
      "Requirement already satisfied: charset-normalizer<4,>=2 in /usr/local/lib/python3.9/site-packages (from requests->transformers) (2.1.1)\n",
      "Requirement already satisfied: idna<4,>=2.5 in /usr/local/lib/python3.9/site-packages (from requests->transformers) (2.10)\n",
      "Requirement already satisfied: certifi>=2017.4.17 in /usr/local/lib/python3.9/site-packages (from requests->transformers) (2022.9.24)\n",
      "\u001b[33mDEPRECATION: Configuring installation scheme with distutils config files is deprecated and will no longer work in the near future. If you are using a Homebrew or Linuxbrew Python, please see discussion at https://github.com/Homebrew/homebrew-core/issues/76621\u001b[0m\u001b[33m\n",
      "\u001b[0m\u001b[33mWARNING: You are using pip version 22.0.4; however, version 23.2.1 is available.\n",
      "You should consider upgrading via the '/usr/local/opt/python@3.9/bin/python3.9 -m pip install --upgrade pip' command.\u001b[0m\u001b[33m\n",
      "\u001b[0m"
     ]
    }
   ],
   "metadata": {}
  },
  {
   "cell_type": "code",
   "execution_count": 306,
   "source": [
    "import sys\n",
    "sys.path.append('src/')\n",
    "import pandas as pd\n",
    "from sklearn.model_selection import train_test_split\n",
    "from sklearn.metrics import f1_score, roc_auc_score, roc_curve, auc\n",
    "from sklearn.preprocessing import LabelEncoder\n",
    "import torch\n",
    "import ast\n",
    "import matplotlib.pyplot as plt\n",
    "import numpy as np\n",
    "\n",
    "# panda view settings\n",
    "pd.set_option('display.max_columns', None)  # Display all columns\n",
    "pd.set_option('display.max_rows', None)  # Display all rows\n",
    "pd.set_option('display.max_colwidth', 500)  # Display full text in columns"
   ],
   "outputs": [],
   "metadata": {}
  },
  {
   "cell_type": "code",
   "execution_count": 307,
   "source": [
    "DEVICE = torch.device(\n",
    "    \"cuda\") if torch.cuda.is_available() else torch.device(\"cpu\")\n",
    "\n",
    "print(DEVICE)"
   ],
   "outputs": [
    {
     "output_type": "stream",
     "name": "stdout",
     "text": [
      "cpu\n"
     ]
    }
   ],
   "metadata": {}
  },
  {
   "cell_type": "markdown",
   "source": [
    "## Read from exisiting csvs"
   ],
   "metadata": {}
  },
  {
   "cell_type": "code",
   "execution_count": 388,
   "source": [
    "df_train = pd.read_csv(\"./data/toxicbias_train.csv\")\n",
    "df_test = pd.read_csv(\"./data/toxicbias_test.csv\")\n",
    "\n",
    "# split up train data into bias and neutral\n",
    "df_bias = df_train[df_train['bias'] == 'bias']\n",
    "df_neutral = df_train[df_train['bias'] == 'neutral']\n",
    "\n",
    "# add extra neutral cases from test data\n",
    "df_test_neutral = df_test[df_test['bias'] == 'neutral']\n",
    "df_neutral = pd.concat([df_neutral, df_test_neutral], ignore_index=True)\n"
   ],
   "outputs": [],
   "metadata": {}
  },
  {
   "cell_type": "code",
   "execution_count": 396,
   "source": [
    "# Read the CSV files into DataFrames\n",
    "df_political_results = pd.read_csv('./results/final/political_results.csv')\n",
    "df_gender_results = pd.read_csv('./results/final/gender_results.csv')\n",
    "df_lgbtq_results = pd.read_csv('./results/final/lgbtq_results.csv')\n",
    "df_race_results = pd.read_csv('./results/final/race_results.csv')\n",
    "df_religion_results = pd.read_csv('./results/final/religion_results.csv')\n",
    "\n",
    "# read training results \n",
    "df_political_training = pd.read_csv('./results/training/training_political_results.csv')\n",
    "df_gender_training = pd.read_csv('./results/training/training_gender_results.csv')\n",
    "df_lgbtq_training = pd.read_csv('./results/training/training_lgbtq_results.csv')\n",
    "df_race_training = pd.read_csv('./results/training/training_race_results.csv')\n",
    "df_religion_training = pd.read_csv('./results/training/training_religion_results.csv')\n",
    "\n",
    "# Combine the DataFrames into one\n",
    "combined_df = pd.concat([df_political_results, df_gender_results, df_lgbtq_results, df_race_results, df_religion_results], ignore_index=True)\n",
    "combined_training_df = pd.concat([df_political_training, df_gender_training, df_lgbtq_training, df_race_training, df_religion_training], ignore_index=True)"
   ],
   "outputs": [],
   "metadata": {}
  },
  {
   "cell_type": "markdown",
   "source": [
    "## Split up dataframe by category"
   ],
   "metadata": {}
  },
  {
   "cell_type": "code",
   "execution_count": 397,
   "source": [
    "# store unique categories\n",
    "unique_categories = set()\n",
    "\n",
    "# Iterate through each entry in the 'category' column\n",
    "for categories in df_bias['category'].str.split(','):\n",
    "    for category in categories:\n",
    "        stripped_category = category.strip()\n",
    "        if stripped_category and stripped_category.lower() != 'none':\n",
    "            unique_categories.add(stripped_category)\n",
    "\n",
    "unique_categories_list = sorted(list(unique_categories))"
   ],
   "outputs": [],
   "metadata": {}
  },
  {
   "cell_type": "code",
   "execution_count": 398,
   "source": [
    "categorical_dfs = {category: pd.DataFrame(columns=df_bias.columns) for category in unique_categories_list}\n",
    "\n",
    "# Split categories and add rows to the corresponding dataframes in dictionary\n",
    "def split_categories_and_add_rows(row):\n",
    "    categories = row['category'].split(',')\n",
    "    for category in categories:\n",
    "        category = category.strip()  # Remove leading/trailing spaces\n",
    "        if category in categorical_dfs:\n",
    "            categorical_dfs[category] = categorical_dfs[category].append(row, ignore_index=True)\n",
    "\n",
    "df_bias.apply(split_categories_and_add_rows, axis=1)\n",
    "\n",
    "# Print the shape of each category dataframe\n",
    "for category, category_df in categorical_dfs.items():\n",
    "    print(f\"Dataframe for {category}:\")\n",
    "    print(f\"Shape: {category_df.shape}\")\n",
    "    print(\"\\n\")"
   ],
   "outputs": [
    {
     "output_type": "stream",
     "name": "stdout",
     "text": [
      "Dataframe for gender:\n",
      "Shape: (293, 6)\n",
      "\n",
      "\n",
      "Dataframe for lgbtq:\n",
      "Shape: (453, 6)\n",
      "\n",
      "\n",
      "Dataframe for political:\n",
      "Shape: (172, 6)\n",
      "\n",
      "\n",
      "Dataframe for race:\n",
      "Shape: (1768, 6)\n",
      "\n",
      "\n",
      "Dataframe for religion:\n",
      "Shape: (1257, 6)\n",
      "\n",
      "\n"
     ]
    }
   ],
   "metadata": {}
  },
  {
   "cell_type": "markdown",
   "source": [
    "## Split training and test data"
   ],
   "metadata": {}
  },
  {
   "cell_type": "code",
   "execution_count": 399,
   "source": [
    "training_data = {}\n",
    "test_data = {}\n",
    "\n",
    "# Perform the 80-20 split for each category dataframe\n",
    "for category, df in categorical_dfs.items():\n",
    "    train_df, test_df = train_test_split(df, test_size=0.8, random_state=42)\n",
    "    \n",
    "    training_data[category] = train_df\n",
    "    test_data[category] = test_df"
   ],
   "outputs": [],
   "metadata": {}
  },
  {
   "cell_type": "code",
   "execution_count": 400,
   "source": [
    "for category, train_df in training_data.items():\n",
    "    print('Training data')\n",
    "    print(f\"Dataframe for {category}:\")\n",
    "    print(f\"Shape: {train_df.shape}\")\n",
    "    print(\"\\n\")"
   ],
   "outputs": [
    {
     "output_type": "stream",
     "name": "stdout",
     "text": [
      "Training data\n",
      "Dataframe for gender:\n",
      "Shape: (58, 6)\n",
      "\n",
      "\n",
      "Training data\n",
      "Dataframe for lgbtq:\n",
      "Shape: (90, 6)\n",
      "\n",
      "\n",
      "Training data\n",
      "Dataframe for political:\n",
      "Shape: (34, 6)\n",
      "\n",
      "\n",
      "Training data\n",
      "Dataframe for race:\n",
      "Shape: (353, 6)\n",
      "\n",
      "\n",
      "Training data\n",
      "Dataframe for religion:\n",
      "Shape: (251, 6)\n",
      "\n",
      "\n"
     ]
    }
   ],
   "metadata": {}
  },
  {
   "cell_type": "code",
   "execution_count": 401,
   "source": [
    "for category, test_df in test_data.items():\n",
    "    print('Test data')\n",
    "    print(f\"Dataframe for {category}:\")\n",
    "    print(f\"Shape: {test_df.shape}\")\n",
    "    print(\"\\n\")"
   ],
   "outputs": [
    {
     "output_type": "stream",
     "name": "stdout",
     "text": [
      "Test data\n",
      "Dataframe for gender:\n",
      "Shape: (235, 6)\n",
      "\n",
      "\n",
      "Test data\n",
      "Dataframe for lgbtq:\n",
      "Shape: (363, 6)\n",
      "\n",
      "\n",
      "Test data\n",
      "Dataframe for political:\n",
      "Shape: (138, 6)\n",
      "\n",
      "\n",
      "Test data\n",
      "Dataframe for race:\n",
      "Shape: (1415, 6)\n",
      "\n",
      "\n",
      "Test data\n",
      "Dataframe for religion:\n",
      "Shape: (1006, 6)\n",
      "\n",
      "\n"
     ]
    }
   ],
   "metadata": {}
  },
  {
   "cell_type": "markdown",
   "source": [
    "## Hypotheses"
   ],
   "metadata": {}
  },
  {
   "cell_type": "code",
   "execution_count": 402,
   "source": [
    "hypotheses = {\n",
    "  'gender' : [\n",
    "    'A person belonging to a gender lacks intelligence.',\n",
    "    'A person belonging to a gender is a criminal.',\n",
    "    'A person belonging to a gender is violent.',\n",
    "    'Violence is encouraged against a gender.',\n",
    "    'A person belonging to a gender is abusive.',\n",
    "    'A person belonging to a gender should be blamed.',\n",
    "    'Women make decisions based on emotions.',\n",
    "    'A gender is unable to do some jobs.',\n",
    "    'A gender is unable to do something as well as another gender.',\n",
    "    'A gender should not talk.',\n",
    "    'A person belonging to a gender is compared to an object.',\n",
    "    'A gender should be blamed.',\n",
    "    'A person belonging to a gender has an advantage compared to others.',\n",
    "    'A person belonging to a gender is misogynist.',\n",
    "    'A person belonging to a gender is disliked.',\n",
    "  ],\n",
    "  'lgbtq' : [\n",
    "    'Lgbtq persons are believed to have a condition.',\n",
    "    'Lgbtq should not be part of society.',\n",
    "    'Violence is encouraged against lgbtq persons.',\n",
    "    'Lgbtq persons are compared to animals.',\n",
    "    'Lgbtq persons are believed to have an agenda.',\n",
    "    'Lgbtq persons should be excluded.',\n",
    "    'Lgbtq persons should stay home.',\n",
    "    'Lgbtq persons commit crimes.',\n",
    "    'Lgbtq persons get preferred to other persons.',\n",
    "    'Lgbtq persons are seen as not being normal.', \n",
    "    'Lgbtq persons should not be allowed to marry.', \n",
    "    'Lgbtq persons have a disease.',\n",
    "    'Lgbtq persons are seen as being disgusting.',\n",
    "    'Lgbtq persons are not tolerated or desired.',\n",
    "    'Lgbtq persons are treated differently.',\n",
    "\n",
    "  ],\n",
    "  'political' : [ \n",
    "      'A person belonging to a political group is stupid.',\n",
    "      'A person belonging to a political group is crazy.',\n",
    "      'Things are worse due to a political group.',\n",
    "      'Members of a political group are lgbtq.',\n",
    "      'Members of a political group are hypocritical.',\n",
    "      'Members of a political group dislike a gender or lgbtq.',\n",
    "      'Members of a political group commit crimes.',\n",
    "      'Members of a political group are violent.',\n",
    "      'Members of a political group are hateful.',\n",
    "      'Members of a political group are compared to Nazis.',\n",
    "      'Members of a political group are racist.',\n",
    "      'A person belonging to a political group has a disease.',\n",
    "      'Members of a political group are taking control.',\n",
    "      'Members of a political group prefer minorities.',\n",
    "      'Members of a political group hate their country or race.',\n",
    "  ],\n",
    "  'race' : [\n",
    "    'Members of a race commit crimes.',\n",
    "    'Members of a race are violent.',\n",
    "    'Members of a race are compared to animals.',\n",
    "    'The use of violence is encouraged or desired against a race.',\n",
    "    'Members of a race should remain in their respective countries.',\n",
    "    'The integration of a race should be avoided in a country or society.',\n",
    "    'Members of a race are a threat to others.',\n",
    "    'A race is inferior when compared to another race.',\n",
    "    'A race is preferred to another.',\n",
    "    'Members of a race are stupid.',\n",
    "    'There are too many members of a race.',\n",
    "    'Members of a race should be excluded.',\n",
    "    'Members of a race should go back to their homes.',\n",
    "    'Members of a race are refused.',\n",
    "    'Members of a race are racist.',\n",
    "  ],\n",
    "  'religion' : [\n",
    "    'The use of violence is encouraged or desired against a religion.',\n",
    "    'A religion should be discriminated against.',\n",
    "    'Members of a religion should be excluded and marginalized.',\n",
    "    'Members of a religion should remain in their respective countries.',\n",
    "    'Members of a religion are compared to animals.',\n",
    "    'A religion or members of a religion are compared to devils or demons.',\n",
    "    'The integration of a religion should be avoided in a country or society.',\n",
    "    'A religion or members of a religion are stupid.',\n",
    "    'A religion is inferior when compared to another religion.',\n",
    "    'A religion is preferred to another.',\n",
    "    'Religious practices of a particular faith should be restricted or banned in public spaces.',\n",
    "    'Religious attire or symbols should be prohibited.',\n",
    "    'A religion promotes violence or intolerance.',\n",
    "    'Members of a religion are a threat.',\n",
    "    'Members of a religion are not trustworthy or loyal.',\n",
    "  ],\n",
    "}"
   ],
   "outputs": [],
   "metadata": {}
  },
  {
   "cell_type": "markdown",
   "source": [
    "## Add neutral cases"
   ],
   "metadata": {}
  },
  {
   "cell_type": "code",
   "execution_count": 407,
   "source": [
    "def add_rows_to_dataframes(dataframes_dict):\n",
    "    # Set the random state for reproducibility\n",
    "    np.random.seed(42)\n",
    "    \n",
    "    df_neutral_copy = df_neutral.copy()\n",
    "    max_neutral_length = len(df_neutral_copy)\n",
    "\n",
    "    for key, df in dataframes_dict.items():\n",
    "        # Calculate the maximum number of rows to add\n",
    "        rows_to_add = len(df)\n",
    "\n",
    "        # check if neutral copy array is too low on rows\n",
    "        if len(df_neutral_copy) < rows_to_add:\n",
    "            # reset array to full size\n",
    "            df_neutral_copy = df_neutral.copy()\n",
    "\n",
    "        # check if we need to drop bias data to match number of neutral cases\n",
    "        if rows_to_add > max_neutral_length:\n",
    "            # Drop excess rows from df to match the length of df_neutral_copy\n",
    "            rows_to_drop = np.random.choice(df.index, size=len(df) - len(df_neutral_copy), replace=False)\n",
    "            df.drop(rows_to_drop, inplace=True)\n",
    "\n",
    "        # Choose random rows from df_neutral_copy without replacement\n",
    "        rows_to_add = df_neutral_copy.sample(n=len(df), replace=False)\n",
    "\n",
    "        df = pd.concat([df, rows_to_add], ignore_index=True)\n",
    "\n",
    "         # drop these rows from df_neutral_copy after concatenation\n",
    "        df_neutral_copy.drop(rows_to_add.index, inplace=True)\n",
    "\n",
    "        # Update the dataframe in the dataframes_dict\n",
    "        dataframes_dict[key] = df\n"
   ],
   "outputs": [],
   "metadata": {}
  },
  {
   "cell_type": "code",
   "execution_count": 404,
   "source": [
    "add_rows_to_dataframes(test_data)\n",
    "add_rows_to_dataframes(training_data)"
   ],
   "outputs": [],
   "metadata": {}
  },
  {
   "cell_type": "code",
   "execution_count": 405,
   "source": [
    "for category in test_data:\n",
    "  print(test_data[category]['bias'].value_counts())"
   ],
   "outputs": [
    {
     "output_type": "stream",
     "name": "stdout",
     "text": [
      "bias       235\n",
      "neutral    235\n",
      "Name: bias, dtype: int64\n",
      "bias       363\n",
      "neutral    363\n",
      "Name: bias, dtype: int64\n",
      "neutral    138\n",
      "bias       138\n",
      "Name: bias, dtype: int64\n",
      "neutral    998\n",
      "bias       998\n",
      "Name: bias, dtype: int64\n",
      "neutral    998\n",
      "bias       998\n",
      "Name: bias, dtype: int64\n"
     ]
    }
   ],
   "metadata": {}
  },
  {
   "cell_type": "code",
   "execution_count": 406,
   "source": [
    "for category in training_data:\n",
    "  print(training_data[category]['bias'].value_counts())"
   ],
   "outputs": [
    {
     "output_type": "stream",
     "name": "stdout",
     "text": [
      "bias       58\n",
      "neutral    58\n",
      "Name: bias, dtype: int64\n",
      "neutral    90\n",
      "bias       90\n",
      "Name: bias, dtype: int64\n",
      "neutral    34\n",
      "bias       34\n",
      "Name: bias, dtype: int64\n",
      "bias       353\n",
      "neutral    353\n",
      "Name: bias, dtype: int64\n",
      "bias       251\n",
      "neutral    251\n",
      "Name: bias, dtype: int64\n"
     ]
    }
   ],
   "metadata": {}
  },
  {
   "cell_type": "markdown",
   "source": [
    "## Bart model"
   ],
   "metadata": {}
  },
  {
   "cell_type": "code",
   "execution_count": 286,
   "source": [
    "def convert_probabilities_batched(probabilities, label_mapping):\n",
    "    probabilities_list = probabilities.tolist()  # Convert the tensor to a list\n",
    "    return [{name: round(pred * 100, 1) for pred, name in zip(preds, label_mapping)} for preds in probabilities_list]"
   ],
   "outputs": [],
   "metadata": {}
  },
  {
   "cell_type": "code",
   "execution_count": 542,
   "source": [
    "import pandas as pd\n",
    "import torch\n",
    "from transformers import AutoModelForSequenceClassification, AutoTokenizer\n",
    "\n",
    "def bart_nli_batched_hypotheses(premises, hypotheses):\n",
    "    model_name = 'facebook/bart-large-mnli'\n",
    "    model = AutoModelForSequenceClassification.from_pretrained(model_name)\n",
    "    tokenizer = AutoTokenizer.from_pretrained(model_name, use_fast=True)\n",
    "    model.to(DEVICE) \n",
    "\n",
    "    num_premises = len(premises)\n",
    "    num_hypotheses = len(hypotheses)\n",
    "    results = {}\n",
    "\n",
    "    with torch.no_grad():\n",
    "        for i in range(num_premises):\n",
    "            labels = []\n",
    "\n",
    "            # Tokenize the input pair\n",
    "            inputs = tokenizer([premises[i]] * num_hypotheses, hypotheses, return_tensors='pt', padding=True, truncation=True)\n",
    "\n",
    "            # Run the input through the model\n",
    "            logits = model(**inputs.to(DEVICE)).logits\n",
    "\n",
    "            # Get probabilities and labels for the input\n",
    "            probabilities = torch.softmax(logits, dim=1)\n",
    "            label_mapping = ['contradiction', 'neutral', 'entailment']\n",
    "            labels = [label_mapping[p.argmax().item()] for p in probabilities]\n",
    "\n",
    "            results[premises[i]] = (labels, convert_probabilities_batched(probabilities, label_mapping))\n",
    "    return results\n"
   ],
   "outputs": [],
   "metadata": {}
  },
  {
   "cell_type": "markdown",
   "source": [
    "## Run data through model, add labels and probabilities"
   ],
   "metadata": {}
  },
  {
   "cell_type": "code",
   "execution_count": 502,
   "source": [
    "def run_bart_model_add_labels(category,data_type='training'):\n",
    "    # Create a copy of the input dataframe\n",
    "    if data_type == 'test':\n",
    "      df_copy = test_data[category].copy()\n",
    "    if data_type == 'training':\n",
    "      df_copy = training_data[category].copy()\n",
    "\n",
    "    # Run BART NLI on the dataframes for the specified category\n",
    "    results = bart_nli_batched_hypotheses(list(df_copy['comment_text']), hypotheses[category])\n",
    "\n",
    "    # Process the results separately and add them to the dataframe\n",
    "    labels_column = []\n",
    "    probabilities_column = []\n",
    "\n",
    "    for premise in df_copy['comment_text']:\n",
    "        if premise in results:\n",
    "            labels, probabilities = results[premise]\n",
    "        else:\n",
    "            labels, probabilities = None, None\n",
    "        labels_column.append(labels)\n",
    "        probabilities_column.append(probabilities)\n",
    "\n",
    "    df_copy['labels'] = labels_column\n",
    "    df_copy['probabilities'] = probabilities_column\n",
    "\n",
    "    return df_copy"
   ],
   "outputs": [],
   "metadata": {}
  },
  {
   "cell_type": "code",
   "execution_count": null,
   "source": [
    "df_pol = run_bart_model_add_labels('political', 'training')\n",
    "df_race =run_bart_model_add_labels('race', 'training')\n",
    "df_gender =run_bart_model_add_labels('gender', 'training')\n",
    "df_religion =run_bart_model_add_labels('religion', 'training')\n",
    "df_lgbtq =run_bart_model_add_labels('lgbtq', 'training')"
   ],
   "outputs": [],
   "metadata": {}
  },
  {
   "cell_type": "markdown",
   "source": [
    "## Test f1 scores"
   ],
   "metadata": {}
  },
  {
   "cell_type": "code",
   "execution_count": 84,
   "source": [
    "def determine_label_accuracy(df, correct_threshold):\n",
    "    def is_bias(row):\n",
    "        labels = ast.literal_eval(row['labels'])\n",
    "        if sum(label == 'entailment' for label in labels) >= correct_threshold:\n",
    "            return 'bias'\n",
    "        else:\n",
    "            return 'neutral'\n",
    "\n",
    "    df['predicted'] = df.apply(lambda row: is_bias(row), axis=1)\n",
    "\n",
    "    return df"
   ],
   "outputs": [],
   "metadata": {}
  },
  {
   "cell_type": "code",
   "execution_count": 117,
   "source": [
    "df_test_results = determine_label_accuracy(combined_df, 1)\n",
    "\n",
    "calculate_f1_score(df_test_results)"
   ],
   "outputs": [
    {
     "output_type": "execute_result",
     "data": {
      "text/plain": [
       "0.7738412360149175"
      ]
     },
     "metadata": {},
     "execution_count": 117
    }
   ],
   "metadata": {}
  },
  {
   "cell_type": "code",
   "execution_count": 89,
   "source": [
    "def determine_label_accuracy_multiple(df, max_correct_threshold=len(hypotheses['race'])):\n",
    "    def is_bias(row, n_labels):\n",
    "        labels = ast.literal_eval(row['labels'])\n",
    "        if sum(label == 'entailment' for label in labels) >= n_labels:\n",
    "            return 'bias'\n",
    "        else:\n",
    "            return 'neutral'\n",
    "\n",
    "    label_correctness_list = []\n",
    "\n",
    "    for _, row in df.iterrows():\n",
    "        row_results = []\n",
    "\n",
    "        for n in range(1, max_correct_threshold + 1):\n",
    "            result = is_bias(row, n)\n",
    "            row_results.append(result)\n",
    "\n",
    "        label_correctness_list.append(row_results)\n",
    "\n",
    "    # Add the list as the 'is_label_correct' column in the DataFrame\n",
    "    df['predicted'] = pd.Series(label_correctness_list)\n",
    "\n",
    "    return df\n"
   ],
   "outputs": [],
   "metadata": {}
  },
  {
   "cell_type": "code",
   "execution_count": 118,
   "source": [
    "df_training_multiple.sample(1)"
   ],
   "outputs": [
    {
     "output_type": "execute_result",
     "data": {
      "text/html": [
       "<div>\n",
       "<style scoped>\n",
       "    .dataframe tbody tr th:only-of-type {\n",
       "        vertical-align: middle;\n",
       "    }\n",
       "\n",
       "    .dataframe tbody tr th {\n",
       "        vertical-align: top;\n",
       "    }\n",
       "\n",
       "    .dataframe thead th {\n",
       "        text-align: right;\n",
       "    }\n",
       "</style>\n",
       "<table border=\"1\" class=\"dataframe\">\n",
       "  <thead>\n",
       "    <tr style=\"text-align: right;\">\n",
       "      <th></th>\n",
       "      <th>Unnamed: 0</th>\n",
       "      <th>comment_text</th>\n",
       "      <th>identity_attack_x</th>\n",
       "      <th>bias</th>\n",
       "      <th>target</th>\n",
       "      <th>category</th>\n",
       "      <th>rationale</th>\n",
       "      <th>labels</th>\n",
       "      <th>probabilities</th>\n",
       "      <th>predicted</th>\n",
       "    </tr>\n",
       "  </thead>\n",
       "  <tbody>\n",
       "    <tr>\n",
       "      <th>1289</th>\n",
       "      <td>219</td>\n",
       "      <td>This is comparing apples and oranges.  GLBT Catholics first start at a severe disadvantage the minute they come out of the closet.  Secondly you are describing heterosexual adultery which harms a married spouse always and every time.  Monogamous gay relationships do not harm in other adults.</td>\n",
       "      <td>0.6</td>\n",
       "      <td>bias</td>\n",
       "      <td>christians</td>\n",
       "      <td>religion</td>\n",
       "      <td>prejudice against christians</td>\n",
       "      <td>['contradiction', 'contradiction', 'neutral', 'neutral', 'contradiction', 'contradiction', 'neutral', 'neutral', 'entailment', 'entailment', 'neutral', 'neutral', 'contradiction', 'neutral', 'contradiction']</td>\n",
       "      <td>[{'contradiction': 68.5, 'neutral': 26.9, 'entailment': 4.6}, {'contradiction': 76.9, 'neutral': 21.8, 'entailment': 1.2}, {'contradiction': 41.3, 'neutral': 56.8, 'entailment': 1.9}, {'contradiction': 38.9, 'neutral': 49.4, 'entailment': 11.7}, {'contradiction': 98.5, 'neutral': 0.9, 'entailment': 0.7}, {'contradiction': 96.0, 'neutral': 3.0, 'entailment': 1.0}, {'contradiction': 25.9, 'neutral': 73.6, 'entailment': 0.5}, {'contradiction': 40.2, 'neutral': 59.0, 'entailment': 0.8}, {'contra...</td>\n",
       "      <td>[bias, bias, neutral, neutral, neutral, neutral, neutral, neutral, neutral, neutral, neutral, neutral, neutral, neutral, neutral]</td>\n",
       "    </tr>\n",
       "  </tbody>\n",
       "</table>\n",
       "</div>"
      ],
      "text/plain": [
       "      Unnamed: 0  \\\n",
       "1289         219   \n",
       "\n",
       "                                                                                                                                                                                                                                                                                              comment_text  \\\n",
       "1289  This is comparing apples and oranges.  GLBT Catholics first start at a severe disadvantage the minute they come out of the closet.  Secondly you are describing heterosexual adultery which harms a married spouse always and every time.  Monogamous gay relationships do not harm in other adults.   \n",
       "\n",
       "      identity_attack_x  bias      target  category  \\\n",
       "1289                0.6  bias  christians  religion   \n",
       "\n",
       "                         rationale  \\\n",
       "1289  prejudice against christians   \n",
       "\n",
       "                                                                                                                                                                                                               labels  \\\n",
       "1289  ['contradiction', 'contradiction', 'neutral', 'neutral', 'contradiction', 'contradiction', 'neutral', 'neutral', 'entailment', 'entailment', 'neutral', 'neutral', 'contradiction', 'neutral', 'contradiction']   \n",
       "\n",
       "                                                                                                                                                                                                                                                                                                                                                                                                                                                                                                            probabilities  \\\n",
       "1289  [{'contradiction': 68.5, 'neutral': 26.9, 'entailment': 4.6}, {'contradiction': 76.9, 'neutral': 21.8, 'entailment': 1.2}, {'contradiction': 41.3, 'neutral': 56.8, 'entailment': 1.9}, {'contradiction': 38.9, 'neutral': 49.4, 'entailment': 11.7}, {'contradiction': 98.5, 'neutral': 0.9, 'entailment': 0.7}, {'contradiction': 96.0, 'neutral': 3.0, 'entailment': 1.0}, {'contradiction': 25.9, 'neutral': 73.6, 'entailment': 0.5}, {'contradiction': 40.2, 'neutral': 59.0, 'entailment': 0.8}, {'contra...   \n",
       "\n",
       "                                                                                                                              predicted  \n",
       "1289  [bias, bias, neutral, neutral, neutral, neutral, neutral, neutral, neutral, neutral, neutral, neutral, neutral, neutral, neutral]  "
      ]
     },
     "metadata": {},
     "execution_count": 118
    }
   ],
   "metadata": {}
  },
  {
   "cell_type": "code",
   "execution_count": null,
   "source": [],
   "outputs": [],
   "metadata": {}
  },
  {
   "cell_type": "code",
   "execution_count": 111,
   "source": [
    "df_training_multiple = determine_label_accuracy_multiple(combined_training_df, 15)"
   ],
   "outputs": [],
   "metadata": {}
  },
  {
   "cell_type": "code",
   "execution_count": 112,
   "source": [
    "def map_label_to_numeric(label):\n",
    "    label_mapping = {\n",
    "        'neutral': 0,\n",
    "        'bias': 1\n",
    "    }\n",
    "    return label_mapping[label]\n",
    "\n",
    "\n",
    "def calculate_multiple_f1_scores(df):\n",
    "  f1_scores = []\n",
    "\n",
    "  for idx in range(len(df['predicted'].iloc[0])):\n",
    "    predicted_labels = df['predicted'].apply(lambda x: x[idx])\n",
    "    predicted_label_encoded = list(map(map_label_to_numeric, predicted_labels))\n",
    "\n",
    "    true_labels = df['bias']\n",
    "    true_label_encoded = list(map(map_label_to_numeric, true_labels))\n",
    "\n",
    "    f1 = f1_score(true_label_encoded, predicted_label_encoded)\n",
    "    f1_scores.append(f1)\n",
    "\n",
    "  return f1_scores\n"
   ],
   "outputs": [],
   "metadata": {}
  },
  {
   "cell_type": "code",
   "execution_count": 113,
   "source": [
    "def calculate_f1_score(df):\n",
    "  predicted_labels = df['predicted']\n",
    "  predicted_label_encoded = list(map(map_label_to_numeric, predicted_labels))\n",
    "\n",
    "  true_labels = df['bias']\n",
    "  true_label_encoded = list(map(map_label_to_numeric, true_labels))\n",
    "\n",
    "  f1 = f1_score(true_label_encoded, predicted_label_encoded)\n",
    "  return f1\n"
   ],
   "outputs": [],
   "metadata": {}
  },
  {
   "cell_type": "code",
   "execution_count": 191,
   "source": [
    "f1_scores = calculate_multiple_f1_scores(df_training_multiple)\n",
    "f1_scores"
   ],
   "outputs": [
    {
     "output_type": "execute_result",
     "data": {
      "text/plain": [
       "[0.7262626262626263,\n",
       " 0.6869965477560415,\n",
       " 0.6183699870633894,\n",
       " 0.5182427401340284,\n",
       " 0.4079173838209983,\n",
       " 0.2876984126984127,\n",
       " 0.1956521739130435,\n",
       " 0.11435239206534423,\n",
       " 0.06341463414634146,\n",
       " 0.034869240348692404,\n",
       " 0.015113350125944584,\n",
       " 0.0076045627376425855,\n",
       " 0.0,\n",
       " 0.0,\n",
       " 0.0]"
      ]
     },
     "metadata": {},
     "execution_count": 191
    }
   ],
   "metadata": {}
  },
  {
   "cell_type": "code",
   "execution_count": 115,
   "source": [
    "plt.figure(figsize=(12, 5))\n",
    "\n",
    "# Plot for 'Bias_f1'\n",
    "plt.subplot(1, 2, 1)\n",
    "plt.plot(range(1, len(f1_scores) + 1), f1_scores, marker='o')\n",
    "plt.xlabel('Threshold for entailment prediction')\n",
    "plt.ylabel('F1 Score')\n",
    "plt.title('F1 Score')\n",
    "plt.xticks(range(1, len(f1_scores) + 1))  \n",
    "plt.grid()"
   ],
   "outputs": [
    {
     "output_type": "display_data",
     "data": {
      "image/png": "[encoded data removed]",
      "text/plain": [
       "<Figure size 1200x500 with 1 Axes>"
      ]
     },
     "metadata": {}
    }
   ],
   "metadata": {}
  },
  {
   "cell_type": "markdown",
   "source": [
    "## AUC (Area under curve)"
   ],
   "metadata": {}
  },
  {
   "cell_type": "code",
   "execution_count": 260,
   "source": [
    "def calculate_entailment_ratio(labels):\n",
    "    labels = ast.literal_eval(labels)\n",
    "    entailment_count = sum(label == 'entailment' for label in labels) \n",
    "    return entailment_count / len(labels)\n",
    "\n",
    "# Add entailment ratios to df\n",
    "combined_training_df['entailment_ratio'] = combined_training_df['labels'].apply(calculate_entailment_ratio)"
   ],
   "outputs": [],
   "metadata": {}
  },
  {
   "cell_type": "code",
   "execution_count": 265,
   "source": [
    "combined_training_df['entailment_ratio'] = combined_training_df['labels'].apply(calculate_entailment_ratio)\n",
    "\n",
    "# Get unique class labels from 'predicted' column\n",
    "class_labels = np.unique(np.concatenate(df_training_multiple['predicted']))\n",
    "positive_class = 'bias'\n",
    "\n",
    "y_true = (df_training_multiple['bias'] == positive_class).astype(int)\n",
    "y_scores = combined_training_df['entailment_ratio']\n",
    "auc_roc = roc_auc_score(y_true, y_scores)\n",
    "print(f\"AUC-ROC Score: {auc_roc}\")"
   ],
   "outputs": [
    {
     "output_type": "stream",
     "name": "stdout",
     "text": [
      "AUC-ROC Score: 0.6810362967711024\n"
     ]
    }
   ],
   "metadata": {}
  },
  {
   "cell_type": "code",
   "execution_count": 267,
   "source": [
    "from sklearn.metrics import roc_curve, auc\n",
    "\n",
    "# Convert the true labels to binary values (0 for 'neutral', 1 for 'bias')\n",
    "y_true = (combined_training_df['bias'] == 'bias').astype(int)\n",
    "\n",
    "# Get the predicted ratios from the 'entailment_ratio' column\n",
    "y_scores = combined_training_df['entailment_ratio']\n",
    "\n",
    "# Calculate the ROC curve\n",
    "fpr, tpr, thresholds = roc_curve(y_true, y_scores)\n",
    "\n",
    "# Calculate the AUC\n",
    "roc_auc = auc(fpr, tpr)\n",
    "\n",
    "# Plot the ROC curve\n",
    "plt.figure(figsize=(8, 6))\n",
    "plt.plot(fpr, tpr, color='blue', lw=2, label=f'AUC = {roc_auc:.2f}')\n",
    "plt.plot([0, 1], [0, 1], color='gray', linestyle='--')\n",
    "plt.xlim([0.0, 1.0])\n",
    "plt.ylim([0.0, 1.0])\n",
    "plt.xlabel('False Positive Rate (FPR)')\n",
    "plt.ylabel('True Positive Rate (TPR)')\n",
    "plt.title('Receiver Operating Characteristic (ROC) Curve')\n",
    "plt.legend(loc='lower right')\n",
    "plt.grid(True)\n",
    "plt.show()"
   ],
   "outputs": [
    {
     "output_type": "display_data",
     "data": {
      "image/png": "[encoded data removed]",
      "text/plain": [
       "<Figure size 800x600 with 1 Axes>"
      ]
     },
     "metadata": {}
    }
   ],
   "metadata": {}
  },
  {
   "cell_type": "code",
   "execution_count": null,
   "source": [],
   "outputs": [],
   "metadata": {}
  }
 ],
 "metadata": {
  "orig_nbformat": 4,
  "language_info": {
   "name": "python",
   "version": "3.9.12",
   "mimetype": "text/x-python",
   "codemirror_mode": {
    "name": "ipython",
    "version": 3
   },
   "pygments_lexer": "ipython3",
   "nbconvert_exporter": "python",
   "file_extension": ".py"
  },
  "kernelspec": {
   "name": "python3",
   "display_name": "Python 3.9.12 64-bit"
  },
  "interpreter": {
   "hash": "aee8b7b246df8f9039afb4144a1f6fd8d2ca17a180786b69acc140d282b71a49"
  }
 },
 "nbformat": 4,
 "nbformat_minor": 2
}