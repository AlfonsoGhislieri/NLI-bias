{
 "cells": [
  {
   "cell_type": "code",
   "execution_count": 213,
   "source": [
    "!pip3 install transformers\n",
    "!pip3 install datasets\n",
    "!pip3 install evaluate\n",
    "!pip3 install accelerate -U\n",
    "!pip3 install sentencepiece"
   ],
   "outputs": [
    {
     "output_type": "stream",
     "name": "stdout",
     "text": [
      "huggingface/tokenizers: The current process just got forked, after parallelism has already been used. Disabling parallelism to avoid deadlocks...\n",
      "To disable this warning, you can either:\n",
      "\t- Avoid using `tokenizers` before the fork if possible\n",
      "\t- Explicitly set the environment variable TOKENIZERS_PARALLELISM=(true | false)\n",
      "\u001b[33mDEPRECATION: Configuring installation scheme with distutils config files is deprecated and will no longer work in the near future. If you are using a Homebrew or Linuxbrew Python, please see discussion at https://github.com/Homebrew/homebrew-core/issues/76621\u001b[0m\u001b[33m\n",
      "\u001b[0mRequirement already satisfied: transformers in /usr/local/lib/python3.9/site-packages (4.29.2)\n",
      "Requirement already satisfied: numpy>=1.17 in /usr/local/lib/python3.9/site-packages (from transformers) (1.21.5)\n",
      "Requirement already satisfied: huggingface-hub<1.0,>=0.14.1 in /usr/local/lib/python3.9/site-packages (from transformers) (0.14.1)\n",
      "Requirement already satisfied: tqdm>=4.27 in /usr/local/lib/python3.9/site-packages (from transformers) (4.65.0)\n",
      "Requirement already satisfied: packaging>=20.0 in /usr/local/lib/python3.9/site-packages (from transformers) (21.3)\n",
      "Requirement already satisfied: requests in /usr/local/lib/python3.9/site-packages (from transformers) (2.31.0)\n",
      "Requirement already satisfied: pyyaml>=5.1 in /usr/local/lib/python3.9/site-packages (from transformers) (6.0)\n",
      "Requirement already satisfied: regex!=2019.12.17 in /usr/local/lib/python3.9/site-packages (from transformers) (2023.5.5)\n",
      "Requirement already satisfied: tokenizers!=0.11.3,<0.14,>=0.11.1 in /usr/local/lib/python3.9/site-packages (from transformers) (0.13.3)\n",
      "Requirement already satisfied: filelock in /usr/local/lib/python3.9/site-packages (from transformers) (3.12.0)\n",
      "Requirement already satisfied: typing-extensions>=3.7.4.3 in /usr/local/lib/python3.9/site-packages (from huggingface-hub<1.0,>=0.14.1->transformers) (4.5.0)\n",
      "Requirement already satisfied: fsspec in /usr/local/lib/python3.9/site-packages (from huggingface-hub<1.0,>=0.14.1->transformers) (2023.5.0)\n",
      "Requirement already satisfied: pyparsing!=3.0.5,>=2.0.2 in /usr/local/lib/python3.9/site-packages (from packaging>=20.0->transformers) (3.0.9)\n",
      "Requirement already satisfied: urllib3<3,>=1.21.1 in /usr/local/lib/python3.9/site-packages (from requests->transformers) (1.26.12)\n",
      "Requirement already satisfied: charset-normalizer<4,>=2 in /usr/local/lib/python3.9/site-packages (from requests->transformers) (2.1.1)\n",
      "Requirement already satisfied: idna<4,>=2.5 in /usr/local/lib/python3.9/site-packages (from requests->transformers) (2.10)\n",
      "Requirement already satisfied: certifi>=2017.4.17 in /usr/local/lib/python3.9/site-packages (from requests->transformers) (2022.9.24)\n",
      "\u001b[33mDEPRECATION: Configuring installation scheme with distutils config files is deprecated and will no longer work in the near future. If you are using a Homebrew or Linuxbrew Python, please see discussion at https://github.com/Homebrew/homebrew-core/issues/76621\u001b[0m\u001b[33m\n",
      "\u001b[0m\u001b[33mWARNING: You are using pip version 22.0.4; however, version 23.2.1 is available.\n",
      "You should consider upgrading via the '/usr/local/opt/python@3.9/bin/python3.9 -m pip install --upgrade pip' command.\u001b[0m\u001b[33m\n",
      "\u001b[0m"
     ]
    }
   ],
   "metadata": {}
  },
  {
   "cell_type": "code",
   "execution_count": 357,
   "source": [
    "import sys\n",
    "sys.path.append('src/')\n",
    "import pandas as pd\n",
    "from sklearn.model_selection import train_test_split\n",
    "from sklearn.metrics import f1_score, roc_auc_score, roc_curve, auc\n",
    "from sklearn.preprocessing import LabelEncoder\n",
    "import pandas as pd\n",
    "import torch\n",
    "from transformers import AutoModelForSequenceClassification, AutoTokenizer, TrainingArguments, Trainer\n",
    "import torch\n",
    "import ast\n",
    "import matplotlib.pyplot as plt\n",
    "import numpy as np\n",
    "import evaluate\n",
    "from datasets import Dataset\n",
    "\n",
    "# panda view settings\n",
    "pd.set_option('display.max_columns', None)  # Display all columns\n",
    "pd.set_option('display.max_rows', None)  # Display all rows\n",
    "pd.set_option('display.max_colwidth', 500)  # Display full text in columns"
   ],
   "outputs": [],
   "metadata": {}
  },
  {
   "cell_type": "code",
   "execution_count": 388,
   "source": [
    "# Read the CSV files into DataFrames\n",
    "df_political_test= pd.read_csv('./results/final/political_test_results.csv')\n",
    "df_gender_test = pd.read_csv('./results/final/gender_test_results.csv')\n",
    "df_lgbtq_test = pd.read_csv('./results/final/lgbtq_test_results.csv')\n",
    "df_race_test = pd.read_csv('./results/final/race_test_results.csv')\n",
    "df_religion_test = pd.read_csv('./results/final/religion_test_results.csv')\n",
    "\n",
    "# read training results \n",
    "df_political_training = pd.read_csv('./results/training/political_training_results.csv')\n",
    "df_gender_training = pd.read_csv('./results/training/gender_training_results.csv')\n",
    "df_lgbtq_training = pd.read_csv('./results/training/lgbtq_training_results.csv')\n",
    "df_race_training = pd.read_csv('./results/training/race_training_results.csv')\n",
    "df_religion_training = pd.read_csv('./results/training/religion_training_results.csv')\n",
    "\n",
    "# Combine the DataFrames into one\n",
    "combined_test_df = pd.concat([df_political_test, df_gender_test, df_lgbtq_test, df_race_test, df_religion_test], ignore_index=True)\n",
    "combined_training_df = pd.concat([df_political_training, df_gender_training, df_lgbtq_training, df_race_training, df_religion_training], ignore_index=True)"
   ],
   "outputs": [
    {
     "output_type": "error",
     "ename": "FileNotFoundError",
     "evalue": "[Errno 2] No such file or directory: './results/final/political_test_results.csv'",
     "traceback": [
      "\u001b[0;31m---------------------------------------------------------------------------\u001b[0m",
      "\u001b[0;31mFileNotFoundError\u001b[0m                         Traceback (most recent call last)",
      "Cell \u001b[0;32mIn [388], line 2\u001b[0m\n\u001b[1;32m      1\u001b[0m \u001b[38;5;66;03m# Read the CSV files into DataFrames\u001b[39;00m\n\u001b[0;32m----> 2\u001b[0m df_political_test\u001b[38;5;241m=\u001b[39m \u001b[43mpd\u001b[49m\u001b[38;5;241;43m.\u001b[39;49m\u001b[43mread_csv\u001b[49m\u001b[43m(\u001b[49m\u001b[38;5;124;43m'\u001b[39;49m\u001b[38;5;124;43m./results/final/political_test_results.csv\u001b[39;49m\u001b[38;5;124;43m'\u001b[39;49m\u001b[43m)\u001b[49m\n\u001b[1;32m      3\u001b[0m df_gender_test \u001b[38;5;241m=\u001b[39m pd\u001b[38;5;241m.\u001b[39mread_csv(\u001b[38;5;124m'\u001b[39m\u001b[38;5;124m./results/final/gender_test_results.csv\u001b[39m\u001b[38;5;124m'\u001b[39m)\n\u001b[1;32m      4\u001b[0m df_lgbtq_test \u001b[38;5;241m=\u001b[39m pd\u001b[38;5;241m.\u001b[39mread_csv(\u001b[38;5;124m'\u001b[39m\u001b[38;5;124m./results/final/lgbtq_test_results.csv\u001b[39m\u001b[38;5;124m'\u001b[39m)\n",
      "File \u001b[0;32m/usr/local/lib/python3.9/site-packages/pandas/io/parsers.py:610\u001b[0m, in \u001b[0;36mread_csv\u001b[0;34m(filepath_or_buffer, sep, delimiter, header, names, index_col, usecols, squeeze, prefix, mangle_dupe_cols, dtype, engine, converters, true_values, false_values, skipinitialspace, skiprows, skipfooter, nrows, na_values, keep_default_na, na_filter, verbose, skip_blank_lines, parse_dates, infer_datetime_format, keep_date_col, date_parser, dayfirst, cache_dates, iterator, chunksize, compression, thousands, decimal, lineterminator, quotechar, quoting, doublequote, escapechar, comment, encoding, dialect, error_bad_lines, warn_bad_lines, delim_whitespace, low_memory, memory_map, float_precision, storage_options)\u001b[0m\n\u001b[1;32m    605\u001b[0m kwds_defaults \u001b[38;5;241m=\u001b[39m _refine_defaults_read(\n\u001b[1;32m    606\u001b[0m     dialect, delimiter, delim_whitespace, engine, sep, defaults\u001b[38;5;241m=\u001b[39m{\u001b[38;5;124m\"\u001b[39m\u001b[38;5;124mdelimiter\u001b[39m\u001b[38;5;124m\"\u001b[39m: \u001b[38;5;124m\"\u001b[39m\u001b[38;5;124m,\u001b[39m\u001b[38;5;124m\"\u001b[39m}\n\u001b[1;32m    607\u001b[0m )\n\u001b[1;32m    608\u001b[0m kwds\u001b[38;5;241m.\u001b[39mupdate(kwds_defaults)\n\u001b[0;32m--> 610\u001b[0m \u001b[38;5;28;01mreturn\u001b[39;00m \u001b[43m_read\u001b[49m\u001b[43m(\u001b[49m\u001b[43mfilepath_or_buffer\u001b[49m\u001b[43m,\u001b[49m\u001b[43m \u001b[49m\u001b[43mkwds\u001b[49m\u001b[43m)\u001b[49m\n",
      "File \u001b[0;32m/usr/local/lib/python3.9/site-packages/pandas/io/parsers.py:462\u001b[0m, in \u001b[0;36m_read\u001b[0;34m(filepath_or_buffer, kwds)\u001b[0m\n\u001b[1;32m    459\u001b[0m _validate_names(kwds\u001b[38;5;241m.\u001b[39mget(\u001b[38;5;124m\"\u001b[39m\u001b[38;5;124mnames\u001b[39m\u001b[38;5;124m\"\u001b[39m, \u001b[38;5;28;01mNone\u001b[39;00m))\n\u001b[1;32m    461\u001b[0m \u001b[38;5;66;03m# Create the parser.\u001b[39;00m\n\u001b[0;32m--> 462\u001b[0m parser \u001b[38;5;241m=\u001b[39m \u001b[43mTextFileReader\u001b[49m\u001b[43m(\u001b[49m\u001b[43mfilepath_or_buffer\u001b[49m\u001b[43m,\u001b[49m\u001b[43m \u001b[49m\u001b[38;5;241;43m*\u001b[39;49m\u001b[38;5;241;43m*\u001b[39;49m\u001b[43mkwds\u001b[49m\u001b[43m)\u001b[49m\n\u001b[1;32m    464\u001b[0m \u001b[38;5;28;01mif\u001b[39;00m chunksize \u001b[38;5;129;01mor\u001b[39;00m iterator:\n\u001b[1;32m    465\u001b[0m     \u001b[38;5;28;01mreturn\u001b[39;00m parser\n",
      "File \u001b[0;32m/usr/local/lib/python3.9/site-packages/pandas/io/parsers.py:819\u001b[0m, in \u001b[0;36mTextFileReader.__init__\u001b[0;34m(self, f, engine, **kwds)\u001b[0m\n\u001b[1;32m    816\u001b[0m \u001b[38;5;28;01mif\u001b[39;00m \u001b[38;5;124m\"\u001b[39m\u001b[38;5;124mhas_index_names\u001b[39m\u001b[38;5;124m\"\u001b[39m \u001b[38;5;129;01min\u001b[39;00m kwds:\n\u001b[1;32m    817\u001b[0m     \u001b[38;5;28mself\u001b[39m\u001b[38;5;241m.\u001b[39moptions[\u001b[38;5;124m\"\u001b[39m\u001b[38;5;124mhas_index_names\u001b[39m\u001b[38;5;124m\"\u001b[39m] \u001b[38;5;241m=\u001b[39m kwds[\u001b[38;5;124m\"\u001b[39m\u001b[38;5;124mhas_index_names\u001b[39m\u001b[38;5;124m\"\u001b[39m]\n\u001b[0;32m--> 819\u001b[0m \u001b[38;5;28mself\u001b[39m\u001b[38;5;241m.\u001b[39m_engine \u001b[38;5;241m=\u001b[39m \u001b[38;5;28;43mself\u001b[39;49m\u001b[38;5;241;43m.\u001b[39;49m\u001b[43m_make_engine\u001b[49m\u001b[43m(\u001b[49m\u001b[38;5;28;43mself\u001b[39;49m\u001b[38;5;241;43m.\u001b[39;49m\u001b[43mengine\u001b[49m\u001b[43m)\u001b[49m\n",
      "File \u001b[0;32m/usr/local/lib/python3.9/site-packages/pandas/io/parsers.py:1050\u001b[0m, in \u001b[0;36mTextFileReader._make_engine\u001b[0;34m(self, engine)\u001b[0m\n\u001b[1;32m   1046\u001b[0m     \u001b[38;5;28;01mraise\u001b[39;00m \u001b[38;5;167;01mValueError\u001b[39;00m(\n\u001b[1;32m   1047\u001b[0m         \u001b[38;5;124mf\u001b[39m\u001b[38;5;124m\"\u001b[39m\u001b[38;5;124mUnknown engine: \u001b[39m\u001b[38;5;132;01m{\u001b[39;00mengine\u001b[38;5;132;01m}\u001b[39;00m\u001b[38;5;124m (valid options are \u001b[39m\u001b[38;5;132;01m{\u001b[39;00mmapping\u001b[38;5;241m.\u001b[39mkeys()\u001b[38;5;132;01m}\u001b[39;00m\u001b[38;5;124m)\u001b[39m\u001b[38;5;124m\"\u001b[39m\n\u001b[1;32m   1048\u001b[0m     )\n\u001b[1;32m   1049\u001b[0m \u001b[38;5;66;03m# error: Too many arguments for \"ParserBase\"\u001b[39;00m\n\u001b[0;32m-> 1050\u001b[0m \u001b[38;5;28;01mreturn\u001b[39;00m \u001b[43mmapping\u001b[49m\u001b[43m[\u001b[49m\u001b[43mengine\u001b[49m\u001b[43m]\u001b[49m\u001b[43m(\u001b[49m\u001b[38;5;28;43mself\u001b[39;49m\u001b[38;5;241;43m.\u001b[39;49m\u001b[43mf\u001b[49m\u001b[43m,\u001b[49m\u001b[43m \u001b[49m\u001b[38;5;241;43m*\u001b[39;49m\u001b[38;5;241;43m*\u001b[39;49m\u001b[38;5;28;43mself\u001b[39;49m\u001b[38;5;241;43m.\u001b[39;49m\u001b[43moptions\u001b[49m\u001b[43m)\u001b[49m\n",
      "File \u001b[0;32m/usr/local/lib/python3.9/site-packages/pandas/io/parsers.py:1867\u001b[0m, in \u001b[0;36mCParserWrapper.__init__\u001b[0;34m(self, src, **kwds)\u001b[0m\n\u001b[1;32m   1864\u001b[0m kwds[\u001b[38;5;124m\"\u001b[39m\u001b[38;5;124musecols\u001b[39m\u001b[38;5;124m\"\u001b[39m] \u001b[38;5;241m=\u001b[39m \u001b[38;5;28mself\u001b[39m\u001b[38;5;241m.\u001b[39musecols\n\u001b[1;32m   1866\u001b[0m \u001b[38;5;66;03m# open handles\u001b[39;00m\n\u001b[0;32m-> 1867\u001b[0m \u001b[38;5;28;43mself\u001b[39;49m\u001b[38;5;241;43m.\u001b[39;49m\u001b[43m_open_handles\u001b[49m\u001b[43m(\u001b[49m\u001b[43msrc\u001b[49m\u001b[43m,\u001b[49m\u001b[43m \u001b[49m\u001b[43mkwds\u001b[49m\u001b[43m)\u001b[49m\n\u001b[1;32m   1868\u001b[0m \u001b[38;5;28;01massert\u001b[39;00m \u001b[38;5;28mself\u001b[39m\u001b[38;5;241m.\u001b[39mhandles \u001b[38;5;129;01mis\u001b[39;00m \u001b[38;5;129;01mnot\u001b[39;00m \u001b[38;5;28;01mNone\u001b[39;00m\n\u001b[1;32m   1869\u001b[0m \u001b[38;5;28;01mfor\u001b[39;00m key \u001b[38;5;129;01min\u001b[39;00m (\u001b[38;5;124m\"\u001b[39m\u001b[38;5;124mstorage_options\u001b[39m\u001b[38;5;124m\"\u001b[39m, \u001b[38;5;124m\"\u001b[39m\u001b[38;5;124mencoding\u001b[39m\u001b[38;5;124m\"\u001b[39m, \u001b[38;5;124m\"\u001b[39m\u001b[38;5;124mmemory_map\u001b[39m\u001b[38;5;124m\"\u001b[39m, \u001b[38;5;124m\"\u001b[39m\u001b[38;5;124mcompression\u001b[39m\u001b[38;5;124m\"\u001b[39m):\n",
      "File \u001b[0;32m/usr/local/lib/python3.9/site-packages/pandas/io/parsers.py:1362\u001b[0m, in \u001b[0;36mParserBase._open_handles\u001b[0;34m(self, src, kwds)\u001b[0m\n\u001b[1;32m   1358\u001b[0m \u001b[38;5;28;01mdef\u001b[39;00m \u001b[38;5;21m_open_handles\u001b[39m(\u001b[38;5;28mself\u001b[39m, src: FilePathOrBuffer, kwds: Dict[\u001b[38;5;28mstr\u001b[39m, Any]) \u001b[38;5;241m-\u001b[39m\u001b[38;5;241m>\u001b[39m \u001b[38;5;28;01mNone\u001b[39;00m:\n\u001b[1;32m   1359\u001b[0m     \u001b[38;5;124;03m\"\"\"\u001b[39;00m\n\u001b[1;32m   1360\u001b[0m \u001b[38;5;124;03m    Let the readers open IOHanldes after they are done with their potential raises.\u001b[39;00m\n\u001b[1;32m   1361\u001b[0m \u001b[38;5;124;03m    \"\"\"\u001b[39;00m\n\u001b[0;32m-> 1362\u001b[0m     \u001b[38;5;28mself\u001b[39m\u001b[38;5;241m.\u001b[39mhandles \u001b[38;5;241m=\u001b[39m \u001b[43mget_handle\u001b[49m\u001b[43m(\u001b[49m\n\u001b[1;32m   1363\u001b[0m \u001b[43m        \u001b[49m\u001b[43msrc\u001b[49m\u001b[43m,\u001b[49m\n\u001b[1;32m   1364\u001b[0m \u001b[43m        \u001b[49m\u001b[38;5;124;43m\"\u001b[39;49m\u001b[38;5;124;43mr\u001b[39;49m\u001b[38;5;124;43m\"\u001b[39;49m\u001b[43m,\u001b[49m\n\u001b[1;32m   1365\u001b[0m \u001b[43m        \u001b[49m\u001b[43mencoding\u001b[49m\u001b[38;5;241;43m=\u001b[39;49m\u001b[43mkwds\u001b[49m\u001b[38;5;241;43m.\u001b[39;49m\u001b[43mget\u001b[49m\u001b[43m(\u001b[49m\u001b[38;5;124;43m\"\u001b[39;49m\u001b[38;5;124;43mencoding\u001b[39;49m\u001b[38;5;124;43m\"\u001b[39;49m\u001b[43m,\u001b[49m\u001b[43m \u001b[49m\u001b[38;5;28;43;01mNone\u001b[39;49;00m\u001b[43m)\u001b[49m\u001b[43m,\u001b[49m\n\u001b[1;32m   1366\u001b[0m \u001b[43m        \u001b[49m\u001b[43mcompression\u001b[49m\u001b[38;5;241;43m=\u001b[39;49m\u001b[43mkwds\u001b[49m\u001b[38;5;241;43m.\u001b[39;49m\u001b[43mget\u001b[49m\u001b[43m(\u001b[49m\u001b[38;5;124;43m\"\u001b[39;49m\u001b[38;5;124;43mcompression\u001b[39;49m\u001b[38;5;124;43m\"\u001b[39;49m\u001b[43m,\u001b[49m\u001b[43m \u001b[49m\u001b[38;5;28;43;01mNone\u001b[39;49;00m\u001b[43m)\u001b[49m\u001b[43m,\u001b[49m\n\u001b[1;32m   1367\u001b[0m \u001b[43m        \u001b[49m\u001b[43mmemory_map\u001b[49m\u001b[38;5;241;43m=\u001b[39;49m\u001b[43mkwds\u001b[49m\u001b[38;5;241;43m.\u001b[39;49m\u001b[43mget\u001b[49m\u001b[43m(\u001b[49m\u001b[38;5;124;43m\"\u001b[39;49m\u001b[38;5;124;43mmemory_map\u001b[39;49m\u001b[38;5;124;43m\"\u001b[39;49m\u001b[43m,\u001b[49m\u001b[43m \u001b[49m\u001b[38;5;28;43;01mFalse\u001b[39;49;00m\u001b[43m)\u001b[49m\u001b[43m,\u001b[49m\n\u001b[1;32m   1368\u001b[0m \u001b[43m        \u001b[49m\u001b[43mstorage_options\u001b[49m\u001b[38;5;241;43m=\u001b[39;49m\u001b[43mkwds\u001b[49m\u001b[38;5;241;43m.\u001b[39;49m\u001b[43mget\u001b[49m\u001b[43m(\u001b[49m\u001b[38;5;124;43m\"\u001b[39;49m\u001b[38;5;124;43mstorage_options\u001b[39;49m\u001b[38;5;124;43m\"\u001b[39;49m\u001b[43m,\u001b[49m\u001b[43m \u001b[49m\u001b[38;5;28;43;01mNone\u001b[39;49;00m\u001b[43m)\u001b[49m\u001b[43m,\u001b[49m\n\u001b[1;32m   1369\u001b[0m \u001b[43m    \u001b[49m\u001b[43m)\u001b[49m\n",
      "File \u001b[0;32m/usr/local/lib/python3.9/site-packages/pandas/io/common.py:642\u001b[0m, in \u001b[0;36mget_handle\u001b[0;34m(path_or_buf, mode, encoding, compression, memory_map, is_text, errors, storage_options)\u001b[0m\n\u001b[1;32m    640\u001b[0m         errors \u001b[38;5;241m=\u001b[39m \u001b[38;5;124m\"\u001b[39m\u001b[38;5;124mreplace\u001b[39m\u001b[38;5;124m\"\u001b[39m\n\u001b[1;32m    641\u001b[0m     \u001b[38;5;66;03m# Encoding\u001b[39;00m\n\u001b[0;32m--> 642\u001b[0m     handle \u001b[38;5;241m=\u001b[39m \u001b[38;5;28;43mopen\u001b[39;49m\u001b[43m(\u001b[49m\n\u001b[1;32m    643\u001b[0m \u001b[43m        \u001b[49m\u001b[43mhandle\u001b[49m\u001b[43m,\u001b[49m\n\u001b[1;32m    644\u001b[0m \u001b[43m        \u001b[49m\u001b[43mioargs\u001b[49m\u001b[38;5;241;43m.\u001b[39;49m\u001b[43mmode\u001b[49m\u001b[43m,\u001b[49m\n\u001b[1;32m    645\u001b[0m \u001b[43m        \u001b[49m\u001b[43mencoding\u001b[49m\u001b[38;5;241;43m=\u001b[39;49m\u001b[43mioargs\u001b[49m\u001b[38;5;241;43m.\u001b[39;49m\u001b[43mencoding\u001b[49m\u001b[43m,\u001b[49m\n\u001b[1;32m    646\u001b[0m \u001b[43m        \u001b[49m\u001b[43merrors\u001b[49m\u001b[38;5;241;43m=\u001b[39;49m\u001b[43merrors\u001b[49m\u001b[43m,\u001b[49m\n\u001b[1;32m    647\u001b[0m \u001b[43m        \u001b[49m\u001b[43mnewline\u001b[49m\u001b[38;5;241;43m=\u001b[39;49m\u001b[38;5;124;43m\"\u001b[39;49m\u001b[38;5;124;43m\"\u001b[39;49m\u001b[43m,\u001b[49m\n\u001b[1;32m    648\u001b[0m \u001b[43m    \u001b[49m\u001b[43m)\u001b[49m\n\u001b[1;32m    649\u001b[0m \u001b[38;5;28;01melse\u001b[39;00m:\n\u001b[1;32m    650\u001b[0m     \u001b[38;5;66;03m# Binary mode\u001b[39;00m\n\u001b[1;32m    651\u001b[0m     handle \u001b[38;5;241m=\u001b[39m \u001b[38;5;28mopen\u001b[39m(handle, ioargs\u001b[38;5;241m.\u001b[39mmode)\n",
      "\u001b[0;31mFileNotFoundError\u001b[0m: [Errno 2] No such file or directory: './results/final/political_test_results.csv'"
     ]
    }
   ],
   "metadata": {}
  },
  {
   "cell_type": "code",
   "execution_count": 19,
   "source": [],
   "outputs": [],
   "metadata": {}
  },
  {
   "cell_type": "markdown",
   "source": [
    "## Results section deep dive of results"
   ],
   "metadata": {}
  },
  {
   "cell_type": "code",
   "execution_count": 456,
   "source": [
    "bart_large_rationale = pd.read_csv('results/rationale/bart-large_rationale_results.csv')\n",
    "deberta_base_rationale = pd.read_csv('results/rationale/deberta-base_rationale_results.csv')\n",
    "deberta_v3_rationale = pd.read_csv('results/rationale/deberta-v3_rationale_results.csv')"
   ],
   "outputs": [],
   "metadata": {}
  },
  {
   "cell_type": "code",
   "execution_count": 424,
   "source": [
    "deberta_results_training = pd.read_csv('results/training/debertav3/combined_deberta_trainng_results.csv')\n",
    "bart_results_training = pd.read_csv('results/training/bart-large/combined_training_results.csv')"
   ],
   "outputs": [],
   "metadata": {}
  },
  {
   "cell_type": "code",
   "execution_count": 550,
   "source": [
    "deberta_results = pd.read_csv('results/test/debertav3/combined_test_results_deberta.csv')\n",
    "bart_results = pd.read_csv('results/test/bart-large/combined_test_results.csv')\n",
    "\n",
    "# breakdown of accuracy for bart model by category\n",
    "bart_results_religion = pd.read_csv('results/test/bart-large/religion_test_results.csv')\n",
    "bart_results_gender = pd.read_csv('results/test/bart-large/gender_test_results.csv')\n",
    "bart_results_lgbtq = pd.read_csv('results/test/bart-large/lgbtq_test_results.csv')\n",
    "bart_results_political = pd.read_csv('results/test/bart-large/political_test_results.csv')\n",
    "bart_results_race = pd.read_csv('results/test/bart-large/race_test_results.csv')\n",
    "\n",
    "deberta_results_religion = pd.read_csv('results/test/debertav3/religion_labels_deberta_test.csv')\n",
    "deberta_results_gender = pd.read_csv('results/test/debertav3/gender_labels_deberta_test.csv')\n",
    "deberta_results_lgbtq = pd.read_csv('results/test/debertav3/lgbtq_labels_deberta_test.csv')\n",
    "deberta_results_political = pd.read_csv('results/test/debertav3/political_labels_deberta_test.csv')\n",
    "deberta_results_race = pd.read_csv('results/test/debertav3/race_labels_deberta_test.csv')\n",
    "# fine tuned \n",
    "bart_results_fine_tuned = pd.read_csv('results/fine_tuning/bart-large/fine_tuning_religion_test_results.csv')\n",
    "\n"
   ],
   "outputs": [],
   "metadata": {}
  },
  {
   "cell_type": "code",
   "execution_count": 427,
   "source": [
    "## Set predicted labels \n",
    "deberta_results_training = set_predictions_multiple(deberta_results_training, 15)\n",
    "bart_results_training = set_predictions_multiple(bart_results_training, 15)"
   ],
   "outputs": [],
   "metadata": {}
  },
  {
   "cell_type": "code",
   "execution_count": 551,
   "source": [
    "## Set predicted labels \n",
    "deberta_results = set_predictions_multiple(deberta_results, 15)\n",
    "bart_results = set_predictions_multiple(bart_results, 15)\n",
    "\n",
    "bart_results_religion = set_predictions_multiple(bart_results_religion, 15)\n",
    "bart_results_gender= set_predictions_multiple(bart_results_gender, 15)\n",
    "bart_results_lgbtq = set_predictions_multiple(bart_results_lgbtq, 15)\n",
    "bart_results_political = set_predictions_multiple(bart_results_political, 15)\n",
    "bart_results_race = set_predictions_multiple(bart_results_race, 15)\n",
    "\n",
    "deberta_results_religion = set_predictions_multiple(deberta_results_religion, 15)\n",
    "deberta_results_gender = set_predictions_multiple(deberta_results_gender, 15)\n",
    "deberta_results_lgbtq = set_predictions_multiple(deberta_results_lgbtq, 15)\n",
    "deberta_results_political = set_predictions_multiple(deberta_results_political, 15)\n",
    "deberta_results_race = set_predictions_multiple(deberta_results_race, 15)\n",
    "\n",
    "bart_results_fine_tuned = set_predictions_multiple(bart_results_fine_tuned, 15)"
   ],
   "outputs": [],
   "metadata": {}
  },
  {
   "cell_type": "code",
   "execution_count": 429,
   "source": [
    "\n",
    "def get_accuracy_results(df, threshold=1):\n",
    "\n",
    "  # lower threshold for indexing issues\n",
    "  threshold = threshold - 1\n",
    "\n",
    "  true_positive_bias = len(df[df.apply(lambda row: 'bias' in row['predicted'][threshold] and row['bias'] == 'bias', axis=1)])\n",
    "  false_positive_bias = len(df[df.apply(lambda row: 'bias' in row['predicted'][threshold] and row['bias'] == 'neutral', axis=1)])\n",
    "  false_negative_bias = len(df[df.apply(lambda row: 'neutral' in row['predicted'][threshold] and row['bias'] == 'bias', axis=1)])\n",
    "\n",
    "  precision_bias = true_positive_bias / (true_positive_bias + false_positive_bias + 1e-10)  # Adding a small constant\n",
    "  recall_bias = true_positive_bias / (true_positive_bias + false_negative_bias + 1e-10)  # Adding a small constant\n",
    "  f1_bias = (2 * precision_bias * recall_bias) / (precision_bias + recall_bias + 1e-10)  # Adding a small constant\n",
    "\n",
    "  true_positive_neutral = len(df[df.apply(lambda row: 'neutral' in row['predicted'][threshold] and row['bias'] == 'neutral', axis=1)])\n",
    "  false_positive_neutral = len(df[df.apply(lambda row: 'neutral' in row['predicted'][threshold] and row['bias'] == 'bias', axis=1)])\n",
    "  false_negative_neutral = len(df[df.apply(lambda row: 'bias' in row['predicted'][threshold] and row['bias'] == 'neutral', axis=1)])\n",
    "\n",
    "\n",
    "  precision_neutral = true_positive_neutral / (true_positive_neutral + false_positive_neutral + 1e-10)  # Adding a small constant\n",
    "  recall_neutral = true_positive_neutral / (true_positive_neutral + false_negative_neutral + 1e-10)  # Adding a small constant\n",
    "  f1_neutral = (2 * precision_neutral * recall_neutral) / (precision_neutral + recall_neutral + 1e-10)  # Adding a small constant\n",
    "\n",
    "  return ({\n",
    "    'precision': (precision_bias + precision_neutral) / 2,\n",
    "    'recall': (recall_bias + recall_neutral) / 2,\n",
    "    'f1': (f1_bias + f1_neutral) / 2,\n",
    "    'accuracy': (true_positive_bias + true_positive_neutral) / len(df)\n",
    "\n",
    "  })\n",
    "    \n"
   ],
   "outputs": [],
   "metadata": {}
  },
  {
   "cell_type": "code",
   "execution_count": 466,
   "source": [
    "get_accuracy_results(bart_results,2)"
   ],
   "outputs": [
    {
     "output_type": "execute_result",
     "data": {
      "text/plain": [
       "{'precision': 0.6632725165075968,\n",
       " 'recall': 0.6577598828696685,\n",
       " 'f1': 0.6548464947253818,\n",
       " 'accuracy': 0.6577598828696926}"
      ]
     },
     "metadata": {},
     "execution_count": 466
    }
   ],
   "metadata": {}
  },
  {
   "cell_type": "code",
   "execution_count": 431,
   "source": [
    "get_accuracy_results(deberta_results,1)"
   ],
   "outputs": [
    {
     "output_type": "execute_result",
     "data": {
      "text/plain": [
       "{'precision': 0.6415079552326399,\n",
       " 'recall': 0.6398243045387759,\n",
       " 'f1': 0.638749772681156,\n",
       " 'accuracy': 0.6398243045387995}"
      ]
     },
     "metadata": {},
     "execution_count": 431
    }
   ],
   "metadata": {}
  },
  {
   "cell_type": "code",
   "execution_count": 432,
   "source": [
    "get_accuracy_results(bart_results_fine_tuned,2)"
   ],
   "outputs": [
    {
     "output_type": "execute_result",
     "data": {
      "text/plain": [
       "{'precision': 0.5186763146397171,\n",
       " 'recall': 0.5015030060119737,\n",
       " 'f1': 0.35270146635422417,\n",
       " 'accuracy': 0.501503006012024}"
      ]
     },
     "metadata": {},
     "execution_count": 432
    }
   ],
   "metadata": {}
  },
  {
   "cell_type": "code",
   "execution_count": 476,
   "source": [
    "get_accuracy_results(bart_results_training,1)"
   ],
   "outputs": [
    {
     "output_type": "execute_result",
     "data": {
      "text/plain": [
       "{'precision': 0.7090373924693028,\n",
       " 'recall': 0.6507633587785431,\n",
       " 'f1': 0.6246005256704297,\n",
       " 'accuracy': 0.6507633587786259}"
      ]
     },
     "metadata": {},
     "execution_count": 476
    }
   ],
   "metadata": {}
  },
  {
   "cell_type": "code",
   "execution_count": 471,
   "source": [
    "get_accuracy_results(deberta_results_training,1)"
   ],
   "outputs": [
    {
     "output_type": "execute_result",
     "data": {
      "text/plain": [
       "{'precision': 0.641844287218653,\n",
       " 'recall': 0.6393129770991552,\n",
       " 'f1': 0.6376965878536096,\n",
       " 'accuracy': 0.6393129770992366}"
      ]
     },
     "metadata": {},
     "execution_count": 471
    }
   ],
   "metadata": {}
  },
  {
   "cell_type": "code",
   "execution_count": null,
   "source": [
    "## categorical bart"
   ],
   "outputs": [],
   "metadata": {}
  },
  {
   "cell_type": "code",
   "execution_count": 553,
   "source": [
    "get_accuracy_results(deberta_results_religion)"
   ],
   "outputs": [
    {
     "output_type": "execute_result",
     "data": {
      "text/plain": [
       "{'precision': 0.7132094025901863,\n",
       " 'recall': 0.6993987975951204,\n",
       " 'f1': 0.6944508227598116,\n",
       " 'accuracy': 0.6993987975951904}"
      ]
     },
     "metadata": {},
     "execution_count": 553
    }
   ],
   "metadata": {}
  },
  {
   "cell_type": "code",
   "execution_count": 554,
   "source": [
    "get_accuracy_results(deberta_results_gender)"
   ],
   "outputs": [
    {
     "output_type": "execute_result",
     "data": {
      "text/plain": [
       "{'precision': 0.6490017399505558,\n",
       " 'recall': 0.5914893617018759,\n",
       " 'f1': 0.547859547815791,\n",
       " 'accuracy': 0.5914893617021276}"
      ]
     },
     "metadata": {},
     "execution_count": 554
    }
   ],
   "metadata": {}
  },
  {
   "cell_type": "code",
   "execution_count": 555,
   "source": [
    "get_accuracy_results(deberta_results_lgbtq)"
   ],
   "outputs": [
    {
     "output_type": "execute_result",
     "data": {
      "text/plain": [
       "{'precision': 0.6532646102859603,\n",
       " 'recall': 0.6460055096416953,\n",
       " 'f1': 0.6417637063065755,\n",
       " 'accuracy': 0.6460055096418733}"
      ]
     },
     "metadata": {},
     "execution_count": 555
    }
   ],
   "metadata": {}
  },
  {
   "cell_type": "code",
   "execution_count": 556,
   "source": [
    "get_accuracy_results(deberta_results_political)"
   ],
   "outputs": [
    {
     "output_type": "execute_result",
     "data": {
      "text/plain": [
       "{'precision': 0.7005495957295522,\n",
       " 'recall': 0.6992753623183339,\n",
       " 'f1': 0.698796923228779,\n",
       " 'accuracy': 0.6992753623188406}"
      ]
     },
     "metadata": {},
     "execution_count": 556
    }
   ],
   "metadata": {}
  },
  {
   "cell_type": "code",
   "execution_count": 557,
   "source": [
    "get_accuracy_results(deberta_results_race)"
   ],
   "outputs": [
    {
     "output_type": "execute_result",
     "data": {
      "text/plain": [
       "{'precision': 0.5916780076210533,\n",
       " 'recall': 0.5811623246492403,\n",
       " 'f1': 0.5687973347815681,\n",
       " 'accuracy': 0.5811623246492986}"
      ]
     },
     "metadata": {},
     "execution_count": 557
    }
   ],
   "metadata": {}
  },
  {
   "cell_type": "code",
   "execution_count": null,
   "source": [
    "## categorical bart"
   ],
   "outputs": [],
   "metadata": {}
  },
  {
   "cell_type": "code",
   "execution_count": 483,
   "source": [
    "get_accuracy_results(bart_results_religion,2)"
   ],
   "outputs": [
    {
     "output_type": "execute_result",
     "data": {
      "text/plain": [
       "{'precision': 0.7504521320722626,\n",
       " 'recall': 0.7424849699398053,\n",
       " 'f1': 0.7404205921475469,\n",
       " 'accuracy': 0.7424849699398798}"
      ]
     },
     "metadata": {},
     "execution_count": 483
    }
   ],
   "metadata": {}
  },
  {
   "cell_type": "code",
   "execution_count": 484,
   "source": [
    "get_accuracy_results(bart_results_gender,2)"
   ],
   "outputs": [
    {
     "output_type": "execute_result",
     "data": {
      "text/plain": [
       "{'precision': 0.5874906924790472,\n",
       " 'recall': 0.5489361702125324,\n",
       " 'f1': 0.49309130864069106,\n",
       " 'accuracy': 0.548936170212766}"
      ]
     },
     "metadata": {},
     "execution_count": 484
    }
   ],
   "metadata": {}
  },
  {
   "cell_type": "code",
   "execution_count": 485,
   "source": [
    "get_accuracy_results(bart_results_lgbtq,2)"
   ],
   "outputs": [
    {
     "output_type": "execute_result",
     "data": {
      "text/plain": [
       "{'precision': 0.7377802946419442,\n",
       " 'recall': 0.7134986225893352,\n",
       " 'f1': 0.7059927572425638,\n",
       " 'accuracy': 0.7134986225895317}"
      ]
     },
     "metadata": {},
     "execution_count": 485
    }
   ],
   "metadata": {}
  },
  {
   "cell_type": "code",
   "execution_count": 486,
   "source": [
    "get_accuracy_results(bart_results_race,2)"
   ],
   "outputs": [
    {
     "output_type": "execute_result",
     "data": {
      "text/plain": [
       "{'precision': 0.6134056995902262,\n",
       " 'recall': 0.5761523046091607,\n",
       " 'f1': 0.5382298119892424,\n",
       " 'accuracy': 0.5761523046092184}"
      ]
     },
     "metadata": {},
     "execution_count": 486
    }
   ],
   "metadata": {}
  },
  {
   "cell_type": "code",
   "execution_count": 487,
   "source": [
    "get_accuracy_results(bart_results_political,2)"
   ],
   "outputs": [
    {
     "output_type": "execute_result",
     "data": {
      "text/plain": [
       "{'precision': 0.7296809986122857,\n",
       " 'recall': 0.6739130434777726,\n",
       " 'f1': 0.6528398926186355,\n",
       " 'accuracy': 0.6739130434782609}"
      ]
     },
     "metadata": {},
     "execution_count": 487
    }
   ],
   "metadata": {}
  },
  {
   "cell_type": "code",
   "execution_count": 563,
   "source": [
    "bart_results_religion_accuracy = get_accuracy_results(bart_results_religion,2)\n",
    "bart_results_gender_accuracy = get_accuracy_results(bart_results_gender,2)\n",
    "bart_results_lgbtq_accuracy = get_accuracy_results(bart_results_lgbtq,2)\n",
    "bart_results_race_accuracy = get_accuracy_results(bart_results_race,2)\n",
    "bart_results_political_accuracy = get_accuracy_results(bart_results_political,2)\n",
    "\n",
    "deberta_results_religion_accuracy = get_accuracy_results(deberta_results_religion,2)\n",
    "deberta_results_gender_accuracy = get_accuracy_results(deberta_results_gender,2)\n",
    "deberta_results_lgbtq_accuracy = get_accuracy_results(deberta_results_lgbtq,2)\n",
    "deberta_results_race_accuracy = get_accuracy_results(deberta_results_race,2)\n",
    "deberta_results_political_accuracy = get_accuracy_results(deberta_results_political,2)\n"
   ],
   "outputs": [],
   "metadata": {}
  },
  {
   "cell_type": "code",
   "execution_count": 568,
   "source": [
    "\n",
    "# List of categories\n",
    "categories = ['Religion', 'Gender', 'LGBTQ', 'Race', 'Political']\n",
    "\n",
    "# Accuracy results for BART and DeBERTa models\n",
    "bart_results = [bart_results_religion_accuracy['f1'], bart_results_gender_accuracy['f1'], bart_results_lgbtq_accuracy['f1'], bart_results_race_accuracy['f1'], bart_results_political_accuracy['f1']]\n",
    "deberta_results = [deberta_results_religion_accuracy['f1'], deberta_results_gender_accuracy['f1'], deberta_results_lgbtq_accuracy['f1'], deberta_results_race_accuracy['f1'], deberta_results_political_accuracy['f1']]\n",
    "\n",
    "# Width of each bar\n",
    "bar_width = 0.35\n",
    "\n",
    "# Create a figure and axis\n",
    "fig, ax = plt.subplots()\n",
    "\n",
    "# Position of each bar group on the x-axis\n",
    "x = range(len(categories))\n",
    "\n",
    "# Plot the bars for BART and DeBERTa accuracy results\n",
    "bart_bars = ax.bar(x, bart_results, bar_width, label='bart-large')\n",
    "deberta_bars = ax.bar([i + bar_width for i in x], deberta_results, bar_width, label='deberta-v3')\n",
    "\n",
    "# Set labels, title, and legend\n",
    "ax.set_xlabel('Categories')\n",
    "ax.set_ylabel('F1 Score')\n",
    "ax.set_title('F1 Score Comparison by Category and Model')\n",
    "ax.set_xticks([i + bar_width/2 for i in x])\n",
    "ax.set_xticklabels(categories)\n",
    "ax.legend()\n",
    "\n",
    "# Show the plot\n",
    "plt.tight_layout()\n",
    "plt.show()\n"
   ],
   "outputs": [
    {
     "output_type": "display_data",
     "data": {
      "image/png": "[encoded data removed]",
      "text/plain": [
       "<Figure size 640x480 with 1 Axes>"
      ]
     },
     "metadata": {}
    }
   ],
   "metadata": {}
  },
  {
   "cell_type": "code",
   "execution_count": 457,
   "source": [
    "\n",
    "def get_accuracy_results_rationale(df):\n",
    "  \n",
    "  true_positive_bias = len(df[df.apply(lambda row: 'entailment' in row['predicted'] and row['bias'] == 'bias', axis=1)])\n",
    "  false_positive_bias = len(df[df.apply(lambda row: 'entailment' in row['predicted'] and row['bias'] == 'neutral', axis=1)])\n",
    "  false_negative_bias = len(df[df.apply(lambda row: ('neutral' in row['predicted'] or 'contradiction' in row['predicted']) and row['bias'] == 'bias', axis=1)])\n",
    "\n",
    "  precision_bias = true_positive_bias / (true_positive_bias + false_positive_bias + 1e-10)  # Adding a small constant\n",
    "  recall_bias = true_positive_bias / (true_positive_bias + false_negative_bias + 1e-10)  # Adding a small constant\n",
    "  f1_bias = (2 * precision_bias * recall_bias) / (precision_bias + recall_bias + 1e-10)  # Adding a small constant\n",
    "\n",
    "  true_positive_neutral = len(df[df.apply(lambda row: ('neutral' in row['predicted'] or 'contradiction' in row['predicted']) and row['bias'] == 'neutral', axis=1)])\n",
    "  false_positive_neutral = len(df[df.apply(lambda row: ('neutral' in row['predicted'] or 'contradiction' in row['predicted']) and row['bias'] == 'bias', axis=1)])\n",
    "  false_negative_neutral = len(df[df.apply(lambda row: 'entailment' in row['predicted'] and row['bias'] == 'neutral', axis=1)])\n",
    "\n",
    "  precision_neutral = true_positive_neutral / (true_positive_neutral + false_positive_neutral + 1e-10)  # Adding a small constant\n",
    "  recall_neutral = true_positive_neutral / (true_positive_neutral + false_negative_neutral + 1e-10)  # Adding a small constant\n",
    "  f1_neutral = (2 * precision_neutral * recall_neutral) / (precision_neutral + recall_neutral + 1e-10)  # Adding a small constant\n",
    "\n",
    "  return ({\n",
    "    'precision': (precision_bias + precision_neutral) / 2,\n",
    "    'recall': (recall_bias + recall_neutral) / 2,\n",
    "    'f1': (f1_bias + f1_neutral) / 2,\n",
    "    'accuracy': (true_positive_bias + true_positive_neutral) / len(df)\n",
    "\n",
    "  })\n",
    "    \n"
   ],
   "outputs": [],
   "metadata": {}
  },
  {
   "cell_type": "code",
   "execution_count": 459,
   "source": [
    "get_accuracy_results_rationale(bart_large_rationale)"
   ],
   "outputs": [
    {
     "output_type": "execute_result",
     "data": {
      "text/plain": [
       "{'precision': 0.1508759291529367,\n",
       " 'recall': 0.1529999999999694,\n",
       " 'f1': 0.15170975048060326,\n",
       " 'accuracy': 0.153}"
      ]
     },
     "metadata": {},
     "execution_count": 459
    }
   ],
   "metadata": {}
  },
  {
   "cell_type": "code",
   "execution_count": 460,
   "source": [
    "get_accuracy_results_rationale(deberta_base_rationale)"
   ],
   "outputs": [
    {
     "output_type": "execute_result",
     "data": {
      "text/plain": [
       "{'precision': 0.11288013160062285,\n",
       " 'recall': 0.11499999999997701,\n",
       " 'f1': 0.11378677404378049,\n",
       " 'accuracy': 0.115}"
      ]
     },
     "metadata": {},
     "execution_count": 460
    }
   ],
   "metadata": {}
  },
  {
   "cell_type": "code",
   "execution_count": 461,
   "source": [
    "get_accuracy_results_rationale(deberta_v3_rationale)"
   ],
   "outputs": [
    {
     "output_type": "execute_result",
     "data": {
      "text/plain": [
       "{'precision': 0.5472304088262411,\n",
       " 'recall': 0.529999999999894,\n",
       " 'f1': 0.48283223073159265,\n",
       " 'accuracy': 0.53}"
      ]
     },
     "metadata": {},
     "execution_count": 461
    }
   ],
   "metadata": {}
  },
  {
   "cell_type": "code",
   "execution_count": 552,
   "source": [
    "## totals\n",
    "\n",
    "\n",
    "def get_prediction_breakdown(df, threshold=1):\n",
    "\n",
    "  # lower threshold for indexing issues\n",
    "  threshold = threshold - 1\n",
    "\n",
    "  # Count occurrences of 'bias' and 'neutral' predictions\n",
    "  total_bias = len(df[df.apply(lambda row: 'bias' in row['predicted'][threshold], axis=1)])\n",
    "  total_neutral = len(df[df.apply(lambda row: 'neutral' in row['predicted'][threshold], axis=1)])\n",
    "\n",
    "  return ({\n",
    "    'Bias': total_bias,\n",
    "    'Neutral':total_neutral\n",
    "  })\n",
    "    \n",
    "\n",
    "print(get_prediction_breakdown(bart_results, 2))\n",
    "print(get_prediction_breakdown(deberta_results, 1))\n",
    "\n",
    "print(3234/(3234+2230))\n",
    "print(2230/(3234+2230))\n",
    "\n",
    "print(3030/(3030+2434))\n",
    "print(2434/(3030+2434))\n",
    "\n",
    "\n"
   ],
   "outputs": [
    {
     "output_type": "stream",
     "name": "stdout",
     "text": [
      "{'Bias': 3234, 'Neutral': 2230}\n",
      "{'Bias': 3030, 'Neutral': 2434}\n",
      "0.5918740849194729\n",
      "0.4081259150805271\n",
      "0.5545387994143485\n",
      "0.44546120058565153\n"
     ]
    }
   ],
   "metadata": {}
  },
  {
   "cell_type": "code",
   "execution_count": null,
   "source": [],
   "outputs": [],
   "metadata": {}
  }
 ],
 "metadata": {
  "interpreter": {
   "hash": "aee8b7b246df8f9039afb4144a1f6fd8d2ca17a180786b69acc140d282b71a49"
  },
  "kernelspec": {
   "display_name": "Python 3 (ipykernel)",
   "language": "python",
   "name": "python3"
  },
  "language_info": {
   "codemirror_mode": {
    "name": "ipython",
    "version": 3
   },
   "file_extension": ".py",
   "mimetype": "text/x-python",
   "name": "python",
   "nbconvert_exporter": "python",
   "pygments_lexer": "ipython3",
   "version": "3.9.12"
  }
 },
 "nbformat": 4,
 "nbformat_minor": 4
}