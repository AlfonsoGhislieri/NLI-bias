{
 "cells": [
  {
   "cell_type": "code",
   "execution_count": null,
   "source": [
    "!pip3 install transformers"
   ],
   "outputs": [],
   "metadata": {}
  },
  {
   "cell_type": "code",
   "execution_count": 70,
   "source": [
    "import pandas as pd\n",
    "\n",
    "# panda view settings\n",
    "pd.set_option('display.max_columns', None)  # Display all columns\n",
    "pd.set_option('display.max_rows', None)  # Display all rows\n",
    "pd.set_option('display.max_colwidth', 500)  # Display full text in columns"
   ],
   "outputs": [],
   "metadata": {}
  },
  {
   "cell_type": "code",
   "execution_count": 71,
   "source": [
    "df = pd.read_csv(\"./data/toxicbias_train.csv\")\n",
    "df_bias = df[df['bias'] == 'bias']\n",
    "df_neutral = df[df['bias'] == 'neutral']\n"
   ],
   "outputs": [],
   "metadata": {}
  },
  {
   "cell_type": "code",
   "execution_count": 72,
   "source": [
    "# Create the five catgories to split the data into and store them in a dictionary\n",
    "categories = ['religion', 'race', 'lgbtq', 'political', 'gender']\n",
    "\n",
    "category_dfs = {category: pd.DataFrame(columns=df.columns) for category in ['religion', 'race', 'lgbtq', 'political', 'gender']}\n"
   ],
   "outputs": [],
   "metadata": {}
  },
  {
   "cell_type": "code",
   "execution_count": 78,
   "source": [
    "# Split categories and add rows to the corresponding dataframes in dictionary\n",
    "def split_categories_and_add_rows(row):\n",
    "    categories = row['category'].split(',')\n",
    "    for category in categories:\n",
    "        category = category.strip()  # Remove leading/trailing spaces\n",
    "        if category in category_dfs:\n",
    "            category_dfs[category] = category_dfs[category].append(row, ignore_index=True)\n",
    "\n",
    "df_bias.apply(split_categories_and_add_rows, axis=1)\n",
    "\n",
    "# Print the shape of each category dataframe\n",
    "for category, category_df in category_dfs.items():\n",
    "    print(f\"Dataframe for {category} category:\")\n",
    "    print(f\"Shape: {category_df.shape}\")\n",
    "    print(\"\\n\")"
   ],
   "outputs": [
    {
     "output_type": "stream",
     "name": "stdout",
     "text": [
      "Dataframe for religion category:\n",
      "Shape: (7542, 6)\n",
      "\n",
      "\n",
      "Dataframe for race category:\n",
      "Shape: (10608, 6)\n",
      "\n",
      "\n",
      "Dataframe for lgbtq category:\n",
      "Shape: (2718, 6)\n",
      "\n",
      "\n",
      "Dataframe for political category:\n",
      "Shape: (1032, 6)\n",
      "\n",
      "\n",
      "Dataframe for gender category:\n",
      "Shape: (1758, 6)\n",
      "\n",
      "\n"
     ]
    }
   ],
   "metadata": {}
  },
  {
   "cell_type": "code",
   "execution_count": 79,
   "source": [
    "category_dfs['race'].sample(5)"
   ],
   "outputs": [
    {
     "output_type": "execute_result",
     "data": {
      "text/html": [
       "<div>\n",
       "<style scoped>\n",
       "    .dataframe tbody tr th:only-of-type {\n",
       "        vertical-align: middle;\n",
       "    }\n",
       "\n",
       "    .dataframe tbody tr th {\n",
       "        vertical-align: top;\n",
       "    }\n",
       "\n",
       "    .dataframe thead th {\n",
       "        text-align: right;\n",
       "    }\n",
       "</style>\n",
       "<table border=\"1\" class=\"dataframe\">\n",
       "  <thead>\n",
       "    <tr style=\"text-align: right;\">\n",
       "      <th></th>\n",
       "      <th>comment_text</th>\n",
       "      <th>identity_attack_x</th>\n",
       "      <th>bias</th>\n",
       "      <th>target</th>\n",
       "      <th>category</th>\n",
       "      <th>rationale</th>\n",
       "    </tr>\n",
       "  </thead>\n",
       "  <tbody>\n",
       "    <tr>\n",
       "      <th>10102</th>\n",
       "      <td>utilitas wishes to know why white people are privileged.  Boggle.</td>\n",
       "      <td>0.500000</td>\n",
       "      <td>bias</td>\n",
       "      <td>whites</td>\n",
       "      <td>race</td>\n",
       "      <td>prejudice against whites</td>\n",
       "    </tr>\n",
       "    <tr>\n",
       "      <th>5477</th>\n",
       "      <td>Pretty clear that Netanyahu is a fascist wishing to cleanse Israel of anyone who is not a white EuroJew. If this was anywhere else but Israel the CIA and MI6 would be working on regime change  just as they have in most of the rest of the Middle East.</td>\n",
       "      <td>0.500000</td>\n",
       "      <td>bias</td>\n",
       "      <td>whites,jews</td>\n",
       "      <td>race,religion</td>\n",
       "      <td>prejudice against whites and jews</td>\n",
       "    </tr>\n",
       "    <tr>\n",
       "      <th>9165</th>\n",
       "      <td>Watch out for those white males. They are considered the enemy now a days.</td>\n",
       "      <td>0.800000</td>\n",
       "      <td>bias</td>\n",
       "      <td>whites</td>\n",
       "      <td>race</td>\n",
       "      <td>prejudice against whites</td>\n",
       "    </tr>\n",
       "    <tr>\n",
       "      <th>5331</th>\n",
       "      <td>I believe all Indians should go back to their reserves. there is no need for them to have an education Indians never went to school before the white man came here. If all Indians were back on the reserve they could immerse themselves in their culture and be happy. Canadians will continue to carry them on our backs.</td>\n",
       "      <td>0.500000</td>\n",
       "      <td>bias</td>\n",
       "      <td>indians,whites</td>\n",
       "      <td>race</td>\n",
       "      <td>prejudice against whites and indians</td>\n",
       "    </tr>\n",
       "    <tr>\n",
       "      <th>6945</th>\n",
       "      <td>Black crime has gotten way out of hand as I stated previously. Evidently facts and statistics are uncivil. Pathetic</td>\n",
       "      <td>0.578947</td>\n",
       "      <td>bias</td>\n",
       "      <td>blacks</td>\n",
       "      <td>race</td>\n",
       "      <td>prejudice against blacks</td>\n",
       "    </tr>\n",
       "  </tbody>\n",
       "</table>\n",
       "</div>"
      ],
      "text/plain": [
       "                                                                                                                                                                                                                                                                                                                       comment_text  \\\n",
       "10102                                                                                                                                                                                                                                                             utilitas wishes to know why white people are privileged.  Boggle.   \n",
       "5477                                                                     Pretty clear that Netanyahu is a fascist wishing to cleanse Israel of anyone who is not a white EuroJew. If this was anywhere else but Israel the CIA and MI6 would be working on regime change  just as they have in most of the rest of the Middle East.   \n",
       "9165                                                                                                                                                                                                                                                     Watch out for those white males. They are considered the enemy now a days.   \n",
       "5331   I believe all Indians should go back to their reserves. there is no need for them to have an education Indians never went to school before the white man came here. If all Indians were back on the reserve they could immerse themselves in their culture and be happy. Canadians will continue to carry them on our backs.   \n",
       "6945                                                                                                                                                                                                            Black crime has gotten way out of hand as I stated previously. Evidently facts and statistics are uncivil. Pathetic   \n",
       "\n",
       "       identity_attack_x  bias          target       category  \\\n",
       "10102           0.500000  bias          whites           race   \n",
       "5477            0.500000  bias     whites,jews  race,religion   \n",
       "9165            0.800000  bias          whites           race   \n",
       "5331            0.500000  bias  indians,whites           race   \n",
       "6945            0.578947  bias          blacks           race   \n",
       "\n",
       "                                  rationale  \n",
       "10102              prejudice against whites  \n",
       "5477      prejudice against whites and jews  \n",
       "9165               prejudice against whites  \n",
       "5331   prejudice against whites and indians  \n",
       "6945               prejudice against blacks  "
      ]
     },
     "metadata": {},
     "execution_count": 79
    }
   ],
   "metadata": {}
  },
  {
   "cell_type": "code",
   "execution_count": null,
   "source": [],
   "outputs": [],
   "metadata": {}
  }
 ],
 "metadata": {
  "orig_nbformat": 4,
  "language_info": {
   "name": "python",
   "version": "3.9.12",
   "mimetype": "text/x-python",
   "codemirror_mode": {
    "name": "ipython",
    "version": 3
   },
   "pygments_lexer": "ipython3",
   "nbconvert_exporter": "python",
   "file_extension": ".py"
  },
  "kernelspec": {
   "name": "python3",
   "display_name": "Python 3.9.12 64-bit"
  },
  "interpreter": {
   "hash": "aee8b7b246df8f9039afb4144a1f6fd8d2ca17a180786b69acc140d282b71a49"
  }
 },
 "nbformat": 4,
 "nbformat_minor": 2
}