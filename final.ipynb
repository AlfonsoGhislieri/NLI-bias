{
 "cells": [
  {
   "cell_type": "code",
   "execution_count": 213,
   "source": [
    "!pip3 install transformers"
   ],
   "outputs": [
    {
     "output_type": "stream",
     "name": "stdout",
     "text": [
      "huggingface/tokenizers: The current process just got forked, after parallelism has already been used. Disabling parallelism to avoid deadlocks...\n",
      "To disable this warning, you can either:\n",
      "\t- Avoid using `tokenizers` before the fork if possible\n",
      "\t- Explicitly set the environment variable TOKENIZERS_PARALLELISM=(true | false)\n",
      "\u001b[33mDEPRECATION: Configuring installation scheme with distutils config files is deprecated and will no longer work in the near future. If you are using a Homebrew or Linuxbrew Python, please see discussion at https://github.com/Homebrew/homebrew-core/issues/76621\u001b[0m\u001b[33m\n",
      "\u001b[0mRequirement already satisfied: transformers in /usr/local/lib/python3.9/site-packages (4.29.2)\n",
      "Requirement already satisfied: numpy>=1.17 in /usr/local/lib/python3.9/site-packages (from transformers) (1.21.5)\n",
      "Requirement already satisfied: huggingface-hub<1.0,>=0.14.1 in /usr/local/lib/python3.9/site-packages (from transformers) (0.14.1)\n",
      "Requirement already satisfied: tqdm>=4.27 in /usr/local/lib/python3.9/site-packages (from transformers) (4.65.0)\n",
      "Requirement already satisfied: packaging>=20.0 in /usr/local/lib/python3.9/site-packages (from transformers) (21.3)\n",
      "Requirement already satisfied: requests in /usr/local/lib/python3.9/site-packages (from transformers) (2.31.0)\n",
      "Requirement already satisfied: pyyaml>=5.1 in /usr/local/lib/python3.9/site-packages (from transformers) (6.0)\n",
      "Requirement already satisfied: regex!=2019.12.17 in /usr/local/lib/python3.9/site-packages (from transformers) (2023.5.5)\n",
      "Requirement already satisfied: tokenizers!=0.11.3,<0.14,>=0.11.1 in /usr/local/lib/python3.9/site-packages (from transformers) (0.13.3)\n",
      "Requirement already satisfied: filelock in /usr/local/lib/python3.9/site-packages (from transformers) (3.12.0)\n",
      "Requirement already satisfied: typing-extensions>=3.7.4.3 in /usr/local/lib/python3.9/site-packages (from huggingface-hub<1.0,>=0.14.1->transformers) (4.5.0)\n",
      "Requirement already satisfied: fsspec in /usr/local/lib/python3.9/site-packages (from huggingface-hub<1.0,>=0.14.1->transformers) (2023.5.0)\n",
      "Requirement already satisfied: pyparsing!=3.0.5,>=2.0.2 in /usr/local/lib/python3.9/site-packages (from packaging>=20.0->transformers) (3.0.9)\n",
      "Requirement already satisfied: urllib3<3,>=1.21.1 in /usr/local/lib/python3.9/site-packages (from requests->transformers) (1.26.12)\n",
      "Requirement already satisfied: charset-normalizer<4,>=2 in /usr/local/lib/python3.9/site-packages (from requests->transformers) (2.1.1)\n",
      "Requirement already satisfied: idna<4,>=2.5 in /usr/local/lib/python3.9/site-packages (from requests->transformers) (2.10)\n",
      "Requirement already satisfied: certifi>=2017.4.17 in /usr/local/lib/python3.9/site-packages (from requests->transformers) (2022.9.24)\n",
      "\u001b[33mDEPRECATION: Configuring installation scheme with distutils config files is deprecated and will no longer work in the near future. If you are using a Homebrew or Linuxbrew Python, please see discussion at https://github.com/Homebrew/homebrew-core/issues/76621\u001b[0m\u001b[33m\n",
      "\u001b[0m\u001b[33mWARNING: You are using pip version 22.0.4; however, version 23.2.1 is available.\n",
      "You should consider upgrading via the '/usr/local/opt/python@3.9/bin/python3.9 -m pip install --upgrade pip' command.\u001b[0m\u001b[33m\n",
      "\u001b[0m"
     ]
    }
   ],
   "metadata": {}
  },
  {
   "cell_type": "code",
   "execution_count": 1,
   "source": [
    "import sys\n",
    "sys.path.append('src/')\n",
    "import pandas as pd\n",
    "from sklearn.model_selection import train_test_split\n",
    "from sklearn.metrics import f1_score, roc_auc_score, roc_curve, auc\n",
    "from sklearn.preprocessing import LabelEncoder\n",
    "import torch\n",
    "import ast\n",
    "import matplotlib.pyplot as plt\n",
    "import numpy as np\n",
    "\n",
    "# panda view settings\n",
    "pd.set_option('display.max_columns', None)  # Display all columns\n",
    "pd.set_option('display.max_rows', None)  # Display all rows\n",
    "pd.set_option('display.max_colwidth', 500)  # Display full text in columns"
   ],
   "outputs": [],
   "metadata": {}
  },
  {
   "cell_type": "code",
   "execution_count": 2,
   "source": [
    "DEVICE = torch.device(\n",
    "    \"cuda\") if torch.cuda.is_available() else torch.device(\"cpu\")\n",
    "\n",
    "print(DEVICE)"
   ],
   "outputs": [
    {
     "output_type": "stream",
     "name": "stdout",
     "text": [
      "cpu\n"
     ]
    }
   ],
   "metadata": {}
  },
  {
   "cell_type": "markdown",
   "source": [
    "## Read from exisiting csvs"
   ],
   "metadata": {}
  },
  {
   "cell_type": "code",
   "execution_count": 2,
   "source": [
    "df_train = pd.read_csv(\"./data/toxicbias_train.csv\")\n",
    "df_test = pd.read_csv(\"./data/toxicbias_test.csv\")\n",
    "\n",
    "# split up train data into bias and neutral\n",
    "df_bias = df_train[df_train['bias'] == 'bias']\n",
    "df_neutral = df_train[df_train['bias'] == 'neutral']\n",
    "\n",
    "# add extra neutral cases from test data\n",
    "df_test_neutral = df_test[df_test['bias'] == 'neutral']\n",
    "df_neutral = pd.concat([df_neutral, df_test_neutral], ignore_index=True)\n"
   ],
   "outputs": [],
   "metadata": {}
  },
  {
   "cell_type": "code",
   "execution_count": 331,
   "source": [
    "# Read the CSV files into DataFrames\n",
    "df_political_test= pd.read_csv('./results/final/political_test_results.csv')\n",
    "df_gender_test = pd.read_csv('./results/final/gender_test_results.csv')\n",
    "df_lgbtq_test = pd.read_csv('./results/final/lgbtq_test_results.csv')\n",
    "df_race_test = pd.read_csv('./results/final/race_test_results.csv')\n",
    "df_religion_test = pd.read_csv('./results/final/religion_test_results.csv')\n",
    "\n",
    "# read training results \n",
    "df_political_training = pd.read_csv('./results/training/political_training_results.csv')\n",
    "df_gender_training = pd.read_csv('./results/training/gender_training_results.csv')\n",
    "df_lgbtq_training = pd.read_csv('./results/training/lgbtq_training_results.csv')\n",
    "df_race_training = pd.read_csv('./results/training/race_training_results.csv')\n",
    "df_religion_training = pd.read_csv('./results/training/religion_training_results.csv')\n",
    "\n",
    "# Combine the DataFrames into one\n",
    "combined_test_df = pd.concat([df_political_test, df_gender_test, df_lgbtq_test, df_race_test, df_religion_test], ignore_index=True)\n",
    "combined_training_df = pd.concat([df_political_training, df_gender_training, df_lgbtq_training, df_race_training, df_religion_training], ignore_index=True)"
   ],
   "outputs": [],
   "metadata": {}
  },
  {
   "cell_type": "markdown",
   "source": [
    "## Split up dataframe by category"
   ],
   "metadata": {}
  },
  {
   "cell_type": "code",
   "execution_count": 397,
   "source": [
    "# store unique categories\n",
    "unique_categories = set()\n",
    "\n",
    "# Iterate through each entry in the 'category' column\n",
    "for categories in df_bias['category'].str.split(','):\n",
    "    for category in categories:\n",
    "        stripped_category = category.strip()\n",
    "        if stripped_category and stripped_category.lower() != 'none':\n",
    "            unique_categories.add(stripped_category)\n",
    "\n",
    "unique_categories_list = sorted(list(unique_categories))"
   ],
   "outputs": [],
   "metadata": {}
  },
  {
   "cell_type": "code",
   "execution_count": 398,
   "source": [
    "categorical_dfs = {category: pd.DataFrame(columns=df_bias.columns) for category in unique_categories_list}\n",
    "\n",
    "# Split categories and add rows to the corresponding dataframes in dictionary\n",
    "def split_categories_and_add_rows(row):\n",
    "    categories = row['category'].split(',')\n",
    "    for category in categories:\n",
    "        category = category.strip()  # Remove leading/trailing spaces\n",
    "        if category in categorical_dfs:\n",
    "            categorical_dfs[category] = categorical_dfs[category].append(row, ignore_index=True)\n",
    "\n",
    "df_bias.apply(split_categories_and_add_rows, axis=1)\n",
    "\n",
    "# Print the shape of each category dataframe\n",
    "for category, category_df in categorical_dfs.items():\n",
    "    print(f\"Dataframe for {category}:\")\n",
    "    print(f\"Shape: {category_df.shape}\")\n",
    "    print(\"\\n\")"
   ],
   "outputs": [
    {
     "output_type": "stream",
     "name": "stdout",
     "text": [
      "Dataframe for gender:\n",
      "Shape: (293, 6)\n",
      "\n",
      "\n",
      "Dataframe for lgbtq:\n",
      "Shape: (453, 6)\n",
      "\n",
      "\n",
      "Dataframe for political:\n",
      "Shape: (172, 6)\n",
      "\n",
      "\n",
      "Dataframe for race:\n",
      "Shape: (1768, 6)\n",
      "\n",
      "\n",
      "Dataframe for religion:\n",
      "Shape: (1257, 6)\n",
      "\n",
      "\n"
     ]
    }
   ],
   "metadata": {}
  },
  {
   "cell_type": "markdown",
   "source": [
    "## Split training and test data"
   ],
   "metadata": {}
  },
  {
   "cell_type": "code",
   "execution_count": 399,
   "source": [
    "training_data = {}\n",
    "test_data = {}\n",
    "\n",
    "# Perform the 80-20 split for each category dataframe\n",
    "for category, df in categorical_dfs.items():\n",
    "    train_df, test_df = train_test_split(df, test_size=0.8, random_state=42)\n",
    "    \n",
    "    training_data[category] = train_df\n",
    "    test_data[category] = test_df"
   ],
   "outputs": [],
   "metadata": {}
  },
  {
   "cell_type": "code",
   "execution_count": 400,
   "source": [
    "for category, train_df in training_data.items():\n",
    "    print('Training data')\n",
    "    print(f\"Dataframe for {category}:\")\n",
    "    print(f\"Shape: {train_df.shape}\")\n",
    "    print(\"\\n\")"
   ],
   "outputs": [
    {
     "output_type": "stream",
     "name": "stdout",
     "text": [
      "Training data\n",
      "Dataframe for gender:\n",
      "Shape: (58, 6)\n",
      "\n",
      "\n",
      "Training data\n",
      "Dataframe for lgbtq:\n",
      "Shape: (90, 6)\n",
      "\n",
      "\n",
      "Training data\n",
      "Dataframe for political:\n",
      "Shape: (34, 6)\n",
      "\n",
      "\n",
      "Training data\n",
      "Dataframe for race:\n",
      "Shape: (353, 6)\n",
      "\n",
      "\n",
      "Training data\n",
      "Dataframe for religion:\n",
      "Shape: (251, 6)\n",
      "\n",
      "\n"
     ]
    }
   ],
   "metadata": {}
  },
  {
   "cell_type": "code",
   "execution_count": 401,
   "source": [
    "for category, test_df in test_data.items():\n",
    "    print('Test data')\n",
    "    print(f\"Dataframe for {category}:\")\n",
    "    print(f\"Shape: {test_df.shape}\")\n",
    "    print(\"\\n\")"
   ],
   "outputs": [
    {
     "output_type": "stream",
     "name": "stdout",
     "text": [
      "Test data\n",
      "Dataframe for gender:\n",
      "Shape: (235, 6)\n",
      "\n",
      "\n",
      "Test data\n",
      "Dataframe for lgbtq:\n",
      "Shape: (363, 6)\n",
      "\n",
      "\n",
      "Test data\n",
      "Dataframe for political:\n",
      "Shape: (138, 6)\n",
      "\n",
      "\n",
      "Test data\n",
      "Dataframe for race:\n",
      "Shape: (1415, 6)\n",
      "\n",
      "\n",
      "Test data\n",
      "Dataframe for religion:\n",
      "Shape: (1006, 6)\n",
      "\n",
      "\n"
     ]
    }
   ],
   "metadata": {}
  },
  {
   "cell_type": "markdown",
   "source": [
    "## Hypotheses"
   ],
   "metadata": {}
  },
  {
   "cell_type": "code",
   "execution_count": 6,
   "source": [
    "hypotheses = {\n",
    "  'gender' : [\n",
    "    'A person belonging to a gender lacks intelligence.',\n",
    "    'A person belonging to a gender is a criminal.',\n",
    "    'A person belonging to a gender is violent.',\n",
    "    'Violence is encouraged against a gender.',\n",
    "    'A person belonging to a gender is abusive.',\n",
    "    'A person belonging to a gender should be blamed.',\n",
    "    'Women make decisions based on emotions.',\n",
    "    'A gender is unable to do some jobs.',\n",
    "    'A gender is unable to do something as well as another gender.',\n",
    "    'A gender should not talk.',\n",
    "    'A person belonging to a gender is compared to an object.',\n",
    "    'A gender should be blamed.',\n",
    "    'A person belonging to a gender has an advantage compared to others.',\n",
    "    'A person belonging to a gender is misogynist.',\n",
    "    'A person belonging to a gender is disliked.',\n",
    "  ],\n",
    "  'lgbtq' : [\n",
    "    'Lgbtq persons are believed to have a condition.',\n",
    "    'Lgbtq should not be part of society.',\n",
    "    'Violence is encouraged against lgbtq persons.',\n",
    "    'Lgbtq persons are compared to animals.',\n",
    "    'Lgbtq persons are believed to have an agenda.',\n",
    "    'Lgbtq persons should be excluded.',\n",
    "    'Lgbtq persons should stay home.',\n",
    "    'Lgbtq persons commit crimes.',\n",
    "    'Lgbtq persons get preferred to other persons.',\n",
    "    'Lgbtq persons are seen as not being normal.', \n",
    "    'Lgbtq persons should not be allowed to marry.', \n",
    "    'Lgbtq persons have a disease.',\n",
    "    'Lgbtq persons are seen as being disgusting.',\n",
    "    'Lgbtq persons are not tolerated or desired.',\n",
    "    'Lgbtq persons are treated differently.',\n",
    "\n",
    "  ],\n",
    "  'political' : [ \n",
    "      'A person belonging to a political group is stupid.',\n",
    "      'A person belonging to a political group is crazy.',\n",
    "      'Things are worse due to a political group.',\n",
    "      'Members of a political group are lgbtq.',\n",
    "      'Members of a political group are hypocritical.',\n",
    "      'Members of a political group dislike a gender or lgbtq.',\n",
    "      'Members of a political group commit crimes.',\n",
    "      'Members of a political group are violent.',\n",
    "      'Members of a political group are hateful.',\n",
    "      'Members of a political group are compared to Nazis.',\n",
    "      'Members of a political group are racist.',\n",
    "      'A person belonging to a political group has a disease.',\n",
    "      'Members of a political group are taking control.',\n",
    "      'Members of a political group prefer minorities.',\n",
    "      'Members of a political group hate their country or race.',\n",
    "  ],\n",
    "  'race' : [\n",
    "    'Members of a race commit crimes.',\n",
    "    'Members of a race are violent.',\n",
    "    'Members of a race are compared to animals.',\n",
    "    'The use of violence is encouraged or desired against a race.',\n",
    "    'Members of a race should remain in their respective countries.',\n",
    "    'The integration of a race should be avoided in a country or society.',\n",
    "    'Members of a race are a threat to others.',\n",
    "    'A race is inferior when compared to another race.',\n",
    "    'A race is preferred to another.',\n",
    "    'Members of a race are stupid.',\n",
    "    'There are too many members of a race.',\n",
    "    'Members of a race should be excluded.',\n",
    "    'Members of a race should go back to their homes.',\n",
    "    'Members of a race are refused.',\n",
    "    'Members of a race are racist.',\n",
    "  ],\n",
    "  'religion' : [\n",
    "    'The use of violence is encouraged or desired against a religion.',\n",
    "    'A religion should be discriminated against.',\n",
    "    'Members of a religion should be excluded and marginalized.',\n",
    "    'Members of a religion should remain in their respective countries.',\n",
    "    'Members of a religion are compared to animals.',\n",
    "    'A religion or members of a religion are compared to devils or demons.',\n",
    "    'The integration of a religion should be avoided in a country or society.',\n",
    "    'A religion or members of a religion are stupid.',\n",
    "    'A religion is inferior when compared to another religion.',\n",
    "    'A religion is preferred to another.',\n",
    "    'Religious practices of a particular faith should be restricted or banned in public spaces.',\n",
    "    'Religious attire or symbols should be prohibited.',\n",
    "    'A religion promotes violence or intolerance.',\n",
    "    'Members of a religion are a threat.',\n",
    "    'Members of a religion are not trustworthy or loyal.',\n",
    "  ],\n",
    "}"
   ],
   "outputs": [],
   "metadata": {}
  },
  {
   "cell_type": "markdown",
   "source": [
    "## Add neutral cases"
   ],
   "metadata": {}
  },
  {
   "cell_type": "code",
   "execution_count": 407,
   "source": [
    "def add_rows_to_dataframes(dataframes_dict):\n",
    "    # Set the random state for reproducibility\n",
    "    np.random.seed(42)\n",
    "    \n",
    "    df_neutral_copy = df_neutral.copy()\n",
    "    max_neutral_length = len(df_neutral_copy)\n",
    "\n",
    "    for key, df in dataframes_dict.items():\n",
    "        # Calculate the maximum number of rows to add\n",
    "        rows_to_add = len(df)\n",
    "\n",
    "        # check if neutral copy array is too low on rows\n",
    "        if len(df_neutral_copy) < rows_to_add:\n",
    "            # reset array to full size\n",
    "            df_neutral_copy = df_neutral.copy()\n",
    "\n",
    "        # check if we need to drop bias data to match number of neutral cases\n",
    "        if rows_to_add > max_neutral_length:\n",
    "            # Drop excess rows from df to match the length of df_neutral_copy\n",
    "            rows_to_drop = np.random.choice(df.index, size=len(df) - len(df_neutral_copy), replace=False)\n",
    "            df.drop(rows_to_drop, inplace=True)\n",
    "\n",
    "        # Choose random rows from df_neutral_copy without replacement\n",
    "        rows_to_add = df_neutral_copy.sample(n=len(df), replace=False)\n",
    "\n",
    "        df = pd.concat([df, rows_to_add], ignore_index=True)\n",
    "\n",
    "         # drop these rows from df_neutral_copy after concatenation\n",
    "        df_neutral_copy.drop(rows_to_add.index, inplace=True)\n",
    "\n",
    "        # Update the dataframe in the dataframes_dict\n",
    "        dataframes_dict[key] = df\n"
   ],
   "outputs": [],
   "metadata": {}
  },
  {
   "cell_type": "code",
   "execution_count": 404,
   "source": [
    "add_rows_to_dataframes(test_data)\n",
    "add_rows_to_dataframes(training_data)"
   ],
   "outputs": [],
   "metadata": {}
  },
  {
   "cell_type": "code",
   "execution_count": 405,
   "source": [
    "for category in test_data:\n",
    "  print(test_data[category]['bias'].value_counts())"
   ],
   "outputs": [
    {
     "output_type": "stream",
     "name": "stdout",
     "text": [
      "bias       235\n",
      "neutral    235\n",
      "Name: bias, dtype: int64\n",
      "bias       363\n",
      "neutral    363\n",
      "Name: bias, dtype: int64\n",
      "neutral    138\n",
      "bias       138\n",
      "Name: bias, dtype: int64\n",
      "neutral    998\n",
      "bias       998\n",
      "Name: bias, dtype: int64\n",
      "neutral    998\n",
      "bias       998\n",
      "Name: bias, dtype: int64\n"
     ]
    }
   ],
   "metadata": {}
  },
  {
   "cell_type": "code",
   "execution_count": 406,
   "source": [
    "for category in training_data:\n",
    "  print(training_data[category]['bias'].value_counts())"
   ],
   "outputs": [
    {
     "output_type": "stream",
     "name": "stdout",
     "text": [
      "bias       58\n",
      "neutral    58\n",
      "Name: bias, dtype: int64\n",
      "neutral    90\n",
      "bias       90\n",
      "Name: bias, dtype: int64\n",
      "neutral    34\n",
      "bias       34\n",
      "Name: bias, dtype: int64\n",
      "bias       353\n",
      "neutral    353\n",
      "Name: bias, dtype: int64\n",
      "bias       251\n",
      "neutral    251\n",
      "Name: bias, dtype: int64\n"
     ]
    }
   ],
   "metadata": {}
  },
  {
   "cell_type": "markdown",
   "source": [
    "## Bart model"
   ],
   "metadata": {}
  },
  {
   "cell_type": "code",
   "execution_count": 286,
   "source": [
    "def convert_probabilities_batched(probabilities, label_mapping):\n",
    "    probabilities_list = probabilities.tolist()  # Convert the tensor to a list\n",
    "    return [{name: round(pred * 100, 1) for pred, name in zip(preds, label_mapping)} for preds in probabilities_list]"
   ],
   "outputs": [],
   "metadata": {}
  },
  {
   "cell_type": "code",
   "execution_count": 542,
   "source": [
    "import pandas as pd\n",
    "import torch\n",
    "from transformers import AutoModelForSequenceClassification, AutoTokenizer\n",
    "\n",
    "def bart_nli_batched_hypotheses(premises, hypotheses):\n",
    "    model_name = 'facebook/bart-large-mnli'\n",
    "    model = AutoModelForSequenceClassification.from_pretrained(model_name)\n",
    "    tokenizer = AutoTokenizer.from_pretrained(model_name, use_fast=True)\n",
    "    model.to(DEVICE) \n",
    "\n",
    "    num_premises = len(premises)\n",
    "    num_hypotheses = len(hypotheses)\n",
    "    results = {}\n",
    "\n",
    "    with torch.no_grad():\n",
    "        for i in range(num_premises):\n",
    "            labels = []\n",
    "\n",
    "            # Tokenize the input pair\n",
    "            inputs = tokenizer([premises[i]] * num_hypotheses, hypotheses, return_tensors='pt', padding=True, truncation=True)\n",
    "\n",
    "            # Run the input through the model\n",
    "            logits = model(**inputs.to(DEVICE)).logits\n",
    "\n",
    "            # Get probabilities and labels for the input\n",
    "            probabilities = torch.softmax(logits, dim=1)\n",
    "            label_mapping = ['contradiction', 'neutral', 'entailment']\n",
    "            labels = [label_mapping[p.argmax().item()] for p in probabilities]\n",
    "\n",
    "            results[premises[i]] = (labels, convert_probabilities_batched(probabilities, label_mapping))\n",
    "    return results\n"
   ],
   "outputs": [],
   "metadata": {}
  },
  {
   "cell_type": "markdown",
   "source": [
    "## Run data through model, add labels and probabilities"
   ],
   "metadata": {}
  },
  {
   "cell_type": "code",
   "execution_count": 502,
   "source": [
    "def run_bart_model_add_labels(category,data_type='training'):\n",
    "    # Create a copy of the input dataframe\n",
    "    if data_type == 'test':\n",
    "      df_copy = test_data[category].copy()\n",
    "    if data_type == 'training':\n",
    "      df_copy = training_data[category].copy()\n",
    "\n",
    "    # Run BART NLI on the dataframes for the specified category\n",
    "    results = bart_nli_batched_hypotheses(list(df_copy['comment_text']), hypotheses[category])\n",
    "\n",
    "    # Process the results separately and add them to the dataframe\n",
    "    labels_column = []\n",
    "    probabilities_column = []\n",
    "\n",
    "    for premise in df_copy['comment_text']:\n",
    "        if premise in results:\n",
    "            labels, probabilities = results[premise]\n",
    "        else:\n",
    "            labels, probabilities = None, None\n",
    "        labels_column.append(labels)\n",
    "        probabilities_column.append(probabilities)\n",
    "\n",
    "    df_copy['labels'] = labels_column\n",
    "    df_copy['probabilities'] = probabilities_column\n",
    "\n",
    "    return df_copy"
   ],
   "outputs": [],
   "metadata": {}
  },
  {
   "cell_type": "code",
   "execution_count": null,
   "source": [
    "df_pol = run_bart_model_add_labels('political', 'training')\n",
    "df_race =run_bart_model_add_labels('race', 'training')\n",
    "df_gender =run_bart_model_add_labels('gender', 'training')\n",
    "df_religion =run_bart_model_add_labels('religion', 'training')\n",
    "df_lgbtq =run_bart_model_add_labels('lgbtq', 'training')"
   ],
   "outputs": [],
   "metadata": {}
  },
  {
   "cell_type": "markdown",
   "source": [
    "## Test f1 scores"
   ],
   "metadata": {}
  },
  {
   "cell_type": "code",
   "execution_count": 7,
   "source": [
    "def set_predictions(df, correct_threshold):\n",
    "    def is_bias(row):\n",
    "        labels = ast.literal_eval(row['labels'])\n",
    "        if sum(label == 'entailment' for label in labels) >= correct_threshold:\n",
    "            return 'bias'\n",
    "        else:\n",
    "            return 'neutral'\n",
    "\n",
    "    df['predicted'] = df.apply(lambda row: is_bias(row), axis=1)\n",
    "\n",
    "    return df"
   ],
   "outputs": [],
   "metadata": {}
  },
  {
   "cell_type": "code",
   "execution_count": 8,
   "source": [
    "def set_predictions_multiple(df, max_correct_threshold=len(hypotheses['race'])):\n",
    "    def is_bias(row, n_labels):\n",
    "        labels = ast.literal_eval(row['labels'])\n",
    "        if sum(label == 'entailment' for label in labels) >= n_labels:\n",
    "            return 'bias'\n",
    "        else:\n",
    "            return 'neutral'\n",
    "\n",
    "    label_correctness_list = []\n",
    "\n",
    "    for _, row in df.iterrows():\n",
    "        row_results = []\n",
    "\n",
    "        for n in range(1, max_correct_threshold + 1):\n",
    "            result = is_bias(row, n)\n",
    "            row_results.append(result)\n",
    "\n",
    "        label_correctness_list.append(row_results)\n",
    "\n",
    "    # Add the list as the 'is_label_correct' column in the DataFrame\n",
    "    df['predicted'] = pd.Series(label_correctness_list)\n",
    "\n",
    "    return df\n"
   ],
   "outputs": [],
   "metadata": {}
  },
  {
   "cell_type": "code",
   "execution_count": 384,
   "source": [
    "df_training_multiple = set_predictions_multiple(combined_training_df, 15)\n",
    "df_test_multiple = set_predictions_multiple(combined_test_df, 15)"
   ],
   "outputs": [],
   "metadata": {}
  },
  {
   "cell_type": "code",
   "execution_count": 412,
   "source": [
    "np.random.seed(42)\n",
    "\n",
    "df_training_multiple.sample(5)"
   ],
   "outputs": [
    {
     "output_type": "execute_result",
     "data": {
      "text/html": [
       "<div>\n",
       "<style scoped>\n",
       "    .dataframe tbody tr th:only-of-type {\n",
       "        vertical-align: middle;\n",
       "    }\n",
       "\n",
       "    .dataframe tbody tr th {\n",
       "        vertical-align: top;\n",
       "    }\n",
       "\n",
       "    .dataframe thead th {\n",
       "        text-align: right;\n",
       "    }\n",
       "</style>\n",
       "<table border=\"1\" class=\"dataframe\">\n",
       "  <thead>\n",
       "    <tr style=\"text-align: right;\">\n",
       "      <th></th>\n",
       "      <th>Unnamed: 0</th>\n",
       "      <th>comment_text</th>\n",
       "      <th>identity_attack_x</th>\n",
       "      <th>bias</th>\n",
       "      <th>target</th>\n",
       "      <th>category</th>\n",
       "      <th>rationale</th>\n",
       "      <th>labels</th>\n",
       "      <th>probabilities</th>\n",
       "      <th>predicted</th>\n",
       "    </tr>\n",
       "  </thead>\n",
       "  <tbody>\n",
       "    <tr>\n",
       "      <th>1120</th>\n",
       "      <td>50</td>\n",
       "      <td>When are we going to cease permitting Muslim apologists to use the no true Scotsman fallacy and say unequivocally that Islam is the problem?</td>\n",
       "      <td>0.900000</td>\n",
       "      <td>bias</td>\n",
       "      <td>muslims</td>\n",
       "      <td>religion</td>\n",
       "      <td>prejudice against muslims</td>\n",
       "      <td>['neutral', 'contradiction', 'contradiction', 'contradiction', 'contradiction', 'neutral', 'contradiction', 'contradiction', 'contradiction', 'contradiction', 'neutral', 'neutral', 'neutral', 'entailment', 'contradiction']</td>\n",
       "      <td>[{'contradiction': 35.5, 'neutral': 49.7, 'entailment': 14.8}, {'contradiction': 93.4, 'neutral': 6.1, 'entailment': 0.5}, {'contradiction': 89.5, 'neutral': 9.8, 'entailment': 0.8}, {'contradiction': 62.9, 'neutral': 35.7, 'entailment': 1.4}, {'contradiction': 73.5, 'neutral': 23.5, 'entailment': 3.0}, {'contradiction': 21.3, 'neutral': 70.5, 'entailment': 8.2}, {'contradiction': 86.1, 'neutral': 13.2, 'entailment': 0.7}, {'contradiction': 63.9, 'neutral': 32.1, 'entailment': 4.0}, {'contra...</td>\n",
       "      <td>[bias, neutral, neutral, neutral, neutral, neutral, neutral, neutral, neutral, neutral, neutral, neutral, neutral, neutral, neutral]</td>\n",
       "    </tr>\n",
       "    <tr>\n",
       "      <th>810</th>\n",
       "      <td>446</td>\n",
       "      <td>The typical delusion of the stupid and blind ideologues of the Trump mentality. Without government spending nothing in this nation would be functioning. You believe you are some Aryan super being devoid of any responsibility for any part of society except your own selfish interests. The NaziFascistWhite Supremacist ideology devoid of any humanity or conscience. Crawl back into your bunker you evil bastard.</td>\n",
       "      <td>0.281250</td>\n",
       "      <td>neutral</td>\n",
       "      <td>NaN</td>\n",
       "      <td>none</td>\n",
       "      <td>NaN</td>\n",
       "      <td>['entailment', 'entailment', 'contradiction', 'entailment', 'contradiction', 'contradiction', 'entailment', 'contradiction', 'entailment', 'entailment', 'neutral', 'contradiction', 'entailment', 'contradiction', 'entailment']</td>\n",
       "      <td>[{'contradiction': 1.1, 'neutral': 14.0, 'entailment': 84.9}, {'contradiction': 12.5, 'neutral': 39.9, 'entailment': 47.6}, {'contradiction': 77.6, 'neutral': 15.9, 'entailment': 6.5}, {'contradiction': 0.5, 'neutral': 40.3, 'entailment': 59.2}, {'contradiction': 95.8, 'neutral': 4.0, 'entailment': 0.2}, {'contradiction': 57.7, 'neutral': 41.9, 'entailment': 0.4}, {'contradiction': 7.9, 'neutral': 31.6, 'entailment': 60.5}, {'contradiction': 48.3, 'neutral': 35.2, 'entailment': 16.6}, {'cont...</td>\n",
       "      <td>[bias, bias, bias, bias, bias, bias, bias, bias, neutral, neutral, neutral, neutral, neutral, neutral, neutral]</td>\n",
       "    </tr>\n",
       "    <tr>\n",
       "      <th>1170</th>\n",
       "      <td>100</td>\n",
       "      <td>It is possible to condemn the homophobia of TMOA and other Muslim organizations without insinuating that they or individual members are terrorists.</td>\n",
       "      <td>0.500000</td>\n",
       "      <td>bias</td>\n",
       "      <td>muslims</td>\n",
       "      <td>religion</td>\n",
       "      <td>prejudice against muslims</td>\n",
       "      <td>['contradiction', 'contradiction', 'contradiction', 'neutral', 'contradiction', 'contradiction', 'contradiction', 'contradiction', 'contradiction', 'neutral', 'contradiction', 'contradiction', 'neutral', 'contradiction', 'contradiction']</td>\n",
       "      <td>[{'contradiction': 62.4, 'neutral': 24.5, 'entailment': 13.1}, {'contradiction': 94.6, 'neutral': 5.0, 'entailment': 0.3}, {'contradiction': 99.1, 'neutral': 0.9, 'entailment': 0.1}, {'contradiction': 19.5, 'neutral': 77.5, 'entailment': 3.1}, {'contradiction': 91.4, 'neutral': 7.1, 'entailment': 1.5}, {'contradiction': 87.8, 'neutral': 8.2, 'entailment': 4.0}, {'contradiction': 95.4, 'neutral': 4.5, 'entailment': 0.1}, {'contradiction': 84.4, 'neutral': 15.2, 'entailment': 0.4}, {'contradic...</td>\n",
       "      <td>[neutral, neutral, neutral, neutral, neutral, neutral, neutral, neutral, neutral, neutral, neutral, neutral, neutral, neutral, neutral]</td>\n",
       "    </tr>\n",
       "    <tr>\n",
       "      <th>534</th>\n",
       "      <td>170</td>\n",
       "      <td>Why are Mexicans always stabbing and shooting each other?</td>\n",
       "      <td>0.528571</td>\n",
       "      <td>bias</td>\n",
       "      <td>mexicans</td>\n",
       "      <td>race</td>\n",
       "      <td>prejudice against mexicans</td>\n",
       "      <td>['entailment', 'entailment', 'entailment', 'entailment', 'neutral', 'neutral', 'entailment', 'contradiction', 'contradiction', 'neutral', 'neutral', 'neutral', 'neutral', 'contradiction', 'entailment']</td>\n",
       "      <td>[{'contradiction': 0.1, 'neutral': 1.5, 'entailment': 98.5}, {'contradiction': 0.1, 'neutral': 2.1, 'entailment': 97.8}, {'contradiction': 16.6, 'neutral': 39.2, 'entailment': 44.2}, {'contradiction': 3.8, 'neutral': 16.8, 'entailment': 79.4}, {'contradiction': 32.8, 'neutral': 61.5, 'entailment': 5.7}, {'contradiction': 26.6, 'neutral': 72.9, 'entailment': 0.5}, {'contradiction': 0.6, 'neutral': 13.3, 'entailment': 86.2}, {'contradiction': 45.3, 'neutral': 32.9, 'entailment': 21.8}, {'contr...</td>\n",
       "      <td>[bias, bias, bias, bias, bias, bias, neutral, neutral, neutral, neutral, neutral, neutral, neutral, neutral, neutral]</td>\n",
       "    </tr>\n",
       "    <tr>\n",
       "      <th>514</th>\n",
       "      <td>150</td>\n",
       "      <td>So the fact that not everyone had a slave makes it to where the U.S. didnt have slavery? Need a citation that Kaepernick thinks every 100 of whites in America are racist.</td>\n",
       "      <td>0.600000</td>\n",
       "      <td>bias</td>\n",
       "      <td>whites</td>\n",
       "      <td>race</td>\n",
       "      <td>prejudice against whites</td>\n",
       "      <td>['entailment', 'neutral', 'contradiction', 'entailment', 'contradiction', 'contradiction', 'neutral', 'contradiction', 'contradiction', 'contradiction', 'neutral', 'contradiction', 'contradiction', 'contradiction', 'entailment']</td>\n",
       "      <td>[{'contradiction': 1.3, 'neutral': 25.0, 'entailment': 73.7}, {'contradiction': 27.1, 'neutral': 49.4, 'entailment': 23.5}, {'contradiction': 91.3, 'neutral': 5.7, 'entailment': 3.0}, {'contradiction': 36.8, 'neutral': 23.4, 'entailment': 39.9}, {'contradiction': 97.2, 'neutral': 2.4, 'entailment': 0.3}, {'contradiction': 56.2, 'neutral': 42.6, 'entailment': 1.2}, {'contradiction': 4.2, 'neutral': 54.6, 'entailment': 41.1}, {'contradiction': 50.8, 'neutral': 27.9, 'entailment': 21.2}, {'cont...</td>\n",
       "      <td>[bias, bias, bias, neutral, neutral, neutral, neutral, neutral, neutral, neutral, neutral, neutral, neutral, neutral, neutral]</td>\n",
       "    </tr>\n",
       "  </tbody>\n",
       "</table>\n",
       "</div>"
      ],
      "text/plain": [
       "      Unnamed: 0  \\\n",
       "1120          50   \n",
       "810          446   \n",
       "1170         100   \n",
       "534          170   \n",
       "514          150   \n",
       "\n",
       "                                                                                                                                                                                                                                                                                                                                                                                                                   comment_text  \\\n",
       "1120                                                                                                                                                                                                                                                                               When are we going to cease permitting Muslim apologists to use the no true Scotsman fallacy and say unequivocally that Islam is the problem?   \n",
       "810   The typical delusion of the stupid and blind ideologues of the Trump mentality. Without government spending nothing in this nation would be functioning. You believe you are some Aryan super being devoid of any responsibility for any part of society except your own selfish interests. The NaziFascistWhite Supremacist ideology devoid of any humanity or conscience. Crawl back into your bunker you evil bastard.   \n",
       "1170                                                                                                                                                                                                                                                                        It is possible to condemn the homophobia of TMOA and other Muslim organizations without insinuating that they or individual members are terrorists.   \n",
       "534                                                                                                                                                                                                                                                                                                                                                                   Why are Mexicans always stabbing and shooting each other?   \n",
       "514                                                                                                                                                                                                                                                  So the fact that not everyone had a slave makes it to where the U.S. didnt have slavery? Need a citation that Kaepernick thinks every 100 of whites in America are racist.   \n",
       "\n",
       "      identity_attack_x     bias    target  category  \\\n",
       "1120           0.900000     bias   muslims  religion   \n",
       "810            0.281250  neutral       NaN      none   \n",
       "1170           0.500000     bias   muslims  religion   \n",
       "534            0.528571     bias  mexicans      race   \n",
       "514            0.600000     bias    whites      race   \n",
       "\n",
       "                       rationale  \\\n",
       "1120   prejudice against muslims   \n",
       "810                          NaN   \n",
       "1170   prejudice against muslims   \n",
       "534   prejudice against mexicans   \n",
       "514     prejudice against whites   \n",
       "\n",
       "                                                                                                                                                                                                                                             labels  \\\n",
       "1120                 ['neutral', 'contradiction', 'contradiction', 'contradiction', 'contradiction', 'neutral', 'contradiction', 'contradiction', 'contradiction', 'contradiction', 'neutral', 'neutral', 'neutral', 'entailment', 'contradiction']   \n",
       "810               ['entailment', 'entailment', 'contradiction', 'entailment', 'contradiction', 'contradiction', 'entailment', 'contradiction', 'entailment', 'entailment', 'neutral', 'contradiction', 'entailment', 'contradiction', 'entailment']   \n",
       "1170  ['contradiction', 'contradiction', 'contradiction', 'neutral', 'contradiction', 'contradiction', 'contradiction', 'contradiction', 'contradiction', 'neutral', 'contradiction', 'contradiction', 'neutral', 'contradiction', 'contradiction']   \n",
       "534                                       ['entailment', 'entailment', 'entailment', 'entailment', 'neutral', 'neutral', 'entailment', 'contradiction', 'contradiction', 'neutral', 'neutral', 'neutral', 'neutral', 'contradiction', 'entailment']   \n",
       "514            ['entailment', 'neutral', 'contradiction', 'entailment', 'contradiction', 'contradiction', 'neutral', 'contradiction', 'contradiction', 'contradiction', 'neutral', 'contradiction', 'contradiction', 'contradiction', 'entailment']   \n",
       "\n",
       "                                                                                                                                                                                                                                                                                                                                                                                                                                                                                                            probabilities  \\\n",
       "1120  [{'contradiction': 35.5, 'neutral': 49.7, 'entailment': 14.8}, {'contradiction': 93.4, 'neutral': 6.1, 'entailment': 0.5}, {'contradiction': 89.5, 'neutral': 9.8, 'entailment': 0.8}, {'contradiction': 62.9, 'neutral': 35.7, 'entailment': 1.4}, {'contradiction': 73.5, 'neutral': 23.5, 'entailment': 3.0}, {'contradiction': 21.3, 'neutral': 70.5, 'entailment': 8.2}, {'contradiction': 86.1, 'neutral': 13.2, 'entailment': 0.7}, {'contradiction': 63.9, 'neutral': 32.1, 'entailment': 4.0}, {'contra...   \n",
       "810   [{'contradiction': 1.1, 'neutral': 14.0, 'entailment': 84.9}, {'contradiction': 12.5, 'neutral': 39.9, 'entailment': 47.6}, {'contradiction': 77.6, 'neutral': 15.9, 'entailment': 6.5}, {'contradiction': 0.5, 'neutral': 40.3, 'entailment': 59.2}, {'contradiction': 95.8, 'neutral': 4.0, 'entailment': 0.2}, {'contradiction': 57.7, 'neutral': 41.9, 'entailment': 0.4}, {'contradiction': 7.9, 'neutral': 31.6, 'entailment': 60.5}, {'contradiction': 48.3, 'neutral': 35.2, 'entailment': 16.6}, {'cont...   \n",
       "1170  [{'contradiction': 62.4, 'neutral': 24.5, 'entailment': 13.1}, {'contradiction': 94.6, 'neutral': 5.0, 'entailment': 0.3}, {'contradiction': 99.1, 'neutral': 0.9, 'entailment': 0.1}, {'contradiction': 19.5, 'neutral': 77.5, 'entailment': 3.1}, {'contradiction': 91.4, 'neutral': 7.1, 'entailment': 1.5}, {'contradiction': 87.8, 'neutral': 8.2, 'entailment': 4.0}, {'contradiction': 95.4, 'neutral': 4.5, 'entailment': 0.1}, {'contradiction': 84.4, 'neutral': 15.2, 'entailment': 0.4}, {'contradic...   \n",
       "534   [{'contradiction': 0.1, 'neutral': 1.5, 'entailment': 98.5}, {'contradiction': 0.1, 'neutral': 2.1, 'entailment': 97.8}, {'contradiction': 16.6, 'neutral': 39.2, 'entailment': 44.2}, {'contradiction': 3.8, 'neutral': 16.8, 'entailment': 79.4}, {'contradiction': 32.8, 'neutral': 61.5, 'entailment': 5.7}, {'contradiction': 26.6, 'neutral': 72.9, 'entailment': 0.5}, {'contradiction': 0.6, 'neutral': 13.3, 'entailment': 86.2}, {'contradiction': 45.3, 'neutral': 32.9, 'entailment': 21.8}, {'contr...   \n",
       "514   [{'contradiction': 1.3, 'neutral': 25.0, 'entailment': 73.7}, {'contradiction': 27.1, 'neutral': 49.4, 'entailment': 23.5}, {'contradiction': 91.3, 'neutral': 5.7, 'entailment': 3.0}, {'contradiction': 36.8, 'neutral': 23.4, 'entailment': 39.9}, {'contradiction': 97.2, 'neutral': 2.4, 'entailment': 0.3}, {'contradiction': 56.2, 'neutral': 42.6, 'entailment': 1.2}, {'contradiction': 4.2, 'neutral': 54.6, 'entailment': 41.1}, {'contradiction': 50.8, 'neutral': 27.9, 'entailment': 21.2}, {'cont...   \n",
       "\n",
       "                                                                                                                                    predicted  \n",
       "1120     [bias, neutral, neutral, neutral, neutral, neutral, neutral, neutral, neutral, neutral, neutral, neutral, neutral, neutral, neutral]  \n",
       "810                           [bias, bias, bias, bias, bias, bias, bias, bias, neutral, neutral, neutral, neutral, neutral, neutral, neutral]  \n",
       "1170  [neutral, neutral, neutral, neutral, neutral, neutral, neutral, neutral, neutral, neutral, neutral, neutral, neutral, neutral, neutral]  \n",
       "534                     [bias, bias, bias, bias, bias, bias, neutral, neutral, neutral, neutral, neutral, neutral, neutral, neutral, neutral]  \n",
       "514            [bias, bias, bias, neutral, neutral, neutral, neutral, neutral, neutral, neutral, neutral, neutral, neutral, neutral, neutral]  "
      ]
     },
     "metadata": {},
     "execution_count": 412
    }
   ],
   "metadata": {}
  },
  {
   "cell_type": "code",
   "execution_count": 442,
   "source": [
    "def map_label_to_numeric(label):\n",
    "    label_mapping = {\n",
    "        'neutral': 0,\n",
    "        'bias': 1\n",
    "    }\n",
    "    return label_mapping[label]\n",
    "\n",
    "\n",
    "def calculate_multiple_f1_scores(df):\n",
    "  f1_scores = []\n",
    "\n",
    "  for idx in range(len(df['predicted'].iloc[0])):\n",
    "    predicted_labels = df['predicted'].apply(lambda x: x[idx])\n",
    "    predicted_label_encoded = list(map(map_label_to_numeric, predicted_labels))\n",
    "\n",
    "    true_labels = df['bias']\n",
    "    true_label_encoded = list(map(map_label_to_numeric, true_labels))\n",
    "\n",
    "    f1 = f1_score(true_label_encoded, predicted_label_encoded)\n",
    "    f1_scores.append(f1)\n",
    "\n",
    "  return f1_scores\n"
   ],
   "outputs": [],
   "metadata": {}
  },
  {
   "cell_type": "code",
   "execution_count": 443,
   "source": [
    "f1_scores_training = calculate_multiple_f1_scores(df_training_multiple)\n",
    "print('F1 scores training:')\n",
    "print(f1_scores_training)\n",
    "\n",
    "f1_scores_test = calculate_multiple_f1_scores(df_test_multiple)\n",
    "print('F1 scores test:')\n",
    "print(f1_scores_test)"
   ],
   "outputs": [
    {
     "output_type": "stream",
     "name": "stdout",
     "text": [
      "F1 scores training:\n",
      "[0.7237040764972319, 0.6854190585533869, 0.6187702265372169, 0.5155555555555555, 0.4054747647562019, 0.2865612648221344, 0.19586507072905332, 0.11448598130841123, 0.06333739342265529, 0.03482587064676617, 0.015113350125944584, 0.00759493670886076, 0.0, 0.0, 0.0]\n",
      "F1 scores test:\n",
      "[0.7312079555425564, 0.686557157224271, 0.6069919323857088, 0.5002219263204616, 0.3698171516868401, 0.26798718322167203, 0.1608974358974359, 0.08945032434277911, 0.04397163120567375, 0.01666063020644694, 0.008736803785948308, 0.0036523009495982466, 0.0, 0.0, 0.0]\n"
     ]
    }
   ],
   "metadata": {}
  },
  {
   "cell_type": "code",
   "execution_count": 135,
   "source": [
    "import matplotlib.pyplot as plt\n",
    "\n",
    "plt.figure(figsize=(12, 5))\n",
    "\n",
    "# Plot for training data\n",
    "plt.subplot(1, 2, 1)\n",
    "plt.plot(range(1, len(f1_scores_training) + 1), f1_scores_training, marker='o', color='blue')\n",
    "plt.xlabel('Threshold for entailment prediction')\n",
    "plt.ylabel('F1 Score')\n",
    "plt.title('F1 Score - Training Data')\n",
    "plt.xticks(range(1, len(f1_scores_training) + 1))\n",
    "plt.grid()\n",
    "\n",
    "# Plot for test data\n",
    "plt.subplot(1, 2, 2)\n",
    "plt.plot(range(1, len(f1_scores_test) + 1), f1_scores_test, marker='o', color='green')\n",
    "plt.xlabel('Threshold for entailment prediction')\n",
    "plt.ylabel('F1 Score')\n",
    "plt.title('F1 Score - Test Data')\n",
    "plt.xticks(range(1, len(f1_scores_test) + 1))\n",
    "plt.grid()\n",
    "\n",
    "plt.tight_layout()\n",
    "plt.show()\n"
   ],
   "outputs": [
    {
     "output_type": "display_data",
     "data": {
      "image/png": "[encoded data removed]",
      "text/plain": [
       "<Figure size 1200x500 with 2 Axes>"
      ]
     },
     "metadata": {}
    }
   ],
   "metadata": {}
  },
  {
   "cell_type": "markdown",
   "source": [
    "## Weighted f1 scores"
   ],
   "metadata": {}
  },
  {
   "cell_type": "code",
   "execution_count": 137,
   "source": [
    "def calculate_weighted_f1_scores(categorical_df_training_array, num_thresholds):\n",
    "    # Calculate the total number of samples for each category\n",
    "    sample_counts = [len(df) for df in categorical_df_training_array]\n",
    "\n",
    "    # Initialize a list to store the F1 scores for each category at each threshold index\n",
    "    f1_scores = []\n",
    "\n",
    "    for df in categorical_df_training_array:\n",
    "        # Set predictions for multiple threshold indices\n",
    "        set_predictions_multiple(df, num_thresholds)\n",
    "\n",
    "        # Calculate and append the F1 scores multiplied by the dataframe length\n",
    "        df_len = len(df)\n",
    "        f1_scores.append([f1 * df_len for f1 in calculate_multiple_f1_scores(df)])\n",
    "\n",
    "    # Initialize a list to store the summed F1 scores for each threshold index\n",
    "    summed_f1_scores = [0] * num_thresholds\n",
    "\n",
    "    # Sum the F1 scores for each category at each threshold index\n",
    "    for f1_subarray in f1_scores:\n",
    "        for i in range(num_thresholds):\n",
    "            summed_f1_scores[i] += f1_subarray[i]\n",
    "\n",
    "    # Normalize the summed F1 scores by dividing by the total number of samples\n",
    "    normalized_summed_f1_scores = [f1 / sum(sample_counts) for f1 in summed_f1_scores]\n",
    "\n",
    "    return normalized_summed_f1_scores"
   ],
   "outputs": [],
   "metadata": {}
  },
  {
   "cell_type": "code",
   "execution_count": 219,
   "source": [
    "categorical_df_training_array = [df_political_training, df_gender_training, df_lgbtq_training, df_race_training, df_religion_training ]\n",
    "categorical_df_test_array = [df_political_test, df_gender_test, df_lgbtq_test, df_race_test, df_religion_test ]\n",
    "\n",
    "print(calculate_weighted_f1_scores(categorical_df_training_array, 15))\n",
    "print()\n",
    "print(calculate_weighted_f1_scores(categorical_df_test_array, 15))\n"
   ],
   "outputs": [
    {
     "output_type": "stream",
     "name": "stdout",
     "text": [
      "[0.729377943926091, 0.6877295133281706, 0.6012326042744861, 0.4720203868086679, 0.347216030822812, 0.24929723362618803, 0.173409605199658, 0.10237831454766698, 0.0529744135461573, 0.031779126401781876, 0.014378109620706458, 0.007336526936569943, 0.0, 0.0, 0.0]\n",
      "\n",
      "[0.7382403387947171, 0.688722710470987, 0.5906852464311152, 0.4636502713004022, 0.3232177578080934, 0.23650780669382696, 0.14549786411957485, 0.08322940302786166, 0.04172593982819033, 0.016190100146533406, 0.008542871748159066, 0.003630638743429268, 0.0, 0.0, 0.0]\n"
     ]
    }
   ],
   "metadata": {}
  },
  {
   "cell_type": "markdown",
   "source": [
    "## AUC (Area under curve)"
   ],
   "metadata": {}
  },
  {
   "cell_type": "code",
   "execution_count": 29,
   "source": [
    "def calculate_entailment_ratio(labels):\n",
    "    labels = ast.literal_eval(labels)\n",
    "    entailment_count = sum(label == 'entailment' for label in labels) \n",
    "    return entailment_count / len(labels)\n"
   ],
   "outputs": [],
   "metadata": {}
  },
  {
   "cell_type": "code",
   "execution_count": 30,
   "source": [
    "# Add entailment ratios to df\n",
    "df_training_multiple['entailment_ratio'] = df_training_multiple['labels'].apply(calculate_entailment_ratio)\n",
    "df_test_multiple['entailment_ratio'] = df_test_multiple['labels'].apply(calculate_entailment_ratio)"
   ],
   "outputs": [],
   "metadata": {}
  },
  {
   "cell_type": "code",
   "execution_count": 47,
   "source": [
    "# Get unique class labels from 'predicted' column\n",
    "class_labels = np.unique(np.concatenate(df_training_multiple['predicted']))\n",
    "positive_class = 'bias'\n",
    "\n",
    "y_true = (df_training_multiple['bias'] == positive_class).astype(int)\n",
    "y_scores = df_training_multiple['entailment_ratio']\n",
    "auc_roc = roc_auc_score(y_true, y_scores)\n",
    "print(f\"AUC-ROC Score for training data: {auc_roc}\")"
   ],
   "outputs": [
    {
     "output_type": "stream",
     "name": "stdout",
     "text": [
      "AUC-ROC Score for training data: 0.6764733018666356\n"
     ]
    }
   ],
   "metadata": {}
  },
  {
   "cell_type": "code",
   "execution_count": 48,
   "source": [
    "# Get unique class labels from 'predicted' column\n",
    "class_labels = np.unique(np.concatenate(df_test_multiple['predicted']))\n",
    "positive_class = 'bias'\n",
    "\n",
    "y_true = (df_test_multiple['bias'] == positive_class).astype(int)\n",
    "y_scores = df_test_multiple['entailment_ratio']\n",
    "auc_roc = roc_auc_score(y_true, y_scores)\n",
    "print(f\"AUC-ROC Score for test data: {auc_roc}\")"
   ],
   "outputs": [
    {
     "output_type": "stream",
     "name": "stdout",
     "text": [
      "AUC-ROC Score for test data: 0.6873841076638463\n"
     ]
    }
   ],
   "metadata": {}
  },
  {
   "cell_type": "code",
   "execution_count": 46,
   "source": [
    "# Convert the true labels to binary values (0 for 'neutral', 1 for 'bias')\n",
    "y_true_train = (combined_training_df['bias'] == 'bias').astype(int)\n",
    "y_true_test = (combined_test_df['bias'] == 'bias').astype(int)\n",
    "\n",
    "# Get the predicted ratios from the 'entailment_ratio' column\n",
    "y_scores_train = combined_training_df['entailment_ratio']\n",
    "y_scores_test = combined_test_df['entailment_ratio']\n",
    "\n",
    "# Calculate the ROC curve for training data\n",
    "fpr_train, tpr_train, thresholds_train = roc_curve(y_true_train, y_scores_train)\n",
    "roc_auc_train = auc(fpr_train, tpr_train)\n",
    "\n",
    "# Calculate the ROC curve for test data\n",
    "fpr_test, tpr_test, thresholds_test = roc_curve(y_true_test, y_scores_test)\n",
    "roc_auc_test = auc(fpr_test, tpr_test)\n",
    "\n",
    "# Plot the ROC curves side by side\n",
    "plt.figure(figsize=(12, 6))\n",
    "\n",
    "# Plot for training data\n",
    "plt.subplot(1, 2, 1)\n",
    "plt.plot(fpr_train, tpr_train, color='blue', lw=2, label=f'AUC = {roc_auc_train:.2f}')\n",
    "plt.plot([0, 1], [0, 1], color='gray', linestyle='--')\n",
    "plt.xlim([0.0, 1.0])\n",
    "plt.ylim([0.0, 1.0])\n",
    "plt.xlabel('False Positive Rate (FPR)')\n",
    "plt.ylabel('True Positive Rate (TPR)')\n",
    "plt.title('Training Data ROC Curve')\n",
    "plt.legend(loc='lower right')\n",
    "plt.grid(True)\n",
    "\n",
    "# Plot for test data\n",
    "plt.subplot(1, 2, 2)\n",
    "plt.plot(fpr_test, tpr_test, color='green', lw=2, label=f'AUC = {roc_auc_test:.2f}')\n",
    "plt.plot([0, 1], [0, 1], color='gray', linestyle='--')\n",
    "plt.xlim([0.0, 1.0])\n",
    "plt.ylim([0.0, 1.0])\n",
    "plt.xlabel('False Positive Rate (FPR)')\n",
    "plt.ylabel('True Positive Rate (TPR)')\n",
    "plt.title('Test Data ROC Curve')\n",
    "plt.legend(loc='lower right')\n",
    "plt.grid(True)\n",
    "\n",
    "plt.tight_layout()\n",
    "plt.show()\n"
   ],
   "outputs": [
    {
     "output_type": "display_data",
     "data": {
      "image/png": "[encoded data removed]",
      "text/plain": [
       "<Figure size 1200x600 with 2 Axes>"
      ]
     },
     "metadata": {}
    }
   ],
   "metadata": {}
  },
  {
   "cell_type": "code",
   "execution_count": 152,
   "source": [
    "calculate_f1_score"
   ],
   "outputs": [
    {
     "output_type": "error",
     "ename": "TypeError",
     "evalue": "'<' not supported between instances of 'str' and 'int'",
     "traceback": [
      "\u001b[0;31m---------------------------------------------------------------------------\u001b[0m",
      "\u001b[0;31mTypeError\u001b[0m                                 Traceback (most recent call last)",
      "Cell \u001b[0;32mIn [152], line 1\u001b[0m\n\u001b[0;32m----> 1\u001b[0m count_rows \u001b[38;5;241m=\u001b[39m combined_training_df[\u001b[43mcombined_training_df\u001b[49m\u001b[43m[\u001b[49m\u001b[38;5;124;43m'\u001b[39;49m\u001b[38;5;124;43mpredicted\u001b[39;49m\u001b[38;5;124;43m'\u001b[39;49m\u001b[43m]\u001b[49m\u001b[38;5;241;43m.\u001b[39;49m\u001b[43mapply\u001b[49m\u001b[43m(\u001b[49m\u001b[38;5;28;43;01mlambda\u001b[39;49;00m\u001b[43m \u001b[49m\u001b[43mx\u001b[49m\u001b[43m:\u001b[49m\u001b[43m \u001b[49m\u001b[38;5;124;43m'\u001b[39;49m\u001b[38;5;124;43mneutral\u001b[39;49m\u001b[38;5;124;43m'\u001b[39;49m\u001b[43m)\u001b[49m\u001b[43m \u001b[49m\u001b[38;5;241;43m<\u001b[39;49m\u001b[43m \u001b[49m\u001b[38;5;241;43m10\u001b[39;49m]\u001b[38;5;241m.\u001b[39mshape[\u001b[38;5;241m0\u001b[39m]\n\u001b[1;32m      3\u001b[0m \u001b[38;5;28mprint\u001b[39m(\u001b[38;5;124m\"\u001b[39m\u001b[38;5;124mNumber of rows: \u001b[39m\u001b[38;5;124m\"\u001b[39m, count_rows)\n",
      "File \u001b[0;32m/usr/local/lib/python3.9/site-packages/pandas/core/ops/common.py:65\u001b[0m, in \u001b[0;36m_unpack_zerodim_and_defer.<locals>.new_method\u001b[0;34m(self, other)\u001b[0m\n\u001b[1;32m     61\u001b[0m             \u001b[38;5;28;01mreturn\u001b[39;00m \u001b[38;5;28mNotImplemented\u001b[39m\n\u001b[1;32m     63\u001b[0m other \u001b[38;5;241m=\u001b[39m item_from_zerodim(other)\n\u001b[0;32m---> 65\u001b[0m \u001b[38;5;28;01mreturn\u001b[39;00m \u001b[43mmethod\u001b[49m\u001b[43m(\u001b[49m\u001b[38;5;28;43mself\u001b[39;49m\u001b[43m,\u001b[49m\u001b[43m \u001b[49m\u001b[43mother\u001b[49m\u001b[43m)\u001b[49m\n",
      "File \u001b[0;32m/usr/local/lib/python3.9/site-packages/pandas/core/arraylike.py:37\u001b[0m, in \u001b[0;36mOpsMixin.__lt__\u001b[0;34m(self, other)\u001b[0m\n\u001b[1;32m     35\u001b[0m \u001b[38;5;129m@unpack_zerodim_and_defer\u001b[39m(\u001b[38;5;124m\"\u001b[39m\u001b[38;5;124m__lt__\u001b[39m\u001b[38;5;124m\"\u001b[39m)\n\u001b[1;32m     36\u001b[0m \u001b[38;5;28;01mdef\u001b[39;00m \u001b[38;5;21m__lt__\u001b[39m(\u001b[38;5;28mself\u001b[39m, other):\n\u001b[0;32m---> 37\u001b[0m     \u001b[38;5;28;01mreturn\u001b[39;00m \u001b[38;5;28;43mself\u001b[39;49m\u001b[38;5;241;43m.\u001b[39;49m\u001b[43m_cmp_method\u001b[49m\u001b[43m(\u001b[49m\u001b[43mother\u001b[49m\u001b[43m,\u001b[49m\u001b[43m \u001b[49m\u001b[43moperator\u001b[49m\u001b[38;5;241;43m.\u001b[39;49m\u001b[43mlt\u001b[49m\u001b[43m)\u001b[49m\n",
      "File \u001b[0;32m/usr/local/lib/python3.9/site-packages/pandas/core/series.py:4978\u001b[0m, in \u001b[0;36mSeries._cmp_method\u001b[0;34m(self, other, op)\u001b[0m\n\u001b[1;32m   4975\u001b[0m lvalues \u001b[38;5;241m=\u001b[39m extract_array(\u001b[38;5;28mself\u001b[39m, extract_numpy\u001b[38;5;241m=\u001b[39m\u001b[38;5;28;01mTrue\u001b[39;00m)\n\u001b[1;32m   4976\u001b[0m rvalues \u001b[38;5;241m=\u001b[39m extract_array(other, extract_numpy\u001b[38;5;241m=\u001b[39m\u001b[38;5;28;01mTrue\u001b[39;00m)\n\u001b[0;32m-> 4978\u001b[0m res_values \u001b[38;5;241m=\u001b[39m \u001b[43mops\u001b[49m\u001b[38;5;241;43m.\u001b[39;49m\u001b[43mcomparison_op\u001b[49m\u001b[43m(\u001b[49m\u001b[43mlvalues\u001b[49m\u001b[43m,\u001b[49m\u001b[43m \u001b[49m\u001b[43mrvalues\u001b[49m\u001b[43m,\u001b[49m\u001b[43m \u001b[49m\u001b[43mop\u001b[49m\u001b[43m)\u001b[49m\n\u001b[1;32m   4980\u001b[0m \u001b[38;5;28;01mreturn\u001b[39;00m \u001b[38;5;28mself\u001b[39m\u001b[38;5;241m.\u001b[39m_construct_result(res_values, name\u001b[38;5;241m=\u001b[39mres_name)\n",
      "File \u001b[0;32m/usr/local/lib/python3.9/site-packages/pandas/core/ops/array_ops.py:243\u001b[0m, in \u001b[0;36mcomparison_op\u001b[0;34m(left, right, op)\u001b[0m\n\u001b[1;32m    240\u001b[0m     \u001b[38;5;28;01mreturn\u001b[39;00m invalid_comparison(lvalues, rvalues, op)\n\u001b[1;32m    242\u001b[0m \u001b[38;5;28;01melif\u001b[39;00m is_object_dtype(lvalues\u001b[38;5;241m.\u001b[39mdtype):\n\u001b[0;32m--> 243\u001b[0m     res_values \u001b[38;5;241m=\u001b[39m \u001b[43mcomp_method_OBJECT_ARRAY\u001b[49m\u001b[43m(\u001b[49m\u001b[43mop\u001b[49m\u001b[43m,\u001b[49m\u001b[43m \u001b[49m\u001b[43mlvalues\u001b[49m\u001b[43m,\u001b[49m\u001b[43m \u001b[49m\u001b[43mrvalues\u001b[49m\u001b[43m)\u001b[49m\n\u001b[1;32m    245\u001b[0m \u001b[38;5;28;01melse\u001b[39;00m:\n\u001b[1;32m    246\u001b[0m     \u001b[38;5;28;01mwith\u001b[39;00m warnings\u001b[38;5;241m.\u001b[39mcatch_warnings():\n\u001b[1;32m    247\u001b[0m         \u001b[38;5;66;03m# suppress warnings from numpy about element-wise comparison\u001b[39;00m\n",
      "File \u001b[0;32m/usr/local/lib/python3.9/site-packages/pandas/core/ops/array_ops.py:55\u001b[0m, in \u001b[0;36mcomp_method_OBJECT_ARRAY\u001b[0;34m(op, x, y)\u001b[0m\n\u001b[1;32m     53\u001b[0m     result \u001b[38;5;241m=\u001b[39m libops\u001b[38;5;241m.\u001b[39mvec_compare(x\u001b[38;5;241m.\u001b[39mravel(), y\u001b[38;5;241m.\u001b[39mravel(), op)\n\u001b[1;32m     54\u001b[0m \u001b[38;5;28;01melse\u001b[39;00m:\n\u001b[0;32m---> 55\u001b[0m     result \u001b[38;5;241m=\u001b[39m \u001b[43mlibops\u001b[49m\u001b[38;5;241;43m.\u001b[39;49m\u001b[43mscalar_compare\u001b[49m\u001b[43m(\u001b[49m\u001b[43mx\u001b[49m\u001b[38;5;241;43m.\u001b[39;49m\u001b[43mravel\u001b[49m\u001b[43m(\u001b[49m\u001b[43m)\u001b[49m\u001b[43m,\u001b[49m\u001b[43m \u001b[49m\u001b[43my\u001b[49m\u001b[43m,\u001b[49m\u001b[43m \u001b[49m\u001b[43mop\u001b[49m\u001b[43m)\u001b[49m\n\u001b[1;32m     56\u001b[0m \u001b[38;5;28;01mreturn\u001b[39;00m result\u001b[38;5;241m.\u001b[39mreshape(x\u001b[38;5;241m.\u001b[39mshape)\n",
      "File \u001b[0;32mpandas/_libs/ops.pyx:103\u001b[0m, in \u001b[0;36mpandas._libs.ops.scalar_compare\u001b[0;34m()\u001b[0m\n",
      "\u001b[0;31mTypeError\u001b[0m: '<' not supported between instances of 'str' and 'int'"
     ]
    }
   ],
   "metadata": {}
  },
  {
   "cell_type": "code",
   "execution_count": null,
   "source": [],
   "outputs": [],
   "metadata": {}
  }
 ],
 "metadata": {
  "orig_nbformat": 4,
  "language_info": {
   "name": "python",
   "version": "3.9.12",
   "mimetype": "text/x-python",
   "codemirror_mode": {
    "name": "ipython",
    "version": 3
   },
   "pygments_lexer": "ipython3",
   "nbconvert_exporter": "python",
   "file_extension": ".py"
  },
  "kernelspec": {
   "name": "python3",
   "display_name": "Python 3.9.12 64-bit"
  },
  "interpreter": {
   "hash": "aee8b7b246df8f9039afb4144a1f6fd8d2ca17a180786b69acc140d282b71a49"
  }
 },
 "nbformat": 4,
 "nbformat_minor": 2
}