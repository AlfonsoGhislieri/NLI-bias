{
 "cells": [
  {
   "cell_type": "markdown",
   "source": [
    "# Testing models"
   ],
   "metadata": {}
  },
  {
   "cell_type": "code",
   "execution_count": 49,
   "source": [
    "import sys\n",
    "sys.path.append('src/')\n",
    "import pandas as pd\n",
    "from Models import deberta_base_nli, bart_nli, deberta_v3_nli\n",
    "from transformers import AutoTokenizer, AutoModelForSequenceClassification\n",
    "from Helpers import *\n",
    "\n",
    "pd.set_option('display.max_columns', None)  # Display all columns\n",
    "pd.set_option('display.max_rows', None)  # Display all rows\n",
    "pd.set_option('display.max_colwidth', 500)  # Display full text in columns"
   ],
   "outputs": [],
   "metadata": {}
  },
  {
   "cell_type": "markdown",
   "source": [
    "## Basic tests of models"
   ],
   "metadata": {}
  },
  {
   "cell_type": "code",
   "execution_count": 2,
   "source": [
    "deberta_base_nli('a child was very sad and crying over a dropped ice cream', 'What is my favourite city?')"
   ],
   "outputs": [
    {
     "output_type": "execute_result",
     "data": {
      "text/plain": [
       "({'contradiction': 96.9, 'neutral': 3.0, 'entailment': 0.0}, ['contradiction'])"
      ]
     },
     "metadata": {},
     "execution_count": 2
    }
   ],
   "metadata": {}
  },
  {
   "cell_type": "code",
   "execution_count": 3,
   "source": [
    "bart_nli('a child was very sad and crying over a dropped ice cream', 'What is my favourite city?')"
   ],
   "outputs": [
    {
     "output_type": "execute_result",
     "data": {
      "text/plain": [
       "({'contradiction': 93.7, 'neutral': 5.8, 'entailment': 0.5}, ['contradiction'])"
      ]
     },
     "metadata": {},
     "execution_count": 3
    }
   ],
   "metadata": {}
  },
  {
   "cell_type": "code",
   "execution_count": 4,
   "source": [
    "deberta_v3_nli('a child was very sad and crying over a dropped ice cream', 'What is my favourite city?')"
   ],
   "outputs": [
    {
     "output_type": "stream",
     "name": "stderr",
     "text": [
      "/usr/local/lib/python3.9/site-packages/transformers/convert_slow_tokenizer.py:454: UserWarning: The sentencepiece tokenizer that you are converting to a fast tokenizer uses the byte fallback option which is not implemented in the fast tokenizers. In practice this means that the fast version of the tokenizer can produce unknown tokens whereas the sentencepiece version would have converted these unknown tokens into a sequence of byte tokens matching the original piece of text.\n",
      "  warnings.warn(\n"
     ]
    },
    {
     "output_type": "execute_result",
     "data": {
      "text/plain": [
       "({'contradiction': 97.7, 'neutral': 2.2, 'entailment': 0.1}, ['contradiction'])"
      ]
     },
     "metadata": {},
     "execution_count": 4
    }
   ],
   "metadata": {}
  },
  {
   "cell_type": "markdown",
   "source": [
    "# Testing models with random samples from toxic dataset"
   ],
   "metadata": {}
  },
  {
   "cell_type": "code",
   "execution_count": 53,
   "source": [
    "df = get_random_samples(\"data/toxicbias_train.csv\", 50)"
   ],
   "outputs": [],
   "metadata": {}
  },
  {
   "cell_type": "markdown",
   "source": [
    "## Calculate labels"
   ],
   "metadata": {}
  },
  {
   "cell_type": "code",
   "execution_count": 47,
   "source": [
    "import pandas as pd\n",
    "\n",
    "def add_nli_predictions(df, model):\n",
    "    df = df.copy()  # Create a copy of the DataFrame\n",
    "\n",
    "    df = df.apply(lambda row: predict_labels(row, model), axis=1)\n",
    "\n",
    "    return df\n",
    "\n",
    "def predict_labels(row, model):\n",
    "    comment_text = row['comment_text']\n",
    "    bias = row['bias']\n",
    "    rationale = row['rationale']\n",
    "\n",
    "    if bias == 'neutral' or pd.isna(rationale):\n",
    "        rationale = \"Bias or prejudice in the text.\"\n",
    "\n",
    "    scores, labels = model(comment_text, rationale)\n",
    "    row['predicted_label_rationale'] = labels\n",
    "    row['predicted_scores_rationale'] = scores\n",
    "\n",
    "    scores, labels = model(comment_text, \"Bias or prejudice in the text.\")\n",
    "    row['predicted_label_base'] = labels\n",
    "    row['predicted_scores_base'] = scores\n",
    "\n",
    "    return row"
   ],
   "outputs": [],
   "metadata": {}
  },
  {
   "cell_type": "code",
   "execution_count": 104,
   "source": [
    "dfs = {\n",
    "    'deberta-base': add_nli_predictions(df, deberta_base_nli),\n",
    "    'bart-large': add_nli_predictions(df, bart_nli),\n",
    "    'deberta-v3': add_nli_predictions(df, deberta_v3_nli)\n",
    "}"
   ],
   "outputs": [
    {
     "output_type": "stream",
     "name": "stderr",
     "text": [
      "/usr/local/lib/python3.9/site-packages/transformers/convert_slow_tokenizer.py:454: UserWarning: The sentencepiece tokenizer that you are converting to a fast tokenizer uses the byte fallback option which is not implemented in the fast tokenizers. In practice this means that the fast version of the tokenizer can produce unknown tokens whereas the sentencepiece version would have converted these unknown tokens into a sequence of byte tokens matching the original piece of text.\n",
      "  warnings.warn(\n"
     ]
    }
   ],
   "metadata": {}
  },
  {
   "cell_type": "markdown",
   "source": [
    "## Breakdown of labels "
   ],
   "metadata": {}
  },
  {
   "cell_type": "code",
   "execution_count": 186,
   "source": [
    "def label_breakdown(df, label_column_name = 'predicted_label_rationale'):\n",
    "    label_breakdown = {\n",
    "        'bias': {'contradiction': 0, 'neutral': 0, 'entailment': 0},\n",
    "        'neutral': {'contradiction': 0, 'neutral': 0, 'entailment': 0}\n",
    "    }\n",
    "\n",
    "    for _, row in df.iterrows():\n",
    "        bias = row['bias']\n",
    "        predicted_label = row[label_column_name][0]\n",
    "        \n",
    "        label_breakdown[bias][predicted_label] += 1\n",
    "\n",
    "    return label_breakdown\n"
   ],
   "outputs": [],
   "metadata": {}
  },
  {
   "cell_type": "code",
   "execution_count": 191,
   "source": [
    "## compare results of rationale hypothesis and base one\n",
    "results = {}\n",
    "\n",
    "for model, data in dfs.items():\n",
    "  results[model] = {\n",
    "      'rationale hypothesis':label_breakdown(data),\n",
    "      'base hypothesis':label_breakdown(data, 'predicted_label_base'),\n",
    "    }\n",
    "  \n",
    "for model, data in results.items():\n",
    "  print(model)\n",
    "  print(f'rationale hypothesis: {data[\"rationale hypothesis\"]}')\n",
    "  print(f'base hypothesis: {data[\"base hypothesis\"]}')\n",
    "  print()\n"
   ],
   "outputs": [
    {
     "output_type": "stream",
     "name": "stdout",
     "text": [
      "deberta-base\n",
      "rationale hypothesis: {'bias': {'contradiction': 3, 'neutral': 34, 'entailment': 3}, 'neutral': {'contradiction': 0, 'neutral': 1, 'entailment': 9}}\n",
      "base hypothesis: {'bias': {'contradiction': 3, 'neutral': 4, 'entailment': 33}, 'neutral': {'contradiction': 0, 'neutral': 1, 'entailment': 9}}\n",
      "\n",
      "bart-large\n",
      "rationale hypothesis: {'bias': {'contradiction': 6, 'neutral': 29, 'entailment': 5}, 'neutral': {'contradiction': 0, 'neutral': 1, 'entailment': 9}}\n",
      "base hypothesis: {'bias': {'contradiction': 1, 'neutral': 4, 'entailment': 35}, 'neutral': {'contradiction': 0, 'neutral': 1, 'entailment': 9}}\n",
      "\n",
      "deberta-v3\n",
      "rationale hypothesis: {'bias': {'contradiction': 1, 'neutral': 34, 'entailment': 5}, 'neutral': {'contradiction': 1, 'neutral': 7, 'entailment': 2}}\n",
      "base hypothesis: {'bias': {'contradiction': 7, 'neutral': 32, 'entailment': 1}, 'neutral': {'contradiction': 1, 'neutral': 7, 'entailment': 2}}\n",
      "\n"
     ]
    }
   ],
   "metadata": {}
  },
  {
   "cell_type": "markdown",
   "source": [
    "## Accuracy of labels"
   ],
   "metadata": {}
  },
  {
   "cell_type": "code",
   "execution_count": 176,
   "source": [
    "def calculate_correct_bias(predictions):\n",
    "    correct_predictions = predictions['entailment']\n",
    "    incorrect_predictions = predictions['contradiction'] + predictions['neutral']\n",
    "    return correct_predictions, incorrect_predictions\n",
    "\n",
    "def calculate_correct_neutral(predictions):\n",
    "    correct_predictions = predictions['contradiction'] + predictions['neutral']\n",
    "    incorrect_predictions = predictions['entailment']\n",
    "    return correct_predictions, incorrect_predictions"
   ],
   "outputs": [],
   "metadata": {}
  },
  {
   "cell_type": "code",
   "execution_count": 194,
   "source": [
    "for model, data in results.items():\n",
    "  rationale_hypothesis_results = data['rationale hypothesis']\n",
    "  base_hypothesis_results = data['base hypothesis']\n",
    "\n",
    "  # rationale hypothesis\n",
    "  bias_correct_predictions, bias_incorrect_predictions = calculate_correct_bias(rationale_hypothesis_results['bias'])\n",
    "  neutral_correct_predictions, neutral_incorrect_predictions = calculate_correct_neutral(rationale_hypothesis_results['neutral'])\n",
    " \n",
    "  accuracy = ((bias_correct_predictions + neutral_correct_predictions) / (bias_correct_predictions + neutral_correct_predictions + bias_incorrect_predictions +neutral_incorrect_predictions)) * 100\n",
    "\n",
    "  print(f'({model}) rationale hypothesis accuracy = {accuracy}%\\n')\n",
    "\n",
    "  # base hypothesis\n",
    "  bias_correct_predictions, bias_incorrect_predictions = calculate_correct_bias(base_hypothesis_results['bias'])\n",
    "  neutral_correct_predictions, neutral_incorrect_predictions = calculate_correct_neutral(base_hypothesis_results['neutral'])\n",
    " \n",
    "  accuracy = ((bias_correct_predictions + neutral_correct_predictions) / (bias_correct_predictions + neutral_correct_predictions + bias_incorrect_predictions +neutral_incorrect_predictions)) * 100\n",
    "\n",
    "  print(f'({model}) base hypothesis accuracy =  {accuracy}%\\n')\n",
    "    \n",
    "    "
   ],
   "outputs": [
    {
     "output_type": "stream",
     "name": "stdout",
     "text": [
      "(deberta-base) rationale hypothesis accuracy = 8.0%\n",
      "\n",
      "(deberta-base) base hypothesis accuracy =  68.0%\n",
      "\n",
      "(bart-large) rationale hypothesis accuracy = 12.0%\n",
      "\n",
      "(bart-large) base hypothesis accuracy =  72.0%\n",
      "\n",
      "(deberta-v3) rationale hypothesis accuracy = 26.0%\n",
      "\n",
      "(deberta-v3) base hypothesis accuracy =  18.0%\n",
      "\n"
     ]
    }
   ],
   "metadata": {}
  },
  {
   "cell_type": "code",
   "execution_count": 195,
   "source": [
    "df[df['bias'] == 'neutral']"
   ],
   "outputs": [
    {
     "output_type": "execute_result",
     "data": {
      "text/html": [
       "<div>\n",
       "<style scoped>\n",
       "    .dataframe tbody tr th:only-of-type {\n",
       "        vertical-align: middle;\n",
       "    }\n",
       "\n",
       "    .dataframe tbody tr th {\n",
       "        vertical-align: top;\n",
       "    }\n",
       "\n",
       "    .dataframe thead th {\n",
       "        text-align: right;\n",
       "    }\n",
       "</style>\n",
       "<table border=\"1\" class=\"dataframe\">\n",
       "  <thead>\n",
       "    <tr style=\"text-align: right;\">\n",
       "      <th></th>\n",
       "      <th>comment_text</th>\n",
       "      <th>identity_attack_x</th>\n",
       "      <th>bias</th>\n",
       "      <th>target</th>\n",
       "      <th>category</th>\n",
       "      <th>rationale</th>\n",
       "    </tr>\n",
       "  </thead>\n",
       "  <tbody>\n",
       "    <tr>\n",
       "      <th>1244</th>\n",
       "      <td>Why is the DP so reluctant to call this guy what he is  an allAmerican white boy TERRORIST? Does the DP think it is genetically impossible for a white guy top be a terrorist ot is there something more racially sinister at work here?</td>\n",
       "      <td>0.500000</td>\n",
       "      <td>neutral</td>\n",
       "      <td>NaN</td>\n",
       "      <td>none</td>\n",
       "      <td>NaN</td>\n",
       "    </tr>\n",
       "    <tr>\n",
       "      <th>236</th>\n",
       "      <td>And you probably think it is ok to lightly beat women.</td>\n",
       "      <td>0.257576</td>\n",
       "      <td>neutral</td>\n",
       "      <td>NaN</td>\n",
       "      <td>none</td>\n",
       "      <td>NaN</td>\n",
       "    </tr>\n",
       "    <tr>\n",
       "      <th>3462</th>\n",
       "      <td>Yes if the Catholic Church were not so darned ... Catholic ... we could join the LDS and the Anglicans in changing dogma on the fly.  Some minor notes ... the committee discussing birth control was not granted any authority to approve or disapprove anything. It was supposed to be giving the Holy Father some pros and cons to consider. And its report was not for public consumption but was leaked.  When we talk about chance we mean if something is certain the probability is 1 and if absolutely ...</td>\n",
       "      <td>0.500000</td>\n",
       "      <td>neutral</td>\n",
       "      <td>NaN</td>\n",
       "      <td>none</td>\n",
       "      <td>NaN</td>\n",
       "    </tr>\n",
       "    <tr>\n",
       "      <th>3277</th>\n",
       "      <td>You are lying. There is no clitorectomy at birth. There is no stoning for talking. Women dont have to wear the hijab at all times. There is no killing babies for being born lesbian How in the world would one determine at birth that a baby is lesbian? Are you non compos mentis? Does rationality baffle you?</td>\n",
       "      <td>0.267606</td>\n",
       "      <td>neutral</td>\n",
       "      <td>NaN</td>\n",
       "      <td>none</td>\n",
       "      <td>NaN</td>\n",
       "    </tr>\n",
       "    <tr>\n",
       "      <th>725</th>\n",
       "      <td>Where did you get your FALSE information about the top of Mauna Kea? Its garbage like that that causes MORE issues with worthwhile projects all over our island.. white racism  what kid of clown are  you?</td>\n",
       "      <td>0.271429</td>\n",
       "      <td>neutral</td>\n",
       "      <td>NaN</td>\n",
       "      <td>none</td>\n",
       "      <td>NaN</td>\n",
       "    </tr>\n",
       "    <tr>\n",
       "      <th>2166</th>\n",
       "      <td>F texas and all the other bible thumping bigots and sexists.</td>\n",
       "      <td>0.285714</td>\n",
       "      <td>neutral</td>\n",
       "      <td>NaN</td>\n",
       "      <td>none</td>\n",
       "      <td>NaN</td>\n",
       "    </tr>\n",
       "    <tr>\n",
       "      <th>2704</th>\n",
       "      <td>I wonder what would happen if someone started a whites only tournament...</td>\n",
       "      <td>0.285714</td>\n",
       "      <td>neutral</td>\n",
       "      <td>NaN</td>\n",
       "      <td>none</td>\n",
       "      <td>NaN</td>\n",
       "    </tr>\n",
       "    <tr>\n",
       "      <th>188</th>\n",
       "      <td>These Black activists should study their history and read up on the Underground Railroad. Maybe then theyd feel like they deserve to pay Canada a tribute not the other way around.</td>\n",
       "      <td>0.528571</td>\n",
       "      <td>neutral</td>\n",
       "      <td>NaN</td>\n",
       "      <td>none</td>\n",
       "      <td>NaN</td>\n",
       "    </tr>\n",
       "    <tr>\n",
       "      <th>1045</th>\n",
       "      <td>Not to white people of course because they did not experience any discrimination...</td>\n",
       "      <td>0.800000</td>\n",
       "      <td>neutral</td>\n",
       "      <td>NaN</td>\n",
       "      <td>none</td>\n",
       "      <td>NaN</td>\n",
       "    </tr>\n",
       "    <tr>\n",
       "      <th>1132</th>\n",
       "      <td>Yes keep the blame game going on someone who is not even President yet Last time we checked the bag lady with the pointy hat and broom lost....too bad...so sad....NOT Join the Marxistfeminist gender bender crybabies and their latte sipping hipsters at the nearest cafe if you dont like democracy in action</td>\n",
       "      <td>0.500000</td>\n",
       "      <td>neutral</td>\n",
       "      <td>NaN</td>\n",
       "      <td>none</td>\n",
       "      <td>NaN</td>\n",
       "    </tr>\n",
       "  </tbody>\n",
       "</table>\n",
       "</div>"
      ],
      "text/plain": [
       "                                                                                                                                                                                                                                                                                                                                                                                                                                                                                                             comment_text  \\\n",
       "1244                                                                                                                                                                                                                                                                             Why is the DP so reluctant to call this guy what he is  an allAmerican white boy TERRORIST? Does the DP think it is genetically impossible for a white guy top be a terrorist ot is there something more racially sinister at work here?   \n",
       "236                                                                                                                                                                                                                                                                                                                                                                                                                                                                And you probably think it is ok to lightly beat women.   \n",
       "3462  Yes if the Catholic Church were not so darned ... Catholic ... we could join the LDS and the Anglicans in changing dogma on the fly.  Some minor notes ... the committee discussing birth control was not granted any authority to approve or disapprove anything. It was supposed to be giving the Holy Father some pros and cons to consider. And its report was not for public consumption but was leaked.  When we talk about chance we mean if something is certain the probability is 1 and if absolutely ...   \n",
       "3277                                                                                                                                                                                                   You are lying. There is no clitorectomy at birth. There is no stoning for talking. Women dont have to wear the hijab at all times. There is no killing babies for being born lesbian How in the world would one determine at birth that a baby is lesbian? Are you non compos mentis? Does rationality baffle you?   \n",
       "725                                                                                                                                                                                                                                                                                                           Where did you get your FALSE information about the top of Mauna Kea? Its garbage like that that causes MORE issues with worthwhile projects all over our island.. white racism  what kid of clown are  you?   \n",
       "2166                                                                                                                                                                                                                                                                                                                                                                                                                                                         F texas and all the other bible thumping bigots and sexists.   \n",
       "2704                                                                                                                                                                                                                                                                                                                                                                                                                                            I wonder what would happen if someone started a whites only tournament...   \n",
       "188                                                                                                                                                                                                                                                                                                                                   These Black activists should study their history and read up on the Underground Railroad. Maybe then theyd feel like they deserve to pay Canada a tribute not the other way around.   \n",
       "1045                                                                                                                                                                                                                                                                                                                                                                                                                                  Not to white people of course because they did not experience any discrimination...   \n",
       "1132                                                                                                                                                                                                    Yes keep the blame game going on someone who is not even President yet Last time we checked the bag lady with the pointy hat and broom lost....too bad...so sad....NOT Join the Marxistfeminist gender bender crybabies and their latte sipping hipsters at the nearest cafe if you dont like democracy in action   \n",
       "\n",
       "      identity_attack_x     bias target category rationale  \n",
       "1244           0.500000  neutral    NaN     none       NaN  \n",
       "236            0.257576  neutral    NaN     none       NaN  \n",
       "3462           0.500000  neutral    NaN     none       NaN  \n",
       "3277           0.267606  neutral    NaN     none       NaN  \n",
       "725            0.271429  neutral    NaN     none       NaN  \n",
       "2166           0.285714  neutral    NaN     none       NaN  \n",
       "2704           0.285714  neutral    NaN     none       NaN  \n",
       "188            0.528571  neutral    NaN     none       NaN  \n",
       "1045           0.800000  neutral    NaN     none       NaN  \n",
       "1132           0.500000  neutral    NaN     none       NaN  "
      ]
     },
     "metadata": {},
     "execution_count": 195
    }
   ],
   "metadata": {}
  },
  {
   "cell_type": "code",
   "execution_count": 223,
   "source": [
    "premise = 'Your comment speaks for itself. In your mind Catholicism is all about sex.'\n",
    "hypothesis = 'Prejudice or bias against Catholicism.'\n",
    "bart_nli(premise, hypothesis)"
   ],
   "outputs": [
    {
     "output_type": "execute_result",
     "data": {
      "text/plain": [
       "({'contradiction': 0.7, 'neutral': 40.6, 'entailment': 58.7}, ['entailment'])"
      ]
     },
     "metadata": {},
     "execution_count": 223
    }
   ],
   "metadata": {}
  },
  {
   "cell_type": "code",
   "execution_count": 224,
   "source": [
    "premise = 'Your comment speaks for itself. In your mind Catholicism is all about sex.'\n",
    "hypothesis = 'Negative view of Catholicism.'\n",
    "bart_nli(premise, hypothesis)"
   ],
   "outputs": [
    {
     "output_type": "execute_result",
     "data": {
      "text/plain": [
       "({'contradiction': 0.1, 'neutral': 24.0, 'entailment': 75.9}, ['entailment'])"
      ]
     },
     "metadata": {},
     "execution_count": 224
    }
   ],
   "metadata": {}
  },
  {
   "cell_type": "code",
   "execution_count": 234,
   "source": [
    "premise = 'You are lying. There is no clitorectomy at birth. There is no stoning for talking. Women dont have to wear the hijab at all times. There is no killing babies for being born lesbian How in the world would one determine at birth that a baby is lesbian? Are you non compos mentis? Does rationality baffle you?'\n",
    "hypothesis = 'Negative opinion of a gender.'\n",
    "bart_nli(premise, hypothesis)"
   ],
   "outputs": [
    {
     "output_type": "execute_result",
     "data": {
      "text/plain": [
       "({'contradiction': 55.2, 'neutral': 8.5, 'entailment': 36.3},\n",
       " ['contradiction'])"
      ]
     },
     "metadata": {},
     "execution_count": 234
    }
   ],
   "metadata": {}
  },
  {
   "cell_type": "code",
   "execution_count": null,
   "source": [],
   "outputs": [],
   "metadata": {}
  }
 ],
 "metadata": {
  "orig_nbformat": 4,
  "language_info": {
   "name": "python",
   "version": "3.9.12",
   "mimetype": "text/x-python",
   "codemirror_mode": {
    "name": "ipython",
    "version": 3
   },
   "pygments_lexer": "ipython3",
   "nbconvert_exporter": "python",
   "file_extension": ".py"
  },
  "kernelspec": {
   "name": "python3",
   "display_name": "Python 3.9.12 64-bit"
  },
  "interpreter": {
   "hash": "aee8b7b246df8f9039afb4144a1f6fd8d2ca17a180786b69acc140d282b71a49"
  }
 },
 "nbformat": 4,
 "nbformat_minor": 2
}