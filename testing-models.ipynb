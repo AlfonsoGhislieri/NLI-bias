{
 "cells": [
  {
   "cell_type": "markdown",
   "source": [
    "# Testing models"
   ],
   "metadata": {}
  },
  {
   "cell_type": "code",
   "execution_count": 1,
   "source": [
    "import sys\n",
    "sys.path.append('src/')\n",
    "\n",
    "from Models import deberta_nli, bart_nli\n",
    "from Helpers import *\n",
    "\n",
    "# create helper function to standardise order\n"
   ],
   "outputs": [],
   "metadata": {}
  },
  {
   "cell_type": "markdown",
   "source": [
    "## Label structure\n",
    "\n",
    "deberta: ['contradiction', 'entailment', 'neutral']\n",
    "\n",
    "bart: ['contradiction', 'neutral', 'entailment']\n"
   ],
   "metadata": {}
  },
  {
   "cell_type": "code",
   "execution_count": 2,
   "source": [
    "deberta_nli('a child was very sad and crying over a dropped ice cream', 'What is my favourite city?')"
   ],
   "outputs": [
    {
     "output_type": "execute_result",
     "data": {
      "text/plain": [
       "([['0.96940809', '0.03018436', '0.00040754']], ['contradiction'])"
      ]
     },
     "metadata": {},
     "execution_count": 2
    }
   ],
   "metadata": {}
  },
  {
   "cell_type": "code",
   "execution_count": 3,
   "source": [
    "bart_nli('a child was very sad and crying over a dropped ice cream', 'What is my favourite city?')"
   ],
   "outputs": [
    {
     "output_type": "execute_result",
     "data": {
      "text/plain": [
       "([['0.93711895', '0.05809933', '0.00478182']], ['contradiction'])"
      ]
     },
     "metadata": {},
     "execution_count": 3
    }
   ],
   "metadata": {}
  },
  {
   "cell_type": "code",
   "execution_count": 4,
   "source": [
    "get_random_samples(\"data/toxicbias_train.csv\", 10)"
   ],
   "outputs": [
    {
     "output_type": "execute_result",
     "data": {
      "text/html": [
       "<div>\n",
       "<style scoped>\n",
       "    .dataframe tbody tr th:only-of-type {\n",
       "        vertical-align: middle;\n",
       "    }\n",
       "\n",
       "    .dataframe tbody tr th {\n",
       "        vertical-align: top;\n",
       "    }\n",
       "\n",
       "    .dataframe thead th {\n",
       "        text-align: right;\n",
       "    }\n",
       "</style>\n",
       "<table border=\"1\" class=\"dataframe\">\n",
       "  <thead>\n",
       "    <tr style=\"text-align: right;\">\n",
       "      <th></th>\n",
       "      <th>comment_text</th>\n",
       "      <th>identity_attack_x</th>\n",
       "      <th>bias</th>\n",
       "      <th>target</th>\n",
       "      <th>category</th>\n",
       "      <th>rationale</th>\n",
       "    </tr>\n",
       "  </thead>\n",
       "  <tbody>\n",
       "    <tr>\n",
       "      <th>353</th>\n",
       "      <td>Really unbelievable how many apologists for th...</td>\n",
       "      <td>0.500000</td>\n",
       "      <td>neutral</td>\n",
       "      <td>NaN</td>\n",
       "      <td>none</td>\n",
       "      <td>NaN</td>\n",
       "    </tr>\n",
       "    <tr>\n",
       "      <th>3275</th>\n",
       "      <td>So you are a sane young black  or nonwhite  li...</td>\n",
       "      <td>0.575758</td>\n",
       "      <td>bias</td>\n",
       "      <td>blacks,women,lgbt</td>\n",
       "      <td>race,gender,lgbtq</td>\n",
       "      <td>prejudice against blacks,women and lgbtq</td>\n",
       "    </tr>\n",
       "    <tr>\n",
       "      <th>1825</th>\n",
       "      <td>Why do Indonesians care? Because Muslim? why d...</td>\n",
       "      <td>0.600000</td>\n",
       "      <td>bias</td>\n",
       "      <td>muslims</td>\n",
       "      <td>religion</td>\n",
       "      <td>prejudice against blacks</td>\n",
       "    </tr>\n",
       "    <tr>\n",
       "      <th>1184</th>\n",
       "      <td>ridiculous but its OK to let and encourage chi...</td>\n",
       "      <td>0.600000</td>\n",
       "      <td>bias</td>\n",
       "      <td>transgenders</td>\n",
       "      <td>lgbtq</td>\n",
       "      <td>prejudice against transgenders</td>\n",
       "    </tr>\n",
       "    <tr>\n",
       "      <th>3164</th>\n",
       "      <td>Is everyone here really that ignorant about th...</td>\n",
       "      <td>0.500000</td>\n",
       "      <td>bias</td>\n",
       "      <td>christians</td>\n",
       "      <td>religion</td>\n",
       "      <td>prejudice against christians</td>\n",
       "    </tr>\n",
       "    <tr>\n",
       "      <th>1668</th>\n",
       "      <td>White men blame women. Of all colours. White w...</td>\n",
       "      <td>0.550000</td>\n",
       "      <td>neutral</td>\n",
       "      <td>NaN</td>\n",
       "      <td>none</td>\n",
       "      <td>NaN</td>\n",
       "    </tr>\n",
       "    <tr>\n",
       "      <th>3950</th>\n",
       "      <td>Mental illness Wally....  REally..   Being a t...</td>\n",
       "      <td>0.257143</td>\n",
       "      <td>bias</td>\n",
       "      <td>canadians</td>\n",
       "      <td>race</td>\n",
       "      <td>prejudice against canadians</td>\n",
       "    </tr>\n",
       "    <tr>\n",
       "      <th>3432</th>\n",
       "      <td>hes a nice little black man nothing elsenothin...</td>\n",
       "      <td>0.560606</td>\n",
       "      <td>neutral</td>\n",
       "      <td>NaN</td>\n",
       "      <td>none</td>\n",
       "      <td>NaN</td>\n",
       "    </tr>\n",
       "    <tr>\n",
       "      <th>3836</th>\n",
       "      <td>He probably felt like he was personally includ...</td>\n",
       "      <td>0.525000</td>\n",
       "      <td>bias</td>\n",
       "      <td>blacks</td>\n",
       "      <td>race</td>\n",
       "      <td>prejudice towards blacks</td>\n",
       "    </tr>\n",
       "    <tr>\n",
       "      <th>7</th>\n",
       "      <td>Unfortunately too many people see giving someo...</td>\n",
       "      <td>0.500000</td>\n",
       "      <td>bias</td>\n",
       "      <td>christians</td>\n",
       "      <td>religion</td>\n",
       "      <td>prejudice against christians</td>\n",
       "    </tr>\n",
       "  </tbody>\n",
       "</table>\n",
       "</div>"
      ],
      "text/plain": [
       "                                           comment_text  identity_attack_x  \\\n",
       "353   Really unbelievable how many apologists for th...           0.500000   \n",
       "3275  So you are a sane young black  or nonwhite  li...           0.575758   \n",
       "1825  Why do Indonesians care? Because Muslim? why d...           0.600000   \n",
       "1184  ridiculous but its OK to let and encourage chi...           0.600000   \n",
       "3164  Is everyone here really that ignorant about th...           0.500000   \n",
       "1668  White men blame women. Of all colours. White w...           0.550000   \n",
       "3950  Mental illness Wally....  REally..   Being a t...           0.257143   \n",
       "3432  hes a nice little black man nothing elsenothin...           0.560606   \n",
       "3836  He probably felt like he was personally includ...           0.525000   \n",
       "7     Unfortunately too many people see giving someo...           0.500000   \n",
       "\n",
       "         bias             target           category  \\\n",
       "353   neutral                NaN               none   \n",
       "3275     bias  blacks,women,lgbt  race,gender,lgbtq   \n",
       "1825     bias            muslims           religion   \n",
       "1184     bias       transgenders              lgbtq   \n",
       "3164     bias         christians           religion   \n",
       "1668  neutral                NaN               none   \n",
       "3950     bias          canadians               race   \n",
       "3432  neutral                NaN               none   \n",
       "3836     bias             blacks               race   \n",
       "7        bias         christians           religion   \n",
       "\n",
       "                                     rationale  \n",
       "353                                        NaN  \n",
       "3275  prejudice against blacks,women and lgbtq  \n",
       "1825                  prejudice against blacks  \n",
       "1184            prejudice against transgenders  \n",
       "3164              prejudice against christians  \n",
       "1668                                       NaN  \n",
       "3950               prejudice against canadians  \n",
       "3432                                       NaN  \n",
       "3836                  prejudice towards blacks  \n",
       "7                 prejudice against christians  "
      ]
     },
     "metadata": {},
     "execution_count": 4
    }
   ],
   "metadata": {}
  },
  {
   "cell_type": "code",
   "execution_count": null,
   "source": [],
   "outputs": [],
   "metadata": {}
  }
 ],
 "metadata": {
  "orig_nbformat": 4,
  "language_info": {
   "name": "python",
   "version": "3.9.12",
   "mimetype": "text/x-python",
   "codemirror_mode": {
    "name": "ipython",
    "version": 3
   },
   "pygments_lexer": "ipython3",
   "nbconvert_exporter": "python",
   "file_extension": ".py"
  },
  "kernelspec": {
   "name": "python3",
   "display_name": "Python 3.9.12 64-bit"
  },
  "interpreter": {
   "hash": "aee8b7b246df8f9039afb4144a1f6fd8d2ca17a180786b69acc140d282b71a49"
  }
 },
 "nbformat": 4,
 "nbformat_minor": 2
}