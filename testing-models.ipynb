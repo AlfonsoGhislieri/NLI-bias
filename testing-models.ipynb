{
 "cells": [
  {
   "cell_type": "markdown",
   "source": [
    "# Testing models"
   ],
   "metadata": {}
  },
  {
   "cell_type": "code",
   "execution_count": 49,
   "source": [
    "import sys\n",
    "sys.path.append('src/')\n",
    "import pandas as pd\n",
    "from Models import deberta_base_nli, bart_nli, deberta_v3_nli\n",
    "from transformers import AutoTokenizer, AutoModelForSequenceClassification\n",
    "from Helpers import *\n",
    "\n",
    "pd.set_option('display.max_columns', None)  # Display all columns\n",
    "pd.set_option('display.max_rows', None)  # Display all rows\n",
    "pd.set_option('display.max_colwidth', 500)  # Display full text in columns"
   ],
   "outputs": [],
   "metadata": {}
  },
  {
   "cell_type": "markdown",
   "source": [
    "## Basic tests of models"
   ],
   "metadata": {}
  },
  {
   "cell_type": "code",
   "execution_count": 2,
   "source": [
    "deberta_base_nli('a child was very sad and crying over a dropped ice cream', 'What is my favourite city?')"
   ],
   "outputs": [
    {
     "output_type": "execute_result",
     "data": {
      "text/plain": [
       "({'contradiction': 96.9, 'neutral': 3.0, 'entailment': 0.0}, ['contradiction'])"
      ]
     },
     "metadata": {},
     "execution_count": 2
    }
   ],
   "metadata": {}
  },
  {
   "cell_type": "code",
   "execution_count": 3,
   "source": [
    "bart_nli('a child was very sad and crying over a dropped ice cream', 'What is my favourite city?')"
   ],
   "outputs": [
    {
     "output_type": "execute_result",
     "data": {
      "text/plain": [
       "({'contradiction': 93.7, 'neutral': 5.8, 'entailment': 0.5}, ['contradiction'])"
      ]
     },
     "metadata": {},
     "execution_count": 3
    }
   ],
   "metadata": {}
  },
  {
   "cell_type": "code",
   "execution_count": 4,
   "source": [
    "deberta_v3_nli('a child was very sad and crying over a dropped ice cream', 'What is my favourite city?')"
   ],
   "outputs": [
    {
     "output_type": "stream",
     "name": "stderr",
     "text": [
      "/usr/local/lib/python3.9/site-packages/transformers/convert_slow_tokenizer.py:454: UserWarning: The sentencepiece tokenizer that you are converting to a fast tokenizer uses the byte fallback option which is not implemented in the fast tokenizers. In practice this means that the fast version of the tokenizer can produce unknown tokens whereas the sentencepiece version would have converted these unknown tokens into a sequence of byte tokens matching the original piece of text.\n",
      "  warnings.warn(\n"
     ]
    },
    {
     "output_type": "execute_result",
     "data": {
      "text/plain": [
       "({'contradiction': 97.7, 'neutral': 2.2, 'entailment': 0.1}, ['contradiction'])"
      ]
     },
     "metadata": {},
     "execution_count": 4
    }
   ],
   "metadata": {}
  },
  {
   "cell_type": "markdown",
   "source": [
    "# Testing models with random samples from toxic dataset"
   ],
   "metadata": {}
  },
  {
   "cell_type": "code",
   "execution_count": 53,
   "source": [
    "df = get_random_samples(\"data/toxicbias_train.csv\", 50)"
   ],
   "outputs": [],
   "metadata": {}
  },
  {
   "cell_type": "markdown",
   "source": [
    "## Calculate labels"
   ],
   "metadata": {}
  },
  {
   "cell_type": "code",
   "execution_count": 47,
   "source": [
    "import pandas as pd\n",
    "\n",
    "def add_nli_predictions(df, model):\n",
    "    df = df.copy()  # Create a copy of the DataFrame\n",
    "\n",
    "    df = df.apply(lambda row: predict_labels(row, model), axis=1)\n",
    "\n",
    "    return df\n",
    "\n",
    "def predict_labels(row, model):\n",
    "    comment_text = row['comment_text']\n",
    "    bias = row['bias']\n",
    "    rationale = row['rationale']\n",
    "\n",
    "    if bias == 'neutral' or pd.isna(rationale):\n",
    "        rationale = \"Bias or prejudice in the text.\"\n",
    "\n",
    "    scores, labels = model(comment_text, rationale)\n",
    "    row['predicted_label_rationale'] = labels\n",
    "    row['predicted_scores_rationale'] = scores\n",
    "\n",
    "    scores, labels = model(comment_text, \"Bias or prejudice in the text.\")\n",
    "    row['predicted_label_base'] = labels\n",
    "    row['predicted_scores_base'] = scores\n",
    "\n",
    "    return row"
   ],
   "outputs": [],
   "metadata": {}
  },
  {
   "cell_type": "code",
   "execution_count": 104,
   "source": [
    "dfs = {\n",
    "    'deberta-base': add_nli_predictions(df, deberta_base_nli),\n",
    "    'bart-large': add_nli_predictions(df, bart_nli),\n",
    "    'deberta-v3': add_nli_predictions(df, deberta_v3_nli)\n",
    "}"
   ],
   "outputs": [
    {
     "output_type": "stream",
     "name": "stderr",
     "text": [
      "/usr/local/lib/python3.9/site-packages/transformers/convert_slow_tokenizer.py:454: UserWarning: The sentencepiece tokenizer that you are converting to a fast tokenizer uses the byte fallback option which is not implemented in the fast tokenizers. In practice this means that the fast version of the tokenizer can produce unknown tokens whereas the sentencepiece version would have converted these unknown tokens into a sequence of byte tokens matching the original piece of text.\n",
      "  warnings.warn(\n"
     ]
    }
   ],
   "metadata": {}
  },
  {
   "cell_type": "markdown",
   "source": [
    "## Breakdown of labels "
   ],
   "metadata": {}
  },
  {
   "cell_type": "code",
   "execution_count": 80,
   "source": [
    "def label_breakdown(df, label_column_name = 'predicted_label_rationale'):\n",
    "    label_breakdown = {\n",
    "        'bias': {'contradiction': 0, 'neutral': 0, 'entailment': 0},\n",
    "        'neutral': {'contradiction': 0, 'neutral': 0, 'entailment': 0}\n",
    "    }\n",
    "\n",
    "    for _, row in df.iterrows():\n",
    "        bias = row['bias']\n",
    "        predicted_label = row[label_column_name][0]\n",
    "        \n",
    "        label_breakdown[bias][predicted_label] += 1\n",
    "\n",
    "    return label_breakdown['bias'], label_breakdown['neutral']\n"
   ],
   "outputs": [],
   "metadata": {}
  },
  {
   "cell_type": "code",
   "execution_count": null,
   "source": [
    "results = {}\n",
    "\n",
    "for model, data in dfs.items():\n",
    "  results[model] = {\n",
    "      'rationale-hypothesis':label_breakdown(data),\n",
    "      'base-hypothesis':label_breakdown(data, 'predicted_label_base'),\n",
    "    }\n",
    "  \n",
    "print(results)\n"
   ],
   "outputs": [],
   "metadata": {}
  },
  {
   "cell_type": "markdown",
   "source": [
    "## Accuracy of labels"
   ],
   "metadata": {}
  },
  {
   "cell_type": "code",
   "execution_count": null,
   "source": [
    "for model, data in dfs.items():\n",
    "  for _, row in df.iterrows():\n",
    "      bias\n",
    "\n",
    "      if row['bias'] == 'bias':\n",
    "          if row['predicted_label'] == 'entailment':\n",
    "              bias_correct_predictions += 1\n",
    "          elif row['predicted_label'] in ['neutral', 'contradiction']:\n",
    "              bias_incorrect_predictions += 1\n",
    "\n",
    "      elif row['bias'] == 'neutral':\n",
    "          if row['predicted_label'] in ['neutral', 'contradiction']:\n",
    "              neutral_correct_predictions += 1\n",
    "          elif row['predicted_label'] == 'entailment':\n",
    "              neutral_incorrect_predictions += 1\n",
    "\n",
    "  return (\n",
    "      bias_correct_predictions,\n",
    "      bias_incorrect_predictions,\n",
    "      neutral_correct_predictions,\n",
    "      neutral_incorrect_predictions\n",
    "  )"
   ],
   "outputs": [],
   "metadata": {}
  },
  {
   "cell_type": "code",
   "execution_count": null,
   "source": [],
   "outputs": [],
   "metadata": {}
  }
 ],
 "metadata": {
  "orig_nbformat": 4,
  "language_info": {
   "name": "python",
   "version": "3.9.12",
   "mimetype": "text/x-python",
   "codemirror_mode": {
    "name": "ipython",
    "version": 3
   },
   "pygments_lexer": "ipython3",
   "nbconvert_exporter": "python",
   "file_extension": ".py"
  },
  "kernelspec": {
   "name": "python3",
   "display_name": "Python 3.9.12 64-bit"
  },
  "interpreter": {
   "hash": "aee8b7b246df8f9039afb4144a1f6fd8d2ca17a180786b69acc140d282b71a49"
  }
 },
 "nbformat": 4,
 "nbformat_minor": 2
}